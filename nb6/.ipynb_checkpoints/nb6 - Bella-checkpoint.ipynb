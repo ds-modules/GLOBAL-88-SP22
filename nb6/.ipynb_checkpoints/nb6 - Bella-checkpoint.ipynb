{
 "cells": [
  {
   "cell_type": "markdown",
   "metadata": {},
   "source": [
    "# Notebook 3: Prisons and Jails\n",
    "\n",
    "----\n",
    "\n",
    "The goal of this project is for students to understand that they can do social work using data. This notebook explores the incarceration trends and impacts of prison realignment in California.\n",
    "\n",
    "### Learning Outcomes:\n",
    "After completing this notebook, you will learn about:\n",
    "- The impact of realignment in prisons and county jails in California\n",
    "- Kneading and preparing data for visualization and analysis\n",
    "- Plotting multiple variables in a time series\n",
    "- Comparative analysis between different groups within a data set\n",
    "\n",
    "\n",
    "---\n",
    "\n",
    "### Table of Contents\n",
    "\n",
    "\n",
    "0. [Context](#sectioncontext)<br>\n",
    "1. [Prisons](#section1)<br>\n",
    "2. [Data Analysis](#section2)<br>\n",
    "    1. [Designed & Staffed Capacity](#subsection21)<br>\n",
    "    2. [Gender Division](#subsection22)<br>\n",
    "3. [Jails](#jailssection)<br>\n",
    "4. [Data Analysis](#section4)<br>\n",
    "    1. [Sentenced & Unsentenced](#section41)<br>\n",
    "    2. [Gender Division](#section42)<br>\n",
    "   \n",
    "##### Dependencies"
   ]
  },
  {
   "cell_type": "code",
   "execution_count": 5,
   "metadata": {
    "tags": [
     "ignore"
    ]
   },
   "outputs": [],
   "source": [
    "# This loads tools from the datascience library\n",
    "from datascience import * \n",
    "# Loads numerical methods\n",
    "import numpy as np \n",
    "\n",
    "# This loads some visualization tools\n",
    "import matplotlib  \n",
    "%matplotlib inline\n",
    "import matplotlib.pyplot as plt\n",
    "# This selects a certain 'style' for our graphs\n",
    "plt.style.use('fivethirtyeight') \n",
    "\n",
    "# Loads a widgets library that will allow for interactive learning\n",
    "import ipywidgets as widgets "
   ]
  },
  {
   "cell_type": "markdown",
   "metadata": {
    "tags": [
     "ignore"
    ]
   },
   "source": [
    "## Context <a id='sectioncontext'></a>\n",
    "\n",
    "In lecture, we have learned about the policies of realignment, incarceration, and crime trends in the United States. By exploring this dataset we hope to get a clearer picture of the magnitude of prison and county jail overcrowding in California per facility and region, and the effects of realignment policies in state prisons and county jails.\n",
    "\n",
    "The key difference between state prisons and jails involve the process of sentencing. Prisons are designed for long term sentences, while jails are for those who are unsentenced or have short term sentences. It is important to note that short-term sentences are generally one year or less. Another difference is that prisons are larger and controlled at the state level. In contrast, jails are smaller and handled by a city or county.\n",
    "\n",
    "The relationship between the two institutions is emphasized by mass incarceration. Through this notebook, we will analyze how overcrowding within California’s state prisons influenced the size of jail populations after realignment policies were implemented.\n",
    "\n",
    "----"
   ]
  },
  {
   "cell_type": "markdown",
   "metadata": {
    "tags": [
     "ignore"
    ]
   },
   "source": [
    "# 1: Prisons <a id='section1'></a>\n",
    "## The Data and the Research Question\n",
    "\n",
    "We will first use data from the CDCR (California Department of Corrections and Rehabilitation).\n",
    "\n",
    "In this dataset, the CDCR reports the number of people in state prisons across California from 1996 to 2018. You will find information about the capacity (staff & design) of each prison and the current population. This provides a framework with which to understand prison overcrowding and the effectiveness of policy to reduce it. \n",
    "If you are interested in learning more please visit [CDCR data and information](https://github.com/nrjones8/cdcr-population-data).\n",
    "\n",
    "### Research Question\n",
    "<div class=\"alert alert-block alert-danger\">\n",
    "For the remainder of this notebook, we will work on finding more guidance to the question: <b>How does the capacity in California prisons and jails compare to the actual population contained within them? How are women and men affected differently? </b>\n",
    "</div>"
   ]
  },
  {
   "cell_type": "markdown",
   "metadata": {
    "tags": [
     "ignore"
    ]
   },
   "source": [
    "#### Data Dictionary\n",
    "Below is a data dictionary for future reference. This data dictionary goes over what the column names mean in the data loaded.\n",
    "\n",
    "|Column Name   | Description |\n",
    "|--------------|---------|\n",
    "|year |Year that the data was collected  |\n",
    "|month | Month that the data was collected |\n",
    "|institution_name |  Abbreviated Name of the State Prison|\n",
    "|population_felons | People imprisoned for committing felony (serious or violent crime) |\n",
    "|civil_addict | People imprisoned for drug related offenses |\n",
    "|total_population | Sum of civil addict and population felons columns|\n",
    "|designed_capacity | Max number of people the prison was built to hold|\n",
    "|percent_occupied | Percentage of people incarcerated out of designed capacity|\n",
    "|staffed_capacity | Max number of people the prison can hold based on the number of people employed|\n",
    "\n",
    "Let's take a look at the data. We'll sort it by year with the oldest years at the top."
   ]
  },
  {
   "cell_type": "code",
   "execution_count": 52,
   "metadata": {
    "tags": [
     "ignore"
    ]
   },
   "outputs": [
    {
     "data": {
      "text/html": [
       "<table border=\"1\" class=\"dataframe\">\n",
       "    <thead>\n",
       "        <tr>\n",
       "            <th>Unnamed: 0</th> <th>year</th> <th>month</th> <th>institution_name</th> <th>population_felons</th> <th>civil_addict</th> <th>total_population</th> <th>designed_capacity</th> <th>percent_occupied</th> <th>staffed_capacity</th>\n",
       "        </tr>\n",
       "    </thead>\n",
       "    <tbody>\n",
       "        <tr>\n",
       "            <td>2         </td> <td>1996</td> <td>1    </td> <td>NCWF (NO CAL WOMEN'S FACIL)      </td> <td>786              </td> <td>4           </td> <td>790             </td> <td>400              </td> <td>197.5           </td> <td>760             </td>\n",
       "        </tr>\n",
       "        <tr>\n",
       "            <td>3         </td> <td>1996</td> <td>1    </td> <td>CCWF (CENTRAL CA WOMEN'S FAC)    </td> <td>2846             </td> <td>13          </td> <td>2859            </td> <td>2004             </td> <td>142.7           </td> <td>3224            </td>\n",
       "        </tr>\n",
       "        <tr>\n",
       "            <td>4         </td> <td>1996</td> <td>1    </td> <td>CRC (CAL REHAB CTR, WOMEN)       </td> <td>91               </td> <td>703         </td> <td>794             </td> <td>500              </td> <td>158.8           </td> <td>842             </td>\n",
       "        </tr>\n",
       "        <tr>\n",
       "            <td>5         </td> <td>1996</td> <td>1    </td> <td>CIW (CA INSTITUTION FOR WOMEN)   </td> <td>1690             </td> <td>36          </td> <td>1726            </td> <td>1026             </td> <td>168.2           </td> <td>1646            </td>\n",
       "        </tr>\n",
       "        <tr>\n",
       "            <td>6         </td> <td>1996</td> <td>1    </td> <td>WSP (WASCO SP)                   </td> <td>4475             </td> <td>62          </td> <td>4537            </td> <td>2484             </td> <td>182.6           </td> <td>4484            </td>\n",
       "        </tr>\n",
       "        <tr>\n",
       "            <td>8         </td> <td>1996</td> <td>1    </td> <td>SRTA (SANTA RITA CO. JAIL-RC)    </td> <td>811              </td> <td>nan         </td> <td>811             </td> <td>395              </td> <td>205.3           </td> <td>750             </td>\n",
       "        </tr>\n",
       "        <tr>\n",
       "            <td>9         </td> <td>1996</td> <td>1    </td> <td>RJD (RJ DONOVAN CORRECTIONAL FAC)</td> <td>4577             </td> <td>nan         </td> <td>4577            </td> <td>2200             </td> <td>208             </td> <td>4566            </td>\n",
       "        </tr>\n",
       "        <tr>\n",
       "            <td>10        </td> <td>1996</td> <td>1    </td> <td>PVSP (PLEASANT VALLEY SP)        </td> <td>4080             </td> <td>nan         </td> <td>4080            </td> <td>2208             </td> <td>184.8           </td> <td>4008            </td>\n",
       "        </tr>\n",
       "        <tr>\n",
       "            <td>11        </td> <td>1996</td> <td>1    </td> <td>PBSP (PELICAN BAY SP)            </td> <td>3509             </td> <td>1           </td> <td>3510            </td> <td>2280             </td> <td>153.9           </td> <td>3730            </td>\n",
       "        </tr>\n",
       "        <tr>\n",
       "            <td>12        </td> <td>1996</td> <td>1    </td> <td>NKSP (NORTH KERN SP)             </td> <td>4525             </td> <td>1           </td> <td>4526            </td> <td>2492             </td> <td>181.6           </td> <td>4472            </td>\n",
       "        </tr>\n",
       "    </tbody>\n",
       "</table>\n",
       "<p>... (9491 rows omitted)</p>"
      ],
      "text/plain": [
       "<IPython.core.display.HTML object>"
      ]
     },
     "metadata": {},
     "output_type": "display_data"
    }
   ],
   "source": [
    "prisons_updated = Table().read_table(\"./data/prisons3.csv\")\n",
    "prisons_updated.sort('year').show(10)"
   ]
  },
  {
   "cell_type": "markdown",
   "metadata": {},
   "source": [
    "Above, we can already see some issues with our data. First, we have a column, `Unnamed: 0`, that holds no valuable information. Let's remove that column. \n",
    "\n",
    "<div class=\"alert alert-info\">\n",
    "    <b> Question __</b> Use the <code>.drop</code> method to drop the unwanted column. \n",
    "</div>"
   ]
  },
  {
   "cell_type": "code",
   "execution_count": 60,
   "metadata": {},
   "outputs": [
    {
     "data": {
      "text/html": [
       "<table border=\"1\" class=\"dataframe\">\n",
       "    <thead>\n",
       "        <tr>\n",
       "            <th>year</th> <th>month</th> <th>institution_name</th> <th>population_felons</th> <th>civil_addict</th> <th>total_population</th> <th>designed_capacity</th> <th>percent_occupied</th> <th>staffed_capacity</th>\n",
       "        </tr>\n",
       "    </thead>\n",
       "    <tbody>\n",
       "        <tr>\n",
       "            <td>1996</td> <td>1    </td> <td>NCWF (NO CAL WOMEN'S FACIL)  </td> <td>786              </td> <td>4           </td> <td>790             </td> <td>400              </td> <td>197.5           </td> <td>760             </td>\n",
       "        </tr>\n",
       "        <tr>\n",
       "            <td>1996</td> <td>1    </td> <td>CCWF (CENTRAL CA WOMEN'S FAC)</td> <td>2846             </td> <td>13          </td> <td>2859            </td> <td>2004             </td> <td>142.7           </td> <td>3224            </td>\n",
       "        </tr>\n",
       "        <tr>\n",
       "            <td>1996</td> <td>1    </td> <td>CRC (CAL REHAB CTR, WOMEN)   </td> <td>91               </td> <td>703         </td> <td>794             </td> <td>500              </td> <td>158.8           </td> <td>842             </td>\n",
       "        </tr>\n",
       "    </tbody>\n",
       "</table>\n",
       "<p>... (9498 rows omitted)</p>"
      ],
      "text/plain": [
       "<IPython.core.display.HTML object>"
      ]
     },
     "metadata": {},
     "output_type": "display_data"
    }
   ],
   "source": [
    "# ENTER CODE HERE\n",
    "prisons_updated = prisons_updated.drop(\"Unnamed: 0\") #How do we drop a column?\n",
    "prisons_updated.show(3)"
   ]
  },
  {
   "cell_type": "markdown",
   "metadata": {},
   "source": [
    "Now, we see that we also have some nan values in our data. Run the cell below to show which rows possess `nan` data. "
   ]
  },
  {
   "cell_type": "code",
   "execution_count": 61,
   "metadata": {},
   "outputs": [
    {
     "data": {
      "text/html": [
       "<table border=\"1\" class=\"dataframe\">\n",
       "    <thead>\n",
       "        <tr>\n",
       "            <th>year</th> <th>month</th> <th>institution_name</th> <th>population_felons</th> <th>civil_addict</th> <th>total_population</th> <th>designed_capacity</th> <th>percent_occupied</th> <th>staffed_capacity</th>\n",
       "        </tr>\n",
       "    </thead>\n",
       "    <tbody>\n",
       "        <tr>\n",
       "            <td>1996</td> <td>1    </td> <td>SRTA (SANTA RITA CO. JAIL-RC)    </td> <td>811              </td> <td>nan         </td> <td>811             </td> <td>395              </td> <td>205.3           </td> <td>750             </td>\n",
       "        </tr>\n",
       "        <tr>\n",
       "            <td>1996</td> <td>1    </td> <td>RJD (RJ DONOVAN CORRECTIONAL FAC)</td> <td>4577             </td> <td>nan         </td> <td>4577            </td> <td>2200             </td> <td>208             </td> <td>4566            </td>\n",
       "        </tr>\n",
       "        <tr>\n",
       "            <td>1996</td> <td>1    </td> <td>PVSP (PLEASANT VALLEY SP)        </td> <td>4080             </td> <td>nan         </td> <td>4080            </td> <td>2208             </td> <td>184.8           </td> <td>4008            </td>\n",
       "        </tr>\n",
       "        <tr>\n",
       "            <td>1996</td> <td>1    </td> <td>MCSP (MULE CREEK SP)             </td> <td>3530             </td> <td>nan         </td> <td>3530            </td> <td>1700             </td> <td>207.6           </td> <td>3562            </td>\n",
       "        </tr>\n",
       "        <tr>\n",
       "            <td>1996</td> <td>1    </td> <td>ISP (IRONWOOD SP)                </td> <td>3874             </td> <td>nan         </td> <td>3874            </td> <td>2200             </td> <td>176.1           </td> <td>4000            </td>\n",
       "        </tr>\n",
       "        <tr>\n",
       "            <td>1996</td> <td>1    </td> <td>HDSP (HIGH DESERT SP)            </td> <td>2364             </td> <td>nan         </td> <td>2364            </td> <td>1712             </td> <td>138.1           </td> <td>2224            </td>\n",
       "        </tr>\n",
       "        <tr>\n",
       "            <td>1996</td> <td>1    </td> <td>FOL (FOLSOM SP) (MALE)           </td> <td>3757             </td> <td>nan         </td> <td>3757            </td> <td>2064             </td> <td>182             </td> <td>3710            </td>\n",
       "        </tr>\n",
       "        <tr>\n",
       "            <td>1996</td> <td>1    </td> <td>CVSP (CHUCKAWALLA VALLEY SP)     </td> <td>3514             </td> <td>nan         </td> <td>3514            </td> <td>1738             </td> <td>202.2           </td> <td>3579            </td>\n",
       "        </tr>\n",
       "        <tr>\n",
       "            <td>1996</td> <td>1    </td> <td>SOL (CA SP, SOLANO)              </td> <td>4720             </td> <td>nan         </td> <td>4720            </td> <td>2110             </td> <td>223.7           </td> <td>4777            </td>\n",
       "        </tr>\n",
       "        <tr>\n",
       "            <td>1996</td> <td>1    </td> <td>SAC (CA SP, SACRAMENTO)          </td> <td>3147             </td> <td>nan         </td> <td>3147            </td> <td>1728             </td> <td>182.1           </td> <td>3204            </td>\n",
       "        </tr>\n",
       "    </tbody>\n",
       "</table>\n",
       "<p>... (6615 rows omitted)</p>"
      ],
      "text/plain": [
       "year | month | institution_name                  | population_felons | civil_addict | total_population | designed_capacity | percent_occupied | staffed_capacity\n",
       "1996 | 1     | SRTA (SANTA RITA CO. JAIL-RC)     | 811               | nan          | 811              | 395               | 205.3            | 750\n",
       "1996 | 1     | RJD (RJ DONOVAN CORRECTIONAL FAC) | 4577              | nan          | 4577             | 2200              | 208              | 4566\n",
       "1996 | 1     | PVSP (PLEASANT VALLEY SP)         | 4080              | nan          | 4080             | 2208              | 184.8            | 4008\n",
       "1996 | 1     | MCSP (MULE CREEK SP)              | 3530              | nan          | 3530             | 1700              | 207.6            | 3562\n",
       "1996 | 1     | ISP (IRONWOOD SP)                 | 3874              | nan          | 3874             | 2200              | 176.1            | 4000\n",
       "1996 | 1     | HDSP (HIGH DESERT SP)             | 2364              | nan          | 2364             | 1712              | 138.1            | 2224\n",
       "1996 | 1     | FOL (FOLSOM SP) (MALE)            | 3757              | nan          | 3757             | 2064              | 182              | 3710\n",
       "1996 | 1     | CVSP (CHUCKAWALLA VALLEY SP)      | 3514              | nan          | 3514             | 1738              | 202.2            | 3579\n",
       "1996 | 1     | SOL (CA SP, SOLANO)               | 4720              | nan          | 4720             | 2110              | 223.7            | 4777\n",
       "1996 | 1     | SAC (CA SP, SACRAMENTO)           | 3147              | nan          | 3147             | 1728              | 182.1            | 3204\n",
       "... (6615 rows omitted)"
      ]
     },
     "execution_count": 61,
     "metadata": {},
     "output_type": "execute_result"
    }
   ],
   "source": [
    "prisons_updated.where(\"civil_addict\", are.not_contained_in(np.arange(0, 4000)))"
   ]
  },
  {
   "cell_type": "markdown",
   "metadata": {},
   "source": [
    "Because the column `civil_addict` represents **counts** of individuals, a `nan` value shows us that there are 0 individuals that fall under this category. This is different from the previous notebook, where a we had `nan` values in columns that represented **characteristics** of an individual. Recall that in the previous notebook, the best way to deal with the `nan` data was simply to leave it as is. In this case, because the `nan` values represent a count of 0, we can replace all of these `nan` values with 0, essentially leaving the information unchanged but cleaning the data to be more easy to deal with.   "
   ]
  },
  {
   "cell_type": "code",
   "execution_count": 65,
   "metadata": {},
   "outputs": [
    {
     "data": {
      "text/html": [
       "<table border=\"1\" class=\"dataframe\">\n",
       "    <thead>\n",
       "        <tr>\n",
       "            <th>year</th> <th>month</th> <th>institution_name</th> <th>population_felons</th> <th>civil_addict</th> <th>total_population</th> <th>designed_capacity</th> <th>percent_occupied</th> <th>staffed_capacity</th>\n",
       "        </tr>\n",
       "    </thead>\n",
       "    <tbody>\n",
       "        <tr>\n",
       "            <td>1996</td> <td>1    </td> <td>NCWF (NO CAL WOMEN'S FACIL)      </td> <td>786              </td> <td>4           </td> <td>790             </td> <td>400              </td> <td>197.5           </td> <td>760             </td>\n",
       "        </tr>\n",
       "        <tr>\n",
       "            <td>1996</td> <td>1    </td> <td>CCWF (CENTRAL CA WOMEN'S FAC)    </td> <td>2846             </td> <td>13          </td> <td>2859            </td> <td>2004             </td> <td>142.7           </td> <td>3224            </td>\n",
       "        </tr>\n",
       "        <tr>\n",
       "            <td>1996</td> <td>1    </td> <td>CRC (CAL REHAB CTR, WOMEN)       </td> <td>91               </td> <td>703         </td> <td>794             </td> <td>500              </td> <td>158.8           </td> <td>842             </td>\n",
       "        </tr>\n",
       "        <tr>\n",
       "            <td>1996</td> <td>1    </td> <td>CIW (CA INSTITUTION FOR WOMEN)   </td> <td>1690             </td> <td>36          </td> <td>1726            </td> <td>1026             </td> <td>168.2           </td> <td>1646            </td>\n",
       "        </tr>\n",
       "        <tr>\n",
       "            <td>1996</td> <td>1    </td> <td>WSP (WASCO SP)                   </td> <td>4475             </td> <td>62          </td> <td>4537            </td> <td>2484             </td> <td>182.6           </td> <td>4484            </td>\n",
       "        </tr>\n",
       "        <tr>\n",
       "            <td>1996</td> <td>1    </td> <td>SRTA (SANTA RITA CO. JAIL-RC)    </td> <td>811              </td> <td>0           </td> <td>811             </td> <td>395              </td> <td>205.3           </td> <td>750             </td>\n",
       "        </tr>\n",
       "        <tr>\n",
       "            <td>1996</td> <td>1    </td> <td>RJD (RJ DONOVAN CORRECTIONAL FAC)</td> <td>4577             </td> <td>0           </td> <td>4577            </td> <td>2200             </td> <td>208             </td> <td>4566            </td>\n",
       "        </tr>\n",
       "        <tr>\n",
       "            <td>1996</td> <td>1    </td> <td>PVSP (PLEASANT VALLEY SP)        </td> <td>4080             </td> <td>0           </td> <td>4080            </td> <td>2208             </td> <td>184.8           </td> <td>4008            </td>\n",
       "        </tr>\n",
       "        <tr>\n",
       "            <td>1996</td> <td>1    </td> <td>PBSP (PELICAN BAY SP)            </td> <td>3509             </td> <td>1           </td> <td>3510            </td> <td>2280             </td> <td>153.9           </td> <td>3730            </td>\n",
       "        </tr>\n",
       "        <tr>\n",
       "            <td>1996</td> <td>1    </td> <td>NKSP (NORTH KERN SP)             </td> <td>4525             </td> <td>1           </td> <td>4526            </td> <td>2492             </td> <td>181.6           </td> <td>4472            </td>\n",
       "        </tr>\n",
       "    </tbody>\n",
       "</table>\n",
       "<p>... (9491 rows omitted)</p>"
      ],
      "text/plain": [
       "year | month | institution_name                  | population_felons | civil_addict | total_population | designed_capacity | percent_occupied | staffed_capacity\n",
       "1996 | 1     | NCWF (NO CAL WOMEN'S FACIL)       | 786               | 4            | 790              | 400               | 197.5            | 760\n",
       "1996 | 1     | CCWF (CENTRAL CA WOMEN'S FAC)     | 2846              | 13           | 2859             | 2004              | 142.7            | 3224\n",
       "1996 | 1     | CRC (CAL REHAB CTR, WOMEN)        | 91                | 703          | 794              | 500               | 158.8            | 842\n",
       "1996 | 1     | CIW (CA INSTITUTION FOR WOMEN)    | 1690              | 36           | 1726             | 1026              | 168.2            | 1646\n",
       "1996 | 1     | WSP (WASCO SP)                    | 4475              | 62           | 4537             | 2484              | 182.6            | 4484\n",
       "1996 | 1     | SRTA (SANTA RITA CO. JAIL-RC)     | 811               | 0            | 811              | 395               | 205.3            | 750\n",
       "1996 | 1     | RJD (RJ DONOVAN CORRECTIONAL FAC) | 4577              | 0            | 4577             | 2200              | 208              | 4566\n",
       "1996 | 1     | PVSP (PLEASANT VALLEY SP)         | 4080              | 0            | 4080             | 2208              | 184.8            | 4008\n",
       "1996 | 1     | PBSP (PELICAN BAY SP)             | 3509              | 1            | 3510             | 2280              | 153.9            | 3730\n",
       "1996 | 1     | NKSP (NORTH KERN SP)              | 4525              | 1            | 4526             | 2492              | 181.6            | 4472\n",
       "... (9491 rows omitted)"
      ]
     },
     "execution_count": 65,
     "metadata": {},
     "output_type": "execute_result"
    }
   ],
   "source": [
    "# nan remover function\n",
    "nan_remover = lambda x: 0 if np.isnan(x) else x\n",
    "\n",
    "# Replacing column values with an array wihtout nans \n",
    "prisons_updated['civil_addict'] = prisons_updated.apply(nan_remover, 'civil_addict')\n",
    "prisons_updated"
   ]
  },
  {
   "cell_type": "markdown",
   "metadata": {},
   "source": [
    "Run the cell below. We know we have sucessfully replaced these `nan` values to 0s if there are no rows printed. "
   ]
  },
  {
   "cell_type": "code",
   "execution_count": 67,
   "metadata": {},
   "outputs": [
    {
     "data": {
      "text/html": [
       "<table border=\"1\" class=\"dataframe\">\n",
       "    <thead>\n",
       "        <tr>\n",
       "            <th>year</th> <th>month</th> <th>institution_name</th> <th>population_felons</th> <th>civil_addict</th> <th>total_population</th> <th>designed_capacity</th> <th>percent_occupied</th> <th>staffed_capacity</th>\n",
       "        </tr>\n",
       "    </thead>\n",
       "    <tbody>\n",
       "    </tbody>\n",
       "</table>"
      ],
      "text/plain": [
       "year | month | institution_name | population_felons | civil_addict | total_population | designed_capacity | percent_occupied | staffed_capacity"
      ]
     },
     "execution_count": 67,
     "metadata": {},
     "output_type": "execute_result"
    }
   ],
   "source": [
    "prisons_updated.where(\"civil_addict\", are.not_contained_in(np.arange(0, 4000)))"
   ]
  },
  {
   "cell_type": "markdown",
   "metadata": {},
   "source": [
    "---"
   ]
  },
  {
   "cell_type": "code",
   "execution_count": null,
   "metadata": {},
   "outputs": [],
   "source": []
  },
  {
   "cell_type": "code",
   "execution_count": null,
   "metadata": {},
   "outputs": [],
   "source": []
  },
  {
   "cell_type": "code",
   "execution_count": null,
   "metadata": {},
   "outputs": [],
   "source": []
  },
  {
   "cell_type": "code",
   "execution_count": null,
   "metadata": {},
   "outputs": [],
   "source": []
  },
  {
   "cell_type": "code",
   "execution_count": null,
   "metadata": {},
   "outputs": [],
   "source": []
  },
  {
   "cell_type": "code",
   "execution_count": null,
   "metadata": {},
   "outputs": [],
   "source": []
  },
  {
   "cell_type": "code",
   "execution_count": null,
   "metadata": {},
   "outputs": [],
   "source": []
  },
  {
   "cell_type": "markdown",
   "metadata": {
    "tags": [
     "ignore"
    ]
   },
   "source": [
    "<!-- END QUESTION -->\n",
    "\n",
    "### Total Population in California's Prisons Over Time\n",
    "\n",
    "**Context**: Our dataset describes both the capacity and the actual number of people incarcerated in California prisons from 1996 to 2018. Given this, to get more insight into our research question, one possible route of analysis might be to calculate the percentage of individuals contained within a prison relative to its capacity (the amount of prisoners they were actually built to hold). \n",
    "\n",
    "**Data Cleaning**: Once again, since we are interested in calculating prison population percentage based on design capacity, we need only a few columns from our `prisons_updated` table. We will select only `year`, `total_population`, and `designed_capacity`. We will call this new table `total_pop_and_design`. We will also group by year and sum both `total_population` and `designed_capacity` for all prisons given a year."
   ]
  },
  {
   "cell_type": "code",
   "execution_count": 68,
   "metadata": {},
   "outputs": [
    {
     "data": {
      "text/html": [
       "<table border=\"1\" class=\"dataframe\">\n",
       "    <thead>\n",
       "        <tr>\n",
       "            <th>year</th> <th>total_population</th> <th>designed_capacity</th>\n",
       "        </tr>\n",
       "    </thead>\n",
       "    <tbody>\n",
       "        <tr>\n",
       "            <td>1996</td> <td>790             </td> <td>400              </td>\n",
       "        </tr>\n",
       "        <tr>\n",
       "            <td>1996</td> <td>2859            </td> <td>2004             </td>\n",
       "        </tr>\n",
       "        <tr>\n",
       "            <td>1996</td> <td>794             </td> <td>500              </td>\n",
       "        </tr>\n",
       "        <tr>\n",
       "            <td>1996</td> <td>1726            </td> <td>1026             </td>\n",
       "        </tr>\n",
       "        <tr>\n",
       "            <td>1996</td> <td>4537            </td> <td>2484             </td>\n",
       "        </tr>\n",
       "    </tbody>\n",
       "</table>\n",
       "<p>... (9496 rows omitted)</p>"
      ],
      "text/plain": [
       "<IPython.core.display.HTML object>"
      ]
     },
     "metadata": {},
     "output_type": "display_data"
    },
    {
     "data": {
      "text/html": [
       "<table border=\"1\" class=\"dataframe\">\n",
       "    <thead>\n",
       "        <tr>\n",
       "            <th>year</th> <th>total_population sum</th> <th>designed_capacity sum</th>\n",
       "        </tr>\n",
       "    </thead>\n",
       "    <tbody>\n",
       "        <tr>\n",
       "            <td>1996</td> <td>1623806             </td> <td>873676               </td>\n",
       "        </tr>\n",
       "        <tr>\n",
       "            <td>1997</td> <td>1739423             </td> <td>910797               </td>\n",
       "        </tr>\n",
       "        <tr>\n",
       "            <td>1998</td> <td>1788142             </td> <td>956740               </td>\n",
       "        </tr>\n",
       "        <tr>\n",
       "            <td>1999</td> <td>1818019             </td> <td>958881               </td>\n",
       "        </tr>\n",
       "        <tr>\n",
       "            <td>2000</td> <td>1820519             </td> <td>965721               </td>\n",
       "        </tr>\n",
       "    </tbody>\n",
       "</table>\n",
       "<p>... (18 rows omitted)</p>"
      ],
      "text/plain": [
       "<IPython.core.display.HTML object>"
      ]
     },
     "metadata": {},
     "output_type": "display_data"
    }
   ],
   "source": [
    "total_pop_and_design = prisons_updated.select(\"year\", \"total_population\", \"designed_capacity\")\n",
    "total_pop_and_design.show(5)\n",
    "sum_total_and_design = total_pop_and_design.group(\"year\", sum)\n",
    "sum_total_and_design.show(5)"
   ]
  },
  {
   "cell_type": "markdown",
   "metadata": {
    "tags": [
     "ignore"
    ]
   },
   "source": [
    "Now that we have our information grouped by year and summed over all the prisons, we can begin calculating our percentage. To get this percentage we must first assign all of our `total_population` values to a variable and do the same for `designed_capacity`. Then we will divide the `total_population` values by their corresponding `designed_capacity` and multiply by 100 to get the population percentage, then adding this as a column to the table."
   ]
  },
  {
   "cell_type": "code",
   "execution_count": null,
   "metadata": {},
   "outputs": [],
   "source": [
    "total_population = sum_total_and_design.column(\"total_population sum\") \n",
    "designed_sum = sum_total_and_design.column(\"designed_capacity sum\")\n",
    "\n",
    "capacity_percentage = (total_population / designed_sum) * 100\n",
    "print(capacity_percentage)\n",
    "\n",
    "# Use .with_column() to add a new column with the percentages calculated above!\n",
    "total_and_design_and_percentages_table = sum_total_and_design.with_column(\"Design Percent\", capacity_percentage)\n",
    "\n",
    "total_and_design_and_percentages_table.show(3)"
   ]
  },
  {
   "cell_type": "markdown",
   "metadata": {
    "tags": [
     "include"
    ]
   },
   "source": [
    "<!-- BEGIN QUESTION -->\n",
    "\n",
    "<div class=\"alert alert-block alert-info\">\n",
    "<b>Question 2.1c:</b> What can you immediately comment on by looking at the top three percentage values in our new column?\n",
    "</div>\n",
    "\n",
    "<!--\n",
    "BEGIN QUESTION\n",
    "name: q21c\n",
    "points: 1\n",
    "manual: true\n",
    "-->"
   ]
  },
  {
   "cell_type": "markdown",
   "metadata": {
    "tags": [
     "include"
    ]
   },
   "source": [
    "**Answer:** *YOUR ANSWER HERE*"
   ]
  },
  {
   "cell_type": "markdown",
   "metadata": {
    "tags": [
     "ignore"
    ]
   },
   "source": [
    "<!-- END QUESTION -->\n",
    "\n",
    "Now that we have our table set up correctly, we can plot how overcrowding has changed over time.\n",
    "\n",
    "**Plotting**: Using the same methods as before, we will draw a line plot to reflect the trend in overcrowding in California state prisons over time."
   ]
  },
  {
   "cell_type": "code",
   "execution_count": null,
   "metadata": {
    "tags": [
     "include"
    ]
   },
   "outputs": [],
   "source": [
    "total_and_design_and_percentages_table.plot(\"year\", \"Design Percent\")\n",
    "\n",
    "plt.xlabel(\"Year\")\n",
    "plt.ylabel(\"Design Percent Occupied (%)\")\n",
    "plt.title(\"Overcrowding According to Designed Capacity\");"
   ]
  },
  {
   "cell_type": "markdown",
   "metadata": {
    "tags": [
     "ignore"
    ]
   },
   "source": [
    "#### Staffed Capacity\n",
    "\n",
    "We have now seen how prisons exceed the number of people allowed per designated space. Given the amount of overcrowding present in prisons, another key aspect we might want to investigate is the number of people employed to maintain this system. To visualize this, we will calculate the percentage of people within prisons given the amount of staff employed to maintain the prison.\n",
    "\n",
    "Using the same methods as before, we will select and graph this information."
   ]
  },
  {
   "cell_type": "code",
   "execution_count": null,
   "metadata": {},
   "outputs": [],
   "source": [
    "# Select only the necessary columns\n",
    "total_pop_and_staff = prisons_updated.select(\"year\", \"total_population\", \"staffed_capacity\")\n",
    "\n",
    "# Group by year and sum all values for that year\n",
    "pop_and_staff_sum = total_pop_and_staff.group(\"year\", sum)\n",
    "\n",
    "population_column = pop_and_staff_sum.column(\"total_population sum\")\n",
    "staff_capacity_column = pop_and_staff_sum.column(\"staffed_capacity sum\")\n",
    "\n",
    "staff_capacity_percentage = (population_column / staff_capacity_column)* 100\n",
    "\n",
    "# Add a new column with our percentages\n",
    "staff_and_total_percent_table = pop_and_staff_sum.with_column(\"Staff Percent\", staff_capacity_percentage)\n",
    "staff_and_total_percent_table.show(3)\n",
    "\n",
    "staff_and_total_percent_table.plot(\"year\", \"Staff Percent\")\n",
    "\n",
    "plt.xlabel(\"Year\") \n",
    "plt.ylabel(\"Staff Percent Occupied (%)\")\n",
    "plt.title(\"Overcrowding according to Staffed Capacity\");"
   ]
  },
  {
   "cell_type": "markdown",
   "metadata": {
    "tags": [
     "include"
    ]
   },
   "source": [
    "<!-- BEGIN QUESTION -->\n",
    "\n",
    "<div class=\"alert alert-block alert-info\">\n",
    "<b>Question 2.1d:</b> What trends do you notice within the line plot?\n",
    "</div>\n",
    "\n",
    "<!--\n",
    "BEGIN QUESTION\n",
    "name: q21d\n",
    "points: 1\n",
    "manual: true\n",
    "-->"
   ]
  },
  {
   "cell_type": "markdown",
   "metadata": {
    "tags": [
     "include"
    ]
   },
   "source": [
    "**Answer:** *YOUR ANSWER HERE*"
   ]
  },
  {
   "cell_type": "markdown",
   "metadata": {
    "tags": [
     "ignore"
    ]
   },
   "source": [
    "<!-- END QUESTION -->\n",
    "\n",
    "#### Designed Capacity Versus Staff Capacity\n",
    "\n",
    "In the last two examples, we saw how crowded prisons have been over time by looking at their designed capacity and staffed capacity. However, it is still unclear what the relationship between the two percentages is. The solution? Make another plot! This time we will include both of the percentages we calculated.\n",
    "\n",
    "To do this, we will create a new table with three columns, namely:\n",
    "* Year\n",
    "* Design Percentage\n",
    "* Staff Percentage"
   ]
  },
  {
   "cell_type": "code",
   "execution_count": null,
   "metadata": {
    "tags": [
     "include"
    ]
   },
   "outputs": [],
   "source": [
    "# Create a list/array of all the years we have data for\n",
    "years = np.arange(1996, 2018 + 1) # We add 1 to include 2018\n",
    "\n",
    "# Use our new years variable and capacity_percentage and staff_capacity_percentage\n",
    "# from before as new columns in a new table called compare_table_design_and_staff\n",
    "compare_table_design_and_staff = Table().with_columns([\"year\", years,\n",
    "                                    \"Design Percentage\", capacity_percentage,\n",
    "                                    \"Staff Percentage\", staff_capacity_percentage])\n",
    "\n",
    "# Create a plot as before!\n",
    "compare_table_design_and_staff.plot(\"year\") # Notice that we only include one column\n",
    "\n",
    "plt.xlabel(\"Year\")\n",
    "plt.ylabel(\"Percent Occupied\")\n",
    "plt.title(\"Designed Capacity vs. Staff Capacity\");"
   ]
  },
  {
   "cell_type": "markdown",
   "metadata": {
    "tags": [
     "include"
    ]
   },
   "source": [
    "<!-- BEGIN QUESTION -->\n",
    "<div class=\"alert alert-block alert-info\">\n",
    "<b>Question 2.1e:</b> Consider the large gap between the two lines. Why is staff capacity much closer to 100% than designed capacity?\n",
    "</div>\n",
    "\n",
    "<!--\n",
    "BEGIN QUESTION\n",
    "name: q21e\n",
    "points: 1\n",
    "manual: true\n",
    "-->"
   ]
  },
  {
   "cell_type": "markdown",
   "metadata": {
    "tags": [
     "include"
    ]
   },
   "source": [
    "**Answer:** *YOUR ANSWER HERE*"
   ]
  },
  {
   "cell_type": "markdown",
   "metadata": {
    "tags": [
     "ignore"
    ]
   },
   "source": [
    "<!-- END QUESTION -->\n",
    "\n",
    "#### Interactive Widget\n",
    "\n",
    "We have created an interactive widget for you in this section. In this example, you will be able to scroll through all of the prisons in California (numbered from 0 to 39, and you will see how the designed capacity versus population has changed over time.\n",
    "<font color = #d14d0f>**Run the following cell to load the widget!**</font>"
   ]
  },
  {
   "cell_type": "code",
   "execution_count": null,
   "metadata": {
    "tags": [
     "ignore"
    ]
   },
   "outputs": [],
   "source": [
    "%run -i scripts.py\n",
    "widgets.VBox([widgets.VBox([inp]), out])"
   ]
  },
  {
   "cell_type": "markdown",
   "metadata": {
    "tags": [
     "include"
    ]
   },
   "source": [
    "<!-- BEGIN QUESTION -->\n",
    "\n",
    "<div class=\"alert alert-block alert-info\">\n",
    "<b>Question 2.1f:</b> Select any institution from the widget and analyze how that institution's designed capacity changed over time using the three highlighted points. Predict how the design capacity would compare with the staff capacity of that specific institution.\n",
    "</div>\n",
    "\n",
    "<!--\n",
    "BEGIN QUESTION\n",
    "name: q21f\n",
    "points: 1\n",
    "manual: true\n",
    "-->"
   ]
  },
  {
   "cell_type": "markdown",
   "metadata": {
    "tags": [
     "include"
    ]
   },
   "source": [
    "**Answer:** *YOUR ANSWER HERE*"
   ]
  },
  {
   "cell_type": "markdown",
   "metadata": {
    "tags": [
     "ignore"
    ]
   },
   "source": [
    "<!-- END QUESTION -->\n",
    "\n",
    "----\n",
    "## Section 2.2: Gender Division <a id='subsection22'></a>\n",
    "\n",
    "**Context:** The system in place reinforces the idea that the average inmate holds certain characteristics. Since we have limited data sets we cannot investigate many aspects of this claim. However, in order to get a better understanding of the population that the prison industrial complex was made to hold, we will investigate a few variables such as gender divisions, design capacity, and staff capacity. \n",
    "\n",
    "Let's begin by looking at all the **unique** institutions on our dataset. To do this, we will use the `group()` function once again. The counts of the table below represent the number of months for which we have data given an institution. The maximum counts that any of the institutions *should* have is 276."
   ]
  },
  {
   "cell_type": "code",
   "execution_count": null,
   "metadata": {},
   "outputs": [],
   "source": [
    "prisons_updated"
   ]
  },
  {
   "cell_type": "code",
   "execution_count": null,
   "metadata": {},
   "outputs": [],
   "source": [
    "prisons_updated.group(\"institution_name\").show()"
   ]
  },
  {
   "cell_type": "markdown",
   "metadata": {
    "tags": [
     "ignore"
    ]
   },
   "source": [
    "Since the data is made up of both male and female prisons, we will have to sort these prisons into separate groups before we can analyze them separately. However, we cannot ascertain whether a given institution is male or female-only given just the name. We had to double check whether an institution was male or female using sources outside of this notebook. \n",
    "\n",
    "One of the institutions that we found to be particularly interesting when looking at outside information was **VSP (VALLEY SP)**.\n",
    "\n",
    "The California Department of Corrections and Rehabilitation began converting Valley State Prison into a facility for low-risk male inmates in October 2012, and it was completed by January 2013. Click [HERE](https://web.archive.org/web/20120111104018/http://cdcrtoday.blogspot.com/2011/12/cdcr-announces-plan-to-convert-female.html) or [HERE](https://www.cdcr.ca.gov/Facilities_Locator/VSP.html) to learn more. \n",
    "\n",
    "From these links you will learn that this conversion came as a result of realignment policies. We noted earlier that the monthly count for this institution was above 276, which could indicate monthly counts for male and female inmates, leading to a double count. Though we addressed this issue before we began working with the data at the beginning of the notebook, running these sanity checks is important in order to not obtain misleading results."
   ]
  },
  {
   "cell_type": "markdown",
   "metadata": {
    "tags": [
     "ignore"
    ]
   },
   "source": [
    "#### Unique Female Prisons\n",
    "\n",
    "In this section, we will organize the data corresponding to female institutions. In the cell below, we look only at the prisons which we know are strictly female. The following code creates a list or array of all the institutions we know to be strictly female.\n",
    "\n",
    "Note that our now separated \"Valley SP\" institution is included."
   ]
  },
  {
   "cell_type": "code",
   "execution_count": null,
   "metadata": {},
   "outputs": [],
   "source": [
    "female_institutions = make_array(\"CCWF (CENTRAL CA WOMEN'S FAC)\", 'CIW (CA INSTITUTION FOR WOMEN)',\n",
    "       'CRC (CAL REHAB CTR, WOMEN)', 'FOL (FOLSOM SP) (FEMALE)',\n",
    "       'FRCC (FRCCC BAKERSFIELD)', \"NCWF (NO CAL WOMEN'S FACIL)\", \"VALLEY SP (FEMALE)\")"
   ]
  },
  {
   "cell_type": "markdown",
   "metadata": {
    "tags": [
     "ignore"
    ]
   },
   "source": [
    "**Filtering:** Now that we have a list of only the female serving institutions, we will create a new table in which only these select institutions are included, then group by institution to learn about the number of times a given institution appears in our data set. Again this should be *at most* 276."
   ]
  },
  {
   "cell_type": "code",
   "execution_count": null,
   "metadata": {},
   "outputs": [],
   "source": [
    "# Keep only the institutions in our list\n",
    "female_data = prisons_updated.where(\"institution_name\", are.contained_in(female_institutions))\n",
    "female_data.show(3)\n",
    "\n",
    "female_prisons = female_data.group(\"institution_name\")\n",
    "female_prisons"
   ]
  },
  {
   "cell_type": "markdown",
   "metadata": {
    "tags": [
     "ignore"
    ]
   },
   "source": [
    "#### Design Capacity Versus Staff Capacity for Female Institutions\n",
    "\n",
    "Similar to the last sections, we will use the `select()` function to select necessary data in order to calculate the design versus staff capacities using our new `female_data` table.\n",
    "We want to combine all the values within the same year across all institutions, so we will use the `group()` function and sum."
   ]
  },
  {
   "cell_type": "code",
   "execution_count": null,
   "metadata": {},
   "outputs": [],
   "source": [
    "fem_year_pop_capacities = female_data.select(\"year\", \"total_population\", \"designed_capacity\", \"staffed_capacity\")\n",
    "fem_year_pop_capacities.show(3)\n",
    "\n",
    "fem_year_groups = fem_year_pop_capacities.group(\"year\", sum)\n",
    "fem_year_groups.show(3)"
   ]
  },
  {
   "cell_type": "markdown",
   "metadata": {
    "tags": [
     "ignore"
    ]
   },
   "source": [
    "Using the same techniques as in previous examples, we will calculate the designed capacity and staff capacity percentages."
   ]
  },
  {
   "cell_type": "markdown",
   "metadata": {
    "tags": [
     "ignore"
    ]
   },
   "source": [
    "In order to compare these two values with each other as we did before, we will want to add the percentages to a table. We could either create a new table, or add the percentages to our existing table and select only the necessary columns. Neither approach is more correct, but for readability's sake, we will create a new table below, and then plot the Designed and Staff percentages together."
   ]
  },
  {
   "cell_type": "code",
   "execution_count": null,
   "metadata": {},
   "outputs": [],
   "source": [
    "# Create a new variable with all the total population values\n",
    "fem_total_population = fem_year_groups.column(\"total_population sum\") \n",
    "\n",
    "# Calculate designed capacity percentages\n",
    "fem_design_capacity = fem_year_groups.column(\"designed_capacity sum\")\n",
    "fem_design_percentage = (fem_total_population / fem_design_capacity) *100\n",
    "\n",
    "# Calculate staff capacity percentages\n",
    "fem_staff_capacity = fem_year_groups.column(\"staffed_capacity sum\")\n",
    "fem_staff_percentage =(fem_total_population / fem_staff_capacity)*100\n",
    "\n",
    "fem_plot_table = Table().with_columns(\n",
    "    \"year\", np.arange(1996, 2018+1),\n",
    "    \"Design Percent Occupied\", fem_design_percentage,\n",
    "    \"Staff Percent Occupied\", fem_staff_percentage)\n",
    "\n",
    "fem_plot_table.plot(\"year\")\n",
    "\n",
    "plt.xlabel(\"Year\")\n",
    "plt.ylabel(\"Percent Occupied\")\n",
    "plt.title(\"Designed Capacity vs. Staff Capacity\");"
   ]
  },
  {
   "cell_type": "markdown",
   "metadata": {
    "tags": [
     "ignore"
    ]
   },
   "source": [
    "#### Unique Male Prisons\n",
    "\n",
    "Similar to our process in selecting only the female serving institutions, we will now repeat our analysis for male serving institutions. Another way to think about the filtering process is that we are excluding rows with female institutions.\n",
    "\n",
    "Notice how instead of using a function called `are.contained_in()` we are using a function called `are.not_contained_in()`. In this way we skip the step where we make a list/array of only male serving prisons."
   ]
  },
  {
   "cell_type": "code",
   "execution_count": null,
   "metadata": {},
   "outputs": [],
   "source": [
    "male_data = prisons_updated.where(\"institution_name\", are.not_contained_in(female_institutions))\n",
    "male_data.show(3)"
   ]
  },
  {
   "cell_type": "markdown",
   "metadata": {
    "tags": [
     "ignore"
    ]
   },
   "source": [
    "#### Design Capacity Versus Staff Capacity for Male Institutions\n",
    "\n",
    "We want to analyze the designed and staff capacities over time, so we will once again use the `select()` function to get relevant data and group by year. Let's repeat the same process as before, but with our male only data.\n",
    "\n",
    "Just as in the female institution example, we will add both of the percentages to a new table, and plot them both."
   ]
  },
  {
   "cell_type": "code",
   "execution_count": null,
   "metadata": {},
   "outputs": [],
   "source": [
    "male_grouped_year = male_data.select(\"year\", \"total_population\", \"designed_capacity\", \"staffed_capacity\").group('year', sum)\n",
    "\n",
    "# Save total male population as new variable\n",
    "male_total_population = male_grouped_year.column(\"total_population sum\")\n",
    "\n",
    "# Calculate design capacity percentage\n",
    "male_design_capacity =  male_grouped_year.column(\"designed_capacity sum\")\n",
    "male_design_percentage = (male_total_population / male_design_capacity)* 100\n",
    "\n",
    "# Calculate staff capacity percentage\n",
    "male_staff_capacity =  male_grouped_year.column(\"staffed_capacity sum\")\n",
    "male_staff_percentage = (male_total_population / male_staff_capacity) *100\n",
    "\n",
    "male_plot_table = Table().with_columns(\n",
    "    \"year\", np.arange(1996, 2018+1),\n",
    "    \"Design Percent Occupied\", male_design_percentage,\n",
    "    \"Staff Percent Occupied\", male_staff_percentage)\n",
    "\n",
    "male_plot_table.plot(\"year\")\n",
    "plt.xlabel(\"Year\")\n",
    "plt.ylabel(\"Percent Occupied\")\n",
    "plt.title(\"Designed Capacity vs. Staff Capacity\");"
   ]
  },
  {
   "cell_type": "markdown",
   "metadata": {
    "tags": [
     "ignore"
    ]
   },
   "source": [
    "#### Female vs Male Prisons: Designed and Staffed Capacities\n",
    "\n",
    "Before we merge the two tables (`fem_plot_table` and `male_plot_table`), we will want to differentiate between the `Design Percent Occupied` column in the female table versus in the male table. Same with the staff percentage column. To do this, we will relabel the column names. The function that will relabel to the column names is called `relabel()`. The function takes in two inputs: the old column name and a new column name."
   ]
  },
  {
   "cell_type": "code",
   "execution_count": null,
   "metadata": {},
   "outputs": [],
   "source": [
    "male_design_relabeled = male_plot_table.relabeled(\"Design Percent Occupied\", \"Male Designed Percentage\")\n",
    "male_relabeled = male_design_relabeled.relabeled(\"Staff Percent Occupied\", \"Male Staffed Percentage\")\n",
    "\n",
    "fem_design_relabeled = fem_plot_table.relabeled(\"Design Percent Occupied\", \"Female Designed Percentage\")\n",
    "fem_relabeled = fem_design_relabeled.relabeled(\"Staff Percent Occupied\", \"Female Staffed Percentage\")"
   ]
  },
  {
   "cell_type": "markdown",
   "metadata": {
    "tags": [
     "ignore"
    ]
   },
   "source": [
    "Now that we have distinct design and staff capacities for male and female groups, we can match the values by year. They contain information over the same years. To combine tables, we use a function called `join()`. The format for the function is:\n",
    "- *data_table_one* `.join(` *same_column*, *data_table_two*`)` where same_column is the name of the column that appears in both tables."
   ]
  },
  {
   "cell_type": "code",
   "execution_count": null,
   "metadata": {},
   "outputs": [],
   "source": [
    "male_and_female_table = male_relabeled.join(\"year\", fem_relabeled)\n",
    "male_and_female_table.show(3)"
   ]
  },
  {
   "cell_type": "markdown",
   "metadata": {
    "tags": [
     "ignore"
    ]
   },
   "source": [
    "Now we can begin to do some comparative analysis on the two types of institutions. In the cells below we will generate some graphs to compare designed capacity between male and female prisons as well as staff capacity between the two."
   ]
  },
  {
   "cell_type": "markdown",
   "metadata": {
    "tags": [
     "ignore"
    ]
   },
   "source": [
    "\n",
    "\n",
    "### Male Prisons vs Female Prisons in both Staff and Designed Capacity\n",
    "\n",
    "How does the combination of male and female institutions compare with the institutions overall (not separated between male and female)? To answer this question, let's look back towards the beginning of this notebook where we defined the table called `compare_table_design_and_staff` that compared designed and staff percentages by year that included both male and female institutions."
   ]
  },
  {
   "cell_type": "code",
   "execution_count": null,
   "metadata": {},
   "outputs": [],
   "source": [
    "compare_table_design_and_staff.show(3)"
   ]
  },
  {
   "cell_type": "markdown",
   "metadata": {
    "tags": [
     "ignore"
    ]
   },
   "source": [
    "We want to combine the total percentages table above with the table that contains the percentages for male and female prisons separately. To combine the two tables, we will use the `join()` function again."
   ]
  },
  {
   "cell_type": "code",
   "execution_count": null,
   "metadata": {},
   "outputs": [],
   "source": [
    "all_joined = compare_table_design_and_staff.join(\"year\", male_and_female_table)\n",
    "all_joined.show(3)"
   ]
  },
  {
   "cell_type": "code",
   "execution_count": null,
   "metadata": {
    "tags": [
     "include"
    ]
   },
   "outputs": [],
   "source": [
    "all_joined.plot(\"year\")\n",
    "\n",
    "plt.xlabel(\"Year\")\n",
    "plt.ylabel(\"Percent Occupied\")\n",
    "plt.title(\"Male Prisons vs. Female Prisons\");"
   ]
  },
  {
   "cell_type": "markdown",
   "metadata": {
    "tags": [
     "include"
    ]
   },
   "source": [
    "<!-- BEGIN QUESTION -->\n",
    "\n",
    "<div class=\"alert alert-block alert-info\">\n",
    "<b>Question 2.2a:</b> Comment on the plot above. What are the differences between designed and staffed capacity? What are some patterns unique to female institutions? Why does the total population look almost identical to the male prisons percentages?\n",
    "</div>\n",
    "\n",
    "<!--\n",
    "BEGIN QUESTION\n",
    "name: q22a\n",
    "points: 1\n",
    "manual: true\n",
    "-->"
   ]
  },
  {
   "cell_type": "markdown",
   "metadata": {
    "tags": [
     "include"
    ]
   },
   "source": [
    "**Answer:** *YOUR ANSWER HERE*"
   ]
  },
  {
   "cell_type": "markdown",
   "metadata": {},
   "source": [
    "<!-- END QUESTION -->\n",
    "\n",
    "----"
   ]
  },
  {
   "cell_type": "markdown",
   "metadata": {
    "tags": [
     "ignore"
    ]
   },
   "source": [
    "## Section 3: Jails <a id='jailssection'></a>\n",
    "\n",
    "We'll now look at the effects of realignment on jails in California. As we did in the last section, we'll analyze the differences in designed vs. staffed capacity and the gender division in sentenced and unsentenced populations in county jails.\n",
    "\n",
    "----"
   ]
  },
  {
   "cell_type": "markdown",
   "metadata": {
    "tags": [
     "ignore"
    ]
   },
   "source": [
    "### The Data\n",
    "\n",
    "We will work with data from the Jail Profile Survey provided by the Board of State and Community Corrections (BSCC). \n",
    "\n",
    "\n",
    "The Jail Profile Survey releases reports on data recorded by local agencies. Some of the information we will find here include the total number of unsentenced and sentenced males and females in each of these facilities. This data has been used to determine the needs of each of these counties when determining the distribution of state bond money and future projections for other jail needs.\n",
    "\n",
    "If you are interested in learning more, visit [Jail Profile Survey](http://www.bscc.ca.gov/downloads/JPSWorkbook.pdf)  and [Jail Profile Survey data](https://app.bscc.ca.gov/joq//jps/QuerySelection.asp).\n",
    "\n",
    "\n",
    "#### Data Dictionary\n",
    "Below is a data dictionary for future reference. This data dictionary goes over what the column names represent in the data we will load.\n",
    "\n",
    "|Column Name   | Description |\n",
    "|--------------|---------|\n",
    "|Jurisdiction | The unit of government that has legal authority over an inmate (state or federal)|\n",
    "|Facility | Name of the county jail |\n",
    "|Year |Year that the data was collected |\n",
    "|Month | Month that the data was collected |\n",
    "|Unsentenced males| Non-sentenced inmates, or all inmates other than those who have been sentenced on all charges pending; could be detained (jail only). Given in an average daily population (ADP) for given month. |\n",
    "|Unsentenced females| Non-sentenced inmates, or all inmates other than those who have been sentenced on all charges pending; could be detained (jail only). Given in an average daily population (ADP) for given month. |\n",
    "|Sentenced males| Sentenced inmates, or all who have been sentenced on all charges and are no longer on trial. This category includes inmates who are being incarcerated pending or during an appeal. Given in an average daily population (ADP) for given month. |\n",
    "|Sentenced females|Sentenced inmates, or all who have been sentenced on all charges and are no longer on trial. This category includes inmates who are being incarcerated pending or during an appeal. Given in an average daily population (ADP) for given month. |\n",
    "|Total facility ADP| ADP total should include all inmates (including those under contract from any agency/jurisdiction) assigned to all single/double and multiple occupancy cells, administrative segregation, disciplinary isolation, and medical and mental health beds.|\n",
    "\n",
    "#### Importing the Data\n",
    "\n",
    "Let's start off by importing our `jail` data. Similar to what we did earlier, we'll create an instance of a table (`Table()`) and populating it with our data which we read in from a location within our folders. It takes in a file and reads and outputs it as a table."
   ]
  },
  {
   "cell_type": "code",
   "execution_count": 7,
   "metadata": {},
   "outputs": [
    {
     "data": {
      "text/html": [
       "<table border=\"1\" class=\"dataframe\">\n",
       "    <thead>\n",
       "        <tr>\n",
       "            <th>Unnamed: 0</th> <th>Jurisdiction</th> <th>Facility</th> <th>Year</th> <th>Month</th> <th>Unsentenced males</th> <th>Unsentenced females</th> <th>Sentenced males</th> <th>Sentenced females</th> <th>Total facility ADP</th>\n",
       "        </tr>\n",
       "    </thead>\n",
       "    <tbody>\n",
       "        <tr>\n",
       "            <td>0         </td> <td>Alameda Sheriff's Dept.  </td> <td>Glen Dyer Jail       </td> <td>1995</td> <td>10   </td> <td>539              </td> <td>1                  </td> <td>143            </td> <td>0                </td> <td>683               </td>\n",
       "        </tr>\n",
       "        <tr>\n",
       "            <td>1         </td> <td>Alameda Sheriff's Dept.  </td> <td>Santa Rita Jail      </td> <td>1995</td> <td>10   </td> <td>1983             </td> <td>197                </td> <td>887            </td> <td>166              </td> <td>3233              </td>\n",
       "        </tr>\n",
       "        <tr>\n",
       "            <td>2         </td> <td>Amador Sheriff's Dept.   </td> <td>Amador County Jail   </td> <td>1995</td> <td>10   </td> <td>15.33            </td> <td>1.59               </td> <td>21.7           </td> <td>4.85             </td> <td>43.47             </td>\n",
       "        </tr>\n",
       "        <tr>\n",
       "            <td>3         </td> <td>Butte Sheriff's Dept.    </td> <td>Butte County Jail    </td> <td>1995</td> <td>10   </td> <td>225              </td> <td>39                 </td> <td>158            </td> <td>15               </td> <td>437               </td>\n",
       "        </tr>\n",
       "        <tr>\n",
       "            <td>4         </td> <td>Calaveras Sheriff's Dept.</td> <td>Calaveras County Jail</td> <td>1995</td> <td>10   </td> <td>20.8             </td> <td>0.4                </td> <td>29.6           </td> <td>3.9              </td> <td>54.7              </td>\n",
       "        </tr>\n",
       "    </tbody>\n",
       "</table>\n",
       "<p>... (34647 rows omitted)</p>"
      ],
      "text/plain": [
       "<IPython.core.display.HTML object>"
      ]
     },
     "metadata": {},
     "output_type": "display_data"
    }
   ],
   "source": [
    "jail = Table().read_table(\"data/jails_cleaned.csv\")\n",
    "jail.show(5)"
   ]
  },
  {
   "cell_type": "markdown",
   "metadata": {
    "tags": [
     "include"
    ]
   },
   "source": [
    "-------\n",
    "\n",
    "## Section 4: Data Analysis <a id='section4'></a>\n",
    "Just as we did with the Prisons dataset, the first thing we want to do is check that the number of months does not exceed 276, the number of months between the years 1996-2018 that this dataset looks at.\n",
    "\n",
    "First, we will group by the `Facility` using the `group()` table function, which will allow us to look at the count of each month within the 23 years for each of the facilities/jails within the dataset."
   ]
  },
  {
   "cell_type": "code",
   "execution_count": 9,
   "metadata": {},
   "outputs": [
    {
     "data": {
      "text/html": [
       "<table border=\"1\" class=\"dataframe\">\n",
       "    <thead>\n",
       "        <tr>\n",
       "            <th>Facility</th> <th>count</th>\n",
       "        </tr>\n",
       "    </thead>\n",
       "    <tbody>\n",
       "        <tr>\n",
       "            <td>Amador County Jail                    </td> <td>276  </td>\n",
       "        </tr>\n",
       "        <tr>\n",
       "            <td>Barrett Honor Camp / Barrett Juvenile </td> <td>69   </td>\n",
       "        </tr>\n",
       "        <tr>\n",
       "            <td>Biscailuz Recovery Center             </td> <td>24   </td>\n",
       "        </tr>\n",
       "        <tr>\n",
       "            <td>Blythe Jail                           </td> <td>276  </td>\n",
       "        </tr>\n",
       "        <tr>\n",
       "            <td>Bob Wiley Detention Facility          </td> <td>276  </td>\n",
       "        </tr>\n",
       "        <tr>\n",
       "            <td>Butte County Jail                     </td> <td>276  </td>\n",
       "        </tr>\n",
       "        <tr>\n",
       "            <td>Calaveras Co. Adult Detention Facility</td> <td>52   </td>\n",
       "        </tr>\n",
       "        <tr>\n",
       "            <td>Calaveras County Jail                 </td> <td>224  </td>\n",
       "        </tr>\n",
       "        <tr>\n",
       "            <td>Camp West Fork                        </td> <td>69   </td>\n",
       "        </tr>\n",
       "        <tr>\n",
       "            <td>Central Receiving Facility            </td> <td>195  </td>\n",
       "        </tr>\n",
       "    </tbody>\n",
       "</table>\n",
       "<p>... (151 rows omitted)</p>"
      ],
      "text/plain": [
       "Facility                               | count\n",
       "Amador County Jail                     | 276\n",
       "Barrett Honor Camp / Barrett Juvenile  | 69\n",
       "Biscailuz Recovery Center              | 24\n",
       "Blythe Jail                            | 276\n",
       "Bob Wiley Detention Facility           | 276\n",
       "Butte County Jail                      | 276\n",
       "Calaveras Co. Adult Detention Facility | 52\n",
       "Calaveras County Jail                  | 224\n",
       "Camp West Fork                         | 69\n",
       "Central Receiving Facility             | 195\n",
       "... (151 rows omitted)"
      ]
     },
     "execution_count": 9,
     "metadata": {},
     "output_type": "execute_result"
    }
   ],
   "source": [
    "jail_grouped = jail.group(\"Facility\")\n",
    "jail_grouped"
   ]
  },
  {
   "cell_type": "markdown",
   "metadata": {},
   "source": [
    "Next, we will sort by the `count` by descending count so that we can make sure the topmost facility's count does not exceed 276."
   ]
  },
  {
   "cell_type": "code",
   "execution_count": 10,
   "metadata": {
    "tags": [
     "include"
    ]
   },
   "outputs": [
    {
     "data": {
      "text/html": [
       "<table border=\"1\" class=\"dataframe\">\n",
       "    <thead>\n",
       "        <tr>\n",
       "            <th>Facility</th> <th>count</th>\n",
       "        </tr>\n",
       "    </thead>\n",
       "    <tbody>\n",
       "        <tr>\n",
       "            <td>Amador County Jail                </td> <td>276  </td>\n",
       "        </tr>\n",
       "        <tr>\n",
       "            <td>Blythe Jail                       </td> <td>276  </td>\n",
       "        </tr>\n",
       "        <tr>\n",
       "            <td>Bob Wiley Detention Facility      </td> <td>276  </td>\n",
       "        </tr>\n",
       "        <tr>\n",
       "            <td>Butte County Jail                 </td> <td>276  </td>\n",
       "        </tr>\n",
       "        <tr>\n",
       "            <td>Claybank Facility                 </td> <td>276  </td>\n",
       "        </tr>\n",
       "        <tr>\n",
       "            <td>Colusa County Jail                </td> <td>276  </td>\n",
       "        </tr>\n",
       "        <tr>\n",
       "            <td>Del Norte County Jail             </td> <td>276  </td>\n",
       "        </tr>\n",
       "        <tr>\n",
       "            <td>East Mesa Reentry Facility        </td> <td>276  </td>\n",
       "        </tr>\n",
       "        <tr>\n",
       "            <td>Elmwood Complex - Men's facility  </td> <td>276  </td>\n",
       "        </tr>\n",
       "        <tr>\n",
       "            <td>Elmwood Complex - Women's Facility</td> <td>276  </td>\n",
       "        </tr>\n",
       "    </tbody>\n",
       "</table>\n",
       "<p>... (151 rows omitted)</p>"
      ],
      "text/plain": [
       "Facility                           | count\n",
       "Amador County Jail                 | 276\n",
       "Blythe Jail                        | 276\n",
       "Bob Wiley Detention Facility       | 276\n",
       "Butte County Jail                  | 276\n",
       "Claybank Facility                  | 276\n",
       "Colusa County Jail                 | 276\n",
       "Del Norte County Jail              | 276\n",
       "East Mesa Reentry Facility         | 276\n",
       "Elmwood Complex - Men's facility   | 276\n",
       "Elmwood Complex - Women's Facility | 276\n",
       "... (151 rows omitted)"
      ]
     },
     "execution_count": 10,
     "metadata": {},
     "output_type": "execute_result"
    }
   ],
   "source": [
    "jail_grouped = jail_grouped.sort('count', descending = True)\n",
    "jail_grouped"
   ]
  },
  {
   "cell_type": "markdown",
   "metadata": {
    "tags": [
     "ignore"
    ]
   },
   "source": [
    "Do you see any count abnormalities? In contrast to our Prisons notebook, there do not seem to be any issues with the counts!  \n",
    "\n",
    "Like we did in our previous notebook, we now want to get the **yearly total for each institution** to explore how this total number of inmates in the jail population changed over time. To accomplish this, the first thing we need to do is aggregate or group some columns.  \n",
    "\n",
    "Our first step is to select the appropriate columns. We select the columns `Year`, `Unsentenced males`, `Unsentenced females`, `Sentenced males`, `Sentenced females`, and `Total facility ADP` using the `select()` function."
   ]
  },
  {
   "cell_type": "code",
   "execution_count": 20,
   "metadata": {
    "tags": [
     "ignore"
    ]
   },
   "outputs": [
    {
     "data": {
      "text/html": [
       "<table border=\"1\" class=\"dataframe\">\n",
       "    <thead>\n",
       "        <tr>\n",
       "            <th>Year</th> <th>Unsentenced males</th> <th>Unsentenced females</th> <th>Sentenced males</th> <th>Sentenced females</th> <th>Total facility ADP</th>\n",
       "        </tr>\n",
       "    </thead>\n",
       "    <tbody>\n",
       "        <tr>\n",
       "            <td>1995</td> <td>539              </td> <td>1                  </td> <td>143            </td> <td>0                </td> <td>683               </td>\n",
       "        </tr>\n",
       "        <tr>\n",
       "            <td>1995</td> <td>1983             </td> <td>197                </td> <td>887            </td> <td>166              </td> <td>3233              </td>\n",
       "        </tr>\n",
       "        <tr>\n",
       "            <td>1995</td> <td>15.33            </td> <td>1.59               </td> <td>21.7           </td> <td>4.85             </td> <td>43.47             </td>\n",
       "        </tr>\n",
       "        <tr>\n",
       "            <td>1995</td> <td>225              </td> <td>39                 </td> <td>158            </td> <td>15               </td> <td>437               </td>\n",
       "        </tr>\n",
       "        <tr>\n",
       "            <td>1995</td> <td>20.8             </td> <td>0.4                </td> <td>29.6           </td> <td>3.9              </td> <td>54.7              </td>\n",
       "        </tr>\n",
       "        <tr>\n",
       "            <td>1995</td> <td>26               </td> <td>1                  </td> <td>31             </td> <td>1                </td> <td>59                </td>\n",
       "        </tr>\n",
       "        <tr>\n",
       "            <td>1995</td> <td>0                </td> <td>0                  </td> <td>230            </td> <td>0                </td> <td>230               </td>\n",
       "        </tr>\n",
       "        <tr>\n",
       "            <td>1995</td> <td>647              </td> <td>0                  </td> <td>0              </td> <td>0                </td> <td>647               </td>\n",
       "        </tr>\n",
       "        <tr>\n",
       "            <td>1995</td> <td>597              </td> <td>0                  </td> <td>0              </td> <td>0                </td> <td>597               </td>\n",
       "        </tr>\n",
       "        <tr>\n",
       "            <td>1995</td> <td>65.83            </td> <td>7.22               </td> <td>0              </td> <td>0                </td> <td>73.05             </td>\n",
       "        </tr>\n",
       "    </tbody>\n",
       "</table>\n",
       "<p>... (34642 rows omitted)</p>"
      ],
      "text/plain": [
       "Year | Unsentenced males | Unsentenced females | Sentenced males | Sentenced females | Total facility ADP\n",
       "1995 | 539               | 1                   | 143             | 0                 | 683\n",
       "1995 | 1983              | 197                 | 887             | 166               | 3233\n",
       "1995 | 15.33             | 1.59                | 21.7            | 4.85              | 43.47\n",
       "1995 | 225               | 39                  | 158             | 15                | 437\n",
       "1995 | 20.8              | 0.4                 | 29.6            | 3.9               | 54.7\n",
       "1995 | 26                | 1                   | 31              | 1                 | 59\n",
       "1995 | 0                 | 0                   | 230             | 0                 | 230\n",
       "1995 | 647               | 0                   | 0               | 0                 | 647\n",
       "1995 | 597               | 0                   | 0               | 0                 | 597\n",
       "1995 | 65.83             | 7.22                | 0               | 0                 | 73.05\n",
       "... (34642 rows omitted)"
      ]
     },
     "execution_count": 20,
     "metadata": {},
     "output_type": "execute_result"
    }
   ],
   "source": [
    "data_year = jail.select('Year','Unsentenced males', 'Unsentenced females','Sentenced males','Sentenced females', 'Total facility ADP')\n",
    "data_year"
   ]
  },
  {
   "cell_type": "markdown",
   "metadata": {},
   "source": [
    "<div class=\"alert alert-block alert-info\">\n",
    "<b>Question ___:</b> Now that we have this data, what function can we use in our call to `group()` which will find the aggregated numbers of the remaining factors? Write your answer in the cell below, which will then be reassigned to the `data_year` table.\n",
    "</div>"
   ]
  },
  {
   "cell_type": "code",
   "execution_count": 46,
   "metadata": {},
   "outputs": [
    {
     "ename": "TypeError",
     "evalue": "column functions must be callable",
     "output_type": "error",
     "traceback": [
      "\u001b[0;31m---------------------------------------------------------------------------\u001b[0m",
      "\u001b[0;31mTypeError\u001b[0m                                 Traceback (most recent call last)",
      "\u001b[0;32m<ipython-input-46-64b83cda9d9a>\u001b[0m in \u001b[0;36m<module>\u001b[0;34m\u001b[0m\n\u001b[1;32m      4\u001b[0m \u001b[0;31m# Then replace the \"...\" with such a function.\u001b[0m\u001b[0;34m\u001b[0m\u001b[0;34m\u001b[0m\u001b[0;34m\u001b[0m\u001b[0m\n\u001b[1;32m      5\u001b[0m \u001b[0;34m\u001b[0m\u001b[0m\n\u001b[0;32m----> 6\u001b[0;31m \u001b[0mdata_year\u001b[0m \u001b[0;34m=\u001b[0m \u001b[0mdata_year\u001b[0m\u001b[0;34m.\u001b[0m\u001b[0mgroup\u001b[0m\u001b[0;34m(\u001b[0m\u001b[0;34m\"Year\"\u001b[0m\u001b[0;34m,\u001b[0m \u001b[0;34m...\u001b[0m\u001b[0;34m)\u001b[0m\u001b[0;34m\u001b[0m\u001b[0;34m\u001b[0m\u001b[0m\n\u001b[0m\u001b[1;32m      7\u001b[0m \u001b[0mdata_year\u001b[0m\u001b[0;34m.\u001b[0m\u001b[0mshow\u001b[0m\u001b[0;34m(\u001b[0m\u001b[0;36m5\u001b[0m\u001b[0;34m)\u001b[0m\u001b[0;34m\u001b[0m\u001b[0;34m\u001b[0m\u001b[0m\n",
      "\u001b[0;32m/opt/anaconda3/lib/python3.8/site-packages/datascience/tables.py\u001b[0m in \u001b[0;36mgroup\u001b[0;34m(self, column_or_label, collect)\u001b[0m\n\u001b[1;32m   1486\u001b[0m \u001b[0;34m\u001b[0m\u001b[0m\n\u001b[1;32m   1487\u001b[0m         \u001b[0mself\u001b[0m \u001b[0;34m=\u001b[0m \u001b[0mself\u001b[0m\u001b[0;34m.\u001b[0m\u001b[0mcopy\u001b[0m\u001b[0;34m(\u001b[0m\u001b[0mshallow\u001b[0m\u001b[0;34m=\u001b[0m\u001b[0;32mTrue\u001b[0m\u001b[0;34m)\u001b[0m\u001b[0;34m\u001b[0m\u001b[0;34m\u001b[0m\u001b[0m\n\u001b[0;32m-> 1488\u001b[0;31m         \u001b[0mcollect\u001b[0m \u001b[0;34m=\u001b[0m \u001b[0m_zero_on_type_error\u001b[0m\u001b[0;34m(\u001b[0m\u001b[0mcollect\u001b[0m\u001b[0;34m)\u001b[0m\u001b[0;34m\u001b[0m\u001b[0;34m\u001b[0m\u001b[0m\n\u001b[0m\u001b[1;32m   1489\u001b[0m \u001b[0;34m\u001b[0m\u001b[0m\n\u001b[1;32m   1490\u001b[0m         \u001b[0;31m# Remove column used for grouping\u001b[0m\u001b[0;34m\u001b[0m\u001b[0;34m\u001b[0m\u001b[0;34m\u001b[0m\u001b[0m\n",
      "\u001b[0;32m/opt/anaconda3/lib/python3.8/site-packages/datascience/tables.py\u001b[0m in \u001b[0;36m_zero_on_type_error\u001b[0;34m(column_fn)\u001b[0m\n\u001b[1;32m   5090\u001b[0m         \u001b[0;32mreturn\u001b[0m \u001b[0mcolumn_fn\u001b[0m\u001b[0;34m\u001b[0m\u001b[0;34m\u001b[0m\u001b[0m\n\u001b[1;32m   5091\u001b[0m     \u001b[0;32mif\u001b[0m \u001b[0;32mnot\u001b[0m \u001b[0mcallable\u001b[0m\u001b[0;34m(\u001b[0m\u001b[0mcolumn_fn\u001b[0m\u001b[0;34m)\u001b[0m\u001b[0;34m:\u001b[0m\u001b[0;34m\u001b[0m\u001b[0;34m\u001b[0m\u001b[0m\n\u001b[0;32m-> 5092\u001b[0;31m         \u001b[0;32mraise\u001b[0m \u001b[0mTypeError\u001b[0m\u001b[0;34m(\u001b[0m\u001b[0;34m'column functions must be callable'\u001b[0m\u001b[0;34m)\u001b[0m\u001b[0;34m\u001b[0m\u001b[0;34m\u001b[0m\u001b[0m\n\u001b[0m\u001b[1;32m   5093\u001b[0m     \u001b[0;34m@\u001b[0m\u001b[0mfunctools\u001b[0m\u001b[0;34m.\u001b[0m\u001b[0mwraps\u001b[0m\u001b[0;34m(\u001b[0m\u001b[0mcolumn_fn\u001b[0m\u001b[0;34m)\u001b[0m\u001b[0;34m\u001b[0m\u001b[0;34m\u001b[0m\u001b[0m\n\u001b[1;32m   5094\u001b[0m     \u001b[0;32mdef\u001b[0m \u001b[0mwrapped\u001b[0m\u001b[0;34m(\u001b[0m\u001b[0mcolumn\u001b[0m\u001b[0;34m)\u001b[0m\u001b[0;34m:\u001b[0m\u001b[0;34m\u001b[0m\u001b[0;34m\u001b[0m\u001b[0m\n",
      "\u001b[0;31mTypeError\u001b[0m: column functions must be callable"
     ]
    }
   ],
   "source": [
    "# ENTER CODE HERE\n",
    "# All you need to do here is identify a function (i.e., min, max, sum, etc.) that will be used to aggregate the\n",
    "# remaining factors in the table (as we mentioned, to get the total of each factor per year). Then replace the \n",
    "# \"...\" with such a function.\n",
    "\n",
    "data_year = data_year.group(\"Year\", ...)\n",
    "data_year.show(5)"
   ]
  },
  {
   "cell_type": "markdown",
   "metadata": {
    "tags": [
     "ignore"
    ]
   },
   "source": [
    "Our first investigation will be into the total facility ADP over the years. For the remainder of the notebook, we will focus on years that mark significant shifts in population among jails. We will focus mainly on 2011 and 2014 by plotting red dots to mark those years in cells below.\n",
    "\n",
    "First, let's obtain the data where the year equals 2011 and 2014. To do this we will use the `where()` table function to limit our data to the year 2011 and assign it to a new variable `data2011`, and similarly for 2014."
   ]
  },
  {
   "cell_type": "code",
   "execution_count": 22,
   "metadata": {
    "tags": [
     "ignore"
    ]
   },
   "outputs": [],
   "source": [
    "data2011 = data_year.where(\"Year\", 2011)\n",
    "\n",
    "data2014 = data_year.where('Year', 2014)"
   ]
  },
  {
   "cell_type": "markdown",
   "metadata": {
    "tags": [
     "ignore"
    ]
   },
   "source": [
    "Note that we are only interested in the last column, `Total facility ADP sum`, and the year since we want to look at the sum for each facility only. We can select that from the previous cell and assign it to `y_coordinate_2011` and `y_coordinate_2014`. Now that we have our desired two points, we can plot the `Total facility ADP sum` vs. `year` and overlay the data points from 2011 and 2014. Run the cell below to generate the plot."
   ]
  },
  {
   "cell_type": "code",
   "execution_count": 23,
   "metadata": {
    "tags": [
     "ignore"
    ]
   },
   "outputs": [
    {
     "data": {
      "image/png": "[encoded data removed]",
      "text/plain": [
       "<Figure size 432x432 with 1 Axes>"
      ]
     },
     "metadata": {},
     "output_type": "display_data"
    }
   ],
   "source": [
    "x_coordinate_2011 = data2011.column('Year')\n",
    "y_coordinate_2011 = data2011.column('Total facility ADP sum')\n",
    "\n",
    "x_coordinate_2014 = data2014.column(\"Year\")\n",
    "y_coordinate_2014 = data2014.column(\"Total facility ADP sum\")\n",
    "\n",
    "data_year.plot(\"Year\", \"Total facility ADP sum\")\n",
    "plt.xlabel(\"Year\")\n",
    "plt.ylabel(\"Total Facility ADP\")\n",
    "plt.title(\"Total Facility ADP over time\")\n",
    "\n",
    "plt.plot(x_coordinate_2011, y_coordinate_2011, 'ro')\n",
    "plt.plot(x_coordinate_2014, y_coordinate_2014, 'ro');"
   ]
  },
  {
   "cell_type": "markdown",
   "metadata": {
    "tags": [
     "include"
    ]
   },
   "source": [
    "<!-- BEGIN QUESTION -->\n",
    "\n",
    "<div class=\"alert alert-block alert-info\">\n",
    "<b>Question 2a:</b> In looking at the graph you produced, describe the trend of the total facility ADP through the years. What does this say about the systematic changes of California's potential jail population? \n",
    "</div>\n",
    "\n",
    "<!--\n",
    "BEGIN QUESTION\n",
    "name: q4a\n",
    "points: 1\n",
    "manual: true\n",
    "-->"
   ]
  },
  {
   "cell_type": "markdown",
   "metadata": {
    "tags": [
     "include"
    ]
   },
   "source": [
    "*Replace this text with your answer*"
   ]
  },
  {
   "cell_type": "markdown",
   "metadata": {
    "tags": [
     "ignore"
    ]
   },
   "source": [
    "<!-- END QUESTION -->\n",
    "\n",
    "\n",
    "### Section 4.1: Sentenced vs Unsentenced  <a id='section41'></a>\n",
    "In this section we will look at the designed and staffed capacities in jails. We will specifically be creating and looking at sentenced and unsentenced populations, and then at the gender groups within those populations.\n",
    "\n",
    "To understand how sentenced vs unsentenced jail populations have changed over time, we will need to estimate the totals for each of these two categories. In looking at our data set we can notice that is is composed of 4 main columns in addition to the total facility ADP (which looks at all inmates in any facility, including hospitals and isolation). Yet, no column displays the total for those particularly in jails (the total of those in our unsentenced and sentenced populations).\n",
    "\n",
    "|Sentenced males|Sentenced females|Unsentenced males| Unsentenced females|Total facility ADP|\n",
    "|--------------|---------|------|----------|-----|\n",
    "\n",
    "Therefore, we begin by calculating the sentenced total and the unsentenced total. We will need to combine male and female data for each of these two categories.\n",
    "\n",
    "Let's begin by separating each column into a new variable so that we can easily extract and later combine the values that we need. As a refresher, you can use the table function `column()` to select the values in a given column."
   ]
  },
  {
   "cell_type": "markdown",
   "metadata": {},
   "source": [
    "First, we select all the values for male sentenced and female sentenced and save it into new variables `m_sentenced` and `f_sentenced` respectively."
   ]
  },
  {
   "cell_type": "code",
   "execution_count": 27,
   "metadata": {
    "tags": [
     "ignore"
    ]
   },
   "outputs": [],
   "source": [
    "m_sentenced = data_year.column(\"Sentenced males sum\")\n",
    "f_sentenced = data_year.column(\"Sentenced females sum\")"
   ]
  },
  {
   "cell_type": "markdown",
   "metadata": {},
   "source": [
    "Now, we will do the same for  **unsentenced** males and females to `m_unsentenced` and `f_unsentenced`."
   ]
  },
  {
   "cell_type": "code",
   "execution_count": 28,
   "metadata": {},
   "outputs": [],
   "source": [
    "m_unsentenced = data_year.column(\"Unsentenced males sum\")\n",
    "f_unsentenced = data_year.column(\"Unsentenced females sum\")"
   ]
  },
  {
   "cell_type": "markdown",
   "metadata": {
    "tags": [
     "ignore"
    ]
   },
   "source": [
    "We can add the values from `m_sentenced` and `f_sentenced` into a single column to get the total sentenced per year, and the same for `m_unsentenced` and `f_unsentenced`."
   ]
  },
  {
   "cell_type": "code",
   "execution_count": 29,
   "metadata": {
    "tags": [
     "ignore"
    ]
   },
   "outputs": [],
   "source": [
    "sentenced_all =  m_sentenced + f_sentenced\n",
    "unsentenced_all = m_unsentenced + f_unsentenced "
   ]
  },
  {
   "cell_type": "markdown",
   "metadata": {
    "tags": [
     "ignore"
    ]
   },
   "source": [
    "We can now go ahead and add these two values to our original data table (called `data_year`). We will use the table function `with_column()` which takes in a label for your column, and the values that you want to assign to that new column."
   ]
  },
  {
   "cell_type": "code",
   "execution_count": 30,
   "metadata": {
    "tags": [
     "ignore"
    ]
   },
   "outputs": [
    {
     "data": {
      "text/html": [
       "<table border=\"1\" class=\"dataframe\">\n",
       "    <thead>\n",
       "        <tr>\n",
       "            <th>Year</th> <th>Unsentenced males sum</th> <th>Unsentenced females sum</th> <th>Sentenced males sum</th> <th>Sentenced females sum</th> <th>Total facility ADP sum</th> <th>Total Sentenced</th> <th>Total Unsentenced</th>\n",
       "        </tr>\n",
       "    </thead>\n",
       "    <tbody>\n",
       "        <tr>\n",
       "            <td>1995</td> <td>111311               </td> <td>13430.4                </td> <td>73436.1            </td> <td>11201.6              </td> <td>209225                </td> <td>84637.7        </td> <td>124742           </td>\n",
       "        </tr>\n",
       "        <tr>\n",
       "            <td>1996</td> <td>444830               </td> <td>55555.7                </td> <td>300297             </td> <td>44444.9              </td> <td>845128                </td> <td>344742         </td> <td>500385           </td>\n",
       "        </tr>\n",
       "        <tr>\n",
       "            <td>1997</td> <td>461675               </td> <td>64381.5                </td> <td>326194             </td> <td>52028.7              </td> <td>904279                </td> <td>378223         </td> <td>526056           </td>\n",
       "        </tr>\n",
       "        <tr>\n",
       "            <td>1998</td> <td>469013               </td> <td>66372.2                </td> <td>337045             </td> <td>58904.8              </td> <td>931335                </td> <td>395950         </td> <td>535386           </td>\n",
       "        </tr>\n",
       "        <tr>\n",
       "            <td>1999</td> <td>463570               </td> <td>63054.8                </td> <td>316691             </td> <td>54883.7              </td> <td>898199                </td> <td>371575         </td> <td>526624           </td>\n",
       "        </tr>\n",
       "    </tbody>\n",
       "</table>\n",
       "<p>... (19 rows omitted)</p>"
      ],
      "text/plain": [
       "<IPython.core.display.HTML object>"
      ]
     },
     "metadata": {},
     "output_type": "display_data"
    }
   ],
   "source": [
    "data_year = data_year.with_column(\"Total Sentenced\", sentenced_all)\n",
    "data_year = data_year.with_column(\"Total Unsentenced\", unsentenced_all)\n",
    "\n",
    "data_year.show(5)"
   ]
  },
  {
   "cell_type": "markdown",
   "metadata": {
    "tags": [
     "ignore"
    ]
   },
   "source": [
    "---\n",
    "Now we can explore the data as **percentages**. Our end goal here will be to plot percent ADP over time."
   ]
  },
  {
   "cell_type": "markdown",
   "metadata": {},
   "source": [
    "<div class=\"alert alert-block alert-info\">\n",
    "<b>Question ___:</b> Why might we want to look at percentages here instead of counts?\n",
    "</div>"
   ]
  },
  {
   "cell_type": "markdown",
   "metadata": {},
   "source": [
    "*Replace this text with your answer*"
   ]
  },
  {
   "cell_type": "markdown",
   "metadata": {},
   "source": [
    "To get the percentages, we can get our total using the column `Total facility ADP sum` and then divide the total sentenced and total unsentenced by this value. "
   ]
  },
  {
   "cell_type": "code",
   "execution_count": 33,
   "metadata": {
    "tags": [
     "ignore"
    ]
   },
   "outputs": [],
   "source": [
    "total_adp = data_year.column(\"Total facility ADP sum\")\n",
    "\n",
    "sent_percent = sentenced_all / total_adp * 100\n",
    "unsent_percent = unsentenced_all / total_adp * 100"
   ]
  },
  {
   "cell_type": "markdown",
   "metadata": {
    "tags": [
     "ignore"
    ]
   },
   "source": [
    "Now that we have our percentages, let's repeat the same process as before to add these new percentage values to our `data_year` table. We can also ultimately select the relevant columns that we want to plot percent ADP over time."
   ]
  },
  {
   "cell_type": "code",
   "execution_count": 34,
   "metadata": {
    "tags": [
     "ignore"
    ]
   },
   "outputs": [
    {
     "data": {
      "text/html": [
       "<table border=\"1\" class=\"dataframe\">\n",
       "    <thead>\n",
       "        <tr>\n",
       "            <th>Year</th> <th>Total Sentenced Percent</th> <th>Total Unsentenced Percent</th>\n",
       "        </tr>\n",
       "    </thead>\n",
       "    <tbody>\n",
       "        <tr>\n",
       "            <td>1995</td> <td>40.4529                </td> <td>59.6207                  </td>\n",
       "        </tr>\n",
       "        <tr>\n",
       "            <td>1996</td> <td>40.7917                </td> <td>59.2083                  </td>\n",
       "        </tr>\n",
       "        <tr>\n",
       "            <td>1997</td> <td>41.8259                </td> <td>58.1741                  </td>\n",
       "        </tr>\n",
       "        <tr>\n",
       "            <td>1998</td> <td>42.5142                </td> <td>57.4858                  </td>\n",
       "        </tr>\n",
       "        <tr>\n",
       "            <td>1999</td> <td>41.3689                </td> <td>58.6311                  </td>\n",
       "        </tr>\n",
       "        <tr>\n",
       "            <td>2000</td> <td>39.6463                </td> <td>60.3537                  </td>\n",
       "        </tr>\n",
       "        <tr>\n",
       "            <td>2001</td> <td>38.3581                </td> <td>61.642                   </td>\n",
       "        </tr>\n",
       "        <tr>\n",
       "            <td>2002</td> <td>37.3311                </td> <td>62.669                   </td>\n",
       "        </tr>\n",
       "        <tr>\n",
       "            <td>2003</td> <td>34.7304                </td> <td>65.2696                  </td>\n",
       "        </tr>\n",
       "        <tr>\n",
       "            <td>2004</td> <td>34.0513                </td> <td>65.9487                  </td>\n",
       "        </tr>\n",
       "    </tbody>\n",
       "</table>\n",
       "<p>... (14 rows omitted)</p>"
      ],
      "text/plain": [
       "Year | Total Sentenced Percent | Total Unsentenced Percent\n",
       "1995 | 40.4529                 | 59.6207\n",
       "1996 | 40.7917                 | 59.2083\n",
       "1997 | 41.8259                 | 58.1741\n",
       "1998 | 42.5142                 | 57.4858\n",
       "1999 | 41.3689                 | 58.6311\n",
       "2000 | 39.6463                 | 60.3537\n",
       "2001 | 38.3581                 | 61.642\n",
       "2002 | 37.3311                 | 62.669\n",
       "2003 | 34.7304                 | 65.2696\n",
       "2004 | 34.0513                 | 65.9487\n",
       "... (14 rows omitted)"
      ]
     },
     "execution_count": 34,
     "metadata": {},
     "output_type": "execute_result"
    }
   ],
   "source": [
    "data_year = data_year.with_column(\"Total Sentenced Percent\", sent_percent)\n",
    "data_year = data_year.with_column(\"Total Unsentenced Percent\", unsent_percent)\n",
    "\n",
    "percent_totals = data_year.select(\"Year\", \"Total Sentenced Percent\", \"Total Unsentenced Percent\")\n",
    "percent_totals"
   ]
  },
  {
   "cell_type": "markdown",
   "metadata": {},
   "source": [
    "To see specific years in the jails, let's focus on the years 2011 and 2014 again and how their total sentenced and unsentenced percentages compare over time.\n",
    "\n",
    "First, let's start off by getting the data in the years 2011 and 2014 using `where()` and specifying the years we want, and assigning it to the variables `data2011` and `data2014`."
   ]
  },
  {
   "cell_type": "code",
   "execution_count": 43,
   "metadata": {
    "tags": [
     "ignore"
    ]
   },
   "outputs": [],
   "source": [
    "data2011 = percent_totals.where(\"Year\", 2011)\n",
    "data2014 = percent_totals.where(\"Year\", 2014)"
   ]
  },
  {
   "cell_type": "markdown",
   "metadata": {},
   "source": [
    "To get a plot of these two datapoints, we will need the actual x and y coordinates for each of these years. Specifically, in `data2011`, we want `x_coordinate2011` to be the year 2011 and `y_coordinate2011` to be the `Percent` of total sentenced & unsentenced percentages for 2011; this is in order to achieve the goal of seeing the sentenced & unsentenced percentages visually in comparison to time. Recall that the red dots of these coordinates will be showing up in these graphs to mark 2011 and 2014 among the trends of the percentage change over time."
   ]
  },
  {
   "cell_type": "code",
   "execution_count": 44,
   "metadata": {
    "tags": [
     "include"
    ]
   },
   "outputs": [
    {
     "data": {
      "image/png": "[encoded data removed]",
      "text/plain": [
       "<Figure size 432x432 with 1 Axes>"
      ]
     },
     "metadata": {},
     "output_type": "display_data"
    }
   ],
   "source": [
    "x_coordinate2011 = data2011.column('Year')\n",
    "y_coordinate2011 = data2011.column(\"Total Sentenced Percent\")\n",
    "y_coordinate2011_un = data2011.column(\"Total Unsentenced Percent\")\n",
    "\n",
    "x_coordinate2014 = data2014.column(\"Year\")\n",
    "y_coordinate2014 = data2014.column(\"Total Sentenced Percent\")\n",
    "y_coordinate2014_un = data2014.column(\"Total Unsentenced Percent\")\n",
    "\n",
    "percent_totals.plot(\"Year\")\n",
    "plt.title(\"Total Sentenced Percent vs Total Unsentenced Percent\")\n",
    "plt.xlabel(\"Year\")\n",
    "plt.ylabel(\"Percent of People\")\n",
    "\n",
    "plt.plot(x_coordinate2011, y_coordinate2011, 'ro')\n",
    "plt.plot(x_coordinate2014, y_coordinate2014, 'ro')\n",
    "plt.plot(x_coordinate2011, y_coordinate2011_un, 'ro')\n",
    "plt.plot(x_coordinate2014, y_coordinate2014_un, 'ro');"
   ]
  },
  {
   "cell_type": "markdown",
   "metadata": {
    "tags": [
     "include"
    ]
   },
   "source": [
    "<!-- BEGIN QUESTION -->\n",
    "\n",
    "<div class=\"alert alert-block alert-info\">\n",
    "<b>Question __:</b> What are the differences between these two trends? What might be a possible explanation for such trends? How do the years 2011 and 2014 compare to each other between the different categories?\n",
    "</div>\n",
    "\n",
    "<!--\n",
    "BEGIN QUESTION\n",
    "name: q41a\n",
    "points: 1\n",
    "manual: true\n",
    "-->"
   ]
  },
  {
   "cell_type": "markdown",
   "metadata": {
    "tag": "include",
    "tags": [
     "include"
    ]
   },
   "source": [
    "*Replace this text with your answer*"
   ]
  },
  {
   "cell_type": "markdown",
   "metadata": {
    "tags": [
     "ignore"
    ]
   },
   "source": [
    "<!-- END QUESTION -->\n",
    "\n",
    "### Section 4.2: Gender Division\n",
    "\n",
    "#### Sentenced vs. Unsentenced Across Gender\n",
    "\n",
    "We just looked at the total number of people who were sentenced and the total number of people who were unsentenced by year. Next, let's look at just the number of **males who were sentenced vs the number of males who were unsentenced**. Let's start by selecting the relevant columns that we are going to use for our analysis.\n",
    "\n",
    "Again, let's look at the **percentage** of males from the total ADP count.\n",
    "\n",
    "We have found and plotted the counts of males but let's try finding the **percentage** of males from the total ADP count. Start by getting the sum of the sentenced males column, the sum of the unsentenced males column, and then dividing both of these columns by the total ADP.\n",
    "\n",
    "Let's add these new percentage columns to our male table and then select the appropriate columns for plotting."
   ]
  },
  {
   "cell_type": "markdown",
   "metadata": {},
   "source": [
    "First, let's select the relevant columns from our larger dataset `data_year` and assign it to `males`."
   ]
  },
  {
   "cell_type": "code",
   "execution_count": 38,
   "metadata": {},
   "outputs": [
    {
     "data": {
      "text/html": [
       "<table border=\"1\" class=\"dataframe\">\n",
       "    <thead>\n",
       "        <tr>\n",
       "            <th>Year</th> <th>Sentenced males sum</th> <th>Unsentenced males sum</th>\n",
       "        </tr>\n",
       "    </thead>\n",
       "    <tbody>\n",
       "        <tr>\n",
       "            <td>1995</td> <td>73436.1            </td> <td>111311               </td>\n",
       "        </tr>\n",
       "        <tr>\n",
       "            <td>1996</td> <td>300297             </td> <td>444830               </td>\n",
       "        </tr>\n",
       "        <tr>\n",
       "            <td>1997</td> <td>326194             </td> <td>461675               </td>\n",
       "        </tr>\n",
       "        <tr>\n",
       "            <td>1998</td> <td>337045             </td> <td>469013               </td>\n",
       "        </tr>\n",
       "        <tr>\n",
       "            <td>1999</td> <td>316691             </td> <td>463570               </td>\n",
       "        </tr>\n",
       "        <tr>\n",
       "            <td>2000</td> <td>299154             </td> <td>467164               </td>\n",
       "        </tr>\n",
       "        <tr>\n",
       "            <td>2001</td> <td>286330             </td> <td>472090               </td>\n",
       "        </tr>\n",
       "        <tr>\n",
       "            <td>2002</td> <td>290729             </td> <td>498173               </td>\n",
       "        </tr>\n",
       "        <tr>\n",
       "            <td>2003</td> <td>270378             </td> <td>518199               </td>\n",
       "        </tr>\n",
       "        <tr>\n",
       "            <td>2004</td> <td>270068             </td> <td>533929               </td>\n",
       "        </tr>\n",
       "    </tbody>\n",
       "</table>\n",
       "<p>... (14 rows omitted)</p>"
      ],
      "text/plain": [
       "Year | Sentenced males sum | Unsentenced males sum\n",
       "1995 | 73436.1             | 111311\n",
       "1996 | 300297              | 444830\n",
       "1997 | 326194              | 461675\n",
       "1998 | 337045              | 469013\n",
       "1999 | 316691              | 463570\n",
       "2000 | 299154              | 467164\n",
       "2001 | 286330              | 472090\n",
       "2002 | 290729              | 498173\n",
       "2003 | 270378              | 518199\n",
       "2004 | 270068              | 533929\n",
       "... (14 rows omitted)"
      ]
     },
     "execution_count": 38,
     "metadata": {},
     "output_type": "execute_result"
    }
   ],
   "source": [
    "males = data_year.select(\"Year\", \"Sentenced males sum\", \"Unsentenced males sum\")\n",
    "males"
   ]
  },
  {
   "cell_type": "markdown",
   "metadata": {},
   "source": [
    "To get the percentage as we were describing, let's first look at the sentenced and unsentenced males by selecting the columns and assigning them to `male_sent` and `male_unsent`, respectively. Then, we will find the percentages of each group by dividing these columns by the total and multiplying by 100, which will then be assigned to `m_sent_percent` and `m_unsent_percent`."
   ]
  },
  {
   "cell_type": "code",
   "execution_count": 39,
   "metadata": {},
   "outputs": [],
   "source": [
    "male_sent = males.column(\"Sentenced males sum\")\n",
    "male_unsent = males.column(\"Unsentenced males sum\")\n",
    "\n",
    "m_sent_percent = male_sent / total_adp * 100\n",
    "m_unsent_percent = male_unsent / total_adp * 100"
   ]
  },
  {
   "cell_type": "markdown",
   "metadata": {},
   "source": [
    "Lastly, we can add these percentages (for sentenced and unsentenced males) to our `males` dataset. We will then also look specifically at the totals with the `select()` function."
   ]
  },
  {
   "cell_type": "code",
   "execution_count": 40,
   "metadata": {
    "tags": [
     "ignore"
    ]
   },
   "outputs": [
    {
     "data": {
      "text/html": [
       "<table border=\"1\" class=\"dataframe\">\n",
       "    <thead>\n",
       "        <tr>\n",
       "            <th>Year</th> <th>Total Male Sentenced Percent</th> <th>Total Male Unsentenced Percent</th>\n",
       "        </tr>\n",
       "    </thead>\n",
       "    <tbody>\n",
       "        <tr>\n",
       "            <td>1995</td> <td>35.099                      </td> <td>53.2016                       </td>\n",
       "        </tr>\n",
       "        <tr>\n",
       "            <td>1996</td> <td>35.5328                     </td> <td>52.6346                       </td>\n",
       "        </tr>\n",
       "        <tr>\n",
       "            <td>1997</td> <td>36.0723                     </td> <td>51.0544                       </td>\n",
       "        </tr>\n",
       "        <tr>\n",
       "            <td>1998</td> <td>36.1894                     </td> <td>50.3593                       </td>\n",
       "        </tr>\n",
       "        <tr>\n",
       "            <td>1999</td> <td>35.2584                     </td> <td>51.611                        </td>\n",
       "        </tr>\n",
       "        <tr>\n",
       "            <td>2000</td> <td>33.9134                     </td> <td>52.9598                       </td>\n",
       "        </tr>\n",
       "        <tr>\n",
       "            <td>2001</td> <td>32.9984                     </td> <td>54.4064                       </td>\n",
       "        </tr>\n",
       "        <tr>\n",
       "            <td>2002</td> <td>32.2428                     </td> <td>55.249                        </td>\n",
       "        </tr>\n",
       "        <tr>\n",
       "            <td>2003</td> <td>29.9154                     </td> <td>57.3349                       </td>\n",
       "        </tr>\n",
       "        <tr>\n",
       "            <td>2004</td> <td>29.2501                     </td> <td>57.828                        </td>\n",
       "        </tr>\n",
       "    </tbody>\n",
       "</table>\n",
       "<p>... (14 rows omitted)</p>"
      ],
      "text/plain": [
       "Year | Total Male Sentenced Percent | Total Male Unsentenced Percent\n",
       "1995 | 35.099                       | 53.2016\n",
       "1996 | 35.5328                      | 52.6346\n",
       "1997 | 36.0723                      | 51.0544\n",
       "1998 | 36.1894                      | 50.3593\n",
       "1999 | 35.2584                      | 51.611\n",
       "2000 | 33.9134                      | 52.9598\n",
       "2001 | 32.9984                      | 54.4064\n",
       "2002 | 32.2428                      | 55.249\n",
       "2003 | 29.9154                      | 57.3349\n",
       "2004 | 29.2501                      | 57.828\n",
       "... (14 rows omitted)"
      ]
     },
     "execution_count": 40,
     "metadata": {},
     "output_type": "execute_result"
    }
   ],
   "source": [
    "males = males.with_column(\"Total Male Sentenced Percent\", m_sent_percent)\n",
    "males = males.with_column(\"Total Male Unsentenced Percent\", m_unsent_percent)\n",
    "m_percent_totals = males.select(\"Year\", \"Total Male Sentenced Percent\", \"Total Male Unsentenced Percent\")\n",
    "\n",
    "m_percent_totals"
   ]
  },
  {
   "cell_type": "markdown",
   "metadata": {},
   "source": [
    "Now we'll plot the **percentage** of males who were sentenced vs the percentage of males who were unsentenced. Since we walked through this process previously (for the totals graph), we put all this code in one cell; but there is a brief one sentence description before each part to illustrate the process."
   ]
  },
  {
   "cell_type": "code",
   "execution_count": 41,
   "metadata": {
    "tags": [
     "include"
    ]
   },
   "outputs": [
    {
     "data": {
      "image/png": "[encoded data removed]",
      "text/plain": [
       "<Figure size 432x432 with 1 Axes>"
      ]
     },
     "metadata": {},
     "output_type": "display_data"
    }
   ],
   "source": [
    "# Filtering data for just 2011 and 2014\n",
    "data2011 = m_percent_totals.where(\"Year\", 2011)\n",
    "data2014 = m_percent_totals.where(\"Year\", 2014)\n",
    "\n",
    "# Create x and y coordinates for 2011\n",
    "x_coordinate2011 = data2011.column('Year')\n",
    "y_coordinate2011 = data2011.column(\"Total Male Sentenced Percent\")\n",
    "y_coordinate2011_un = data2011.column(\"Total Male Unsentenced Percent\")\n",
    "\n",
    "# Create x and y coordinates for 2014\n",
    "x_coordinate2014 = data2014.column('Year')\n",
    "y_coordinate2014 = data2014.column(\"Total Male Sentenced Percent\")\n",
    "y_coordinate2014_un = data2014.column(\"Total Male Unsentenced Percent\")\n",
    "\n",
    "# Base plot creation\n",
    "m_percent_totals.plot(\"Year\")\n",
    "\n",
    "plt.title(\"Total Sentenced vs Total Unsentenced Percents (Males)\")\n",
    "plt.xlabel(\"Year\")\n",
    "plt.ylabel(\"Percent of Males\")\n",
    "\n",
    "# Adding our points\n",
    "plt.plot(x_coordinate2011, y_coordinate2011, 'ro')\n",
    "plt.plot(x_coordinate2014, y_coordinate2014, 'ro')\n",
    "plt.plot(x_coordinate2011, y_coordinate2011_un, 'ro')\n",
    "plt.plot(x_coordinate2014, y_coordinate2014_un, 'ro');"
   ]
  },
  {
   "cell_type": "markdown",
   "metadata": {
    "tags": [
     "ignore"
    ]
   },
   "source": [
    "#### Females: Sentenced vs. Unsentenced\n",
    "\n",
    "Above we analyzed just the males that were sentenced and unsentenced. Because the process is exactly similar, we have included the image of the resulting plot, which plots the relationship between the percentages of sentenced females and unsentenced females. \n",
    "\n",
    "<img src=\"./data/42plot.png\" alt=\"Percent Sentenced vs. Total Unsentenced Percents (Females)\" style=\"width: 800px;\"/>"
   ]
  },
  {
   "cell_type": "markdown",
   "metadata": {},
   "source": [
    "<div class=\"alert alert-block alert-info\">\n",
    "<b>Question __:</b> Notice here that we ommitted the code for this graph. If we had asked you to make this graph yourself, how would you have used the code we already used for the sentenced and unsentenced males section to create this graph?\n",
    "</div>"
   ]
  },
  {
   "cell_type": "markdown",
   "metadata": {},
   "source": [
    "*Replace this text with your answer*"
   ]
  },
  {
   "cell_type": "markdown",
   "metadata": {
    "tags": [
     "include"
    ]
   },
   "source": [
    "<!-- BEGIN QUESTION -->\n",
    "\n",
    "<div class=\"alert alert-block alert-info\">\n",
    "<b>Question __:</b> Compare the totals plot (completed in section 4.1) to this graph, which focuses on females. What kind of story does this plot reveal?\n",
    "</div>\n",
    "\n",
    "<!--\n",
    "BEGIN QUESTION\n",
    "name: q42a\n",
    "points: 1\n",
    "manual: true\n",
    "-->"
   ]
  },
  {
   "cell_type": "markdown",
   "metadata": {
    "tags": [
     "include"
    ]
   },
   "source": [
    "*Replace this text with your answer*"
   ]
  },
  {
   "cell_type": "markdown",
   "metadata": {
    "tags": [
     "include"
    ]
   },
   "source": [
    "<!-- END QUESTION -->\n",
    "\n",
    "<!-- BEGIN QUESTION -->\n",
    "<div class=\"alert alert-block alert-info\">\n",
    "<b>Question __:</b> Given the below graph (which focuses on prisons), compare your final results of the graphs we have created in this section to the ones presented here. What story do these two data sets (Prisons and Jails) tell you when you look at both of them? Specifically: how do they show the impact of realignment? How are they similar and/or different in terms of trends?\n",
    "</div>\n",
    "\n",
    "<!--\n",
    "BEGIN QUESTION\n",
    "name: q42b\n",
    "points: 1\n",
    "manual: true\n",
    "-->\n",
    "\n",
    "<img src='./data/lecture1_finalgraph.png'>"
   ]
  },
  {
   "cell_type": "markdown",
   "metadata": {
    "tags": [
     "include"
    ]
   },
   "source": [
    "*Replace this text with your answer*"
   ]
  },
  {
   "cell_type": "markdown",
   "metadata": {},
   "source": [
    "<!-- END QUESTION -->\n",
    "<!-- BEGIN QUESTION -->\n",
    "\n",
    "<div class=\"alert alert-block alert-info\">\n",
    "<b>Labor Question:</b> How much time did you spend completing this module? Did you find outside resources that helped you? if so what were they?\n",
    "</div>\n",
    "\n",
    "\n",
    "<!--\n",
    "BEGIN QUESTION\n",
    "name: QL\n",
    "points: 1\n",
    "manual: true\n",
    "-->\n"
   ]
  },
  {
   "cell_type": "markdown",
   "metadata": {},
   "source": [
    "*Replace this text with your answer*"
   ]
  },
  {
   "cell_type": "markdown",
   "metadata": {},
   "source": [
    "<!-- END QUESTION -->\n",
    "\n",
    "#### Feedback Survey\n",
    "Please fill out this [survey](https://docs.google.com/forms/d/e/1FAIpQLScd1q8VqvOMuVvLfhbVswckYKg1HFVwVu_bTF5NWbVZr4qWhw/viewform?usp=sf_link) to help us improve this module."
   ]
  },
  {
   "cell_type": "code",
   "execution_count": null,
   "metadata": {},
   "outputs": [],
   "source": [
    "# Save your notebook first, then go to `Kernel` > `Restart and Run All Cells`\n",
    "# Download the zip file, which contains a copy of your notebook and your written responses.\n",
    "generator.export(\"notebook3.ipynb\")"
   ]
  },
  {
   "cell_type": "code",
   "execution_count": null,
   "metadata": {},
   "outputs": [],
   "source": []
  }
 ],
 "metadata": {
  "kernelspec": {
   "display_name": "Python 3",
   "language": "python",
   "name": "python3"
  },
  "language_info": {
   "codemirror_mode": {
    "name": "ipython",
    "version": 3
   },
   "file_extension": ".py",
   "mimetype": "text/x-python",
   "name": "python",
   "nbconvert_exporter": "python",
   "pygments_lexer": "ipython3",
   "version": "3.8.8"
  }
 },
 "nbformat": 4,
 "nbformat_minor": 4
}
