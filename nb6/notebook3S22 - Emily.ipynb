{
 "cells": [
  {
   "cell_type": "markdown",
   "metadata": {},
   "source": [
    "# [Global 88]: Prisons and Jails\n",
    "\n",
    "----\n",
    "\n",
    "### Professor: Karenjot Bhangoo Randhawa  \n",
    "**Estimated Time:** 50 - 60 minutes  \n",
    "**Notebook Created By:** Jason Jiang, Karalyn Chong, Sandra Zavala, Janet Torres, Jacob Spertus  \n",
    "**Notebook Adapted By:** Manaar Salama, Emily Guo, Bella Chang, Carlos Calderon  \n",
    "**Code Maintenance:** Carlos Calderon \n",
    "\n",
    "The goal of this project is for you to get a feel how the data science lifecycle would flow if we were interested in fiding incarceration trends and impacts of prison realignment in California.\n",
    "\n",
    "### Learning Outcomes:\n",
    "After completing this notebook, you will learn about:\n",
    "- The impact of realignment in prisons and county jails in California\n",
    "- Kneading and preparing data for visualization and analysis\n",
    "- Plotting multiple variables in a time series\n",
    "- Comparative analysis between different groups within a data set\n",
    "\n",
    "---\n",
    "\n",
    "### Table of Contents\n",
    "\n",
    "\n",
    "0. [Context](#sectioncontext)<br>\n",
    "1. [Prisons](#section1)<br>\n",
    "2. [Data Analysis](#section2)<br>\n",
    "    1. [Designed & Staffed Capacity](#subsection21)<br>\n",
    "    2. [Gender Division](#subsection22)<br>\n",
    "3. [Jails](#jailssection)<br>\n",
    "4. [Data Analysis](#section4)<br>\n",
    "    1. [Sentenced & Unsentenced](#section41)<br>\n",
    "    2. [Gender Division](#section42)<br>"
   ]
  },
  {
   "cell_type": "markdown",
   "metadata": {},
   "source": [
    "# Importing Packages   \n",
    "\n",
    "<div class=\"alert alert-block alert-warning\">\n",
    "<b>Make sure to run this cell FIRST! Not doing so may result in pesky errors in the code.</b>\n",
    "</div>"
   ]
  },
  {
   "cell_type": "code",
   "execution_count": 1,
   "metadata": {
    "tags": [
     "ignore"
    ]
   },
   "outputs": [],
   "source": [
    "# This loads tools from the datascience library\n",
    "from datascience import * \n",
    "# Loads numerical methods\n",
    "import numpy as np \n",
    "\n",
    "# This loads some visualization tools\n",
    "import matplotlib  \n",
    "%matplotlib inline\n",
    "import matplotlib.pyplot as plt\n",
    "# This selects a certain 'style' for our graphs\n",
    "plt.style.use('fivethirtyeight') \n",
    "\n",
    "# Loads a widgets library that will allow for interactive learning\n",
    "import ipywidgets as widgets "
   ]
  },
  {
   "cell_type": "markdown",
   "metadata": {
    "tags": [
     "ignore"
    ]
   },
   "source": [
    "## Context <a id='sectioncontext'></a>\n",
    "\n",
    "In lecture, we have learned about the policies of realignment, incarceration, and crime trends in the United States. By exploring this dataset we hope to get a clearer picture of the magnitude of prison and county jail overcrowding in California per facility and region, and the effects of realignment policies in state prisons and county jails.\n",
    "\n",
    "The key difference between state prisons and jails involve the process of sentencing. Prisons are designed for long term sentences, while jails are for those who are unsentenced or have short term sentences. It is important to note that short-term sentences are generally one year or less. Another difference is that prisons are larger and controlled at the state level. In contrast, jails are smaller and handled by a city or county.\n",
    "\n",
    "The relationship between the two institutions is emphasized by mass incarceration. Through this notebook, we will analyze how overcrowding within California’s state prisons influenced the size of jail populations after realignment policies were implemented.\n",
    "\n",
    "----"
   ]
  },
  {
   "cell_type": "markdown",
   "metadata": {
    "tags": [
     "ignore"
    ]
   },
   "source": [
    "# 1: Prisons <a id='section1'></a>\n",
    "## The Data and the Research Question\n",
    "\n",
    "We will first use data from the CDCR (California Department of Corrections and Rehabilitation).\n",
    "\n",
    "In this dataset, the CDCR reports the number of people in state prisons across California from 1996 to 2018. You will find information about the capacity (staff & design) of each prison and the current population. This provides a framework with which to understand prison overcrowding and the effectiveness of policy to reduce it. \n",
    "If you are interested in learning more please visit [CDCR data and information](https://github.com/nrjones8/cdcr-population-data).\n",
    "\n",
    "### Research Question\n",
    "<div class=\"alert alert-block alert-danger\">\n",
    "For the remainder of this notebook, we will work on finding more guidance to the question: <b>How does the capacity in California prisons and jails compare to the actual population contained within them? How are women and men affected differently? </b>\n",
    "</div>"
   ]
  },
  {
   "cell_type": "markdown",
   "metadata": {
    "tags": [
     "ignore"
    ]
   },
   "source": [
    "#### Data Dictionary\n",
    "Below is a data dictionary for future reference. This data dictionary goes over what the column names mean in the data loaded.\n",
    "\n",
    "|Column Name   | Description |\n",
    "|--------------|---------|\n",
    "|year |Year that the data was collected  |\n",
    "|month | Month that the data was collected |\n",
    "|institution_name |  Abbreviated Name of the State Prison|\n",
    "|population_felons | People imprisoned for committing felony (serious or violent crime) |\n",
    "|civil_addict | People imprisoned for drug related offenses |\n",
    "|total_population | Sum of civil addict and population felons columns|\n",
    "|designed_capacity | Max number of people the prison was built to hold|\n",
    "|percent_occupied | Percentage of people incarcerated out of designed capacity|\n",
    "|staffed_capacity | Max number of people the prison can hold based on the number of people employed|\n",
    "\n",
    "Let's take a look at the data. We'll sort it by year with the oldest years at the top."
   ]
  },
  {
   "cell_type": "code",
   "execution_count": 2,
   "metadata": {
    "tags": [
     "ignore"
    ]
   },
   "outputs": [
    {
     "data": {
      "text/html": [
       "<table border=\"1\" class=\"dataframe\">\n",
       "    <thead>\n",
       "        <tr>\n",
       "            <th>Unnamed: 0</th> <th>year</th> <th>month</th> <th>institution_name</th> <th>population_felons</th> <th>civil_addict</th> <th>total_population</th> <th>designed_capacity</th> <th>percent_occupied</th> <th>staffed_capacity</th>\n",
       "        </tr>\n",
       "    </thead>\n",
       "    <tbody>\n",
       "        <tr>\n",
       "            <td>2         </td> <td>1996</td> <td>1    </td> <td>NCWF (NO CAL WOMEN'S FACIL)      </td> <td>786              </td> <td>4           </td> <td>790             </td> <td>400              </td> <td>197.5           </td> <td>760             </td>\n",
       "        </tr>\n",
       "        <tr>\n",
       "            <td>3         </td> <td>1996</td> <td>1    </td> <td>CCWF (CENTRAL CA WOMEN'S FAC)    </td> <td>2846             </td> <td>13          </td> <td>2859            </td> <td>2004             </td> <td>142.7           </td> <td>3224            </td>\n",
       "        </tr>\n",
       "        <tr>\n",
       "            <td>4         </td> <td>1996</td> <td>1    </td> <td>CRC (CAL REHAB CTR, WOMEN)       </td> <td>91               </td> <td>703         </td> <td>794             </td> <td>500              </td> <td>158.8           </td> <td>842             </td>\n",
       "        </tr>\n",
       "        <tr>\n",
       "            <td>5         </td> <td>1996</td> <td>1    </td> <td>CIW (CA INSTITUTION FOR WOMEN)   </td> <td>1690             </td> <td>36          </td> <td>1726            </td> <td>1026             </td> <td>168.2           </td> <td>1646            </td>\n",
       "        </tr>\n",
       "        <tr>\n",
       "            <td>6         </td> <td>1996</td> <td>1    </td> <td>WSP (WASCO SP)                   </td> <td>4475             </td> <td>62          </td> <td>4537            </td> <td>2484             </td> <td>182.6           </td> <td>4484            </td>\n",
       "        </tr>\n",
       "        <tr>\n",
       "            <td>8         </td> <td>1996</td> <td>1    </td> <td>SRTA (SANTA RITA CO. JAIL-RC)    </td> <td>811              </td> <td>nan         </td> <td>811             </td> <td>395              </td> <td>205.3           </td> <td>750             </td>\n",
       "        </tr>\n",
       "        <tr>\n",
       "            <td>9         </td> <td>1996</td> <td>1    </td> <td>RJD (RJ DONOVAN CORRECTIONAL FAC)</td> <td>4577             </td> <td>nan         </td> <td>4577            </td> <td>2200             </td> <td>208             </td> <td>4566            </td>\n",
       "        </tr>\n",
       "        <tr>\n",
       "            <td>10        </td> <td>1996</td> <td>1    </td> <td>PVSP (PLEASANT VALLEY SP)        </td> <td>4080             </td> <td>nan         </td> <td>4080            </td> <td>2208             </td> <td>184.8           </td> <td>4008            </td>\n",
       "        </tr>\n",
       "        <tr>\n",
       "            <td>11        </td> <td>1996</td> <td>1    </td> <td>PBSP (PELICAN BAY SP)            </td> <td>3509             </td> <td>1           </td> <td>3510            </td> <td>2280             </td> <td>153.9           </td> <td>3730            </td>\n",
       "        </tr>\n",
       "        <tr>\n",
       "            <td>12        </td> <td>1996</td> <td>1    </td> <td>NKSP (NORTH KERN SP)             </td> <td>4525             </td> <td>1           </td> <td>4526            </td> <td>2492             </td> <td>181.6           </td> <td>4472            </td>\n",
       "        </tr>\n",
       "    </tbody>\n",
       "</table>\n",
       "<p>... (9491 rows omitted)</p>"
      ],
      "text/plain": [
       "<IPython.core.display.HTML object>"
      ]
     },
     "metadata": {},
     "output_type": "display_data"
    }
   ],
   "source": [
    "prisons_updated = Table().read_table(\"./data/prisons3.csv\")\n",
    "prisons_updated.sort('year').show(10)"
   ]
  },
  {
   "cell_type": "markdown",
   "metadata": {},
   "source": [
    "Above, we can already see some issues with our data. First, we have a column, `Unnamed: 0`, that holds no valuable information. Let's remove that column. \n",
    "\n",
    "<div class=\"alert alert-info\">\n",
    "    <b> Question __</b> Use the <code>.drop</code> method to drop the unwanted column. \n",
    "</div>"
   ]
  },
  {
   "cell_type": "code",
   "execution_count": 3,
   "metadata": {},
   "outputs": [
    {
     "data": {
      "text/html": [
       "<table border=\"1\" class=\"dataframe\">\n",
       "    <thead>\n",
       "        <tr>\n",
       "            <th>year</th> <th>month</th> <th>institution_name</th> <th>population_felons</th> <th>civil_addict</th> <th>total_population</th> <th>designed_capacity</th> <th>percent_occupied</th> <th>staffed_capacity</th>\n",
       "        </tr>\n",
       "    </thead>\n",
       "    <tbody>\n",
       "        <tr>\n",
       "            <td>1996</td> <td>1    </td> <td>NCWF (NO CAL WOMEN'S FACIL)  </td> <td>786              </td> <td>4           </td> <td>790             </td> <td>400              </td> <td>197.5           </td> <td>760             </td>\n",
       "        </tr>\n",
       "        <tr>\n",
       "            <td>1996</td> <td>1    </td> <td>CCWF (CENTRAL CA WOMEN'S FAC)</td> <td>2846             </td> <td>13          </td> <td>2859            </td> <td>2004             </td> <td>142.7           </td> <td>3224            </td>\n",
       "        </tr>\n",
       "        <tr>\n",
       "            <td>1996</td> <td>1    </td> <td>CRC (CAL REHAB CTR, WOMEN)   </td> <td>91               </td> <td>703         </td> <td>794             </td> <td>500              </td> <td>158.8           </td> <td>842             </td>\n",
       "        </tr>\n",
       "    </tbody>\n",
       "</table>\n",
       "<p>... (9498 rows omitted)</p>"
      ],
      "text/plain": [
       "<IPython.core.display.HTML object>"
      ]
     },
     "metadata": {},
     "output_type": "display_data"
    }
   ],
   "source": [
    "# ENTER CODE HERE\n",
    "prisons_updated = prisons_updated.drop(\"Unnamed: 0\") #How do we drop a column?\n",
    "prisons_updated.show(3)"
   ]
  },
  {
   "cell_type": "markdown",
   "metadata": {},
   "source": [
    "Now, we see that we also have some nan values in our data. Run the cell below to show which rows possess `nan` data. "
   ]
  },
  {
   "cell_type": "code",
   "execution_count": 4,
   "metadata": {},
   "outputs": [
    {
     "data": {
      "text/html": [
       "<table border=\"1\" class=\"dataframe\">\n",
       "    <thead>\n",
       "        <tr>\n",
       "            <th>year</th> <th>month</th> <th>institution_name</th> <th>population_felons</th> <th>civil_addict</th> <th>total_population</th> <th>designed_capacity</th> <th>percent_occupied</th> <th>staffed_capacity</th>\n",
       "        </tr>\n",
       "    </thead>\n",
       "    <tbody>\n",
       "        <tr>\n",
       "            <td>1996</td> <td>1    </td> <td>SRTA (SANTA RITA CO. JAIL-RC)    </td> <td>811              </td> <td>nan         </td> <td>811             </td> <td>395              </td> <td>205.3           </td> <td>750             </td>\n",
       "        </tr>\n",
       "        <tr>\n",
       "            <td>1996</td> <td>1    </td> <td>RJD (RJ DONOVAN CORRECTIONAL FAC)</td> <td>4577             </td> <td>nan         </td> <td>4577            </td> <td>2200             </td> <td>208             </td> <td>4566            </td>\n",
       "        </tr>\n",
       "        <tr>\n",
       "            <td>1996</td> <td>1    </td> <td>PVSP (PLEASANT VALLEY SP)        </td> <td>4080             </td> <td>nan         </td> <td>4080            </td> <td>2208             </td> <td>184.8           </td> <td>4008            </td>\n",
       "        </tr>\n",
       "        <tr>\n",
       "            <td>1996</td> <td>1    </td> <td>MCSP (MULE CREEK SP)             </td> <td>3530             </td> <td>nan         </td> <td>3530            </td> <td>1700             </td> <td>207.6           </td> <td>3562            </td>\n",
       "        </tr>\n",
       "        <tr>\n",
       "            <td>1996</td> <td>1    </td> <td>ISP (IRONWOOD SP)                </td> <td>3874             </td> <td>nan         </td> <td>3874            </td> <td>2200             </td> <td>176.1           </td> <td>4000            </td>\n",
       "        </tr>\n",
       "        <tr>\n",
       "            <td>1996</td> <td>1    </td> <td>HDSP (HIGH DESERT SP)            </td> <td>2364             </td> <td>nan         </td> <td>2364            </td> <td>1712             </td> <td>138.1           </td> <td>2224            </td>\n",
       "        </tr>\n",
       "        <tr>\n",
       "            <td>1996</td> <td>1    </td> <td>FOL (FOLSOM SP) (MALE)           </td> <td>3757             </td> <td>nan         </td> <td>3757            </td> <td>2064             </td> <td>182             </td> <td>3710            </td>\n",
       "        </tr>\n",
       "        <tr>\n",
       "            <td>1996</td> <td>1    </td> <td>CVSP (CHUCKAWALLA VALLEY SP)     </td> <td>3514             </td> <td>nan         </td> <td>3514            </td> <td>1738             </td> <td>202.2           </td> <td>3579            </td>\n",
       "        </tr>\n",
       "        <tr>\n",
       "            <td>1996</td> <td>1    </td> <td>SOL (CA SP, SOLANO)              </td> <td>4720             </td> <td>nan         </td> <td>4720            </td> <td>2110             </td> <td>223.7           </td> <td>4777            </td>\n",
       "        </tr>\n",
       "        <tr>\n",
       "            <td>1996</td> <td>1    </td> <td>SAC (CA SP, SACRAMENTO)          </td> <td>3147             </td> <td>nan         </td> <td>3147            </td> <td>1728             </td> <td>182.1           </td> <td>3204            </td>\n",
       "        </tr>\n",
       "    </tbody>\n",
       "</table>\n",
       "<p>... (6615 rows omitted)</p>"
      ],
      "text/plain": [
       "year | month | institution_name                  | population_felons | civil_addict | total_population | designed_capacity | percent_occupied | staffed_capacity\n",
       "1996 | 1     | SRTA (SANTA RITA CO. JAIL-RC)     | 811               | nan          | 811              | 395               | 205.3            | 750\n",
       "1996 | 1     | RJD (RJ DONOVAN CORRECTIONAL FAC) | 4577              | nan          | 4577             | 2200              | 208              | 4566\n",
       "1996 | 1     | PVSP (PLEASANT VALLEY SP)         | 4080              | nan          | 4080             | 2208              | 184.8            | 4008\n",
       "1996 | 1     | MCSP (MULE CREEK SP)              | 3530              | nan          | 3530             | 1700              | 207.6            | 3562\n",
       "1996 | 1     | ISP (IRONWOOD SP)                 | 3874              | nan          | 3874             | 2200              | 176.1            | 4000\n",
       "1996 | 1     | HDSP (HIGH DESERT SP)             | 2364              | nan          | 2364             | 1712              | 138.1            | 2224\n",
       "1996 | 1     | FOL (FOLSOM SP) (MALE)            | 3757              | nan          | 3757             | 2064              | 182              | 3710\n",
       "1996 | 1     | CVSP (CHUCKAWALLA VALLEY SP)      | 3514              | nan          | 3514             | 1738              | 202.2            | 3579\n",
       "1996 | 1     | SOL (CA SP, SOLANO)               | 4720              | nan          | 4720             | 2110              | 223.7            | 4777\n",
       "1996 | 1     | SAC (CA SP, SACRAMENTO)           | 3147              | nan          | 3147             | 1728              | 182.1            | 3204\n",
       "... (6615 rows omitted)"
      ]
     },
     "execution_count": 4,
     "metadata": {},
     "output_type": "execute_result"
    }
   ],
   "source": [
    "prisons_updated.where(\"civil_addict\", are.not_contained_in(np.arange(0, 4000)))"
   ]
  },
  {
   "cell_type": "markdown",
   "metadata": {},
   "source": [
    "Because the column `civil_addict` represents **counts** of individuals, a `nan` value shows us that there are 0 individuals that fall under this category. This is different from the previous notebook, where a we had `nan` values in columns that represented **characteristics** of an individual. Recall that in the previous notebook, the best way to deal with the `nan` data was simply to leave it as is. In this case, because the `nan` values represent a count of 0, we can replace all of these `nan` values with 0, essentially leaving the information unchanged but cleaning the data to be more easy to deal with.   "
   ]
  },
  {
   "cell_type": "code",
   "execution_count": 5,
   "metadata": {},
   "outputs": [
    {
     "data": {
      "text/html": [
       "<table border=\"1\" class=\"dataframe\">\n",
       "    <thead>\n",
       "        <tr>\n",
       "            <th>year</th> <th>month</th> <th>institution_name</th> <th>population_felons</th> <th>civil_addict</th> <th>total_population</th> <th>designed_capacity</th> <th>percent_occupied</th> <th>staffed_capacity</th>\n",
       "        </tr>\n",
       "    </thead>\n",
       "    <tbody>\n",
       "        <tr>\n",
       "            <td>1996</td> <td>1    </td> <td>NCWF (NO CAL WOMEN'S FACIL)      </td> <td>786              </td> <td>4           </td> <td>790             </td> <td>400              </td> <td>197.5           </td> <td>760             </td>\n",
       "        </tr>\n",
       "        <tr>\n",
       "            <td>1996</td> <td>1    </td> <td>CCWF (CENTRAL CA WOMEN'S FAC)    </td> <td>2846             </td> <td>13          </td> <td>2859            </td> <td>2004             </td> <td>142.7           </td> <td>3224            </td>\n",
       "        </tr>\n",
       "        <tr>\n",
       "            <td>1996</td> <td>1    </td> <td>CRC (CAL REHAB CTR, WOMEN)       </td> <td>91               </td> <td>703         </td> <td>794             </td> <td>500              </td> <td>158.8           </td> <td>842             </td>\n",
       "        </tr>\n",
       "        <tr>\n",
       "            <td>1996</td> <td>1    </td> <td>CIW (CA INSTITUTION FOR WOMEN)   </td> <td>1690             </td> <td>36          </td> <td>1726            </td> <td>1026             </td> <td>168.2           </td> <td>1646            </td>\n",
       "        </tr>\n",
       "        <tr>\n",
       "            <td>1996</td> <td>1    </td> <td>WSP (WASCO SP)                   </td> <td>4475             </td> <td>62          </td> <td>4537            </td> <td>2484             </td> <td>182.6           </td> <td>4484            </td>\n",
       "        </tr>\n",
       "        <tr>\n",
       "            <td>1996</td> <td>1    </td> <td>SRTA (SANTA RITA CO. JAIL-RC)    </td> <td>811              </td> <td>0           </td> <td>811             </td> <td>395              </td> <td>205.3           </td> <td>750             </td>\n",
       "        </tr>\n",
       "        <tr>\n",
       "            <td>1996</td> <td>1    </td> <td>RJD (RJ DONOVAN CORRECTIONAL FAC)</td> <td>4577             </td> <td>0           </td> <td>4577            </td> <td>2200             </td> <td>208             </td> <td>4566            </td>\n",
       "        </tr>\n",
       "        <tr>\n",
       "            <td>1996</td> <td>1    </td> <td>PVSP (PLEASANT VALLEY SP)        </td> <td>4080             </td> <td>0           </td> <td>4080            </td> <td>2208             </td> <td>184.8           </td> <td>4008            </td>\n",
       "        </tr>\n",
       "        <tr>\n",
       "            <td>1996</td> <td>1    </td> <td>PBSP (PELICAN BAY SP)            </td> <td>3509             </td> <td>1           </td> <td>3510            </td> <td>2280             </td> <td>153.9           </td> <td>3730            </td>\n",
       "        </tr>\n",
       "        <tr>\n",
       "            <td>1996</td> <td>1    </td> <td>NKSP (NORTH KERN SP)             </td> <td>4525             </td> <td>1           </td> <td>4526            </td> <td>2492             </td> <td>181.6           </td> <td>4472            </td>\n",
       "        </tr>\n",
       "    </tbody>\n",
       "</table>\n",
       "<p>... (9491 rows omitted)</p>"
      ],
      "text/plain": [
       "year | month | institution_name                  | population_felons | civil_addict | total_population | designed_capacity | percent_occupied | staffed_capacity\n",
       "1996 | 1     | NCWF (NO CAL WOMEN'S FACIL)       | 786               | 4            | 790              | 400               | 197.5            | 760\n",
       "1996 | 1     | CCWF (CENTRAL CA WOMEN'S FAC)     | 2846              | 13           | 2859             | 2004              | 142.7            | 3224\n",
       "1996 | 1     | CRC (CAL REHAB CTR, WOMEN)        | 91                | 703          | 794              | 500               | 158.8            | 842\n",
       "1996 | 1     | CIW (CA INSTITUTION FOR WOMEN)    | 1690              | 36           | 1726             | 1026              | 168.2            | 1646\n",
       "1996 | 1     | WSP (WASCO SP)                    | 4475              | 62           | 4537             | 2484              | 182.6            | 4484\n",
       "1996 | 1     | SRTA (SANTA RITA CO. JAIL-RC)     | 811               | 0            | 811              | 395               | 205.3            | 750\n",
       "1996 | 1     | RJD (RJ DONOVAN CORRECTIONAL FAC) | 4577              | 0            | 4577             | 2200              | 208              | 4566\n",
       "1996 | 1     | PVSP (PLEASANT VALLEY SP)         | 4080              | 0            | 4080             | 2208              | 184.8            | 4008\n",
       "1996 | 1     | PBSP (PELICAN BAY SP)             | 3509              | 1            | 3510             | 2280              | 153.9            | 3730\n",
       "1996 | 1     | NKSP (NORTH KERN SP)              | 4525              | 1            | 4526             | 2492              | 181.6            | 4472\n",
       "... (9491 rows omitted)"
      ]
     },
     "execution_count": 5,
     "metadata": {},
     "output_type": "execute_result"
    }
   ],
   "source": [
    "# nan remover function\n",
    "nan_remover = lambda x: 0 if np.isnan(x) else x\n",
    "\n",
    "# Replacing column values with an array wihtout nans \n",
    "prisons_updated['civil_addict'] = prisons_updated.apply(nan_remover, 'civil_addict')\n",
    "prisons_updated"
   ]
  },
  {
   "cell_type": "markdown",
   "metadata": {},
   "source": [
    "Run the cell below. We know we have sucessfully replaced these `nan` values to 0s if there are no rows printed. "
   ]
  },
  {
   "cell_type": "code",
   "execution_count": 6,
   "metadata": {},
   "outputs": [
    {
     "data": {
      "text/html": [
       "<table border=\"1\" class=\"dataframe\">\n",
       "    <thead>\n",
       "        <tr>\n",
       "            <th>year</th> <th>month</th> <th>institution_name</th> <th>population_felons</th> <th>civil_addict</th> <th>total_population</th> <th>designed_capacity</th> <th>percent_occupied</th> <th>staffed_capacity</th>\n",
       "        </tr>\n",
       "    </thead>\n",
       "    <tbody>\n",
       "    </tbody>\n",
       "</table>"
      ],
      "text/plain": [
       "year | month | institution_name | population_felons | civil_addict | total_population | designed_capacity | percent_occupied | staffed_capacity"
      ]
     },
     "execution_count": 6,
     "metadata": {},
     "output_type": "execute_result"
    }
   ],
   "source": [
    "prisons_updated.where(\"civil_addict\", are.not_contained_in(np.arange(0, 4000)))"
   ]
  },
  {
   "cell_type": "markdown",
   "metadata": {},
   "source": [
    "---"
   ]
  },
  {
   "cell_type": "markdown",
   "metadata": {
    "tags": [
     "ignore"
    ]
   },
   "source": [
    "<!-- END QUESTION -->\n",
    "\n",
    "### Total Population in California's Prisons Over Time\n",
    "\n",
    "#### Designed Capacity\n",
    "\n",
    "**Context**: Our dataset describes both the capacity and the actual number of people incarcerated in California prisons from 1996 to 2018. Given this, to get more insight into our research question, one possible route of analysis might be to calculate the percentage of individuals contained within a prison relative to its capacity (the amount of prisoners they were actually built to hold). \n",
    "\n",
    "**Data Cleaning**: Once again, since we are interested in calculating prison population percentage based on design capacity, we need only a few columns from our `prisons_updated` table. We will select only `year`, `total_population`, and `designed_capacity`. We will call this new table `total_pop_and_design`. We will also group by year and sum both `total_population` and `designed_capacity` for all prisons given a year."
   ]
  },
  {
   "cell_type": "code",
   "execution_count": 7,
   "metadata": {},
   "outputs": [
    {
     "data": {
      "text/html": [
       "<table border=\"1\" class=\"dataframe\">\n",
       "    <thead>\n",
       "        <tr>\n",
       "            <th>year</th> <th>total_population</th> <th>designed_capacity</th>\n",
       "        </tr>\n",
       "    </thead>\n",
       "    <tbody>\n",
       "        <tr>\n",
       "            <td>1996</td> <td>790             </td> <td>400              </td>\n",
       "        </tr>\n",
       "        <tr>\n",
       "            <td>1996</td> <td>2859            </td> <td>2004             </td>\n",
       "        </tr>\n",
       "        <tr>\n",
       "            <td>1996</td> <td>794             </td> <td>500              </td>\n",
       "        </tr>\n",
       "        <tr>\n",
       "            <td>1996</td> <td>1726            </td> <td>1026             </td>\n",
       "        </tr>\n",
       "        <tr>\n",
       "            <td>1996</td> <td>4537            </td> <td>2484             </td>\n",
       "        </tr>\n",
       "    </tbody>\n",
       "</table>\n",
       "<p>... (9496 rows omitted)</p>"
      ],
      "text/plain": [
       "<IPython.core.display.HTML object>"
      ]
     },
     "metadata": {},
     "output_type": "display_data"
    }
   ],
   "source": [
    "total_pop_and_design = prisons_updated.select(\"year\", \"total_population\", \"designed_capacity\")\n",
    "total_pop_and_design.show(5)"
   ]
  },
  {
   "cell_type": "markdown",
   "metadata": {},
   "source": [
    "`tbl.group(column_or_columns, func)` The function takes in two parameters: the first one is a string or array of strings, which represents column(s) on which to group; the second one is optional, which is a function to aggregate values in cells (defaults to count). It groups rows by unique values or combinations of values in a column(s). Multiple columns must be entered in array or list form. Other values aggregated by count (default) or optional argument func. It outputs a new tabel. "
   ]
  },
  {
   "cell_type": "code",
   "execution_count": 8,
   "metadata": {},
   "outputs": [
    {
     "data": {
      "text/html": [
       "<table border=\"1\" class=\"dataframe\">\n",
       "    <thead>\n",
       "        <tr>\n",
       "            <th>year</th> <th>total_population sum</th> <th>designed_capacity sum</th>\n",
       "        </tr>\n",
       "    </thead>\n",
       "    <tbody>\n",
       "        <tr>\n",
       "            <td>1996</td> <td>1623806             </td> <td>873676               </td>\n",
       "        </tr>\n",
       "        <tr>\n",
       "            <td>1997</td> <td>1739423             </td> <td>910797               </td>\n",
       "        </tr>\n",
       "        <tr>\n",
       "            <td>1998</td> <td>1788142             </td> <td>956740               </td>\n",
       "        </tr>\n",
       "        <tr>\n",
       "            <td>1999</td> <td>1818019             </td> <td>958881               </td>\n",
       "        </tr>\n",
       "        <tr>\n",
       "            <td>2000</td> <td>1820519             </td> <td>965721               </td>\n",
       "        </tr>\n",
       "    </tbody>\n",
       "</table>\n",
       "<p>... (18 rows omitted)</p>"
      ],
      "text/plain": [
       "<IPython.core.display.HTML object>"
      ]
     },
     "metadata": {},
     "output_type": "display_data"
    }
   ],
   "source": [
    "sum_total_and_design = total_pop_and_design.group(\"year\", sum)\n",
    "sum_total_and_design.show(5)"
   ]
  },
  {
   "cell_type": "markdown",
   "metadata": {
    "tags": [
     "ignore"
    ]
   },
   "source": [
    "Now that we have our information grouped by year and summed over all the prisons, we can begin calculating our percentage. To get this percentage we must first assign all of our `total_population sum` values to a variable and do the same for `designed_capacity sum`. Then we will divide the `total_population` values by their corresponding `designed_capacity` and multiply by 100 to get the population percentage, then adding this as a column to the table."
   ]
  },
  {
   "cell_type": "code",
   "execution_count": 9,
   "metadata": {},
   "outputs": [
    {
     "name": "stdout",
     "output_type": "stream",
     "text": [
      "[185.85905988 190.97812136 186.89947112 189.59797931 188.51397039\n",
      " 186.46297264 186.17592316 188.84950734 192.63564133 190.09189001\n",
      " 188.49532912 195.52605312 190.30095205 183.36618572 178.73669545\n",
      " 173.23535445 149.88321645 144.95077023 138.83530151 132.72696534\n",
      " 131.7232109  132.02795138 131.94811151]\n"
     ]
    },
    {
     "data": {
      "text/html": [
       "<table border=\"1\" class=\"dataframe\">\n",
       "    <thead>\n",
       "        <tr>\n",
       "            <th>year</th> <th>total_population sum</th> <th>designed_capacity sum</th> <th>Design Percent</th>\n",
       "        </tr>\n",
       "    </thead>\n",
       "    <tbody>\n",
       "        <tr>\n",
       "            <td>1996</td> <td>1623806             </td> <td>873676               </td> <td>185.859       </td>\n",
       "        </tr>\n",
       "        <tr>\n",
       "            <td>1997</td> <td>1739423             </td> <td>910797               </td> <td>190.978       </td>\n",
       "        </tr>\n",
       "        <tr>\n",
       "            <td>1998</td> <td>1788142             </td> <td>956740               </td> <td>186.899       </td>\n",
       "        </tr>\n",
       "    </tbody>\n",
       "</table>\n",
       "<p>... (20 rows omitted)</p>"
      ],
      "text/plain": [
       "<IPython.core.display.HTML object>"
      ]
     },
     "metadata": {},
     "output_type": "display_data"
    }
   ],
   "source": [
    "total_population = sum_total_and_design.column(\"total_population sum\") \n",
    "designed_capacity = sum_total_and_design.column(\"designed_capacity sum\")\n",
    "\n",
    "capacity_percentage = (total_population / designed_capacity) * 100\n",
    "print(capacity_percentage)\n",
    "\n",
    "# Use .with_column() to add a new column with the percentages calculated above!\n",
    "total_and_design_and_percentages_table = sum_total_and_design.with_column(\"Design Percent\", capacity_percentage)\n",
    "\n",
    "total_and_design_and_percentages_table.show(3)"
   ]
  },
  {
   "cell_type": "markdown",
   "metadata": {
    "tags": [
     "include"
    ]
   },
   "source": [
    "<!-- BEGIN QUESTION -->\n",
    "\n",
    "<div class=\"alert alert-block alert-info\">\n",
    "<b>Question _:</b> What can you immediately comment on by looking at the top three percentage values in our new column?\n",
    "</div>\n",
    "\n",
    "<!--\n",
    "BEGIN QUESTION\n",
    "name: q21c\n",
    "points: 1\n",
    "manual: true\n",
    "-->"
   ]
  },
  {
   "cell_type": "markdown",
   "metadata": {
    "tags": [
     "include"
    ]
   },
   "source": [
    "**Answer:** *YOUR ANSWER HERE*"
   ]
  },
  {
   "cell_type": "markdown",
   "metadata": {
    "tags": [
     "ignore"
    ]
   },
   "source": [
    "<!-- END QUESTION -->\n",
    "\n",
    "Now that we have our table set up correctly, we can plot how overcrowding has changed over time.\n",
    "\n",
    "**Plotting**: Using `tbl.plot(x_column, y_column)`, we will draw a line plot to reflect the trend in overcrowding in California state prisons over time."
   ]
  },
  {
   "cell_type": "code",
   "execution_count": 10,
   "metadata": {
    "tags": [
     "include"
    ]
   },
   "outputs": [
    {
     "data": {
      "image/png": "[encoded data removed]",
      "text/plain": [
       "<Figure size 432x432 with 1 Axes>"
      ]
     },
     "metadata": {},
     "output_type": "display_data"
    }
   ],
   "source": [
    "total_and_design_and_percentages_table.plot(\"year\", \"Design Percent\")\n",
    "\n",
    "plt.xlabel(\"Year\")\n",
    "plt.ylabel(\"Design Percent Occupied (%)\")\n",
    "plt.title(\"Overcrowding According to Designed Capacity\");"
   ]
  },
  {
   "cell_type": "markdown",
   "metadata": {
    "tags": [
     "ignore"
    ]
   },
   "source": [
    "#### Staffed Capacity\n",
    "\n",
    "We have now seen how prisons exceed the number of people allowed per designated space. Given the amount of overcrowding present in prisons, another key aspect we might want to investigate is the number of people employed to maintain this system. To visualize this, we will calculate the percentage of people within prisons given the amount of staff employed to maintain the prison.\n",
    "\n",
    "Using the same methods as before, we will select and graph this information."
   ]
  },
  {
   "cell_type": "code",
   "execution_count": null,
   "metadata": {},
   "outputs": [],
   "source": [
    "# Select only the necessary columns\n",
    "total_pop_and_staff = ...\n",
    "\n",
    "# Group by year and sum all values for that year\n",
    "pop_and_staff_sum = ...\n",
    "\n",
    "population_column = ...\n",
    "staff_capacity_column = ...\n",
    "\n",
    "staff_capacity_percentage = ...\n",
    "\n",
    "# Add a new column with our percentages\n",
    "staff_and_total_percent_table = ...\n",
    "staff_and_total_percent_table.show(3)\n",
    "\n",
    "...\n",
    "\n",
    "plt.xlabel(\"Year\") \n",
    "plt.ylabel(\"Staff Percent Occupied (%)\")\n",
    "plt.title(\"Overcrowding according to Staffed Capacity\");"
   ]
  },
  {
   "cell_type": "markdown",
   "metadata": {
    "tags": [
     "include"
    ]
   },
   "source": [
    "<!-- BEGIN QUESTION -->\n",
    "\n",
    "<div class=\"alert alert-block alert-info\">\n",
    "<b>Question _:</b> What trends do you notice within the line plot?\n",
    "</div>\n",
    "\n",
    "<!--\n",
    "BEGIN QUESTION\n",
    "name: q21d\n",
    "points: 1\n",
    "manual: true\n",
    "-->"
   ]
  },
  {
   "cell_type": "markdown",
   "metadata": {
    "tags": [
     "include"
    ]
   },
   "source": [
    "**Answer:** *YOUR ANSWER HERE*"
   ]
  },
  {
   "cell_type": "markdown",
   "metadata": {
    "tags": [
     "ignore"
    ]
   },
   "source": [
    "<!-- END QUESTION -->\n",
    "\n",
    "#### Designed Capacity Versus Staff Capacity\n",
    "\n",
    "In the last two examples, we saw how crowded prisons have been over time by looking at their designed capacity and staffed capacity. However, it is still unclear what the relationship between the two percentages is. The solution? Make another plot! This time we will include both of the percentages we calculated.\n",
    "\n",
    "To do this, we will create a new table with three columns, namely:\n",
    "* Year\n",
    "* Design Percentage\n",
    "* Staff Percentage"
   ]
  },
  {
   "cell_type": "code",
   "execution_count": null,
   "metadata": {
    "tags": [
     "include"
    ]
   },
   "outputs": [],
   "source": [
    "# Create a list/array of all the years we have data for\n",
    "years = ...\n",
    "\n",
    "# Use our new years variable and capacity_percentage and staff_capacity_percentage\n",
    "# from before as new columns in a new table called compare_table_design_and_staff\n",
    "compare_table_design_and_staff = ...\n",
    "\n",
    "# Create a plot as before!\n",
    "...\n",
    "\n",
    "plt.xlabel(\"Year\")\n",
    "plt.ylabel(\"Percent Occupied\")\n",
    "plt.title(\"Designed Capacity vs. Staff Capacity\");"
   ]
  },
  {
   "cell_type": "markdown",
   "metadata": {
    "tags": [
     "include"
    ]
   },
   "source": [
    "<!-- BEGIN QUESTION -->\n",
    "<div class=\"alert alert-block alert-info\">\n",
    "<b>Question _:</b> Consider the large gap between the two lines. Why is staff capacity much closer to 100% than designed capacity?\n",
    "</div>\n",
    "\n",
    "<!--\n",
    "BEGIN QUESTION\n",
    "name: q21e\n",
    "points: 1\n",
    "manual: true\n",
    "-->"
   ]
  },
  {
   "cell_type": "markdown",
   "metadata": {
    "tags": [
     "include"
    ]
   },
   "source": [
    "**Answer:** *YOUR ANSWER HERE*"
   ]
  },
  {
   "cell_type": "markdown",
   "metadata": {
    "tags": [
     "ignore"
    ]
   },
   "source": [
    "<!-- END QUESTION -->\n",
    "\n",
    "#### Interactive Widget\n",
    "\n",
    "We have created an interactive widget for you in this section. In this example, you will be able to scroll through all of the prisons in California (numbered from 0 to 39, and you will see how the designed capacity versus population has changed over time.\n",
    "<font color = #d14d0f>**Run the following cell to load the widget!**</font>"
   ]
  },
  {
   "cell_type": "code",
   "execution_count": null,
   "metadata": {
    "tags": [
     "ignore"
    ]
   },
   "outputs": [],
   "source": [
    "%run -i scripts.py\n",
    "widgets.VBox([widgets.VBox([inp]), out])"
   ]
  },
  {
   "cell_type": "markdown",
   "metadata": {
    "tags": [
     "include"
    ]
   },
   "source": [
    "<!-- BEGIN QUESTION -->\n",
    "\n",
    "<div class=\"alert alert-block alert-info\">\n",
    "<b>Question _:</b> Select any institution from the widget and analyze how that institution's designed capacity changed over time using the three highlighted points. Predict how the design capacity would compare with the staff capacity of that specific institution.\n",
    "</div>\n",
    "\n",
    "<!--\n",
    "BEGIN QUESTION\n",
    "name: q21f\n",
    "points: 1\n",
    "manual: true\n",
    "-->"
   ]
  },
  {
   "cell_type": "markdown",
   "metadata": {
    "tags": [
     "include"
    ]
   },
   "source": [
    "**Answer:** *YOUR ANSWER HERE*"
   ]
  },
  {
   "cell_type": "code",
   "execution_count": null,
   "metadata": {},
   "outputs": [],
   "source": []
  },
  {
   "cell_type": "code",
   "execution_count": null,
   "metadata": {},
   "outputs": [],
   "source": []
  },
  {
   "cell_type": "code",
   "execution_count": null,
   "metadata": {},
   "outputs": [],
   "source": []
  },
  {
   "cell_type": "code",
   "execution_count": null,
   "metadata": {},
   "outputs": [],
   "source": []
  },
  {
   "cell_type": "code",
   "execution_count": null,
   "metadata": {},
   "outputs": [],
   "source": []
  },
  {
   "cell_type": "markdown",
   "metadata": {
    "tags": [
     "ignore"
    ]
   },
   "source": [
    "<!-- END QUESTION -->\n",
    "\n",
    "----\n",
    "## Section 2.2: Gender Division <a id='subsection22'></a>\n",
    "\n",
    "**Context:** The system in place reinforces the idea that the average inmate holds certain characteristics. Since we have limited data sets we cannot investigate many aspects of this claim. However, in order to get a better understanding of the population that the prison industrial complex was made to hold, we will investigate a few variables such as gender divisions, design capacity, and staff capacity. \n",
    "\n",
    "Let's begin by looking at all the **unique** institutions on our dataset. To do this, we will use the `group()` function once again. The counts of the table below represent the number of months for which we have data given an institution. The maximum counts that any of the institutions *should* have is 276."
   ]
  },
  {
   "cell_type": "code",
   "execution_count": null,
   "metadata": {},
   "outputs": [],
   "source": [
    "prisons_updated"
   ]
  },
  {
   "cell_type": "code",
   "execution_count": null,
   "metadata": {},
   "outputs": [],
   "source": [
    "prisons_updated.group(\"institution_name\").show()"
   ]
  },
  {
   "cell_type": "markdown",
   "metadata": {
    "tags": [
     "ignore"
    ]
   },
   "source": [
    "Since the data is made up of both male and female prisons, we will have to sort these prisons into separate groups before we can analyze them separately. However, we cannot ascertain whether a given institution is male or female-only given just the name. We had to double check whether an institution was male or female using sources outside of this notebook. \n",
    "\n",
    "One of the institutions that we found to be particularly interesting when looking at outside information was **VSP (VALLEY SP)**.\n",
    "\n",
    "The California Department of Corrections and Rehabilitation began converting Valley State Prison into a facility for low-risk male inmates in October 2012, and it was completed by January 2013. Click [HERE](https://web.archive.org/web/20120111104018/http://cdcrtoday.blogspot.com/2011/12/cdcr-announces-plan-to-convert-female.html) or [HERE](https://www.cdcr.ca.gov/Facilities_Locator/VSP.html) to learn more. \n",
    "\n",
    "From these links you will learn that this conversion came as a result of realignment policies. We noted earlier that the monthly count for this institution was above 276, which could indicate monthly counts for male and female inmates, leading to a double count. Though we addressed this issue before we began working with the data at the beginning of the notebook, running these sanity checks is important in order to not obtain misleading results."
   ]
  },
  {
   "cell_type": "markdown",
   "metadata": {
    "tags": [
     "ignore"
    ]
   },
   "source": [
    "#### Unique Female Prisons\n",
    "\n",
    "In this section, we will organize the data corresponding to female institutions. In the cell below, we look only at the prisons which we know are strictly female. The following code creates a list or array of all the institutions we know to be strictly female.\n",
    "\n",
    "Note that our now separated \"Valley SP\" institution is included."
   ]
  },
  {
   "cell_type": "code",
   "execution_count": null,
   "metadata": {},
   "outputs": [],
   "source": [
    "female_institutions = make_array(\"CCWF (CENTRAL CA WOMEN'S FAC)\", 'CIW (CA INSTITUTION FOR WOMEN)',\n",
    "       'CRC (CAL REHAB CTR, WOMEN)', 'FOL (FOLSOM SP) (FEMALE)',\n",
    "       'FRCC (FRCCC BAKERSFIELD)', \"NCWF (NO CAL WOMEN'S FACIL)\", \"VALLEY SP (FEMALE)\")"
   ]
  },
  {
   "cell_type": "markdown",
   "metadata": {
    "tags": [
     "ignore"
    ]
   },
   "source": [
    "**Filtering:** Now that we have a list of only the female serving institutions, we will create a new table in which only these select institutions are included, then group by institution to learn about the number of times a given institution appears in our data set. Again this should be *at most* 276."
   ]
  },
  {
   "cell_type": "code",
   "execution_count": null,
   "metadata": {},
   "outputs": [],
   "source": [
    "# Keep only the institutions in our list\n",
    "female_data = prisons_updated.where(\"institution_name\", are.contained_in(female_institutions))\n",
    "female_data.show(3)\n",
    "\n",
    "female_prisons = female_data.group(\"institution_name\")\n",
    "female_prisons"
   ]
  },
  {
   "cell_type": "markdown",
   "metadata": {
    "tags": [
     "ignore"
    ]
   },
   "source": [
    "#### Design Capacity Versus Staff Capacity for Female Institutions\n",
    "\n",
    "Similar to the last sections, we will use the `select()` function to select necessary data in order to calculate the design versus staff capacities using our new `female_data` table.\n",
    "We want to combine all the values within the same year across all institutions, so we will use the `group()` function and sum."
   ]
  },
  {
   "cell_type": "code",
   "execution_count": null,
   "metadata": {},
   "outputs": [],
   "source": [
    "fem_year_pop_capacities = female_data.select(\"year\", \"total_population\", \"designed_capacity\", \"staffed_capacity\")\n",
    "fem_year_pop_capacities.show(3)\n",
    "\n",
    "fem_year_groups = fem_year_pop_capacities.group(\"year\", sum)\n",
    "fem_year_groups.show(3)"
   ]
  },
  {
   "cell_type": "markdown",
   "metadata": {
    "tags": [
     "ignore"
    ]
   },
   "source": [
    "Using the same techniques as in previous examples, we will calculate the designed capacity and staff capacity percentages."
   ]
  },
  {
   "cell_type": "markdown",
   "metadata": {
    "tags": [
     "ignore"
    ]
   },
   "source": [
    "In order to compare these two values with each other as we did before, we will want to add the percentages to a table. We could either create a new table, or add the percentages to our existing table and select only the necessary columns. Neither approach is more correct, but for readability's sake, we will create a new table below, and then plot the Designed and Staff percentages together."
   ]
  },
  {
   "cell_type": "code",
   "execution_count": null,
   "metadata": {},
   "outputs": [],
   "source": [
    "# Create a new variable with all the total population values\n",
    "fem_total_population = fem_year_groups.column(\"total_population sum\") \n",
    "\n",
    "# Calculate designed capacity percentages\n",
    "fem_design_capacity = fem_year_groups.column(\"designed_capacity sum\")\n",
    "fem_design_percentage = (fem_total_population / fem_design_capacity) *100\n",
    "\n",
    "# Calculate staff capacity percentages\n",
    "fem_staff_capacity = fem_year_groups.column(\"staffed_capacity sum\")\n",
    "fem_staff_percentage =(fem_total_population / fem_staff_capacity)*100\n",
    "\n",
    "fem_plot_table = Table().with_columns(\n",
    "    \"year\", np.arange(1996, 2018+1),\n",
    "    \"Design Percent Occupied\", fem_design_percentage,\n",
    "    \"Staff Percent Occupied\", fem_staff_percentage)\n",
    "\n",
    "fem_plot_table.plot(\"year\")\n",
    "\n",
    "plt.xlabel(\"Year\")\n",
    "plt.ylabel(\"Percent Occupied\")\n",
    "plt.title(\"Designed Capacity vs. Staff Capacity\");"
   ]
  },
  {
   "cell_type": "markdown",
   "metadata": {
    "tags": [
     "ignore"
    ]
   },
   "source": [
    "#### Unique Male Prisons\n",
    "\n",
    "Similar to our process in selecting only the female serving institutions, we will now repeat our analysis for male serving institutions. Another way to think about the filtering process is that we are excluding rows with female institutions.\n",
    "\n",
    "Notice how instead of using a function called `are.contained_in()` we are using a function called `are.not_contained_in()`. In this way we skip the step where we make a list/array of only male serving prisons."
   ]
  },
  {
   "cell_type": "code",
   "execution_count": null,
   "metadata": {},
   "outputs": [],
   "source": [
    "male_data = prisons_updated.where(\"institution_name\", are.not_contained_in(female_institutions))\n",
    "male_data.show(3)"
   ]
  },
  {
   "cell_type": "markdown",
   "metadata": {
    "tags": [
     "ignore"
    ]
   },
   "source": [
    "#### Design Capacity Versus Staff Capacity for Male Institutions\n",
    "\n",
    "We want to analyze the designed and staff capacities over time, so we will once again use the `select()` function to get relevant data and group by year. Let's repeat the same process as before, but with our male only data.\n",
    "\n",
    "Just as in the female institution example, we will add both of the percentages to a new table, and plot them both."
   ]
  },
  {
   "cell_type": "code",
   "execution_count": null,
   "metadata": {},
   "outputs": [],
   "source": [
    "male_grouped_year = male_data.select(\"year\", \"total_population\", \"designed_capacity\", \"staffed_capacity\").group('year', sum)\n",
    "\n",
    "# Save total male population as new variable\n",
    "male_total_population = male_grouped_year.column(\"total_population sum\")\n",
    "\n",
    "# Calculate design capacity percentage\n",
    "male_design_capacity =  male_grouped_year.column(\"designed_capacity sum\")\n",
    "male_design_percentage = (male_total_population / male_design_capacity)* 100\n",
    "\n",
    "# Calculate staff capacity percentage\n",
    "male_staff_capacity =  male_grouped_year.column(\"staffed_capacity sum\")\n",
    "male_staff_percentage = (male_total_population / male_staff_capacity) *100\n",
    "\n",
    "male_plot_table = Table().with_columns(\n",
    "    \"year\", np.arange(1996, 2018+1),\n",
    "    \"Design Percent Occupied\", male_design_percentage,\n",
    "    \"Staff Percent Occupied\", male_staff_percentage)\n",
    "\n",
    "male_plot_table.plot(\"year\")\n",
    "plt.xlabel(\"Year\")\n",
    "plt.ylabel(\"Percent Occupied\")\n",
    "plt.title(\"Designed Capacity vs. Staff Capacity\");"
   ]
  },
  {
   "cell_type": "markdown",
   "metadata": {
    "tags": [
     "ignore"
    ]
   },
   "source": [
    "#### Female vs Male Prisons: Designed and Staffed Capacities\n",
    "\n",
    "Before we merge the two tables (`fem_plot_table` and `male_plot_table`), we will want to differentiate between the `Design Percent Occupied` column in the female table versus in the male table. Same with the staff percentage column. To do this, we will relabel the column names. The function that will relabel to the column names is called `relabel()`. The function takes in two inputs: the old column name and a new column name."
   ]
  },
  {
   "cell_type": "code",
   "execution_count": null,
   "metadata": {},
   "outputs": [],
   "source": [
    "male_design_relabeled = male_plot_table.relabeled(\"Design Percent Occupied\", \"Male Designed Percentage\")\n",
    "male_relabeled = male_design_relabeled.relabeled(\"Staff Percent Occupied\", \"Male Staffed Percentage\")\n",
    "\n",
    "fem_design_relabeled = fem_plot_table.relabeled(\"Design Percent Occupied\", \"Female Designed Percentage\")\n",
    "fem_relabeled = fem_design_relabeled.relabeled(\"Staff Percent Occupied\", \"Female Staffed Percentage\")"
   ]
  },
  {
   "cell_type": "markdown",
   "metadata": {
    "tags": [
     "ignore"
    ]
   },
   "source": [
    "Now that we have distinct design and staff capacities for male and female groups, we can match the values by year. They contain information over the same years. To combine tables, we use a function called `join()`. The format for the function is:\n",
    "- *data_table_one* `.join(` *same_column*, *data_table_two*`)` where same_column is the name of the column that appears in both tables."
   ]
  },
  {
   "cell_type": "code",
   "execution_count": null,
   "metadata": {},
   "outputs": [],
   "source": [
    "male_and_female_table = male_relabeled.join(\"year\", fem_relabeled)\n",
    "male_and_female_table.show(3)"
   ]
  },
  {
   "cell_type": "markdown",
   "metadata": {
    "tags": [
     "ignore"
    ]
   },
   "source": [
    "Now we can begin to do some comparative analysis on the two types of institutions. In the cells below we will generate some graphs to compare designed capacity between male and female prisons as well as staff capacity between the two."
   ]
  },
  {
   "cell_type": "markdown",
   "metadata": {
    "tags": [
     "ignore"
    ]
   },
   "source": [
    "\n",
    "\n",
    "### Male Prisons vs Female Prisons in both Staff and Designed Capacity\n",
    "\n",
    "How does the combination of male and female institutions compare with the institutions overall (not separated between male and female)? To answer this question, let's look back towards the beginning of this notebook where we defined the table called `compare_table_design_and_staff` that compared designed and staff percentages by year that included both male and female institutions."
   ]
  },
  {
   "cell_type": "code",
   "execution_count": null,
   "metadata": {},
   "outputs": [],
   "source": [
    "compare_table_design_and_staff.show(3)"
   ]
  },
  {
   "cell_type": "markdown",
   "metadata": {
    "tags": [
     "ignore"
    ]
   },
   "source": [
    "We want to combine the total percentages table above with the table that contains the percentages for male and female prisons separately. To combine the two tables, we will use the `join()` function again."
   ]
  },
  {
   "cell_type": "code",
   "execution_count": null,
   "metadata": {},
   "outputs": [],
   "source": [
    "all_joined = compare_table_design_and_staff.join(\"year\", male_and_female_table)\n",
    "all_joined.show(3)"
   ]
  },
  {
   "cell_type": "code",
   "execution_count": null,
   "metadata": {
    "tags": [
     "include"
    ]
   },
   "outputs": [],
   "source": [
    "all_joined.plot(\"year\")\n",
    "\n",
    "plt.xlabel(\"Year\")\n",
    "plt.ylabel(\"Percent Occupied\")\n",
    "plt.title(\"Male Prisons vs. Female Prisons\");"
   ]
  },
  {
   "cell_type": "markdown",
   "metadata": {
    "tags": [
     "include"
    ]
   },
   "source": [
    "<!-- BEGIN QUESTION -->\n",
    "\n",
    "<div class=\"alert alert-block alert-info\">\n",
    "<b>Question 2.2a:</b> Comment on the plot above. What are the differences between designed and staffed capacity? What are some patterns unique to female institutions? Why does the total population look almost identical to the male prisons percentages?\n",
    "</div>\n",
    "\n",
    "<!--\n",
    "BEGIN QUESTION\n",
    "name: q22a\n",
    "points: 1\n",
    "manual: true\n",
    "-->"
   ]
  },
  {
   "cell_type": "markdown",
   "metadata": {
    "tags": [
     "include"
    ]
   },
   "source": [
    "**Answer:** *YOUR ANSWER HERE*"
   ]
  },
  {
   "cell_type": "markdown",
   "metadata": {},
   "source": [
    "<!-- END QUESTION -->\n",
    "\n",
    "----"
   ]
  },
  {
   "cell_type": "markdown",
   "metadata": {
    "tags": [
     "ignore"
    ]
   },
   "source": [
    "## Section 3: Jails <a id='jailssection'></a>\n",
    "\n",
    "We'll now look at the effects of realignment on jails in California. As we did in the last section, we'll analyze the differences in designed vs. staffed capacity and the gender division in sentenced and unsentenced populations in county jails.\n",
    "\n",
    "----"
   ]
  },
  {
   "cell_type": "markdown",
   "metadata": {
    "tags": [
     "ignore"
    ]
   },
   "source": [
    "### The Data\n",
    "\n",
    "We will work with data from the Jail Profile Survey provided by the Board of State and Community Corrections (BSCC). \n",
    "\n",
    "\n",
    "The Jail Profile Survey releases reports on data recorded by local agencies. Some of the information we will find here include the total number of unsentenced and sentenced males and females in each of these facilities. This data has been used to determine the needs of each of these counties when determining the distribution of state bond monies and future projections for other jail needs.\n",
    "\n",
    "If you are interested in learning more please visit [Jail Profile Survey](http://www.bscc.ca.gov/downloads/JPSWorkbook.pdf)  and [Jail Profile Survey data](https://app.bscc.ca.gov/joq//jps/QuerySelection.asp).\n",
    "\n",
    "\n",
    "#### Data Dictionary\n",
    "Below is a data dictionary for future reference. This data dictionary goes over what the column names represent in the data we will load below.\n",
    "\n",
    "|Column Name   | Description |\n",
    "|--------------|---------|\n",
    "|Jurisdiction | The unit of government that has legal authority over an inmate (state or federal)|\n",
    "|Facility | Name of the county jail |\n",
    "|Year |Year that the data was collected |\n",
    "|Month | Month that the data was collected |\n",
    "|Unsentenced males| Non-sentenced inmates are all inmates other than those who have been sentenced on all charges pending * ** |\n",
    "|Unsentenced females| Non-sentenced inmates are all inmates other than those who have been sentenced on all charges pending * **|\n",
    "|Sentenced males| Sentenced inmates are those who have been sentenced on all charges and are no longer on trial. This category includes inmates who are being incarcerated pending or during an appeal. * |\n",
    "|Sentenced females|Sentenced inmates are those who have been sentenced on all charges and are no longer on trial. This category includes inmates who are being incarcerated pending or during an appeal. * |\n",
    "|Total facility ADP| ADP Total should include all inmates (including those under contract from any agency/jurisdiction) assigned to all single/double and multiple occupancy cells, administrative segregation, disciplinary isolation, and medical and mental health beds.|\n",
    "\n",
    "\n",
    "**Please note the following:**\n",
    "\n",
    "\\* The counts for sentenced and unsentences male/female inmates is an *average daily population (ADP)* for the given month.\n",
    "\n",
    "\n",
    "** For example, if an inmate has been sentenced on three charges but is still being tried on a fourth charge, they should be reported as “non-sentenced.”\n",
    "\n",
    "** If an inmate is found not to be competent for trial and is detained in a county jail facility, count them in Non-Sentenced (Male/Female & Misdemeanor/Felony). If they are detained in the state hospital, do not count them in any category.\n",
    "\n",
    "#### Importing the Data\n",
    "\n",
    "Let's start off by importing our `jail` data. Similar to what we did earlier, we'll create an instance of a table (`Table()`) and populating it with our data which we read in from a location within our folders. It takes in a file and reads and outputs it as a table."
   ]
  },
  {
   "cell_type": "code",
   "execution_count": null,
   "metadata": {},
   "outputs": [],
   "source": [
    "jail = Table().read_table(\"data/jails_cleaned.csv\")\n",
    "jail.show(5)"
   ]
  },
  {
   "cell_type": "markdown",
   "metadata": {
    "tags": [
     "include"
    ]
   },
   "source": [
    "-------\n",
    "\n",
    "## Section 4: Data Analysis <a id='section4'></a>\n",
    "Just as we did with the Prisons dataset, the first thing we want to do is check that the number of months does not exceed 276. We'll group by `Facility` using the `group()` table function and then sort by `count` using the `sort()` table function and set descending to True."
   ]
  },
  {
   "cell_type": "code",
   "execution_count": null,
   "metadata": {
    "tags": [
     "include"
    ]
   },
   "outputs": [],
   "source": [
    "jail_grouped = jail.group(\"Facility\")\n",
    "jail_grouped.sort('count', descending = True)"
   ]
  },
  {
   "cell_type": "markdown",
   "metadata": {
    "tags": [
     "ignore"
    ]
   },
   "source": [
    "Do you see any count abnormalities? In contrast to our Prisons notebook, there do not seem to be any issues with the counts!"
   ]
  },
  {
   "cell_type": "markdown",
   "metadata": {
    "tags": [
     "ignore"
    ]
   },
   "source": [
    "In the table above, we produced a table with a row entry for each month in a given year for 23 years for each jail. Like we did in our previous notebook, we want to get the **yearly total for each institution** to explore how this total number of inmates in the jail population changed over time. To accomplish this, the first thing we need to do is aggregate or group some columns.\n",
    "\n",
    "Our first step is to select the appropriate columns. We select the columns `Year`, `Unsentenced males`, `Unsentenced females`, `Sentenced males`, `Sentenced females`, and `Total facility ADP` using the `select()` function.\n",
    "\n",
    "Next we want to store this as a new variable for future use. We assign this new table to a variable called `data_year`, then obtain the yearly totals for each institution."
   ]
  },
  {
   "cell_type": "code",
   "execution_count": null,
   "metadata": {
    "tags": [
     "ignore"
    ]
   },
   "outputs": [],
   "source": [
    "data_year = jail.select('Year','Unsentenced males', 'Unsentenced females','Sentenced males','Sentenced females', 'Total facility ADP')\n",
    "data_year = data_year.group(\"Year\", sum)\n",
    "data_year.show(5)"
   ]
  },
  {
   "cell_type": "markdown",
   "metadata": {
    "tags": [
     "ignore"
    ]
   },
   "source": [
    "Our first investigation will be into the total facility ADP over the years. For the remainder of the notebook, we will focus on years that mark significant shifts in population among jails. We will focus mainly on 2011 and 2014 by plotting red dots to mark those years in cells below.\n",
    "\n",
    "First, let's obtain the data where the year equals 2011 and 2014. To do this we will use the `where()` table function to limit our data to the year 2011 and assign it to a new variable `data2011`, and similarly for 2014."
   ]
  },
  {
   "cell_type": "code",
   "execution_count": null,
   "metadata": {
    "tags": [
     "ignore"
    ]
   },
   "outputs": [],
   "source": [
    "data2011 = data_year.where(\"Year\", 2011)\n",
    "\n",
    "data2014 = data_year.where('Year', 2014)"
   ]
  },
  {
   "cell_type": "markdown",
   "metadata": {
    "tags": [
     "ignore"
    ]
   },
   "source": [
    "Note that we are only interested in the last column, `Total facility ADP sum`, and the year. We can select that from the previous cell and assign it to `y_coordinate_2011` and `y_coordinate_2014`. Now that we have our desired two points, we can plot the `Total facility ADP sum` vs. `year` and overlay the data points from 2011 and 2014. Run the cell below to generate the plot."
   ]
  },
  {
   "cell_type": "code",
   "execution_count": null,
   "metadata": {
    "tags": [
     "ignore"
    ]
   },
   "outputs": [],
   "source": [
    "x_coordinate_2011 = data2011.column('Year')\n",
    "y_coordinate_2011 = data2011.column('Total facility ADP sum')\n",
    "\n",
    "x_coordinate_2014 = data2014.column(\"Year\")\n",
    "y_coordinate_2014 = data2014.column(\"Total facility ADP sum\")\n",
    "\n",
    "data_year.plot(\"Year\", \"Total facility ADP sum\")\n",
    "plt.xlabel(\"Year\")\n",
    "plt.ylabel(\"Total Facility ADP\")\n",
    "plt.title(\"Total Facility ADP over time\")\n",
    "\n",
    "plt.plot(x_coordinate_2011, y_coordinate_2011, 'ro')\n",
    "plt.plot(x_coordinate_2014, y_coordinate_2014, 'ro');"
   ]
  },
  {
   "cell_type": "markdown",
   "metadata": {
    "tags": [
     "include"
    ]
   },
   "source": [
    "<!-- BEGIN QUESTION -->\n",
    "\n",
    "<div class=\"alert alert-block alert-info\">\n",
    "<b>Question 2a:</b> In looking at the graph you produced, how does it reflect the systematic changes of California's potential jail population?\n",
    "</div>\n",
    "\n",
    "<!--\n",
    "BEGIN QUESTION\n",
    "name: q4a\n",
    "points: 1\n",
    "manual: true\n",
    "-->"
   ]
  },
  {
   "cell_type": "markdown",
   "metadata": {
    "tags": [
     "include"
    ]
   },
   "source": [
    "**Answer:** *YOUR ANSWER HERE*"
   ]
  },
  {
   "cell_type": "markdown",
   "metadata": {
    "tags": [
     "ignore"
    ]
   },
   "source": [
    "<!-- END QUESTION -->\n",
    "\n",
    "\n",
    "### Section 4.1: Sentenced vs Unsentenced  <a id='section41'></a>\n",
    "In this section we revisit designed and staffed capacities. We will go ahead and compare the sentenced and unsentenced populations for county jails. We will specifically be creating and looking at the following comparisons:\n",
    "* Overall (male and female) sentenced and (male and female) unsentenced\n",
    "* Male unsentenced vs male sentenced\n",
    "* Female unsentenced vs female sentenced\n",
    "\n",
    "To understand how sentenced vs unsentenced jail populations have changed over time, we will need to estimate the totals for each of these two categories. In looking at our data set we can notice that is is composed of 4 main columns, however none displays the total for these categories. \n",
    "\n",
    "|Sentenced males|Sentenced females|Unsentenced males| Unsentenced females|Total facility ADP|\n",
    "|--------------|---------|------|----------|-----|\n",
    "\n",
    "Therefore, we begin by calculating the sentenced total and the unsentenced total. We will need to combine male and female data for each of these two categories.\n",
    "\n",
    "Let's begin by separating each column into a new variable so that we can easily extract and later combine the values that we need. As a refresher, you can use the table function `column()` to select the values in a given column.\n",
    "\n",
    "First, we select all the values for male sentenced and female sentenced and save it into new variables `m_sentenced` and `f_sentenced` respectively, and the same for  **unsentenced** males and females to `m_unsentenced` and `f_unsentenced`."
   ]
  },
  {
   "cell_type": "code",
   "execution_count": null,
   "metadata": {
    "tags": [
     "ignore"
    ]
   },
   "outputs": [],
   "source": [
    "m_sentenced = data_year.column(\"Sentenced males sum\")\n",
    "f_sentenced = data_year.column(\"Sentenced females sum\")\n",
    "\n",
    "m_unsentenced = data_year.column(\"Unsentenced males sum\")\n",
    "f_unsentenced = data_year.column(\"Unsentenced females sum\")"
   ]
  },
  {
   "cell_type": "markdown",
   "metadata": {
    "tags": [
     "ignore"
    ]
   },
   "source": [
    "We can add the values from `m_sentenced` and `f_sentenced` into a single column to get the total sentenced per year, and the same for `m_unsentenced` and `f_unsentenced`."
   ]
  },
  {
   "cell_type": "code",
   "execution_count": null,
   "metadata": {
    "tags": [
     "ignore"
    ]
   },
   "outputs": [],
   "source": [
    "sentenced_all =  m_sentenced + f_sentenced\n",
    "\n",
    "unsentenced_all = m_unsentenced + f_unsentenced "
   ]
  },
  {
   "cell_type": "markdown",
   "metadata": {
    "tags": [
     "ignore"
    ]
   },
   "source": [
    "We can now go ahead and add these two values to our original data table (called `data_year`). We will use the table function `with_column()` which takes in a label for your column, and the values that you want to assign to that new column."
   ]
  },
  {
   "cell_type": "code",
   "execution_count": null,
   "metadata": {
    "tags": [
     "ignore"
    ]
   },
   "outputs": [],
   "source": [
    "data_year = data_year.with_column(\"Total Sentenced\", sentenced_all)\n",
    "data_year = data_year.with_column(\"Total Unsentenced\", unsentenced_all)\n",
    "\n",
    "data_year.show(5)"
   ]
  },
  {
   "cell_type": "markdown",
   "metadata": {
    "tags": [
     "ignore"
    ]
   },
   "source": [
    "---\n",
    "Now we can explore the data as **percentages**. (Why we might want to work with percentages instead of counts?) Our end goal here will be to plot percent ADP over time.\n",
    "\n",
    "To do this, we can get our total using the column `Total facility ADP sum` and then divide the total sentenced and total unsentenced by this value. "
   ]
  },
  {
   "cell_type": "code",
   "execution_count": null,
   "metadata": {
    "tags": [
     "ignore"
    ]
   },
   "outputs": [],
   "source": [
    "total_adp = data_year.column(\"Total facility ADP sum\")\n",
    "\n",
    "sent_percent = sentenced_all / total_adp * 100\n",
    "unsent_percent = unsentenced_all / total_adp * 100"
   ]
  },
  {
   "cell_type": "markdown",
   "metadata": {
    "tags": [
     "ignore"
    ]
   },
   "source": [
    "Now that we have our percentages, let's repeat the same process as before to add these new percentage values to our `data_year` table and select the relevant columns that we want in order to plot percent ADP over time."
   ]
  },
  {
   "cell_type": "code",
   "execution_count": null,
   "metadata": {
    "tags": [
     "ignore"
    ]
   },
   "outputs": [],
   "source": [
    "data_year = data_year.with_column(\"Total Sentenced Percent\", sent_percent)\n",
    "data_year = data_year.with_column(\"Total Unsentenced Percent\", unsent_percent)\n",
    "\n",
    "percent_totals = data_year.select(\"Year\", \"Total Sentenced Percent\", \"Total Unsentenced Percent\")\n",
    "percent_totals"
   ]
  },
  {
   "cell_type": "markdown",
   "metadata": {
    "tags": [
     "ignore"
    ]
   },
   "source": [
    "We'll plot dots so we can highlight specific years in the jails, namely, 2011 and 2014. Let's see how these specific years play out on our plot above by plotting red dots representing those years.\n",
    "\n",
    "First, let's start off by getting the data in the years 2011 and 2014."
   ]
  },
  {
   "cell_type": "code",
   "execution_count": null,
   "metadata": {
    "tags": [
     "ignore"
    ]
   },
   "outputs": [],
   "source": [
    "data2011 = percent_totals.where(\"Year\", 2011)\n",
    "data2014 = percent_totals.where(\"Year\", 2014)"
   ]
  },
  {
   "cell_type": "markdown",
   "metadata": {
    "tags": [
     "ignore"
    ]
   },
   "source": [
    "Next, we want to get the x and y coordinates of each point using the data we just found. For example, using `data2011`, we can now assign `x_coordinate2011` to the `year` column and the `y_coordinate2011` to the `Percent` column. This process is similar to the plot of the Total Facility ADP over time from earlier. We repeat similar steps to generate the plot below."
   ]
  },
  {
   "cell_type": "code",
   "execution_count": null,
   "metadata": {
    "tags": [
     "include"
    ]
   },
   "outputs": [],
   "source": [
    "x_coordinate2011 = data2011.column('Year')\n",
    "y_coordinate2011 = data2011.column(\"Total Sentenced Percent\")\n",
    "y_coordinate2011_un = data2011.column(\"Total Unsentenced Percent\")\n",
    "\n",
    "x_coordinate2014 = data2014.column(\"Year\")\n",
    "y_coordinate2014 = data2014.column(\"Total Sentenced Percent\")\n",
    "y_coordinate2014_un = data2014.column(\"Total Unsentenced Percent\")\n",
    "\n",
    "percent_totals.plot(\"Year\")\n",
    "plt.title(\"Total Sentenced Percent vs Total Unsentenced Percent\")\n",
    "plt.xlabel(\"Year\")\n",
    "plt.ylabel(\"Percent of People\")\n",
    "\n",
    "plt.plot(x_coordinate2011, y_coordinate2011, 'ro')\n",
    "plt.plot(x_coordinate2014, y_coordinate2014, 'ro')\n",
    "plt.plot(x_coordinate2011, y_coordinate2011_un, 'ro')\n",
    "plt.plot(x_coordinate2014, y_coordinate2014_un, 'ro');"
   ]
  },
  {
   "cell_type": "markdown",
   "metadata": {
    "tags": [
     "include"
    ]
   },
   "source": [
    "<!-- BEGIN QUESTION -->\n",
    "\n",
    "<div class=\"alert alert-block alert-info\">\n",
    "<b>Question 2a:</b> Is there anything interesting that you see related to the percentages and years?\n",
    "</div>\n",
    "\n",
    "<!--\n",
    "BEGIN QUESTION\n",
    "name: q41a\n",
    "points: 1\n",
    "manual: true\n",
    "-->"
   ]
  },
  {
   "cell_type": "markdown",
   "metadata": {
    "tag": "include",
    "tags": [
     "include"
    ]
   },
   "source": [
    "**Answer:** *YOUR ANSWER HERE*"
   ]
  },
  {
   "cell_type": "markdown",
   "metadata": {
    "tags": [
     "ignore"
    ]
   },
   "source": [
    "<!-- END QUESTION -->\n",
    "\n",
    "### Section 4.2: Gender Division\n",
    "\n",
    "#### Sentenced vs. Unsentenced Across Gender\n",
    "\n",
    "We just looked at the total number of people who were sentenced and the total number of people who were unsentenced by year. Next, let's look at just the number of **males who were sentenced vs the number of males who were unsentenced**. Let's start by selecting the relevant columns that we are going to use for our analysis.\n",
    "\n",
    "We have found and plotted the counts of males but let's try finding the **percentage** of males from the total ADP count. Start by getting the sum of the sentenced males column, the sum of the unsentenced males column, and then dividing both of these columns by the total ADP.\n",
    "\n",
    "Let's add these new percentage columns to our male table and then select the appropriate columns for plotting."
   ]
  },
  {
   "cell_type": "code",
   "execution_count": null,
   "metadata": {
    "tags": [
     "ignore"
    ]
   },
   "outputs": [],
   "source": [
    "males = data_year.select(\"Year\", \"Sentenced males sum\", \"Unsentenced males sum\")\n",
    "\n",
    "male_sent = males.column(\"Sentenced males sum\")\n",
    "male_unsent = males.column(\"Unsentenced males sum\")\n",
    "\n",
    "m_sent_percent = male_sent / total_adp * 100\n",
    "m_unsent_percent = male_unsent / total_adp * 100\n",
    "\n",
    "males = males.with_column(\"Total Male Sentenced Percent\", m_sent_percent)\n",
    "males = males.with_column(\"Total Male Unsentenced Percent\", m_unsent_percent)\n",
    "m_percent_totals = males.select(\"Year\", \"Total Male Sentenced Percent\", \"Total Male Unsentenced Percent\")\n",
    "\n",
    "m_percent_totals"
   ]
  },
  {
   "cell_type": "markdown",
   "metadata": {},
   "source": [
    "Now we'll plot the **percentage** of males who were sentenced vs the percentage of males who were unsentenced."
   ]
  },
  {
   "cell_type": "code",
   "execution_count": null,
   "metadata": {
    "tags": [
     "include"
    ]
   },
   "outputs": [],
   "source": [
    "# Filtering data for just 2011 and 2014\n",
    "data2011 = m_percent_totals.where(\"Year\", 2011)\n",
    "data2014 = m_percent_totals.where(\"Year\", 2014)\n",
    "\n",
    "# Create x and y coordinates for 2011\n",
    "x_coordinate2011 = data2011.column('Year')\n",
    "y_coordinate2011 = data2011.column(\"Total Male Sentenced Percent\")\n",
    "y_coordinate2011_un = data2011.column(\"Total Male Unsentenced Percent\")\n",
    "\n",
    "# Create x and y coordinates for 2014\n",
    "x_coordinate2014 = data2014.column('Year')\n",
    "y_coordinate2014 = data2014.column(\"Total Male Sentenced Percent\")\n",
    "y_coordinate2014_un = data2014.column(\"Total Male Unsentenced Percent\")\n",
    "\n",
    "# Base plot creation\n",
    "m_percent_totals.plot(\"Year\")\n",
    "\n",
    "plt.title(\"Total Sentenced vs Total Unsentenced Percents (Males)\")\n",
    "plt.xlabel(\"Year\")\n",
    "plt.ylabel(\"Percent of Males\")\n",
    "\n",
    "\n",
    "# Adding our points\n",
    "plt.plot(x_coordinate2011, y_coordinate2011, 'ro')\n",
    "plt.plot(x_coordinate2014, y_coordinate2014, 'ro')\n",
    "plt.plot(x_coordinate2011, y_coordinate2011_un, 'ro')\n",
    "plt.plot(x_coordinate2014, y_coordinate2014_un, 'ro');"
   ]
  },
  {
   "cell_type": "markdown",
   "metadata": {
    "tags": [
     "ignore"
    ]
   },
   "source": [
    "#### Females: Sentenced vs. Unsentenced\n",
    "\n",
    "Above we analyzed just the males that were sentenced and unsentenced. Because the process is exactly similar (and for the sake of brevity), we have included the image of the resulting plot, which plots the relationship between the percentages of sentenced females and unsentenced females. Since we have omitted the code, how can we adapt the code used previously for the following plot?\n",
    "\n",
    "<img src=\"./data/42plot.png\" alt=\"Percent Sentenced vs. Total Unsentenced Percents (Females)\" style=\"width: 800px;\"/>"
   ]
  },
  {
   "cell_type": "markdown",
   "metadata": {
    "tags": [
     "include"
    ]
   },
   "source": [
    "<!-- BEGIN QUESTION -->\n",
    "\n",
    "<div class=\"alert alert-block alert-info\">\n",
    "<b>Question 2a:</b> Compare the totals plot (completed in section 4.1) to the one you just created. What kind of story does this plot reveal?\n",
    "</div>\n",
    "\n",
    "<!--\n",
    "BEGIN QUESTION\n",
    "name: q42a\n",
    "points: 1\n",
    "manual: true\n",
    "-->"
   ]
  },
  {
   "cell_type": "markdown",
   "metadata": {
    "tags": [
     "include"
    ]
   },
   "source": [
    "**Answer:** *YOUR ANSWER HERE*"
   ]
  },
  {
   "cell_type": "markdown",
   "metadata": {
    "tags": [
     "include"
    ]
   },
   "source": [
    "<!-- END QUESTION -->\n",
    "\n",
    "<!-- BEGIN QUESTION -->\n",
    "<div class=\"alert alert-block alert-info\">\n",
    "<b>Question 4.2b:</b> Given the last graph from the previous notebook, compare your final results to the ones presented here. What story do these two data sets (Prisons and Jails) tell you when you look at them side by side? How do they show the impact of realignment? The graph is shown below.\n",
    "</div>\n",
    "\n",
    "<!--\n",
    "BEGIN QUESTION\n",
    "name: q42b\n",
    "points: 1\n",
    "manual: true\n",
    "-->\n",
    "\n",
    "<img src='./data/lecture1_finalgraph.png'>"
   ]
  },
  {
   "cell_type": "markdown",
   "metadata": {
    "tags": [
     "include"
    ]
   },
   "source": [
    "**Answer:** *YOUR ANSWER HERE*"
   ]
  },
  {
   "cell_type": "markdown",
   "metadata": {},
   "source": [
    "<!-- END QUESTION -->\n",
    "<!-- BEGIN QUESTION -->\n",
    "\n",
    "<div class=\"alert alert-block alert-info\">\n",
    "<b>Labor Question:</b> How much time did you spend completing this module? Did you find outside resources that helped you? if so what were they?\n",
    "</div>\n",
    "\n",
    "\n",
    "<!--\n",
    "BEGIN QUESTION\n",
    "name: QL\n",
    "points: 1\n",
    "manual: true\n",
    "-->\n"
   ]
  },
  {
   "cell_type": "markdown",
   "metadata": {},
   "source": [
    "**Answer here** *Double click to edit this markdown cell with your answer*"
   ]
  },
  {
   "cell_type": "markdown",
   "metadata": {},
   "source": [
    "<!-- END QUESTION -->\n",
    "\n",
    "#### Feedback Survey\n",
    "Please consider filling out this [survey](https://docs.google.com/forms/d/e/1FAIpQLScd1q8VqvOMuVvLfhbVswckYKg1HFVwVu_bTF5NWbVZr4qWhw/viewform?usp=sf_link) to help us improve this module."
   ]
  },
  {
   "cell_type": "code",
   "execution_count": null,
   "metadata": {},
   "outputs": [],
   "source": [
    "# Save your notebook first, then go to `Kernel` > `Restart and Run All Cells`\n",
    "# Download the zip file, which contains a copy of your notebook and your written responses.\n",
    "generator.export(\"notebook3.ipynb\")"
   ]
  },
  {
   "cell_type": "code",
   "execution_count": null,
   "metadata": {},
   "outputs": [],
   "source": []
  }
 ],
 "metadata": {
  "kernelspec": {
   "display_name": "Python 3",
   "language": "python",
   "name": "python3"
  },
  "language_info": {
   "codemirror_mode": {
    "name": "ipython",
    "version": 3
   },
   "file_extension": ".py",
   "mimetype": "text/x-python",
   "name": "python",
   "nbconvert_exporter": "python",
   "pygments_lexer": "ipython3",
   "version": "3.8.8"
  }
 },
 "nbformat": 4,
 "nbformat_minor": 4
}
