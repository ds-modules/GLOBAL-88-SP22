{
 "cells": [
  {
   "cell_type": "code",
   "execution_count": 1,
   "id": "a9bb762d-634e-4f47-b573-602788cd0544",
   "metadata": {},
   "outputs": [],
   "source": [
    "from datascience import *\n",
    "import numpy as np\n",
    "\n",
    "import ipywidgets as widgets\n",
    "from ipywidgets import interact, interactive, fixed, interact_manual\n",
    "\n",
    "import matplotlib.pyplot as plt\n",
    "plt.style.use('fivethirtyeight')\n",
    "%matplotlib inline"
   ]
  },
  {
   "cell_type": "markdown",
   "id": "d6087f39-9bfa-4389-bd56-c1f1d3c6b2db",
   "metadata": {},
   "source": [
    "# 1. The Data Science Life Cycle  \n",
    "\n",
    "In Notebooks 1-4, we got a taste of how to use the Jupyter notebook environment and the Python programming language to derive basic insights about some dataset of interest. We also got an introduction to histograms, scatter plots, bar plots, line plots, and the word cloud. More importantly, we identified when and why we can use a specific visualization.  \n",
    "\n",
    "In the grand scheme of things, however, data visualization and analysis *tend* to be the *final* steps in the **data science lifecycle**. Below, we can see the depiction of the Data Science Life Cycle as envisioned by the course [Data 100](https://ds100.org/sp22/).\n",
    "\n",
    "\n",
    "![](lifecycle.png)\n",
    "*Need to add citation*\n",
    "\n",
    "1. **Question/Problem Formulation:** \n",
    "    - What do we want to know or what problems are we trying to solve?\n",
    "    - What are our hypotheses?\n",
    "    - What are our metrics of success?\n",
    "\n",
    "\n",
    "2. **Data Acquisition and Cleaning:**\n",
    "    - What data do we have and what data do we need?\n",
    "    - How will we collect more data?\n",
    "    - How do we organize the data for analysis?\n",
    "\n",
    "\n",
    "3. **Exploratory Data Analysis:**\n",
    "    - Do we already have relevant data?\n",
    "    - What are the biases, anomalies, or other issues with the data?\n",
    "    - How do we transform the data to enable effective analysis?\n",
    "\n",
    "\n",
    "4. **Prediction and Inference:**\n",
    "    - What does the data say about the world?\n",
    "    - Does it answer our questions or accurately solve the problem?\n",
    "    - How robust are our conclusions? \n",
    "    \n",
    "*Need to add citation*\n",
    "    \n",
    "    \n",
    "This is the life cycle that you will go through for your final project. You have already started thinking through a possible question/problem formulation when we asked you to think about a topic and concepts. Then, after that, we asked you to find some example datasets regarding that topic. This is the start of the (2) Data acquisition process. At this point in the course, you might be narrowing down on what dataset you'd like to explore. "
   ]
  },
  {
   "cell_type": "markdown",
   "id": "4472227a-b7f9-461a-a1e6-fd8d2f88c0df",
   "metadata": {},
   "source": [
    "# 2. Data Cleaning \n",
    "\n",
    "Now, imagine you have decided what your dataset will be. "
   ]
  },
  {
   "cell_type": "code",
   "execution_count": 91,
   "id": "b2d00d44-20ef-4ab7-9b24-616f1c3bd1df",
   "metadata": {},
   "outputs": [
    {
     "data": {
      "text/html": [
       "<table border=\"1\" class=\"dataframe\">\n",
       "    <thead>\n",
       "        <tr>\n",
       "            <th>geoid</th> <th>name</th> <th>year</th> <th>total_est</th> <th>total_se</th> <th>aian_est</th> <th>aian_se</th> <th>api_est</th> <th>api_se</th> <th>asian_est</th> <th>asian_se</th> <th>black_est</th> <th>black_se</th> <th>hisp_est</th> <th>hisp_se</th> <th>nhisp_est</th> <th>nhisp_se</th> <th>nhopi_est</th> <th>nhopi_se</th> <th>nhwhite_est</th> <th>nhwhite_se</th> <th>nnhwhite_est</th> <th>nnhwhite_se</th> <th>other_est</th> <th>other_se</th> <th>othermore_est</th> <th>othermore_se</th> <th>twomore_est</th> <th>twomore_se</th> <th>white_est</th> <th>white_se</th>\n",
       "        </tr>\n",
       "    </thead>\n",
       "    <tbody>\n",
       "        <tr>\n",
       "            <td>97000US0100007</td> <td>Hoover City School District, Alabama</td> <td>2009</td> <td>14.1384  </td> <td>7.22053 </td> <td>nan     </td> <td>nan    </td> <td>nan    </td> <td>nan   </td> <td>nan      </td> <td>nan     </td> <td>nan      </td> <td>nan     </td> <td>nan     </td> <td>nan    </td> <td>nan      </td> <td>nan     </td> <td>nan      </td> <td>nan     </td> <td>14.8973    </td> <td>10.7848   </td> <td>13.1185     </td> <td>22.5664    </td> <td>nan      </td> <td>nan     </td> <td>nan          </td> <td>nan         </td> <td>nan        </td> <td>nan       </td> <td>14.8973  </td> <td>10.7848 </td>\n",
       "        </tr>\n",
       "        <tr>\n",
       "            <td>97000US0100007</td> <td>Hoover City School District, Alabama</td> <td>2010</td> <td>24.9359  </td> <td>15.5228 </td> <td>nan     </td> <td>nan    </td> <td>nan    </td> <td>nan   </td> <td>nan      </td> <td>nan     </td> <td>nan      </td> <td>nan     </td> <td>nan     </td> <td>nan    </td> <td>nan      </td> <td>nan     </td> <td>nan      </td> <td>nan     </td> <td>nan        </td> <td>nan       </td> <td>nan         </td> <td>nan        </td> <td>nan      </td> <td>nan     </td> <td>nan          </td> <td>nan         </td> <td>nan        </td> <td>nan       </td> <td>nan      </td> <td>nan     </td>\n",
       "        </tr>\n",
       "    </tbody>\n",
       "</table>\n",
       "<p>... (7518 rows omitted)</p>"
      ],
      "text/plain": [
       "<IPython.core.display.HTML object>"
      ]
     },
     "metadata": {},
     "output_type": "display_data"
    }
   ],
   "source": [
    "data = Table.read_table(\"../data/nb5/17010_4_P_970_1.csv\")\n",
    "data.show(2)"
   ]
  },
  {
   "cell_type": "code",
   "execution_count": 78,
   "id": "7c7d5737-5152-4697-9b14-4064b1f210cb",
   "metadata": {},
   "outputs": [
    {
     "data": {
      "text/html": [
       "<table border=\"1\" class=\"dataframe\">\n",
       "    <thead>\n",
       "        <tr>\n",
       "            <th>Column</th> <th>Type</th> <th>Label</th> <th>Description</th>\n",
       "        </tr>\n",
       "    </thead>\n",
       "    <tbody>\n",
       "        <tr>\n",
       "            <td>geoid    </td> <td>text   </td> <td>Census Geographic Identifier</td> <td>nan                                                         </td>\n",
       "        </tr>\n",
       "        <tr>\n",
       "            <td>name     </td> <td>text   </td> <td>Census Geography Name       </td> <td>nan                                                         </td>\n",
       "        </tr>\n",
       "        <tr>\n",
       "            <td>year     </td> <td>text   </td> <td>Year                        </td> <td>nan                                                         </td>\n",
       "        </tr>\n",
       "        <tr>\n",
       "            <td>total_est</td> <td>numeric</td> <td>Estimate; Total             </td> <td>The ACS-based estimate for the Total population.            </td>\n",
       "        </tr>\n",
       "        <tr>\n",
       "            <td>total_se </td> <td>numeric</td> <td>Standard Error; Total       </td> <td>The standard error of the ACS-based estimate for the Tot ...</td>\n",
       "        </tr>\n",
       "    </tbody>\n",
       "</table>\n",
       "<p>... (26 rows omitted)</p>"
      ],
      "text/plain": [
       "<IPython.core.display.HTML object>"
      ]
     },
     "metadata": {},
     "output_type": "display_data"
    }
   ],
   "source": [
    "dictionary = Table.read_table(\"../data/nb5/data_dictionary.csv\")\n",
    "dictionary.show(5)"
   ]
  },
  {
   "cell_type": "markdown",
   "id": "b03a42ee-8475-4140-b536-9a67eb59fc5c",
   "metadata": {},
   "source": [
    "# `NaN` and Missing Values \n",
    "\n",
    "Show students how to deal with NaN values. First, show them a histogram of a column with NaN values. \n",
    "\n",
    "- Experiment with removing the NaN values and document how the size of our dataset changed\n",
    "    - Need to figure out how to remove NaN values with `datascience` library\n",
    "    - Plot histogram of new data without NaN values\n",
    "- Experiment filling out NaN values with 0 \n",
    "    - Talk about what implications this will have on our data and future analysis \n",
    "    - Plot histogram of new data with NaN = 0 "
   ]
  },
  {
   "cell_type": "code",
   "execution_count": 82,
   "id": "8cf61e08",
   "metadata": {},
   "outputs": [
    {
     "data": {
      "image/png": "[encoded data removed]",
      "text/plain": [
       "<Figure size 432x288 with 1 Axes>"
      ]
     },
     "metadata": {
      "needs_background": "light"
     },
     "output_type": "display_data"
    }
   ],
   "source": [
    "# Example histogram with the feature \"aian_est\" prior to replacing the NaN values\n",
    "data.hist(\"aian_est\")"
   ]
  },
  {
   "cell_type": "code",
   "execution_count": 47,
   "id": "cdcad37c",
   "metadata": {},
   "outputs": [],
   "source": [
    "def nan_to_0(x):\n",
    "    if np.isnan(x):\n",
    "        return 0\n",
    "    else:\n",
    "        return x"
   ]
  },
  {
   "cell_type": "code",
   "execution_count": 80,
   "id": "09c7031a",
   "metadata": {},
   "outputs": [
    {
     "data": {
      "text/html": [
       "<table border=\"1\" class=\"dataframe\">\n",
       "    <thead>\n",
       "        <tr>\n",
       "            <th>geoid</th> <th>name</th> <th>year</th> <th>total_est</th> <th>total_se</th> <th>aian_est</th> <th>aian_se</th> <th>api_est</th> <th>api_se</th> <th>asian_est</th> <th>asian_se</th> <th>black_est</th> <th>black_se</th> <th>hisp_est</th> <th>hisp_se</th> <th>nhisp_est</th> <th>nhisp_se</th> <th>nhopi_est</th> <th>nhopi_se</th> <th>nhwhite_est</th> <th>nhwhite_se</th> <th>nnhwhite_est</th> <th>nnhwhite_se</th> <th>other_est</th> <th>other_se</th> <th>othermore_est</th> <th>othermore_se</th> <th>twomore_est</th> <th>twomore_se</th> <th>white_est</th> <th>white_se</th>\n",
       "        </tr>\n",
       "    </thead>\n",
       "    <tbody>\n",
       "        <tr>\n",
       "            <td>97000US0100007</td> <td>Hoover City School District, Alabama   </td> <td>2009</td> <td>14.1384  </td> <td>7.22053 </td> <td>0       </td> <td>0      </td> <td>0      </td> <td>0     </td> <td>0        </td> <td>0       </td> <td>0        </td> <td>0       </td> <td>0       </td> <td>0      </td> <td>0        </td> <td>0       </td> <td>0        </td> <td>0       </td> <td>14.8973    </td> <td>10.7848   </td> <td>13.1185     </td> <td>22.5664    </td> <td>0        </td> <td>0       </td> <td>0            </td> <td>0           </td> <td>0          </td> <td>0         </td> <td>14.8973  </td> <td>10.7848 </td>\n",
       "        </tr>\n",
       "        <tr>\n",
       "            <td>97000US0100007</td> <td>Hoover City School District, Alabama   </td> <td>2010</td> <td>24.9359  </td> <td>15.5228 </td> <td>0       </td> <td>0      </td> <td>0      </td> <td>0     </td> <td>0        </td> <td>0       </td> <td>0        </td> <td>0       </td> <td>0       </td> <td>0      </td> <td>0        </td> <td>0       </td> <td>0        </td> <td>0       </td> <td>0          </td> <td>0         </td> <td>0           </td> <td>0          </td> <td>0        </td> <td>0       </td> <td>0            </td> <td>0           </td> <td>0          </td> <td>0         </td> <td>0        </td> <td>0       </td>\n",
       "        </tr>\n",
       "        <tr>\n",
       "            <td>97000US0100007</td> <td>Hoover City School District, Alabama   </td> <td>2011</td> <td>22.4096  </td> <td>11.8337 </td> <td>0       </td> <td>0      </td> <td>0      </td> <td>0     </td> <td>0        </td> <td>0       </td> <td>0        </td> <td>0       </td> <td>0       </td> <td>0      </td> <td>0        </td> <td>0       </td> <td>0        </td> <td>0       </td> <td>0          </td> <td>0         </td> <td>0           </td> <td>0          </td> <td>0        </td> <td>0       </td> <td>0            </td> <td>0           </td> <td>0          </td> <td>0         </td> <td>0        </td> <td>21.6701 </td>\n",
       "        </tr>\n",
       "        <tr>\n",
       "            <td>97000US0100007</td> <td>Hoover City School District, Alabama   </td> <td>2012</td> <td>13.0282  </td> <td>8.25687 </td> <td>0       </td> <td>0      </td> <td>0      </td> <td>0     </td> <td>0        </td> <td>0       </td> <td>0        </td> <td>0       </td> <td>0       </td> <td>0      </td> <td>0        </td> <td>0       </td> <td>0        </td> <td>0       </td> <td>11.465     </td> <td>10.679    </td> <td>13.3813     </td> <td>10.3336    </td> <td>0        </td> <td>0       </td> <td>0            </td> <td>0           </td> <td>0          </td> <td>0         </td> <td>7.91209  </td> <td>7.55173 </td>\n",
       "        </tr>\n",
       "        <tr>\n",
       "            <td>97000US0100007</td> <td>Hoover City School District, Alabama   </td> <td>2013</td> <td>13.5084  </td> <td>5.77568 </td> <td>0       </td> <td>0      </td> <td>0      </td> <td>0     </td> <td>0        </td> <td>0       </td> <td>0        </td> <td>0       </td> <td>0       </td> <td>0      </td> <td>0        </td> <td>0       </td> <td>0        </td> <td>0       </td> <td>9.55882    </td> <td>5.42272   </td> <td>14.8615     </td> <td>7.67635    </td> <td>0        </td> <td>0       </td> <td>0            </td> <td>0           </td> <td>0          </td> <td>0         </td> <td>25.7118  </td> <td>15.7238 </td>\n",
       "        </tr>\n",
       "        <tr>\n",
       "            <td>97000US0100007</td> <td>Hoover City School District, Alabama   </td> <td>2014</td> <td>13.3909  </td> <td>8.19784 </td> <td>0       </td> <td>0      </td> <td>0      </td> <td>0     </td> <td>0        </td> <td>0       </td> <td>0        </td> <td>0       </td> <td>0       </td> <td>0      </td> <td>0        </td> <td>0       </td> <td>0        </td> <td>0       </td> <td>17.0186    </td> <td>13.736    </td> <td>8.39041     </td> <td>29.0047    </td> <td>0        </td> <td>0       </td> <td>0            </td> <td>0           </td> <td>0          </td> <td>0         </td> <td>17.0186  </td> <td>13.736  </td>\n",
       "        </tr>\n",
       "        <tr>\n",
       "            <td>97000US0100007</td> <td>Hoover City School District, Alabama   </td> <td>2015</td> <td>10.7615  </td> <td>6.66663 </td> <td>0       </td> <td>0      </td> <td>0      </td> <td>0     </td> <td>0        </td> <td>0       </td> <td>0        </td> <td>0       </td> <td>0       </td> <td>0      </td> <td>0        </td> <td>0       </td> <td>0        </td> <td>0       </td> <td>5.26316    </td> <td>5.07037   </td> <td>12.963      </td> <td>9.06222    </td> <td>0        </td> <td>0       </td> <td>0            </td> <td>0           </td> <td>0          </td> <td>0         </td> <td>4.87445  </td> <td>4.74084 </td>\n",
       "        </tr>\n",
       "        <tr>\n",
       "            <td>97000US0100007</td> <td>Hoover City School District, Alabama   </td> <td>2016</td> <td>15.4217  </td> <td>9.80178 </td> <td>0       </td> <td>0      </td> <td>0      </td> <td>0     </td> <td>0        </td> <td>0       </td> <td>0        </td> <td>0       </td> <td>0       </td> <td>0      </td> <td>0        </td> <td>0       </td> <td>0        </td> <td>0       </td> <td>28.3186    </td> <td>16.4416   </td> <td>0           </td> <td>32.8644    </td> <td>0        </td> <td>0       </td> <td>0            </td> <td>0           </td> <td>0          </td> <td>0         </td> <td>28.3186  </td> <td>16.4416 </td>\n",
       "        </tr>\n",
       "        <tr>\n",
       "            <td>97000US0100007</td> <td>Hoover City School District, Alabama   </td> <td>2017</td> <td>17.4626  </td> <td>9.08228 </td> <td>0       </td> <td>0      </td> <td>0      </td> <td>0     </td> <td>0        </td> <td>0       </td> <td>0        </td> <td>0       </td> <td>0       </td> <td>0      </td> <td>0        </td> <td>0       </td> <td>0        </td> <td>0       </td> <td>0          </td> <td>16.1676   </td> <td>27.4035     </td> <td>13.4769    </td> <td>0        </td> <td>0       </td> <td>0            </td> <td>0           </td> <td>0          </td> <td>0         </td> <td>0        </td> <td>16.1676 </td>\n",
       "        </tr>\n",
       "        <tr>\n",
       "            <td>97000US0100270</td> <td>Baldwin County School District, Alabama</td> <td>2009</td> <td>42.9204  </td> <td>7.91325 </td> <td>0       </td> <td>0      </td> <td>0      </td> <td>0     </td> <td>0        </td> <td>0       </td> <td>0        </td> <td>0       </td> <td>0       </td> <td>0      </td> <td>0        </td> <td>0       </td> <td>0        </td> <td>0       </td> <td>40.5248    </td> <td>8.77146   </td> <td>45.8057     </td> <td>19.0939    </td> <td>0        </td> <td>0       </td> <td>0            </td> <td>0           </td> <td>0          </td> <td>0         </td> <td>38.2803  </td> <td>8.35811 </td>\n",
       "        </tr>\n",
       "    </tbody>\n",
       "</table>\n",
       "<p>... (7510 rows omitted)</p>"
      ],
      "text/plain": [
       "geoid          | name                                    | year | total_est | total_se | aian_est | aian_se | api_est | api_se | asian_est | asian_se | black_est | black_se | hisp_est | hisp_se | nhisp_est | nhisp_se | nhopi_est | nhopi_se | nhwhite_est | nhwhite_se | nnhwhite_est | nnhwhite_se | other_est | other_se | othermore_est | othermore_se | twomore_est | twomore_se | white_est | white_se\n",
       "97000US0100007 | Hoover City School District, Alabama    | 2009 | 14.1384   | 7.22053  | 0        | 0       | 0       | 0      | 0         | 0        | 0         | 0        | 0        | 0       | 0         | 0        | 0         | 0        | 14.8973     | 10.7848    | 13.1185      | 22.5664     | 0         | 0        | 0             | 0            | 0           | 0          | 14.8973   | 10.7848\n",
       "97000US0100007 | Hoover City School District, Alabama    | 2010 | 24.9359   | 15.5228  | 0        | 0       | 0       | 0      | 0         | 0        | 0         | 0        | 0        | 0       | 0         | 0        | 0         | 0        | 0           | 0          | 0            | 0           | 0         | 0        | 0             | 0            | 0           | 0          | 0         | 0\n",
       "97000US0100007 | Hoover City School District, Alabama    | 2011 | 22.4096   | 11.8337  | 0        | 0       | 0       | 0      | 0         | 0        | 0         | 0        | 0        | 0       | 0         | 0        | 0         | 0        | 0           | 0          | 0            | 0           | 0         | 0        | 0             | 0            | 0           | 0          | 0         | 21.6701\n",
       "97000US0100007 | Hoover City School District, Alabama    | 2012 | 13.0282   | 8.25687  | 0        | 0       | 0       | 0      | 0         | 0        | 0         | 0        | 0        | 0       | 0         | 0        | 0         | 0        | 11.465      | 10.679     | 13.3813      | 10.3336     | 0         | 0        | 0             | 0            | 0           | 0          | 7.91209   | 7.55173\n",
       "97000US0100007 | Hoover City School District, Alabama    | 2013 | 13.5084   | 5.77568  | 0        | 0       | 0       | 0      | 0         | 0        | 0         | 0        | 0        | 0       | 0         | 0        | 0         | 0        | 9.55882     | 5.42272    | 14.8615      | 7.67635     | 0         | 0        | 0             | 0            | 0           | 0          | 25.7118   | 15.7238\n",
       "97000US0100007 | Hoover City School District, Alabama    | 2014 | 13.3909   | 8.19784  | 0        | 0       | 0       | 0      | 0         | 0        | 0         | 0        | 0        | 0       | 0         | 0        | 0         | 0        | 17.0186     | 13.736     | 8.39041      | 29.0047     | 0         | 0        | 0             | 0            | 0           | 0          | 17.0186   | 13.736\n",
       "97000US0100007 | Hoover City School District, Alabama    | 2015 | 10.7615   | 6.66663  | 0        | 0       | 0       | 0      | 0         | 0        | 0         | 0        | 0        | 0       | 0         | 0        | 0         | 0        | 5.26316     | 5.07037    | 12.963       | 9.06222     | 0         | 0        | 0             | 0            | 0           | 0          | 4.87445   | 4.74084\n",
       "97000US0100007 | Hoover City School District, Alabama    | 2016 | 15.4217   | 9.80178  | 0        | 0       | 0       | 0      | 0         | 0        | 0         | 0        | 0        | 0       | 0         | 0        | 0         | 0        | 28.3186     | 16.4416    | 0            | 32.8644     | 0         | 0        | 0             | 0            | 0           | 0          | 28.3186   | 16.4416\n",
       "97000US0100007 | Hoover City School District, Alabama    | 2017 | 17.4626   | 9.08228  | 0        | 0       | 0       | 0      | 0         | 0        | 0         | 0        | 0        | 0       | 0         | 0        | 0         | 0        | 0           | 16.1676    | 27.4035      | 13.4769     | 0         | 0        | 0             | 0            | 0           | 0          | 0         | 16.1676\n",
       "97000US0100270 | Baldwin County School District, Alabama | 2009 | 42.9204   | 7.91325  | 0        | 0       | 0       | 0      | 0         | 0        | 0         | 0        | 0        | 0       | 0         | 0        | 0         | 0        | 40.5248     | 8.77146    | 45.8057      | 19.0939     | 0         | 0        | 0             | 0            | 0           | 0          | 38.2803   | 8.35811\n",
       "... (7510 rows omitted)"
      ]
     },
     "execution_count": 80,
     "metadata": {},
     "output_type": "execute_result"
    }
   ],
   "source": [
    "nan_df = data\n",
    "for column in dictionary.column(\"Column\")[3:]:\n",
    "    new_arr = nan_df.apply(nan_to_0, column)\n",
    "    nan_df = nan_df.with_column(column, new_arr)\n",
    "\n",
    "nan_df"
   ]
  },
  {
   "cell_type": "markdown",
   "id": "9afaae88",
   "metadata": {},
   "source": [
    "In general, replacing NaN values with 0 will skew the data. Especially in a dataset like this where there are a lot of NaN values, then the resulting data frame will now have many data points at 0, which will skew the overall shape of the draft to be biased towards 0 (or right skew). That can distract from the overall trend of the graph."
   ]
  },
  {
   "cell_type": "code",
   "execution_count": 92,
   "id": "a00682e9",
   "metadata": {},
   "outputs": [
    {
     "data": {
      "image/png": "[encoded data removed]",
      "text/plain": [
       "<Figure size 432x288 with 1 Axes>"
      ]
     },
     "metadata": {
      "needs_background": "light"
     },
     "output_type": "display_data"
    }
   ],
   "source": [
    "# Example histogram of the same feature from earlier but with the NaN values replaced to 0; notice the clear skew\n",
    "nan_df.hist(\"aian_est\")"
   ]
  },
  {
   "cell_type": "markdown",
   "id": "b31b5b1e-9300-42e4-9f29-0a4ed03419c5",
   "metadata": {},
   "source": [
    "# Relabeling Data  \n",
    "\n",
    "- Relabel column names based on what the data dictionary says each column represents\n",
    "- Show students how to relabel columns with the `datascience` library "
   ]
  },
  {
   "cell_type": "markdown",
   "id": "0e76f520-8d84-4153-b1b6-f2c501e4e104",
   "metadata": {},
   "source": [
    "# Partition Data  \n",
    "\n",
    "- Partition the `name` column to two columns titled `District Name` and `State` \n",
    "- Show them how to add a new column with the `datascience` package"
   ]
  },
  {
   "cell_type": "markdown",
   "id": "1b17badd-edbb-4444-974f-1416155aa1c2",
   "metadata": {},
   "source": [
    "# Removing Unwanted Data \n",
    "\n",
    "- Show students how to drop columns with the `datascience` package"
   ]
  }
 ],
 "metadata": {
  "kernelspec": {
   "display_name": "Python 3",
   "language": "python",
   "name": "python3"
  },
  "language_info": {
   "codemirror_mode": {
    "name": "ipython",
    "version": 3
   },
   "file_extension": ".py",
   "mimetype": "text/x-python",
   "name": "python",
   "nbconvert_exporter": "python",
   "pygments_lexer": "ipython3",
   "version": "3.8.8"
  }
 },
 "nbformat": 4,
 "nbformat_minor": 5
}
