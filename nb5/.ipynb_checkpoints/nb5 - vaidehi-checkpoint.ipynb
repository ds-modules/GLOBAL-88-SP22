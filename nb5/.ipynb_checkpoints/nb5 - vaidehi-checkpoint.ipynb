{
 "cells": [
  {
   "cell_type": "code",
   "execution_count": 5,
   "id": "a9bb762d-634e-4f47-b573-602788cd0544",
   "metadata": {},
   "outputs": [],
   "source": [
    "from datascience import *\n",
    "import numpy as np\n",
    "\n",
    "import ipywidgets as widgets\n",
    "from ipywidgets import interact, interactive, fixed, interact_manual\n",
    "\n",
    "import matplotlib.pyplot as plt\n",
    "plt.style.use('fivethirtyeight')\n",
    "%matplotlib inline"
   ]
  },
  {
   "cell_type": "markdown",
   "id": "d6087f39-9bfa-4389-bd56-c1f1d3c6b2db",
   "metadata": {},
   "source": [
    "# 1. The Data Science Life Cycle  \n",
    "\n",
    "In Notebooks 1-4, we got a taste of how to use the Jupyter notebook environment and the Python programming language to derive basic insights about some dataset of interest. We also got an introduction to histograms, scatter plots, bar plots, line plots, and the word cloud. More importantly, we identified when and why we can use a specific visualization.  \n",
    "\n",
    "In the grand scheme of things, however, data visualization and analysis *tend* to be the *final* steps in the **data science lifecycle**. Below, we can see the depiction of the Data Science Life Cycle as envisioned by the course [Data 100](https://ds100.org/sp22/).\n",
    "\n",
    "\n",
    "![](lifecycle.png)\n",
    "*Need to add citation*\n",
    "\n",
    "1. **Question/Problem Formulation:** \n",
    "    - What do we want to know or what problems are we trying to solve?\n",
    "    - What are our hypotheses?\n",
    "    - What are our metrics of success?\n",
    "\n",
    "\n",
    "2. **Data Acquisition and Cleaning:**\n",
    "    - What data do we have and what data do we need?\n",
    "    - How will we collect more data?\n",
    "    - How do we organize the data for analysis?\n",
    "\n",
    "\n",
    "3. **Exploratory Data Analysis:**\n",
    "    - Do we already have relevant data?\n",
    "    - What are the biases, anomalies, or other issues with the data?\n",
    "    - How do we transform the data to enable effective analysis?\n",
    "\n",
    "\n",
    "4. **Prediction and Inference:**\n",
    "    - What does the data say about the world?\n",
    "    - Does it answer our questions or accurately solve the problem?\n",
    "    - How robust are our conclusions? \n",
    "    \n",
    "*Need to add citation*\n",
    "    \n",
    "    \n",
    "This is the life cycle that you will go through for your final project. You have already started thinking through a possible question/problem formulation when we asked you to think about a topic and concepts. Then, after that, we asked you to find some example datasets regarding that topic. This is the start of the (2) Data acquisition process. At this point in the course, you might be narrowing down on what dataset you'd like to explore. "
   ]
  },
  {
   "cell_type": "markdown",
   "id": "4472227a-b7f9-461a-a1e6-fd8d2f88c0df",
   "metadata": {},
   "source": [
    "# 2. Data Cleaning \n",
    "\n",
    "Now, imagine you have decided what your dataset will be. "
   ]
  },
  {
   "cell_type": "code",
   "execution_count": 6,
   "id": "b2d00d44-20ef-4ab7-9b24-616f1c3bd1df",
   "metadata": {},
   "outputs": [
    {
     "data": {
      "text/html": [
       "<table border=\"1\" class=\"dataframe\">\n",
       "    <thead>\n",
       "        <tr>\n",
       "            <th>geoid</th> <th>name</th> <th>year</th> <th>total_est</th> <th>total_se</th> <th>aian_est</th> <th>aian_se</th> <th>api_est</th> <th>api_se</th> <th>asian_est</th> <th>asian_se</th> <th>black_est</th> <th>black_se</th> <th>hisp_est</th> <th>hisp_se</th> <th>nhisp_est</th> <th>nhisp_se</th> <th>nhopi_est</th> <th>nhopi_se</th> <th>nhwhite_est</th> <th>nhwhite_se</th> <th>nnhwhite_est</th> <th>nnhwhite_se</th> <th>other_est</th> <th>other_se</th> <th>othermore_est</th> <th>othermore_se</th> <th>twomore_est</th> <th>twomore_se</th> <th>white_est</th> <th>white_se</th>\n",
       "        </tr>\n",
       "    </thead>\n",
       "    <tbody>\n",
       "        <tr>\n",
       "            <td>97000US0100007</td> <td>Hoover City School District, Alabama</td> <td>2009</td> <td>14.1384  </td> <td>7.22053 </td> <td>nan     </td> <td>nan    </td> <td>nan    </td> <td>nan   </td> <td>nan      </td> <td>nan     </td> <td>nan      </td> <td>nan     </td> <td>nan     </td> <td>nan    </td> <td>nan      </td> <td>nan     </td> <td>nan      </td> <td>nan     </td> <td>14.8973    </td> <td>10.7848   </td> <td>13.1185     </td> <td>22.5664    </td> <td>nan      </td> <td>nan     </td> <td>nan          </td> <td>nan         </td> <td>nan        </td> <td>nan       </td> <td>14.8973  </td> <td>10.7848 </td>\n",
       "        </tr>\n",
       "        <tr>\n",
       "            <td>97000US0100007</td> <td>Hoover City School District, Alabama</td> <td>2010</td> <td>24.9359  </td> <td>15.5228 </td> <td>nan     </td> <td>nan    </td> <td>nan    </td> <td>nan   </td> <td>nan      </td> <td>nan     </td> <td>nan      </td> <td>nan     </td> <td>nan     </td> <td>nan    </td> <td>nan      </td> <td>nan     </td> <td>nan      </td> <td>nan     </td> <td>nan        </td> <td>nan       </td> <td>nan         </td> <td>nan        </td> <td>nan      </td> <td>nan     </td> <td>nan          </td> <td>nan         </td> <td>nan        </td> <td>nan       </td> <td>nan      </td> <td>nan     </td>\n",
       "        </tr>\n",
       "    </tbody>\n",
       "</table>\n",
       "<p>... (7518 rows omitted)</p>"
      ],
      "text/plain": [
       "<IPython.core.display.HTML object>"
      ]
     },
     "metadata": {},
     "output_type": "display_data"
    }
   ],
   "source": [
    "data = Table.read_table(\"../data/nb5/17010_4_P_970_1.csv\")\n",
    "data.show(2)"
   ]
  },
  {
   "cell_type": "code",
   "execution_count": 7,
   "id": "7c7d5737-5152-4697-9b14-4064b1f210cb",
   "metadata": {},
   "outputs": [
    {
     "data": {
      "text/html": [
       "<table border=\"1\" class=\"dataframe\">\n",
       "    <thead>\n",
       "        <tr>\n",
       "            <th>Column</th> <th>Type</th> <th>Label</th> <th>Description</th>\n",
       "        </tr>\n",
       "    </thead>\n",
       "    <tbody>\n",
       "        <tr>\n",
       "            <td>geoid    </td> <td>text   </td> <td>Census Geographic Identifier                           </td> <td>nan                                                         </td>\n",
       "        </tr>\n",
       "        <tr>\n",
       "            <td>name     </td> <td>text   </td> <td>Census Geography Name                                  </td> <td>nan                                                         </td>\n",
       "        </tr>\n",
       "        <tr>\n",
       "            <td>year     </td> <td>text   </td> <td>Year                                                   </td> <td>nan                                                         </td>\n",
       "        </tr>\n",
       "        <tr>\n",
       "            <td>total_est</td> <td>numeric</td> <td>Estimate; Total                                        </td> <td>The ACS-based estimate for the Total population.            </td>\n",
       "        </tr>\n",
       "        <tr>\n",
       "            <td>total_se </td> <td>numeric</td> <td>Standard Error; Total                                  </td> <td>The standard error of the ACS-based estimate for the Tot ...</td>\n",
       "        </tr>\n",
       "        <tr>\n",
       "            <td>aian_est </td> <td>numeric</td> <td>Estimate; American Indian and Alaska Native Alone      </td> <td>The ACS-based estimate for the American Indian and Alask ...</td>\n",
       "        </tr>\n",
       "        <tr>\n",
       "            <td>aian_se  </td> <td>numeric</td> <td>Standard Error; American Indian and Alaska Native Alone</td> <td>The standard error of the ACS-based estimate for the Ame ...</td>\n",
       "        </tr>\n",
       "        <tr>\n",
       "            <td>api_est  </td> <td>numeric</td> <td>Estimate; Asian or Pacific Islander Alone              </td> <td>The ACS-based estimate for the Asian or Pacific Islander ...</td>\n",
       "        </tr>\n",
       "        <tr>\n",
       "            <td>api_se   </td> <td>numeric</td> <td>Standard Error; Asian or Pacific Islander Alone        </td> <td>The standard error of the ACS-based estimate for the Asi ...</td>\n",
       "        </tr>\n",
       "        <tr>\n",
       "            <td>asian_est</td> <td>numeric</td> <td>Estimate; Asian Alone                                  </td> <td>The ACS-based estimate for the Asian Alone population.      </td>\n",
       "        </tr>\n",
       "    </tbody>\n",
       "</table>\n",
       "<p>... (21 rows omitted)</p>"
      ],
      "text/plain": [
       "<IPython.core.display.HTML object>"
      ]
     },
     "metadata": {},
     "output_type": "display_data"
    }
   ],
   "source": [
    "dictionary = Table.read_table(\"../data/nb5/data_dictionary.csv\")\n",
    "dictionary.show(10)"
   ]
  },
  {
   "cell_type": "markdown",
   "id": "b03a42ee-8475-4140-b536-9a67eb59fc5c",
   "metadata": {},
   "source": [
    "# `NaN` and Missing Values \n",
    "\n",
    "Show students how to deal with NaN values. First, show them a histogram of a column with NaN values. \n",
    "\n",
    "- Experiment with removing the NaN values and document how the size of our dataset changed\n",
    "    - Need to figure out how to remove NaN values with `datascience` library\n",
    "    - Plot histogram of new data without NaN values\n",
    "- Experiment filling out NaN values with 0 \n",
    "    - Talk about what implications this will have on our data and future analysis \n",
    "    - Plot histogram of new data with NaN = 0 "
   ]
  },
  {
   "cell_type": "markdown",
   "id": "c91b9b9c",
   "metadata": {},
   "source": [
    "---"
   ]
  },
  {
   "cell_type": "markdown",
   "id": "80b7f5fb",
   "metadata": {},
   "source": [
    "## Removing NaN values"
   ]
  },
  {
   "cell_type": "code",
   "execution_count": 8,
   "id": "fd6b058b",
   "metadata": {},
   "outputs": [],
   "source": [
    "import pandas as pd"
   ]
  },
  {
   "cell_type": "markdown",
   "id": "94876857",
   "metadata": {},
   "source": [
    "### Histogram before removing NaN values"
   ]
  },
  {
   "cell_type": "markdown",
   "id": "c20c01a3",
   "metadata": {},
   "source": [
    "Histogram for the estimate for American Indian and Alaska Native Alone population before removing NaN values:"
   ]
  },
  {
   "cell_type": "code",
   "execution_count": 9,
   "id": "27dbc75d",
   "metadata": {},
   "outputs": [
    {
     "data": {
      "image/png": "[encoded data removed]",
      "text/plain": [
       "<Figure size 576x504 with 1 Axes>"
      ]
     },
     "metadata": {
      "needs_background": "light"
     },
     "output_type": "display_data"
    }
   ],
   "source": [
    "plt.figure(figsize = (8, 7))\n",
    "plt.hist(data = data, x = \"aian_est\", density = True)\n",
    "plt.title(\"Density Histogram of the Estimate for American Indian and Alaska Native Alone Population\")\n",
    "plt.xlabel(\"Estimate (%)\")\n",
    "plt.ylabel(\"Density\")\n",
    "plt.show()"
   ]
  },
  {
   "cell_type": "markdown",
   "id": "7c855789",
   "metadata": {},
   "source": [
    "### Counting non-NaN rows"
   ]
  },
  {
   "cell_type": "markdown",
   "id": "452621d1",
   "metadata": {},
   "source": [
    "Function to count the number of rows with no NaN values:"
   ]
  },
  {
   "cell_type": "code",
   "execution_count": 10,
   "id": "c48d2980",
   "metadata": {},
   "outputs": [],
   "source": [
    "def nan_count(tbl):\n",
    "    counter = 0\n",
    "    for x in np.arange(tbl.num_rows):\n",
    "        list_row = list(tbl.row(x))\n",
    "        if np.count_nonzero(pd.isna(list_row)) > 0:\n",
    "            counter = counter + 1\n",
    "    return counter"
   ]
  },
  {
   "cell_type": "markdown",
   "id": "da669c1f",
   "metadata": {},
   "source": [
    "Number of rows with no NaN values:"
   ]
  },
  {
   "cell_type": "code",
   "execution_count": 11,
   "id": "7f449284",
   "metadata": {},
   "outputs": [
    {
     "data": {
      "text/plain": [
       "7"
      ]
     },
     "execution_count": 11,
     "metadata": {},
     "output_type": "execute_result"
    }
   ],
   "source": [
    "data.num_rows - nan_count(data)"
   ]
  },
  {
   "cell_type": "markdown",
   "id": "16921b40",
   "metadata": {},
   "source": [
    "### Removing NaN rows"
   ]
  },
  {
   "cell_type": "markdown",
   "id": "10e41c60",
   "metadata": {},
   "source": [
    "Function to remove rows with at least 1 NaN value:\n",
    "\n",
    "(We don't remove columns as we would lose data about important variables)"
   ]
  },
  {
   "cell_type": "code",
   "execution_count": 12,
   "id": "2a74da6a",
   "metadata": {},
   "outputs": [],
   "source": [
    "def remove_nan(tbl):\n",
    "    tbl_new = Table(tbl.labels)\n",
    "    for x in np.arange(tbl.num_rows):\n",
    "        list_row = list(tbl.row(x))\n",
    "        if np.count_nonzero(pd.isna(list_row)) == 0:\n",
    "            tbl_new = tbl_new.with_rows([list_row])\n",
    "    return tbl_new"
   ]
  },
  {
   "cell_type": "markdown",
   "id": "649f2598",
   "metadata": {},
   "source": [
    "Cleaned table with no rows with NaN values:"
   ]
  },
  {
   "cell_type": "code",
   "execution_count": 13,
   "id": "c21015f9",
   "metadata": {
    "scrolled": true
   },
   "outputs": [
    {
     "data": {
      "text/html": [
       "<table border=\"1\" class=\"dataframe\">\n",
       "    <thead>\n",
       "        <tr>\n",
       "            <th>geoid</th> <th>name</th> <th>year</th> <th>total_est</th> <th>total_se</th> <th>aian_est</th> <th>aian_se</th> <th>api_est</th> <th>api_se</th> <th>asian_est</th> <th>asian_se</th> <th>black_est</th> <th>black_se</th> <th>hisp_est</th> <th>hisp_se</th> <th>nhisp_est</th> <th>nhisp_se</th> <th>nhopi_est</th> <th>nhopi_se</th> <th>nhwhite_est</th> <th>nhwhite_se</th> <th>nnhwhite_est</th> <th>nnhwhite_se</th> <th>other_est</th> <th>other_se</th> <th>othermore_est</th> <th>othermore_se</th> <th>twomore_est</th> <th>twomore_se</th> <th>white_est</th> <th>white_se</th>\n",
       "        </tr>\n",
       "    </thead>\n",
       "    <tbody>\n",
       "        <tr>\n",
       "            <td>97000US0622710</td> <td>Los Angeles Unified School District, California</td> <td>2009</td> <td>42.236   </td> <td>1.10214 </td> <td>47.0345 </td> <td>24.5447</td> <td>19.4306</td> <td>3.94037</td> <td>18.1517  </td> <td>3.92655 </td> <td>39.1309  </td> <td>2.96612 </td> <td>47.7267 </td> <td>1.30225</td> <td>33.6039  </td> <td>4.26988 </td> <td>35.312   </td> <td>19.7135 </td> <td>30.9365    </td> <td>3.28564   </td> <td>43.8647     </td> <td>1.25148    </td> <td>49.6292  </td> <td>2.18227 </td> <td>48.3904      </td> <td>2.11697     </td> <td>26.0298    </td> <td>7.99691   </td> <td>41.6519  </td> <td>1.48596 </td>\n",
       "        </tr>\n",
       "        <tr>\n",
       "            <td>97000US0622710</td> <td>Los Angeles Unified School District, California</td> <td>2010</td> <td>41.5606  </td> <td>1.268   </td> <td>57.3333 </td> <td>16.8137</td> <td>27.8755</td> <td>5.46234</td> <td>26.9609  </td> <td>5.66281 </td> <td>41.3333  </td> <td>1.93264 </td> <td>45.5406 </td> <td>1.73719</td> <td>34.5739  </td> <td>5.18632 </td> <td>43.7333  </td> <td>16.1382 </td> <td>25.5798    </td> <td>3.19571   </td> <td>43.6119     </td> <td>1.38337    </td> <td>49.7145  </td> <td>2.91172 </td> <td>48.5096      </td> <td>2.76949     </td> <td>34.5604    </td> <td>8.32421   </td> <td>37.0962  </td> <td>1.73551 </td>\n",
       "        </tr>\n",
       "    </tbody>\n",
       "</table>\n",
       "<p>... (5 rows omitted)</p>"
      ],
      "text/plain": [
       "<IPython.core.display.HTML object>"
      ]
     },
     "metadata": {},
     "output_type": "display_data"
    }
   ],
   "source": [
    "no_nan_data = remove_nan(data)\n",
    "no_nan_data.show(2)"
   ]
  },
  {
   "cell_type": "markdown",
   "id": "29b52e70",
   "metadata": {},
   "source": [
    "The table shrunk from 7520 rows to only 7 rows"
   ]
  },
  {
   "cell_type": "markdown",
   "id": "8ae45208",
   "metadata": {},
   "source": [
    "### Histogram after removing NaN values"
   ]
  },
  {
   "cell_type": "markdown",
   "id": "8d249a41",
   "metadata": {},
   "source": [
    "Histogram for the estimate for American Indian and Alaska Native Alone population after removing NaN values:"
   ]
  },
  {
   "cell_type": "code",
   "execution_count": 14,
   "id": "d002d6c1",
   "metadata": {},
   "outputs": [
    {
     "data": {
      "image/png": "[encoded data removed]",
      "text/plain": [
       "<Figure size 720x504 with 1 Axes>"
      ]
     },
     "metadata": {
      "needs_background": "light"
     },
     "output_type": "display_data"
    }
   ],
   "source": [
    "plt.figure(figsize = (10, 7))\n",
    "plt.hist(data = no_nan_data, x = \"aian_est\", density = True)\n",
    "plt.title(\"Density Histogram of the Estimate for American Indian and Alaska Native Alone Population\")\n",
    "plt.xlabel(\"Estimate (%)\")\n",
    "plt.ylabel(\"Density\")\n",
    "plt.show()"
   ]
  }
 ],
 "metadata": {
  "kernelspec": {
   "display_name": "Python 3 (ipykernel)",
   "language": "python",
   "name": "python3"
  },
  "language_info": {
   "codemirror_mode": {
    "name": "ipython",
    "version": 3
   },
   "file_extension": ".py",
   "mimetype": "text/x-python",
   "name": "python",
   "nbconvert_exporter": "python",
   "pygments_lexer": "ipython3",
   "version": "3.9.10"
  }
 },
 "nbformat": 4,
 "nbformat_minor": 5
}
