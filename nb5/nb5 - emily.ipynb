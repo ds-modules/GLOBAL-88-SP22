{
 "cells": [
  {
   "cell_type": "code",
   "execution_count": 3,
   "id": "a9bb762d-634e-4f47-b573-602788cd0544",
   "metadata": {},
   "outputs": [],
   "source": [
    "from datascience import *\n",
    "import numpy as np\n",
    "\n",
    "import ipywidgets as widgets\n",
    "from ipywidgets import interact, interactive, fixed, interact_manual\n",
    "\n",
    "import matplotlib.pyplot as plt\n",
    "plt.style.use('fivethirtyeight')\n",
    "%matplotlib inline"
   ]
  },
  {
   "cell_type": "markdown",
   "id": "4472227a-b7f9-461a-a1e6-fd8d2f88c0df",
   "metadata": {},
   "source": [
    "# 2. Data Cleaning \n",
    "\n",
    "Now, imagine you have decided what your dataset will be. "
   ]
  },
  {
   "cell_type": "code",
   "execution_count": 4,
   "id": "b2d00d44-20ef-4ab7-9b24-616f1c3bd1df",
   "metadata": {},
   "outputs": [
    {
     "data": {
      "text/html": [
       "<table border=\"1\" class=\"dataframe\">\n",
       "    <thead>\n",
       "        <tr>\n",
       "            <th>geoid</th> <th>name</th> <th>year</th> <th>total_est</th> <th>total_se</th> <th>aian_est</th> <th>aian_se</th> <th>api_est</th> <th>api_se</th> <th>asian_est</th> <th>asian_se</th> <th>black_est</th> <th>black_se</th> <th>hisp_est</th> <th>hisp_se</th> <th>nhisp_est</th> <th>nhisp_se</th> <th>nhopi_est</th> <th>nhopi_se</th> <th>nhwhite_est</th> <th>nhwhite_se</th> <th>nnhwhite_est</th> <th>nnhwhite_se</th> <th>other_est</th> <th>other_se</th> <th>othermore_est</th> <th>othermore_se</th> <th>twomore_est</th> <th>twomore_se</th> <th>white_est</th> <th>white_se</th>\n",
       "        </tr>\n",
       "    </thead>\n",
       "    <tbody>\n",
       "        <tr>\n",
       "            <td>97000US0100007</td> <td>Hoover City School District, Alabama</td> <td>2009</td> <td>14.1384  </td> <td>7.22053 </td> <td>nan     </td> <td>nan    </td> <td>nan    </td> <td>nan   </td> <td>nan      </td> <td>nan     </td> <td>nan      </td> <td>nan     </td> <td>nan     </td> <td>nan    </td> <td>nan      </td> <td>nan     </td> <td>nan      </td> <td>nan     </td> <td>14.8973    </td> <td>10.7848   </td> <td>13.1185     </td> <td>22.5664    </td> <td>nan      </td> <td>nan     </td> <td>nan          </td> <td>nan         </td> <td>nan        </td> <td>nan       </td> <td>14.8973  </td> <td>10.7848 </td>\n",
       "        </tr>\n",
       "        <tr>\n",
       "            <td>97000US0100007</td> <td>Hoover City School District, Alabama</td> <td>2010</td> <td>24.9359  </td> <td>15.5228 </td> <td>nan     </td> <td>nan    </td> <td>nan    </td> <td>nan   </td> <td>nan      </td> <td>nan     </td> <td>nan      </td> <td>nan     </td> <td>nan     </td> <td>nan    </td> <td>nan      </td> <td>nan     </td> <td>nan      </td> <td>nan     </td> <td>nan        </td> <td>nan       </td> <td>nan         </td> <td>nan        </td> <td>nan      </td> <td>nan     </td> <td>nan          </td> <td>nan         </td> <td>nan        </td> <td>nan       </td> <td>nan      </td> <td>nan     </td>\n",
       "        </tr>\n",
       "    </tbody>\n",
       "</table>\n",
       "<p>... (7518 rows omitted)</p>"
      ],
      "text/plain": [
       "<IPython.core.display.HTML object>"
      ]
     },
     "metadata": {},
     "output_type": "display_data"
    }
   ],
   "source": [
    "data = Table.read_table(\"../data/nb5/17010_4_P_970_1.csv\")\n",
    "data.show(2)"
   ]
  },
  {
   "cell_type": "code",
   "execution_count": 5,
   "id": "7c7d5737-5152-4697-9b14-4064b1f210cb",
   "metadata": {},
   "outputs": [
    {
     "data": {
      "text/html": [
       "<table border=\"1\" class=\"dataframe\">\n",
       "    <thead>\n",
       "        <tr>\n",
       "            <th>Column</th> <th>Type</th> <th>Label</th> <th>Description</th>\n",
       "        </tr>\n",
       "    </thead>\n",
       "    <tbody>\n",
       "        <tr>\n",
       "            <td>geoid        </td> <td>text   </td> <td>Census Geographic Identifier                                </td> <td>nan                                                         </td>\n",
       "        </tr>\n",
       "        <tr>\n",
       "            <td>name         </td> <td>text   </td> <td>Census Geography Name                                       </td> <td>nan                                                         </td>\n",
       "        </tr>\n",
       "        <tr>\n",
       "            <td>year         </td> <td>text   </td> <td>Year                                                        </td> <td>nan                                                         </td>\n",
       "        </tr>\n",
       "        <tr>\n",
       "            <td>total_est    </td> <td>numeric</td> <td>Estimate; Total                                             </td> <td>The ACS-based estimate for the Total population.            </td>\n",
       "        </tr>\n",
       "        <tr>\n",
       "            <td>total_se     </td> <td>numeric</td> <td>Standard Error; Total                                       </td> <td>The standard error of the ACS-based estimate for the Tot ...</td>\n",
       "        </tr>\n",
       "        <tr>\n",
       "            <td>aian_est     </td> <td>numeric</td> <td>Estimate; American Indian and Alaska Native Alone           </td> <td>The ACS-based estimate for the American Indian and Alask ...</td>\n",
       "        </tr>\n",
       "        <tr>\n",
       "            <td>aian_se      </td> <td>numeric</td> <td>Standard Error; American Indian and Alaska Native Alone     </td> <td>The standard error of the ACS-based estimate for the Ame ...</td>\n",
       "        </tr>\n",
       "        <tr>\n",
       "            <td>api_est      </td> <td>numeric</td> <td>Estimate; Asian or Pacific Islander Alone                   </td> <td>The ACS-based estimate for the Asian or Pacific Islander ...</td>\n",
       "        </tr>\n",
       "        <tr>\n",
       "            <td>api_se       </td> <td>numeric</td> <td>Standard Error; Asian or Pacific Islander Alone             </td> <td>The standard error of the ACS-based estimate for the Asi ...</td>\n",
       "        </tr>\n",
       "        <tr>\n",
       "            <td>asian_est    </td> <td>numeric</td> <td>Estimate; Asian Alone                                       </td> <td>The ACS-based estimate for the Asian Alone population.      </td>\n",
       "        </tr>\n",
       "        <tr>\n",
       "            <td>asian_se     </td> <td>numeric</td> <td>Standard Error; Asian Alone                                 </td> <td>The standard error of the ACS-based estimate for the Asi ...</td>\n",
       "        </tr>\n",
       "        <tr>\n",
       "            <td>black_est    </td> <td>numeric</td> <td>Estimate; Black or African American Alone                   </td> <td>The ACS-based estimate for the Black or African American ...</td>\n",
       "        </tr>\n",
       "        <tr>\n",
       "            <td>black_se     </td> <td>numeric</td> <td>Standard Error; Black or African American Alone             </td> <td>The standard error of the ACS-based estimate for the Bla ...</td>\n",
       "        </tr>\n",
       "        <tr>\n",
       "            <td>hisp_est     </td> <td>numeric</td> <td>Estimate; Hispanic or Latino                                </td> <td>The ACS-based estimate for the Hispanic or Latino popula ...</td>\n",
       "        </tr>\n",
       "        <tr>\n",
       "            <td>hisp_se      </td> <td>numeric</td> <td>Standard Error; Hispanic or Latino                          </td> <td>The standard error of the ACS-based estimate for the His ...</td>\n",
       "        </tr>\n",
       "        <tr>\n",
       "            <td>nhisp_est    </td> <td>numeric</td> <td>Estimate; Not Hispanic or Latino                            </td> <td>The ACS-based estimate for the Not Hispanic or Latino po ...</td>\n",
       "        </tr>\n",
       "        <tr>\n",
       "            <td>nhisp_se     </td> <td>numeric</td> <td>Standard Error; Not Hispanic or Latino                      </td> <td>The standard error of the ACS-based estimate for the Not ...</td>\n",
       "        </tr>\n",
       "        <tr>\n",
       "            <td>nhopi_est    </td> <td>numeric</td> <td>Estimate; Native Hawaiian and Other Pacific Islander Alone  </td> <td>The ACS-based estimate for the Native Hawaiian and Other ...</td>\n",
       "        </tr>\n",
       "        <tr>\n",
       "            <td>nhopi_se     </td> <td>numeric</td> <td>Standard Error; Native Hawaiian and Other Pacific Island ...</td> <td>The standard error of the ACS-based estimate for the Nat ...</td>\n",
       "        </tr>\n",
       "        <tr>\n",
       "            <td>nhwhite_est  </td> <td>numeric</td> <td>Estimate; White Alone, Not Hispanic or Latino               </td> <td>The ACS-based estimate for the White Alone, Not Hispanic ...</td>\n",
       "        </tr>\n",
       "        <tr>\n",
       "            <td>nhwhite_se   </td> <td>numeric</td> <td>Standard Error; White Alone, Not Hispanic or Latino         </td> <td>The standard error of the ACS-based estimate for the Whi ...</td>\n",
       "        </tr>\n",
       "        <tr>\n",
       "            <td>nnhwhite_est </td> <td>numeric</td> <td>Estimate; Total minus non-Hispanic Whites                   </td> <td>The ACS-based estimate for the Total minus non-Hispanic  ...</td>\n",
       "        </tr>\n",
       "        <tr>\n",
       "            <td>nnhwhite_se  </td> <td>numeric</td> <td>Standard Error; Total minus non-Hispanic Whites             </td> <td>The standard error of the ACS-based estimate for the Tot ...</td>\n",
       "        </tr>\n",
       "        <tr>\n",
       "            <td>other_est    </td> <td>numeric</td> <td>Estimate; Some Other Race Alone                             </td> <td>The ACS-based estimate for the Some Other Race Alone pop ...</td>\n",
       "        </tr>\n",
       "        <tr>\n",
       "            <td>other_se     </td> <td>numeric</td> <td>Standard Error; Some Other Race Alone                       </td> <td>The standard error of the ACS-based estimate for the Som ...</td>\n",
       "        </tr>\n",
       "        <tr>\n",
       "            <td>othermore_est</td> <td>numeric</td> <td>Estimate; Some Other Race Alone or Two or More Races        </td> <td>The ACS-based estimate for the Some Other Race Alone or  ...</td>\n",
       "        </tr>\n",
       "        <tr>\n",
       "            <td>othermore_se </td> <td>numeric</td> <td>Standard Error; Some Other Race Alone or Two or More Races  </td> <td>The standard error of the ACS-based estimate for the Som ...</td>\n",
       "        </tr>\n",
       "        <tr>\n",
       "            <td>twomore_est  </td> <td>numeric</td> <td>Estimate; Two or More Races                                 </td> <td>The ACS-based estimate for the Two or More Races population.</td>\n",
       "        </tr>\n",
       "        <tr>\n",
       "            <td>twomore_se   </td> <td>numeric</td> <td>Standard Error; Two or More Races                           </td> <td>The standard error of the ACS-based estimate for the Two ...</td>\n",
       "        </tr>\n",
       "        <tr>\n",
       "            <td>white_est    </td> <td>numeric</td> <td>Estimate; White Alone                                       </td> <td>The ACS-based estimate for the White Alone population.      </td>\n",
       "        </tr>\n",
       "        <tr>\n",
       "            <td>white_se     </td> <td>numeric</td> <td>Standard Error; White Alone                                 </td> <td>The standard error of the ACS-based estimate for the Whi ...</td>\n",
       "        </tr>\n",
       "    </tbody>\n",
       "</table>"
      ],
      "text/plain": [
       "<IPython.core.display.HTML object>"
      ]
     },
     "metadata": {},
     "output_type": "display_data"
    }
   ],
   "source": [
    "dictionary = Table.read_table(\"../data/nb5/data_dictionary.csv\")\n",
    "dictionary.show()"
   ]
  },
  {
   "cell_type": "code",
   "execution_count": 9,
   "id": "1290a992",
   "metadata": {},
   "outputs": [
    {
     "data": {
      "text/html": [
       "<table border=\"1\" class=\"dataframe\">\n",
       "    <thead>\n",
       "        <tr>\n",
       "            <th>Census Geographic Identifier</th> <th>Census Geography Name</th> <th>Year</th> <th>Estimate; Total</th> <th>Standard Error; Total</th> <th>Estimate; American Indian and Alaska Native Alone</th> <th>Standard Error; American Indian and Alaska Native Alone</th> <th>Estimate; Asian or Pacific Islander Alone</th> <th>Standard Error; Asian or Pacific Islander Alone</th> <th>Estimate; Asian Alone</th> <th>Standard Error; Asian Alone</th> <th>Estimate; Black or African American Alone</th> <th>Standard Error; Black or African American Alone</th> <th>Estimate; Hispanic or Latino</th> <th>Standard Error; Hispanic or Latino</th> <th>Estimate; Not Hispanic or Latino</th> <th>Standard Error; Not Hispanic or Latino</th> <th>Estimate; Native Hawaiian and Other Pacific Islander Alone</th> <th>Standard Error; Native Hawaiian and Other Pacific Islander Alone</th> <th>Estimate; White Alone, Not Hispanic or Latino</th> <th>Standard Error; White Alone, Not Hispanic or Latino</th> <th>Estimate; Total minus non-Hispanic Whites</th> <th>Standard Error; Total minus non-Hispanic Whites</th> <th>Estimate; Some Other Race Alone</th> <th>Standard Error; Some Other Race Alone</th> <th>Estimate; Some Other Race Alone or Two or More Races</th> <th>Standard Error; Some Other Race Alone or Two or More Races</th> <th>Estimate; Two or More Races</th> <th>Standard Error; Two or More Races</th> <th>Estimate; White Alone</th> <th>Standard Error; White Alone</th>\n",
       "        </tr>\n",
       "    </thead>\n",
       "    <tbody>\n",
       "        <tr>\n",
       "            <td>97000US0100007              </td> <td>Hoover City School District, Alabama   </td> <td>2009</td> <td>14.1384        </td> <td>7.22053              </td> <td>nan                                              </td> <td>nan                                                    </td> <td>nan                                      </td> <td>nan                                            </td> <td>nan                  </td> <td>nan                        </td> <td>nan                                      </td> <td>nan                                            </td> <td>nan                         </td> <td>nan                               </td> <td>nan                             </td> <td>nan                                   </td> <td>nan                                                       </td> <td>nan                                                             </td> <td>14.8973                                      </td> <td>10.7848                                            </td> <td>13.1185                                  </td> <td>22.5664                                        </td> <td>nan                            </td> <td>nan                                  </td> <td>nan                                                 </td> <td>nan                                                       </td> <td>nan                        </td> <td>nan                              </td> <td>14.8973              </td> <td>10.7848                    </td>\n",
       "        </tr>\n",
       "        <tr>\n",
       "            <td>97000US0100007              </td> <td>Hoover City School District, Alabama   </td> <td>2010</td> <td>24.9359        </td> <td>15.5228              </td> <td>nan                                              </td> <td>nan                                                    </td> <td>nan                                      </td> <td>nan                                            </td> <td>nan                  </td> <td>nan                        </td> <td>nan                                      </td> <td>nan                                            </td> <td>nan                         </td> <td>nan                               </td> <td>nan                             </td> <td>nan                                   </td> <td>nan                                                       </td> <td>nan                                                             </td> <td>nan                                          </td> <td>nan                                                </td> <td>nan                                      </td> <td>nan                                            </td> <td>nan                            </td> <td>nan                                  </td> <td>nan                                                 </td> <td>nan                                                       </td> <td>nan                        </td> <td>nan                              </td> <td>nan                  </td> <td>nan                        </td>\n",
       "        </tr>\n",
       "        <tr>\n",
       "            <td>97000US0100007              </td> <td>Hoover City School District, Alabama   </td> <td>2011</td> <td>22.4096        </td> <td>11.8337              </td> <td>nan                                              </td> <td>nan                                                    </td> <td>nan                                      </td> <td>nan                                            </td> <td>nan                  </td> <td>nan                        </td> <td>nan                                      </td> <td>nan                                            </td> <td>nan                         </td> <td>nan                               </td> <td>nan                             </td> <td>nan                                   </td> <td>nan                                                       </td> <td>nan                                                             </td> <td>nan                                          </td> <td>nan                                                </td> <td>nan                                      </td> <td>nan                                            </td> <td>nan                            </td> <td>nan                                  </td> <td>nan                                                 </td> <td>nan                                                       </td> <td>nan                        </td> <td>nan                              </td> <td>0                    </td> <td>21.6701                    </td>\n",
       "        </tr>\n",
       "        <tr>\n",
       "            <td>97000US0100007              </td> <td>Hoover City School District, Alabama   </td> <td>2012</td> <td>13.0282        </td> <td>8.25687              </td> <td>nan                                              </td> <td>nan                                                    </td> <td>nan                                      </td> <td>nan                                            </td> <td>nan                  </td> <td>nan                        </td> <td>nan                                      </td> <td>nan                                            </td> <td>nan                         </td> <td>nan                               </td> <td>nan                             </td> <td>nan                                   </td> <td>nan                                                       </td> <td>nan                                                             </td> <td>11.465                                       </td> <td>10.679                                             </td> <td>13.3813                                  </td> <td>10.3336                                        </td> <td>nan                            </td> <td>nan                                  </td> <td>nan                                                 </td> <td>nan                                                       </td> <td>nan                        </td> <td>nan                              </td> <td>7.91209              </td> <td>7.55173                    </td>\n",
       "        </tr>\n",
       "        <tr>\n",
       "            <td>97000US0100007              </td> <td>Hoover City School District, Alabama   </td> <td>2013</td> <td>13.5084        </td> <td>5.77568              </td> <td>nan                                              </td> <td>nan                                                    </td> <td>nan                                      </td> <td>nan                                            </td> <td>nan                  </td> <td>nan                        </td> <td>nan                                      </td> <td>nan                                            </td> <td>nan                         </td> <td>nan                               </td> <td>nan                             </td> <td>nan                                   </td> <td>nan                                                       </td> <td>nan                                                             </td> <td>9.55882                                      </td> <td>5.42272                                            </td> <td>14.8615                                  </td> <td>7.67635                                        </td> <td>nan                            </td> <td>nan                                  </td> <td>nan                                                 </td> <td>nan                                                       </td> <td>nan                        </td> <td>nan                              </td> <td>25.7118              </td> <td>15.7238                    </td>\n",
       "        </tr>\n",
       "        <tr>\n",
       "            <td>97000US0100007              </td> <td>Hoover City School District, Alabama   </td> <td>2014</td> <td>13.3909        </td> <td>8.19784              </td> <td>nan                                              </td> <td>nan                                                    </td> <td>nan                                      </td> <td>nan                                            </td> <td>nan                  </td> <td>nan                        </td> <td>nan                                      </td> <td>nan                                            </td> <td>nan                         </td> <td>nan                               </td> <td>nan                             </td> <td>nan                                   </td> <td>nan                                                       </td> <td>nan                                                             </td> <td>17.0186                                      </td> <td>13.736                                             </td> <td>8.39041                                  </td> <td>29.0047                                        </td> <td>nan                            </td> <td>nan                                  </td> <td>nan                                                 </td> <td>nan                                                       </td> <td>nan                        </td> <td>nan                              </td> <td>17.0186              </td> <td>13.736                     </td>\n",
       "        </tr>\n",
       "        <tr>\n",
       "            <td>97000US0100007              </td> <td>Hoover City School District, Alabama   </td> <td>2015</td> <td>10.7615        </td> <td>6.66663              </td> <td>nan                                              </td> <td>nan                                                    </td> <td>nan                                      </td> <td>nan                                            </td> <td>nan                  </td> <td>nan                        </td> <td>nan                                      </td> <td>nan                                            </td> <td>nan                         </td> <td>nan                               </td> <td>nan                             </td> <td>nan                                   </td> <td>nan                                                       </td> <td>nan                                                             </td> <td>5.26316                                      </td> <td>5.07037                                            </td> <td>12.963                                   </td> <td>9.06222                                        </td> <td>nan                            </td> <td>nan                                  </td> <td>nan                                                 </td> <td>nan                                                       </td> <td>nan                        </td> <td>nan                              </td> <td>4.87445              </td> <td>4.74084                    </td>\n",
       "        </tr>\n",
       "        <tr>\n",
       "            <td>97000US0100007              </td> <td>Hoover City School District, Alabama   </td> <td>2016</td> <td>15.4217        </td> <td>9.80178              </td> <td>nan                                              </td> <td>nan                                                    </td> <td>nan                                      </td> <td>nan                                            </td> <td>nan                  </td> <td>nan                        </td> <td>nan                                      </td> <td>nan                                            </td> <td>nan                         </td> <td>nan                               </td> <td>nan                             </td> <td>nan                                   </td> <td>nan                                                       </td> <td>nan                                                             </td> <td>28.3186                                      </td> <td>16.4416                                            </td> <td>0                                        </td> <td>32.8644                                        </td> <td>nan                            </td> <td>nan                                  </td> <td>nan                                                 </td> <td>nan                                                       </td> <td>nan                        </td> <td>nan                              </td> <td>28.3186              </td> <td>16.4416                    </td>\n",
       "        </tr>\n",
       "        <tr>\n",
       "            <td>97000US0100007              </td> <td>Hoover City School District, Alabama   </td> <td>2017</td> <td>17.4626        </td> <td>9.08228              </td> <td>nan                                              </td> <td>nan                                                    </td> <td>nan                                      </td> <td>nan                                            </td> <td>nan                  </td> <td>nan                        </td> <td>nan                                      </td> <td>nan                                            </td> <td>nan                         </td> <td>nan                               </td> <td>nan                             </td> <td>nan                                   </td> <td>nan                                                       </td> <td>nan                                                             </td> <td>0                                            </td> <td>16.1676                                            </td> <td>27.4035                                  </td> <td>13.4769                                        </td> <td>nan                            </td> <td>nan                                  </td> <td>nan                                                 </td> <td>nan                                                       </td> <td>nan                        </td> <td>nan                              </td> <td>0                    </td> <td>16.1676                    </td>\n",
       "        </tr>\n",
       "        <tr>\n",
       "            <td>97000US0100270              </td> <td>Baldwin County School District, Alabama</td> <td>2009</td> <td>42.9204        </td> <td>7.91325              </td> <td>nan                                              </td> <td>nan                                                    </td> <td>nan                                      </td> <td>nan                                            </td> <td>nan                  </td> <td>nan                        </td> <td>nan                                      </td> <td>nan                                            </td> <td>nan                         </td> <td>nan                               </td> <td>nan                             </td> <td>nan                                   </td> <td>nan                                                       </td> <td>nan                                                             </td> <td>40.5248                                      </td> <td>8.77146                                            </td> <td>45.8057                                  </td> <td>19.0939                                        </td> <td>nan                            </td> <td>nan                                  </td> <td>nan                                                 </td> <td>nan                                                       </td> <td>nan                        </td> <td>nan                              </td> <td>38.2803              </td> <td>8.35811                    </td>\n",
       "        </tr>\n",
       "    </tbody>\n",
       "</table>\n",
       "<p>... (7510 rows omitted)</p>"
      ],
      "text/plain": [
       "Census Geographic Identifier | Census Geography Name                   | Year | Estimate; Total | Standard Error; Total | Estimate; American Indian and Alaska Native Alone | Standard Error; American Indian and Alaska Native Alone | Estimate; Asian or Pacific Islander Alone | Standard Error; Asian or Pacific Islander Alone | Estimate; Asian Alone | Standard Error; Asian Alone | Estimate; Black or African American Alone | Standard Error; Black or African American Alone | Estimate; Hispanic or Latino | Standard Error; Hispanic or Latino | Estimate; Not Hispanic or Latino | Standard Error; Not Hispanic or Latino | Estimate; Native Hawaiian and Other Pacific Islander Alone | Standard Error; Native Hawaiian and Other Pacific Islander Alone | Estimate; White Alone, Not Hispanic or Latino | Standard Error; White Alone, Not Hispanic or Latino | Estimate; Total minus non-Hispanic Whites | Standard Error; Total minus non-Hispanic Whites | Estimate; Some Other Race Alone | Standard Error; Some Other Race Alone | Estimate; Some Other Race Alone or Two or More Races | Standard Error; Some Other Race Alone or Two or More Races | Estimate; Two or More Races | Standard Error; Two or More Races | Estimate; White Alone | Standard Error; White Alone\n",
       "97000US0100007               | Hoover City School District, Alabama    | 2009 | 14.1384         | 7.22053               | nan                                               | nan                                                     | nan                                       | nan                                             | nan                   | nan                         | nan                                       | nan                                             | nan                          | nan                                | nan                              | nan                                    | nan                                                        | nan                                                              | 14.8973                                       | 10.7848                                             | 13.1185                                   | 22.5664                                         | nan                             | nan                                   | nan                                                  | nan                                                        | nan                         | nan                               | 14.8973               | 10.7848\n",
       "97000US0100007               | Hoover City School District, Alabama    | 2010 | 24.9359         | 15.5228               | nan                                               | nan                                                     | nan                                       | nan                                             | nan                   | nan                         | nan                                       | nan                                             | nan                          | nan                                | nan                              | nan                                    | nan                                                        | nan                                                              | nan                                           | nan                                                 | nan                                       | nan                                             | nan                             | nan                                   | nan                                                  | nan                                                        | nan                         | nan                               | nan                   | nan\n",
       "97000US0100007               | Hoover City School District, Alabama    | 2011 | 22.4096         | 11.8337               | nan                                               | nan                                                     | nan                                       | nan                                             | nan                   | nan                         | nan                                       | nan                                             | nan                          | nan                                | nan                              | nan                                    | nan                                                        | nan                                                              | nan                                           | nan                                                 | nan                                       | nan                                             | nan                             | nan                                   | nan                                                  | nan                                                        | nan                         | nan                               | 0                     | 21.6701\n",
       "97000US0100007               | Hoover City School District, Alabama    | 2012 | 13.0282         | 8.25687               | nan                                               | nan                                                     | nan                                       | nan                                             | nan                   | nan                         | nan                                       | nan                                             | nan                          | nan                                | nan                              | nan                                    | nan                                                        | nan                                                              | 11.465                                        | 10.679                                              | 13.3813                                   | 10.3336                                         | nan                             | nan                                   | nan                                                  | nan                                                        | nan                         | nan                               | 7.91209               | 7.55173\n",
       "97000US0100007               | Hoover City School District, Alabama    | 2013 | 13.5084         | 5.77568               | nan                                               | nan                                                     | nan                                       | nan                                             | nan                   | nan                         | nan                                       | nan                                             | nan                          | nan                                | nan                              | nan                                    | nan                                                        | nan                                                              | 9.55882                                       | 5.42272                                             | 14.8615                                   | 7.67635                                         | nan                             | nan                                   | nan                                                  | nan                                                        | nan                         | nan                               | 25.7118               | 15.7238\n",
       "97000US0100007               | Hoover City School District, Alabama    | 2014 | 13.3909         | 8.19784               | nan                                               | nan                                                     | nan                                       | nan                                             | nan                   | nan                         | nan                                       | nan                                             | nan                          | nan                                | nan                              | nan                                    | nan                                                        | nan                                                              | 17.0186                                       | 13.736                                              | 8.39041                                   | 29.0047                                         | nan                             | nan                                   | nan                                                  | nan                                                        | nan                         | nan                               | 17.0186               | 13.736\n",
       "97000US0100007               | Hoover City School District, Alabama    | 2015 | 10.7615         | 6.66663               | nan                                               | nan                                                     | nan                                       | nan                                             | nan                   | nan                         | nan                                       | nan                                             | nan                          | nan                                | nan                              | nan                                    | nan                                                        | nan                                                              | 5.26316                                       | 5.07037                                             | 12.963                                    | 9.06222                                         | nan                             | nan                                   | nan                                                  | nan                                                        | nan                         | nan                               | 4.87445               | 4.74084\n",
       "97000US0100007               | Hoover City School District, Alabama    | 2016 | 15.4217         | 9.80178               | nan                                               | nan                                                     | nan                                       | nan                                             | nan                   | nan                         | nan                                       | nan                                             | nan                          | nan                                | nan                              | nan                                    | nan                                                        | nan                                                              | 28.3186                                       | 16.4416                                             | 0                                         | 32.8644                                         | nan                             | nan                                   | nan                                                  | nan                                                        | nan                         | nan                               | 28.3186               | 16.4416\n",
       "97000US0100007               | Hoover City School District, Alabama    | 2017 | 17.4626         | 9.08228               | nan                                               | nan                                                     | nan                                       | nan                                             | nan                   | nan                         | nan                                       | nan                                             | nan                          | nan                                | nan                              | nan                                    | nan                                                        | nan                                                              | 0                                             | 16.1676                                             | 27.4035                                   | 13.4769                                         | nan                             | nan                                   | nan                                                  | nan                                                        | nan                         | nan                               | 0                     | 16.1676\n",
       "97000US0100270               | Baldwin County School District, Alabama | 2009 | 42.9204         | 7.91325               | nan                                               | nan                                                     | nan                                       | nan                                             | nan                   | nan                         | nan                                       | nan                                             | nan                          | nan                                | nan                              | nan                                    | nan                                                        | nan                                                              | 40.5248                                       | 8.77146                                             | 45.8057                                   | 19.0939                                         | nan                             | nan                                   | nan                                                  | nan                                                        | nan                         | nan                               | 38.2803               | 8.35811\n",
       "... (7510 rows omitted)"
      ]
     },
     "execution_count": 9,
     "metadata": {},
     "output_type": "execute_result"
    }
   ],
   "source": [
    "dictionary_row = dictionary.num_rows\n",
    "dictionary_column = dictionary.column(\"Column\")\n",
    "dictionary_label = dictionary.column(\"Label\")\n",
    "relabeled_data = data.copy()\n",
    "for i in np.arange(dictionary_row):\n",
    "    relabeled_data = relabeled_data.relabeled(dictionary_column.item(i), dictionary_label.item(i))\n",
    "relabeled_data"
   ]
  },
  {
   "cell_type": "code",
   "execution_count": 10,
   "id": "343c7e68",
   "metadata": {},
   "outputs": [
    {
     "data": {
      "text/html": [
       "<table border=\"1\" class=\"dataframe\">\n",
       "    <thead>\n",
       "        <tr>\n",
       "            <th>Census Geographic Identifier</th> <th>Census Geography Name</th> <th>Year</th> <th>Total (Est.)</th> <th>Total (SE)</th> <th>American Indian and Alaska Native Alone (Est.)</th> <th>American Indian and Alaska Native Alone (SE)</th> <th>Asian or Pacific Islander Alone (Est.)</th> <th>Asian or Pacific Islander Alone (SE)</th> <th>Asian Alone (Est.)</th> <th>Asian Alone (SE)</th> <th>Black or African American Alone (Est.)</th> <th>Black or African American Alone (SE)</th> <th>Hispanic or Latino (Est.)</th> <th>Hispanic or Latino (SE)</th> <th>Not Hispanic or Latino (Est.)</th> <th>Not Hispanic or Latino (SE)</th> <th>Native Hawaiian and Other Pacific Islander Alone (Est.)</th> <th>Native Hawaiian and Other Pacific Islander Alone (SE)</th> <th>White Alone, Not Hispanic or Latino (Est.)</th> <th>White Alone, Not Hispanic or Latino (SE)</th> <th>Total minus non-Hispanic Whites (Est.)</th> <th>Total minus non-Hispanic Whites (SE)</th> <th>Some Other Race Alone (Est.)</th> <th>Some Other Race Alone (SE)</th> <th>Some Other Race Alone or Two or More Races (Est.)</th> <th>Some Other Race Alone or Two or More Races (SE)</th> <th>Two or More Races (Est.)</th> <th>Two or More Races (SE)</th> <th>White Alone (Est.)</th> <th>White Alone (SE)</th>\n",
       "        </tr>\n",
       "    </thead>\n",
       "    <tbody>\n",
       "        <tr>\n",
       "            <td>97000US0100007              </td> <td>Hoover City School District, Alabama   </td> <td>2009</td> <td>14.1384     </td> <td>7.22053   </td> <td>nan                                           </td> <td>nan                                         </td> <td>nan                                   </td> <td>nan                                 </td> <td>nan               </td> <td>nan             </td> <td>nan                                   </td> <td>nan                                 </td> <td>nan                      </td> <td>nan                    </td> <td>nan                          </td> <td>nan                        </td> <td>nan                                                    </td> <td>nan                                                  </td> <td>14.8973                                   </td> <td>10.7848                                 </td> <td>13.1185                               </td> <td>22.5664                             </td> <td>nan                         </td> <td>nan                       </td> <td>nan                                              </td> <td>nan                                            </td> <td>nan                     </td> <td>nan                   </td> <td>14.8973           </td> <td>10.7848         </td>\n",
       "        </tr>\n",
       "        <tr>\n",
       "            <td>97000US0100007              </td> <td>Hoover City School District, Alabama   </td> <td>2010</td> <td>24.9359     </td> <td>15.5228   </td> <td>nan                                           </td> <td>nan                                         </td> <td>nan                                   </td> <td>nan                                 </td> <td>nan               </td> <td>nan             </td> <td>nan                                   </td> <td>nan                                 </td> <td>nan                      </td> <td>nan                    </td> <td>nan                          </td> <td>nan                        </td> <td>nan                                                    </td> <td>nan                                                  </td> <td>nan                                       </td> <td>nan                                     </td> <td>nan                                   </td> <td>nan                                 </td> <td>nan                         </td> <td>nan                       </td> <td>nan                                              </td> <td>nan                                            </td> <td>nan                     </td> <td>nan                   </td> <td>nan               </td> <td>nan             </td>\n",
       "        </tr>\n",
       "        <tr>\n",
       "            <td>97000US0100007              </td> <td>Hoover City School District, Alabama   </td> <td>2011</td> <td>22.4096     </td> <td>11.8337   </td> <td>nan                                           </td> <td>nan                                         </td> <td>nan                                   </td> <td>nan                                 </td> <td>nan               </td> <td>nan             </td> <td>nan                                   </td> <td>nan                                 </td> <td>nan                      </td> <td>nan                    </td> <td>nan                          </td> <td>nan                        </td> <td>nan                                                    </td> <td>nan                                                  </td> <td>nan                                       </td> <td>nan                                     </td> <td>nan                                   </td> <td>nan                                 </td> <td>nan                         </td> <td>nan                       </td> <td>nan                                              </td> <td>nan                                            </td> <td>nan                     </td> <td>nan                   </td> <td>0                 </td> <td>21.6701         </td>\n",
       "        </tr>\n",
       "        <tr>\n",
       "            <td>97000US0100007              </td> <td>Hoover City School District, Alabama   </td> <td>2012</td> <td>13.0282     </td> <td>8.25687   </td> <td>nan                                           </td> <td>nan                                         </td> <td>nan                                   </td> <td>nan                                 </td> <td>nan               </td> <td>nan             </td> <td>nan                                   </td> <td>nan                                 </td> <td>nan                      </td> <td>nan                    </td> <td>nan                          </td> <td>nan                        </td> <td>nan                                                    </td> <td>nan                                                  </td> <td>11.465                                    </td> <td>10.679                                  </td> <td>13.3813                               </td> <td>10.3336                             </td> <td>nan                         </td> <td>nan                       </td> <td>nan                                              </td> <td>nan                                            </td> <td>nan                     </td> <td>nan                   </td> <td>7.91209           </td> <td>7.55173         </td>\n",
       "        </tr>\n",
       "        <tr>\n",
       "            <td>97000US0100007              </td> <td>Hoover City School District, Alabama   </td> <td>2013</td> <td>13.5084     </td> <td>5.77568   </td> <td>nan                                           </td> <td>nan                                         </td> <td>nan                                   </td> <td>nan                                 </td> <td>nan               </td> <td>nan             </td> <td>nan                                   </td> <td>nan                                 </td> <td>nan                      </td> <td>nan                    </td> <td>nan                          </td> <td>nan                        </td> <td>nan                                                    </td> <td>nan                                                  </td> <td>9.55882                                   </td> <td>5.42272                                 </td> <td>14.8615                               </td> <td>7.67635                             </td> <td>nan                         </td> <td>nan                       </td> <td>nan                                              </td> <td>nan                                            </td> <td>nan                     </td> <td>nan                   </td> <td>25.7118           </td> <td>15.7238         </td>\n",
       "        </tr>\n",
       "        <tr>\n",
       "            <td>97000US0100007              </td> <td>Hoover City School District, Alabama   </td> <td>2014</td> <td>13.3909     </td> <td>8.19784   </td> <td>nan                                           </td> <td>nan                                         </td> <td>nan                                   </td> <td>nan                                 </td> <td>nan               </td> <td>nan             </td> <td>nan                                   </td> <td>nan                                 </td> <td>nan                      </td> <td>nan                    </td> <td>nan                          </td> <td>nan                        </td> <td>nan                                                    </td> <td>nan                                                  </td> <td>17.0186                                   </td> <td>13.736                                  </td> <td>8.39041                               </td> <td>29.0047                             </td> <td>nan                         </td> <td>nan                       </td> <td>nan                                              </td> <td>nan                                            </td> <td>nan                     </td> <td>nan                   </td> <td>17.0186           </td> <td>13.736          </td>\n",
       "        </tr>\n",
       "        <tr>\n",
       "            <td>97000US0100007              </td> <td>Hoover City School District, Alabama   </td> <td>2015</td> <td>10.7615     </td> <td>6.66663   </td> <td>nan                                           </td> <td>nan                                         </td> <td>nan                                   </td> <td>nan                                 </td> <td>nan               </td> <td>nan             </td> <td>nan                                   </td> <td>nan                                 </td> <td>nan                      </td> <td>nan                    </td> <td>nan                          </td> <td>nan                        </td> <td>nan                                                    </td> <td>nan                                                  </td> <td>5.26316                                   </td> <td>5.07037                                 </td> <td>12.963                                </td> <td>9.06222                             </td> <td>nan                         </td> <td>nan                       </td> <td>nan                                              </td> <td>nan                                            </td> <td>nan                     </td> <td>nan                   </td> <td>4.87445           </td> <td>4.74084         </td>\n",
       "        </tr>\n",
       "        <tr>\n",
       "            <td>97000US0100007              </td> <td>Hoover City School District, Alabama   </td> <td>2016</td> <td>15.4217     </td> <td>9.80178   </td> <td>nan                                           </td> <td>nan                                         </td> <td>nan                                   </td> <td>nan                                 </td> <td>nan               </td> <td>nan             </td> <td>nan                                   </td> <td>nan                                 </td> <td>nan                      </td> <td>nan                    </td> <td>nan                          </td> <td>nan                        </td> <td>nan                                                    </td> <td>nan                                                  </td> <td>28.3186                                   </td> <td>16.4416                                 </td> <td>0                                     </td> <td>32.8644                             </td> <td>nan                         </td> <td>nan                       </td> <td>nan                                              </td> <td>nan                                            </td> <td>nan                     </td> <td>nan                   </td> <td>28.3186           </td> <td>16.4416         </td>\n",
       "        </tr>\n",
       "        <tr>\n",
       "            <td>97000US0100007              </td> <td>Hoover City School District, Alabama   </td> <td>2017</td> <td>17.4626     </td> <td>9.08228   </td> <td>nan                                           </td> <td>nan                                         </td> <td>nan                                   </td> <td>nan                                 </td> <td>nan               </td> <td>nan             </td> <td>nan                                   </td> <td>nan                                 </td> <td>nan                      </td> <td>nan                    </td> <td>nan                          </td> <td>nan                        </td> <td>nan                                                    </td> <td>nan                                                  </td> <td>0                                         </td> <td>16.1676                                 </td> <td>27.4035                               </td> <td>13.4769                             </td> <td>nan                         </td> <td>nan                       </td> <td>nan                                              </td> <td>nan                                            </td> <td>nan                     </td> <td>nan                   </td> <td>0                 </td> <td>16.1676         </td>\n",
       "        </tr>\n",
       "        <tr>\n",
       "            <td>97000US0100270              </td> <td>Baldwin County School District, Alabama</td> <td>2009</td> <td>42.9204     </td> <td>7.91325   </td> <td>nan                                           </td> <td>nan                                         </td> <td>nan                                   </td> <td>nan                                 </td> <td>nan               </td> <td>nan             </td> <td>nan                                   </td> <td>nan                                 </td> <td>nan                      </td> <td>nan                    </td> <td>nan                          </td> <td>nan                        </td> <td>nan                                                    </td> <td>nan                                                  </td> <td>40.5248                                   </td> <td>8.77146                                 </td> <td>45.8057                               </td> <td>19.0939                             </td> <td>nan                         </td> <td>nan                       </td> <td>nan                                              </td> <td>nan                                            </td> <td>nan                     </td> <td>nan                   </td> <td>38.2803           </td> <td>8.35811         </td>\n",
       "        </tr>\n",
       "    </tbody>\n",
       "</table>\n",
       "<p>... (7510 rows omitted)</p>"
      ],
      "text/plain": [
       "Census Geographic Identifier | Census Geography Name                   | Year | Total (Est.) | Total (SE) | American Indian and Alaska Native Alone (Est.) | American Indian and Alaska Native Alone (SE) | Asian or Pacific Islander Alone (Est.) | Asian or Pacific Islander Alone (SE) | Asian Alone (Est.) | Asian Alone (SE) | Black or African American Alone (Est.) | Black or African American Alone (SE) | Hispanic or Latino (Est.) | Hispanic or Latino (SE) | Not Hispanic or Latino (Est.) | Not Hispanic or Latino (SE) | Native Hawaiian and Other Pacific Islander Alone (Est.) | Native Hawaiian and Other Pacific Islander Alone (SE) | White Alone, Not Hispanic or Latino (Est.) | White Alone, Not Hispanic or Latino (SE) | Total minus non-Hispanic Whites (Est.) | Total minus non-Hispanic Whites (SE) | Some Other Race Alone (Est.) | Some Other Race Alone (SE) | Some Other Race Alone or Two or More Races (Est.) | Some Other Race Alone or Two or More Races (SE) | Two or More Races (Est.) | Two or More Races (SE) | White Alone (Est.) | White Alone (SE)\n",
       "97000US0100007               | Hoover City School District, Alabama    | 2009 | 14.1384      | 7.22053    | nan                                            | nan                                          | nan                                    | nan                                  | nan                | nan              | nan                                    | nan                                  | nan                       | nan                     | nan                           | nan                         | nan                                                     | nan                                                   | 14.8973                                    | 10.7848                                  | 13.1185                                | 22.5664                              | nan                          | nan                        | nan                                               | nan                                             | nan                      | nan                    | 14.8973            | 10.7848\n",
       "97000US0100007               | Hoover City School District, Alabama    | 2010 | 24.9359      | 15.5228    | nan                                            | nan                                          | nan                                    | nan                                  | nan                | nan              | nan                                    | nan                                  | nan                       | nan                     | nan                           | nan                         | nan                                                     | nan                                                   | nan                                        | nan                                      | nan                                    | nan                                  | nan                          | nan                        | nan                                               | nan                                             | nan                      | nan                    | nan                | nan\n",
       "97000US0100007               | Hoover City School District, Alabama    | 2011 | 22.4096      | 11.8337    | nan                                            | nan                                          | nan                                    | nan                                  | nan                | nan              | nan                                    | nan                                  | nan                       | nan                     | nan                           | nan                         | nan                                                     | nan                                                   | nan                                        | nan                                      | nan                                    | nan                                  | nan                          | nan                        | nan                                               | nan                                             | nan                      | nan                    | 0                  | 21.6701\n",
       "97000US0100007               | Hoover City School District, Alabama    | 2012 | 13.0282      | 8.25687    | nan                                            | nan                                          | nan                                    | nan                                  | nan                | nan              | nan                                    | nan                                  | nan                       | nan                     | nan                           | nan                         | nan                                                     | nan                                                   | 11.465                                     | 10.679                                   | 13.3813                                | 10.3336                              | nan                          | nan                        | nan                                               | nan                                             | nan                      | nan                    | 7.91209            | 7.55173\n",
       "97000US0100007               | Hoover City School District, Alabama    | 2013 | 13.5084      | 5.77568    | nan                                            | nan                                          | nan                                    | nan                                  | nan                | nan              | nan                                    | nan                                  | nan                       | nan                     | nan                           | nan                         | nan                                                     | nan                                                   | 9.55882                                    | 5.42272                                  | 14.8615                                | 7.67635                              | nan                          | nan                        | nan                                               | nan                                             | nan                      | nan                    | 25.7118            | 15.7238\n",
       "97000US0100007               | Hoover City School District, Alabama    | 2014 | 13.3909      | 8.19784    | nan                                            | nan                                          | nan                                    | nan                                  | nan                | nan              | nan                                    | nan                                  | nan                       | nan                     | nan                           | nan                         | nan                                                     | nan                                                   | 17.0186                                    | 13.736                                   | 8.39041                                | 29.0047                              | nan                          | nan                        | nan                                               | nan                                             | nan                      | nan                    | 17.0186            | 13.736\n",
       "97000US0100007               | Hoover City School District, Alabama    | 2015 | 10.7615      | 6.66663    | nan                                            | nan                                          | nan                                    | nan                                  | nan                | nan              | nan                                    | nan                                  | nan                       | nan                     | nan                           | nan                         | nan                                                     | nan                                                   | 5.26316                                    | 5.07037                                  | 12.963                                 | 9.06222                              | nan                          | nan                        | nan                                               | nan                                             | nan                      | nan                    | 4.87445            | 4.74084\n",
       "97000US0100007               | Hoover City School District, Alabama    | 2016 | 15.4217      | 9.80178    | nan                                            | nan                                          | nan                                    | nan                                  | nan                | nan              | nan                                    | nan                                  | nan                       | nan                     | nan                           | nan                         | nan                                                     | nan                                                   | 28.3186                                    | 16.4416                                  | 0                                      | 32.8644                              | nan                          | nan                        | nan                                               | nan                                             | nan                      | nan                    | 28.3186            | 16.4416\n",
       "97000US0100007               | Hoover City School District, Alabama    | 2017 | 17.4626      | 9.08228    | nan                                            | nan                                          | nan                                    | nan                                  | nan                | nan              | nan                                    | nan                                  | nan                       | nan                     | nan                           | nan                         | nan                                                     | nan                                                   | 0                                          | 16.1676                                  | 27.4035                                | 13.4769                              | nan                          | nan                        | nan                                               | nan                                             | nan                      | nan                    | 0                  | 16.1676\n",
       "97000US0100270               | Baldwin County School District, Alabama | 2009 | 42.9204      | 7.91325    | nan                                            | nan                                          | nan                                    | nan                                  | nan                | nan              | nan                                    | nan                                  | nan                       | nan                     | nan                           | nan                         | nan                                                     | nan                                                   | 40.5248                                    | 8.77146                                  | 45.8057                                | 19.0939                              | nan                          | nan                        | nan                                               | nan                                             | nan                      | nan                    | 38.2803            | 8.35811\n",
       "... (7510 rows omitted)"
      ]
     },
     "execution_count": 10,
     "metadata": {},
     "output_type": "execute_result"
    }
   ],
   "source": [
    "relabeled_data = relabeled_data.relabeled(\"Estimate; Total\", \"Total (Est.)\")\n",
    "relabeled_data = relabeled_data.relabeled(\"Standard Error; Total\", \"Total (SE)\")\n",
    "relabeled_data = relabeled_data.relabeled(\"Estimate; American Indian and Alaska Native Alone\", \"American Indian and Alaska Native Alone (Est.)\")\n",
    "relabeled_data = relabeled_data.relabeled(\"Standard Error; American Indian and Alaska Native Alone\", \"American Indian and Alaska Native Alone (SE)\")\n",
    "relabeled_data = relabeled_data.relabeled(\"Estimate; Asian or Pacific Islander Alone\", \"Asian or Pacific Islander Alone (Est.)\")\n",
    "relabeled_data = relabeled_data.relabeled(\"Standard Error; Asian or Pacific Islander Alone\", \"Asian or Pacific Islander Alone (SE)\")\n",
    "relabeled_data = relabeled_data.relabeled(\"Estimate; Asian Alone\", \"Asian Alone (Est.)\")\n",
    "relabeled_data = relabeled_data.relabeled(\"Standard Error; Asian Alone\", \"Asian Alone (SE)\")\n",
    "relabeled_data = relabeled_data.relabeled(\"Estimate; Black or African American Alone\", \"Black or African American Alone (Est.)\")\n",
    "relabeled_data = relabeled_data.relabeled(\"Standard Error; Black or African American Alone\", \"Black or African American Alone (SE)\")\n",
    "relabeled_data = relabeled_data.relabeled(\"Estimate; Hispanic or Latino\", \"Hispanic or Latino (Est.)\")\n",
    "relabeled_data = relabeled_data.relabeled(\"Standard Error; Hispanic or Latino\", \"Hispanic or Latino (SE)\")\n",
    "relabeled_data = relabeled_data.relabeled(\"Estimate; Not Hispanic or Latino\", \"Not Hispanic or Latino (Est.)\")\n",
    "relabeled_data = relabeled_data.relabeled(\"Standard Error; Not Hispanic or Latino\", \"Not Hispanic or Latino (SE)\")\n",
    "relabeled_data = relabeled_data.relabeled(\"Estimate; Native Hawaiian and Other Pacific Islander Alone\", \"Native Hawaiian and Other Pacific Islander Alone (Est.)\")\n",
    "relabeled_data = relabeled_data.relabeled(\"Standard Error; Native Hawaiian and Other Pacific Islander Alone\", \"Native Hawaiian and Other Pacific Islander Alone (SE)\")\n",
    "relabeled_data = relabeled_data.relabeled(\"Estimate; White Alone, Not Hispanic or Latino\", \"White Alone, Not Hispanic or Latino (Est.)\")\n",
    "relabeled_data = relabeled_data.relabeled(\"Standard Error; White Alone, Not Hispanic or Latino\", \"White Alone, Not Hispanic or Latino (SE)\")\n",
    "relabeled_data = relabeled_data.relabeled(\"Estimate; Total minus non-Hispanic Whites\", \"Total minus non-Hispanic Whites (Est.)\")\n",
    "relabeled_data = relabeled_data.relabeled(\"Standard Error; Total minus non-Hispanic Whites\", \"Total minus non-Hispanic Whites (SE)\")\n",
    "relabeled_data = relabeled_data.relabeled(\"Estimate; Some Other Race Alone\", \"Some Other Race Alone (Est.)\")\n",
    "relabeled_data = relabeled_data.relabeled(\"Standard Error; Some Other Race Alone\", \"Some Other Race Alone (SE)\")\n",
    "relabeled_data = relabeled_data.relabeled(\"Estimate; Some Other Race Alone or Two or More Races\", \"Some Other Race Alone or Two or More Races (Est.)\")\n",
    "relabeled_data = relabeled_data.relabeled(\"Standard Error; Some Other Race Alone or Two or More Races\", \"Some Other Race Alone or Two or More Races (SE)\")\n",
    "relabeled_data = relabeled_data.relabeled(\"Estimate; Two or More Races\", \"Two or More Races (Est.)\")\n",
    "relabeled_data = relabeled_data.relabeled(\"Standard Error; Two or More Races\", \"Two or More Races (SE)\")\n",
    "relabeled_data = relabeled_data.relabeled(\"Estimate; White Alone\", \"White Alone (Est.)\")\n",
    "relabeled_data = relabeled_data.relabeled(\"Standard Error; White Alone\", \"White Alone (SE)\")\n",
    "relabeled_data"
   ]
  },
  {
   "cell_type": "code",
   "execution_count": 11,
   "id": "e11c0583-b83e-41ce-bef6-740fa53ec02f",
   "metadata": {},
   "outputs": [],
   "source": [
    "relabeled_data.to_csv(\"relabeled_data.csv\")"
   ]
  },
  {
   "cell_type": "markdown",
   "id": "b03a42ee-8475-4140-b536-9a67eb59fc5c",
   "metadata": {},
   "source": [
    "# `NaN` and Missing Values \n",
    "\n",
    "Show students how to deal with NaN values. First, show them a histogram of a column with NaN values. \n",
    "\n",
    "- Experiment with removing the NaN values and document how the size of our dataset changed\n",
    "    - Need to figure out how to remove NaN values with `datascience` library\n",
    "    - Plot histogram of new data without NaN values\n",
    "- Experiment filling out NaN values with 0 \n",
    "    - Talk about what implications this will have on our data and future analysis \n",
    "    - Plot histogram of new data with NaN = 0 "
   ]
  },
  {
   "cell_type": "markdown",
   "id": "b31b5b1e-9300-42e4-9f29-0a4ed03419c5",
   "metadata": {},
   "source": [
    "# Relabeling Data  \n",
    "\n",
    "- Relabel column names based on what the data dictionary says each column represents\n",
    "- Show students how to relabel columns with the `datascience` library "
   ]
  },
  {
   "cell_type": "markdown",
   "id": "0e76f520-8d84-4153-b1b6-f2c501e4e104",
   "metadata": {},
   "source": [
    "# Partition Data  \n",
    "\n",
    "- Partition the `name` column to two columns titled `District Name` and `State` \n",
    "- Show them how to add a new column with the `datascience` package"
   ]
  },
  {
   "cell_type": "markdown",
   "id": "1b17badd-edbb-4444-974f-1416155aa1c2",
   "metadata": {},
   "source": [
    "# Removing Unwanted Data \n",
    "\n",
    "- Show students how to drop columns with the `datascience` package"
   ]
  }
 ],
 "metadata": {
  "kernelspec": {
   "display_name": "Python 3",
   "language": "python",
   "name": "python3"
  },
  "language_info": {
   "codemirror_mode": {
    "name": "ipython",
    "version": 3
   },
   "file_extension": ".py",
   "mimetype": "text/x-python",
   "name": "python",
   "nbconvert_exporter": "python",
   "pygments_lexer": "ipython3",
   "version": "3.8.8"
  }
 },
 "nbformat": 4,
 "nbformat_minor": 5
}
