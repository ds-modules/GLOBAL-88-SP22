{
 "cells": [
  {
   "cell_type": "markdown",
   "id": "39b7c713-3296-40e5-a68d-e727a6fc0f00",
   "metadata": {},
   "source": [
    "# [Global 88] The Data Science Life Cycle\n",
    "### Professor: Karenjot Bhangoo Randhawa  \n",
    "**Estimated Time:** 30 minutes  \n",
    "**Notebook Created By:** Bella Chang, Emily Guo, Vaidehi Bulusu, Carlos Calderon  \n",
    "**Code Maintenance:** Carlos Calderon \n",
    "\n",
    "Welcome! Last week we delved deeper into bar and line plots, and received a small introduction to the word cloud. We then ran a comparative analysis on datasets collected from the Colombia National Police and the Colombian Atlantic Secretariat for Women. This week, we will talk about the Data Science Life Cycle, and will start getting some introduction to common practices in data cleaning. \n",
    "\n",
    "**Learning Outcomes:**  \n",
    "By the end of this notebook, students will be able to:  \n",
    "1. Develop understanding on `NaN` values and how to deal with them.   \n",
    "2. Modify dataset features\n",
    "3. Interpret a data dictionary\n",
    "\n",
    "# Table of Contents  \n",
    "1. The Data Science Life Cycle  \n",
    "2. Data Cleaning"
   ]
  },
  {
   "cell_type": "markdown",
   "id": "00c67ac1-865b-4347-b7f9-d229605d8a17",
   "metadata": {},
   "source": [
    "---\n",
    "---\n",
    "# Importing Packages   \n",
    "\n",
    "<div class=\"alert alert-block alert-warning\">\n",
    "<b>Make sure to run these cells FIRST! Not doing so may result in pesky errors in the code.</b>\n",
    "</div>"
   ]
  },
  {
   "cell_type": "code",
   "execution_count": null,
   "id": "a9bb762d-634e-4f47-b573-602788cd0544",
   "metadata": {},
   "outputs": [],
   "source": [
    "from datascience import *\n",
    "import numpy as np\n",
    "import pandas as pd\n",
    "\n",
    "import ipywidgets as widgets\n",
    "from ipywidgets import interact, interactive, fixed, interact_manual\n",
    "\n",
    "import matplotlib.pyplot as plt\n",
    "plt.style.use('fivethirtyeight')\n",
    "%matplotlib inline\n",
    "\n",
    "import warnings\n",
    "warnings.filterwarnings('ignore')"
   ]
  },
  {
   "cell_type": "markdown",
   "id": "c219e896-8af8-4f74-9b7e-953393d14baa",
   "metadata": {},
   "source": [
    "---\n",
    "---"
   ]
  },
  {
   "cell_type": "markdown",
   "id": "d6087f39-9bfa-4389-bd56-c1f1d3c6b2db",
   "metadata": {},
   "source": [
    "# 1. The Data Science Life Cycle  \n",
    "\n",
    "In Notebooks 1-4, we got a taste of how to use the Jupyter notebook environment and the Python programming language to derive basic insights about some dataset of interest. We also got an introduction to histograms, scatter plots, bar plots, line plots, and the word cloud. More importantly, we identified when and why we can use a specific visualization.  \n",
    "\n",
    "In the grand scheme of things, however, data visualization and analysis *tend* to be the *final* steps in the **data science lifecycle**. Below, we can see the depiction of the Data Science Life Cycle as envisioned by the course [Data 100](https://ds100.org/sp22/).\n",
    "\n",
    "\n",
    "![](lifecycle.png)\n",
    "\n",
    "1. **Question/Problem Formulation:** \n",
    "    - What do we want to know or what problems are we trying to solve?\n",
    "    - What are our hypotheses?\n",
    "    - What are our metrics of success?\n",
    "\n",
    "\n",
    "2. **Data Acquisition and Cleaning:**\n",
    "    - What data do we have and what data do we need?\n",
    "    - How will we collect more data?\n",
    "    - How do we organize the data for analysis?\n",
    "\n",
    "\n",
    "3. **Exploratory Data Analysis:**\n",
    "    - Do we already have relevant data?\n",
    "    - What are the biases, anomalies, or other issues with the data?\n",
    "    - How do we transform the data to enable effective analysis?\n",
    "\n",
    "\n",
    "4. **Prediction and Inference:**\n",
    "    - What does the data say about the world?\n",
    "    - Does it answer our questions or accurately solve the problem?\n",
    "    - How robust are our conclusions? \n",
    "    \n",
    "This is the life cycle that you will go through for your final project. You have already started thinking through a possible question/problem formulation when we asked you to think about a topic and concepts. Then, after that, we asked you to find some example datasets regarding that topic. This is the start of the (2) Data acquisition process. At this point in the course, you might already know or are narrowing down what dataset you'd like to explore. \n",
    "\n",
    "## 1.2 Loading the Data  \n",
    "\n",
    "Now, for the purposes of this notebook, imagine you already found and downloaded your dataset. One of the main points of the prior notebooks is to **fully** understand the data you are working with. Let's take a look at the data we will be cleaning today.   \n",
    "\n",
    "The data for this notebook comes from [diversitydatakids.org](https://www.diversitydatakids.org/about-us), which was established to \"to fill an urgent need for a rigorous, equity-focused research program with a clear mission to help improve child wellbeing and increase racial and ethnic equity in opportunities for children.\" More specifically, we will be looking at a dataset which describes the poverty rate for single mother families with children aged 0-17 years (percent) by race/ethnicity. \n",
    "\n",
    "To load in the dataset, we can use the method `Table.read_table(\"path\")`, where `path` is a string containing the location and name of the dataset. Since the data we will be working with is in the same location as the notebook, we can just read in the dataset based on its name, without specifying its location. \n",
    "\n",
    "<div class=\"alert alert-info\">\n",
    "    <b> Question 1.1</b> The data are named <code>poverty_by_district.csv</code>. Use the <code>Table.read_table()</code> method to load the data onto our notebook. Then, use the <code>show()</code> method to print out the first 15 rows in the data. \n",
    "</div>"
   ]
  },
  {
   "cell_type": "code",
   "execution_count": null,
   "id": "9c9138d5-b8a1-49c3-8d4a-0caaf7abcd69",
   "metadata": {},
   "outputs": [],
   "source": [
    "# ENTER CODE HERE\n",
    "# Input the data name. \n",
    "raw_data = Table.read_table(\"...\")\n",
    "\n",
    "# Put code below to print out the first 15 rows in the data \n",
    "..."
   ]
  },
  {
   "cell_type": "markdown",
   "id": "35f894b9-f9cb-481c-a06b-9b0c0073a656",
   "metadata": {},
   "source": [
    "<div class=\"alert alert-info\">\n",
    "    <b> Question 1.2</b> What are some of the issues that you see with the data contained in each row?\n",
    "</div>"
   ]
  },
  {
   "cell_type": "markdown",
   "id": "b8106a70-152e-4232-a583-1c9bbd723d16",
   "metadata": {},
   "source": [
    "*Replace this text with your answer*"
   ]
  },
  {
   "cell_type": "markdown",
   "id": "31fb51f8-7943-4b42-8c44-38c157cdd7f7",
   "metadata": {},
   "source": [
    "<div class=\"alert alert-info\">\n",
    "    <b> Question 1.3</b> What are some of the issues that you see with the column names in our data?\n",
    "</div>"
   ]
  },
  {
   "cell_type": "markdown",
   "id": "97127616-9f9c-44ce-afe7-2f34d9332186",
   "metadata": {},
   "source": [
    "*Replace this text with your answer*"
   ]
  },
  {
   "cell_type": "markdown",
   "id": "b4e20335-0f0c-48f1-a740-cdf10e190ab0",
   "metadata": {},
   "source": [
    "---\n",
    "---"
   ]
  },
  {
   "cell_type": "markdown",
   "id": "4472227a-b7f9-461a-a1e6-fd8d2f88c0df",
   "metadata": {},
   "source": [
    "# 2. Data Cleaning \n",
    "\n",
    "What we have above is what is often called the \"raw data,\" that is, data that has not been manipulated in any way once acquired. Often times, though, these data are not the best to work with. As we can see with our `data`, sometimes the column names are not eligible or there is a lot of missing data. Fixing these issues is a process commonly referred to as data cleaning (sometimes called data wrangling). The next few steps in the notebook will walk you through some common practices for dealing with these issues. "
   ]
  },
  {
   "cell_type": "markdown",
   "id": "f0b0735a-dc5d-4fbd-802b-d9ccf39e1f55",
   "metadata": {},
   "source": [
    "## 2.1 Relabeling the Data  \n",
    "\n",
    "One of the main issues with our data is the lack of eligible column names. There are several ways you can go about renaming columns. You can look at the data and infer what it is describing, and relabel it based on this. Or, if you are lucky, your data may come with a **data dictionary**. The data dictionary is usually another dataset that describes the column names and type of data held by each variable in the main dataset. Our data luckily comes with a data ditionary! \n",
    "\n",
    "<div class=\"alert alert-info\">\n",
    "    <b> Question 2.1</b> Using the filename <code>data_dictionary.csv</code>, use the <code>Table.read_table()</code> and the <code>show()</code> methods to load in and then display the data dictionary. \n",
    "</div>\n",
    "\n",
    "*Note:* Calling `show()` with no arguments inside displays our whole table. "
   ]
  },
  {
   "cell_type": "code",
   "execution_count": null,
   "id": "7c7d5737-5152-4697-9b14-4064b1f210cb",
   "metadata": {},
   "outputs": [],
   "source": [
    "# ENTER CODE HERE\n",
    "dictionary = Table.read_table(\"...\")\n",
    "dictionary.show()"
   ]
  },
  {
   "cell_type": "markdown",
   "id": "82ca95e3-7edd-4494-a090-e41aeee1a752",
   "metadata": {},
   "source": [
    "Using this dictionary, we could now start relabing some of the column names. The `tbl.relabeled()` method allows us to relabel column names. It takes in two arguments: the old column label and the new column label. So to relabel a column from a table called `tbl`, your relabeling code will have the form of: `tbl.relabeled(<old_column_name>, <new_column_name>)`. \n",
    "\n",
    "<div class=\"alert alert-info\">\n",
    "    <b> Question 2.2</b> Using the <code>relabeled</code> method, relabel the column <code>geoid</code> column to a more eligible title based off the data dictionary above.  \n",
    "</div>"
   ]
  },
  {
   "cell_type": "code",
   "execution_count": null,
   "id": "e6873b19-1c01-40c8-a2b3-6c370aafa108",
   "metadata": {},
   "outputs": [],
   "source": [
    "# ENTER CODE HERE\n",
    "relabeled_data = raw_data.relabeled(\"...\", \"...\")\n",
    "relabeled_data"
   ]
  },
  {
   "cell_type": "markdown",
   "id": "6b47132b-6665-426c-8ff9-eaf0e1bf4847",
   "metadata": {},
   "source": [
    "That is how to relabel one column. You can actually pass in a list of old column names and a list of new column names, and the computer will rename all the old column names to the new ones. In python, we create a list with square brackets `[ ]`, inputting all of the elements of the list in between the brackets, each element separated by a comma. So if we wanted to create a list of the instructor names, we would do so as shown below: "
   ]
  },
  {
   "cell_type": "code",
   "execution_count": null,
   "id": "53185fca-5c7a-4bed-8db9-6761623a8dee",
   "metadata": {},
   "outputs": [],
   "source": [
    "# ENTER CODE HERE\n",
    "instructor_list = [\"Karenjot\", \"Juliette\", \"Amber\", \"Carlos\"]\n",
    "instructor_list "
   ]
  },
  {
   "cell_type": "markdown",
   "id": "70cd6d7e-d278-4a59-9f37-9e537ab27b86",
   "metadata": {},
   "source": [
    "<div class=\"alert alert-info\">\n",
    "    <b> Question 2.3</b> With this in mind, fill in the list below with the <b>new</b> column names you'd like your data to have. Use the data dictionary above. Please, come up with a new label for every column, or else the code below will not work.    \n",
    "</div>"
   ]
  },
  {
   "cell_type": "code",
   "execution_count": null,
   "id": "f80c5738-89a2-44b6-9b38-93d40f5cc849",
   "metadata": {},
   "outputs": [],
   "source": [
    "# ENTER CODE HERE\n",
    "new_column_names = [...] # Fill this list in with the new column names! \n",
    "\n",
    "# The line below relabels all the columns based on th list of new names above\n",
    "relabeled_data = raw_data.relabeled(list(raw_data.labels), new_column_names)\n",
    "relabeled_data"
   ]
  },
  {
   "cell_type": "markdown",
   "id": "bd2c7f64-5507-44ef-b356-d8abb4e01c02",
   "metadata": {},
   "source": [
    "If things were done right, then you will see that the dataset's columns have now changed to your new labels!"
   ]
  },
  {
   "cell_type": "markdown",
   "id": "2fb49fa1-e87e-4888-b844-ab674c466214",
   "metadata": {},
   "source": [
    "## 2.2 Partioning the Data  \n",
    "\n",
    "Now, run the cell below which loads in a dataset where we have relabeled all the column names for you. "
   ]
  },
  {
   "cell_type": "code",
   "execution_count": null,
   "id": "c5cd0f50-c9f6-4871-99d8-e0d21ced2033",
   "metadata": {},
   "outputs": [],
   "source": [
    "relabeled_data = Table.read_table(\"relabeled_data.csv\")\n",
    "relabeled_data.show(3)"
   ]
  },
  {
   "cell_type": "markdown",
   "id": "a40fa584-2abb-4b54-a4fd-8dd957608670",
   "metadata": {},
   "source": [
    "Another step in the data cleaning process may involve partioning data. This sounds fancy, but all it is is separating already existing data into separate variables. Above, we can see how the `Census Geopraphy Name` column contains two values: the name of the school district, and the state that district is in. Let's take this time to create two new columns for our data: `School District` and `State`. Run the cell below, which will take in the `Census Geography Name` column and will create two lists: one for all the school districts and another for all the states. "
   ]
  },
  {
   "cell_type": "code",
   "execution_count": null,
   "id": "0f3200b6-ed89-45da-82e0-5fb6d72d1b10",
   "metadata": {},
   "outputs": [],
   "source": [
    "# splitting name column using APPLY from datascience library\n",
    "geography_split = relabeled_data.apply(lambda s: s.split(\",\"), \"Census Geography Name\")\n",
    "geography_split\n",
    "\n",
    "school_districts = [arr[0] for arr in geography_split]\n",
    "states = [arr[1] for arr in geography_split]\n",
    "\n",
    "print(f\"The first five school districts in our school districts list: {school_districts[:5]}\")\n",
    "print(f\"The first five states in our states list : {states[:5]}\")"
   ]
  },
  {
   "cell_type": "markdown",
   "id": "3576496b-4c37-450f-83d7-b448a18cd9e2",
   "metadata": {},
   "source": [
    "Now that we have extracted the school districts and their respective states, we need to add this data to our dataset. We can do so with the method `tbl.with_columns`. This method takes in any number of arguments of the form `<column name>, <data for that column>`. So, to insert two new columns called `Column A` and `Column B` in a table called `tbl`, your code would look like `tbl.with_columns(\"Column A\", col_a_data, \"Column B\", col_b_data)` where `col_a_data` and `col_b_data` are lists of the data you want the columns to include. \n",
    "\n",
    "<div class=\"alert alert-info\">\n",
    "    <b> Question 2.4</b> Using the <code>school_districts</code> and the <code>states</code> lists defined above, insert two new columns titled  <code>School District</code> and <code>State</code> to our <code>relabeled_data</code> table.\n",
    "</div>"
   ]
  },
  {
   "cell_type": "code",
   "execution_count": null,
   "id": "ead43515-8aba-4f90-8089-cf2be1744f5a",
   "metadata": {},
   "outputs": [],
   "source": [
    "# ENTER CODE HERE\n",
    "# Use the variables defined above\n",
    "relabeled_data = relabeled_data.with_columns(\"...\", ..., \"...\", ...)\n",
    "\n",
    "relabeled_data.show(2)"
   ]
  },
  {
   "cell_type": "markdown",
   "id": "7772733f-70fa-4304-a9a2-ace2eec9e891",
   "metadata": {},
   "source": [
    "Do you see the new columns? If you scroll all the way to the right extreme of our dataset, we will see the new columns there. Obviously, we don't want these columns there. Instead, it would make more sense to have these columns in the same position as the `Census Geography Name` column. We can fix the position of our columns with the `tbl.move_column()` method, which takes in two arguments: \n",
    "1. The name of the column we want to move \n",
    "2. The positional index that we want the column to move to  \n",
    "\n",
    "How do we know the positional index? Python is 0 indexed, so the `Census Geographic Identifier` column is located in the 0th index. The `Census Geography Name` is located at the 1st index, and so on. With all of this info then, if we would like to make `Column Z` the first column in `tbl`, our code would look like `tbl.move_column(\"Column Z\", 0)`.\n",
    "\n",
    "<div class=\"alert alert-info\">\n",
    "    <b> Question 2.5</b> Using the <code>move_columns()</code> method, shift the columns <code>School District</code> and <code>State</code> to the 2nd and 3rd index in our <code>relabeled_data</code>\n",
    "</div>"
   ]
  },
  {
   "cell_type": "code",
   "execution_count": null,
   "id": "76e6bbcb-34f0-4025-86af-14707c233c99",
   "metadata": {},
   "outputs": [],
   "source": [
    "# ENTER CODE HERE\n",
    "relabeled_data = relabeled_data.move_column(\"...\", ...)\n",
    "relabeled_data = relabeled_data.move_column(\"...\", ...)\n",
    "\n",
    "relabeled_data.show(2)"
   ]
  },
  {
   "cell_type": "markdown",
   "id": "86bf69e2-d477-4202-a8b7-29f02dbef1e9",
   "metadata": {},
   "source": [
    "## 2.3 Dropping Columns  \n",
    "\n",
    "Above, we can see that our `relabeled_data` now has two columns: `School District` and `State`, both generated from `Census Geography Name`. This creates redundancy in our data. That is, we now have an extra column we don't really need. To drop an unwanted column from our data, we can use the method `tbl.drop`, which takes in as arguments the names of the columns we want to remove in our data. \n",
    "\n",
    "<div class=\"alert alert-info\">\n",
    "    <b> Question 2.6</b> Using the <code>drop()</code> method, drop the column <code>Census Geography Name</code> from our <code>relabeled_data</code>.\n",
    "</div>"
   ]
  },
  {
   "cell_type": "code",
   "execution_count": null,
   "id": "c57d73eb-95c7-4e8d-a71c-da9e94f416b7",
   "metadata": {},
   "outputs": [],
   "source": [
    "# ENTER CODE HERE\n",
    "relabeled_data = relabeled_data.drop(\"...\")\n",
    "\n",
    "relabeled_data.show(2)"
   ]
  },
  {
   "cell_type": "markdown",
   "id": "89cfbeeb-0ec4-471a-bb00-44e87863082b",
   "metadata": {},
   "source": [
    "## 2.4 `NaN` and Missing Data  \n",
    "You may have noticed by now that there is a huge amount of `nan` values in our data. We've created a function below to show you how many of these values show up in each of the dataset's column. Run the cell below to print out this information. "
   ]
  },
  {
   "cell_type": "code",
   "execution_count": null,
   "id": "98141d63-b351-449d-8b5d-e3329d5f6608",
   "metadata": {},
   "outputs": [],
   "source": [
    "def report_nullcount(dta):\n",
    "    n = dta.num_rows\n",
    "    col_list = list(dta.labels)\n",
    "    for col in col_list:\n",
    "        if not type(dta[col][0]) == np.str_:\n",
    "            num_null = np.sum(np.isnan(dta.column(col)))\n",
    "            percent_null = num_null / n\n",
    "            print(f\"{col} has {num_null} null (missing) values. In total, there are {percent_null} percentage of missing values in this column.\")\n",
    "        else:\n",
    "            print(f\"{col} has no missing values. \")\n",
    "        print(\"-\" * 10)\n",
    "\n",
    "report_nullcount(relabeled_data)"
   ]
  },
  {
   "cell_type": "markdown",
   "id": "51c16d38-5e6d-4826-b74e-609532561c3c",
   "metadata": {},
   "source": [
    "<div class=\"alert alert-info\">\n",
    "    <b> Question 2.7</b> What columns have the most missing values? Does this mean we failed to collect data or that there was no data to collect? \n",
    "</div>"
   ]
  },
  {
   "cell_type": "markdown",
   "id": "b299e405-e0c2-410b-8b6c-888c173c7e2f",
   "metadata": {},
   "source": [
    "*Replace this text with your answer.*"
   ]
  },
  {
   "cell_type": "markdown",
   "id": "3d1d0a7a-c563-4489-8cba-bf68b4fc50c4",
   "metadata": {},
   "source": [
    "Indeed, our dataset contains a lot of columns with a lot of missing data. When we have `NaN` or missing data, there are several ways we can deal with them. There is not one main way to deal with them, instead, when you have missing values you should consider various options, some of which include: \n",
    "- Dropping all `NaN` values\n",
    "- Replacing al `NaN` values with 0 \n",
    "- Replacing all `NaN` values with the mean value for that column\n",
    "\n",
    "Today, we will be experimenting with the first two options. Before we start dealing with NaN values, it would be useful to generate a histogram for all columns to visualize their distribution before and after dealing with missing values. Run the cell below to do that. "
   ]
  },
  {
   "cell_type": "code",
   "execution_count": null,
   "id": "9b222a34-828e-4a97-a016-ed93a52587b6",
   "metadata": {},
   "outputs": [],
   "source": [
    "def plot_hist(x):\n",
    "    return relabeled_data.hist(x)\n",
    "\n",
    "col_widget = widgets.Dropdown(options=relabeled_data.labels[4:], \n",
    "                              description=\"Column\")\n",
    "\n",
    "interact(plot_hist, x=col_widget);"
   ]
  },
  {
   "cell_type": "markdown",
   "id": "083b4574-78e2-47f9-805d-8c6564f2a47a",
   "metadata": {},
   "source": [
    "<div class=\"alert alert-info\">\n",
    "    <b> Question 2.8</b> How do the distributions for each column look? What patterns do you notice?\n",
    "</div>"
   ]
  },
  {
   "cell_type": "markdown",
   "id": "5068ddb7-0ad6-4b94-808e-1a862fa0fee8",
   "metadata": {},
   "source": [
    "*Replace this text with your answer*"
   ]
  },
  {
   "cell_type": "markdown",
   "id": "50123417-bb7c-42a4-8201-7eec639689b9",
   "metadata": {},
   "source": [
    "### Removing `NaN` values\n",
    "How does our data change based on the way we deal with missing values? Run the cell below, which will remove all the row entries with missing data. "
   ]
  },
  {
   "cell_type": "code",
   "execution_count": null,
   "id": "e0617241-b6e2-426c-8049-d821aba7f8fb",
   "metadata": {},
   "outputs": [],
   "source": [
    "def remove_nan(tbl):\n",
    "    tbl_new = Table(tbl.labels)\n",
    "    for x in np.arange(tbl.num_rows):\n",
    "        list_row = list(tbl.row(x))\n",
    "        if np.count_nonzero(pd.isna(list_row)) == 0:\n",
    "            tbl_new = tbl_new.with_rows([list_row])\n",
    "    return tbl_new\n",
    "\n",
    "no_nan_data = remove_nan(relabeled_data)\n",
    "no_nan_data.show(2)"
   ]
  },
  {
   "cell_type": "markdown",
   "id": "4738d082-f337-469d-a16d-ce495e67339b",
   "metadata": {},
   "source": [
    "Here, we can see that we now have data for every single column and row. Let's see how the distributions in our data changed. "
   ]
  },
  {
   "cell_type": "code",
   "execution_count": null,
   "id": "ae05d1c6-4bee-4a20-9f9f-946f510a20b5",
   "metadata": {},
   "outputs": [],
   "source": [
    "def plot_hist_nonnull(x):\n",
    "    return no_nan_data.hist(x)\n",
    "\n",
    "col_widget = widgets.Dropdown(options=no_nan_data.labels[4:], \n",
    "                              description=\"Column\")\n",
    "\n",
    "interact(plot_hist_nonnull, x=col_widget);"
   ]
  },
  {
   "cell_type": "markdown",
   "id": "8e5ecd5b-16be-49c3-a60a-88af02ba29d6",
   "metadata": {},
   "source": [
    "<div class=\"alert alert-info\">\n",
    "    <b> Question 2.9</b> How have the distributions changed? Do you think this is an improvement?\n",
    "</div>"
   ]
  },
  {
   "cell_type": "markdown",
   "id": "83579468-101c-432c-a8c7-2631b377f2d4",
   "metadata": {},
   "source": [
    "*Replace this text with your answer*"
   ]
  },
  {
   "cell_type": "markdown",
   "id": "f1ff1c08-61ee-444a-8f2e-20b462425a27",
   "metadata": {},
   "source": [
    "<div class=\"alert alert-info\">\n",
    "    <b> Question 2.10</b> Use the <code>num_rows</code> method to find the difference in the number of rows between the <code>relabeled_data</code> and the <code>no_nan_data</code>. \n",
    "</div>"
   ]
  },
  {
   "cell_type": "code",
   "execution_count": null,
   "id": "5940b49c-4090-49cd-b94f-6d8d6d2211da",
   "metadata": {},
   "outputs": [],
   "source": [
    "# Write code to find the number of rows for each respective dataset\n",
    "relabeled_data_num_rows = ...\n",
    "no_nan_data_num_rows = ...\n",
    "\n",
    "# Write code to compute the difference in number of rows \n",
    "..."
   ]
  },
  {
   "cell_type": "markdown",
   "id": "3406ad26-8207-4bbf-9987-a6eb6b7f41b7",
   "metadata": {},
   "source": [
    "<div class=\"alert alert-info\">\n",
    "    <b> Question 2.11</b> How did the size of our dataset change when we removed <code>nan</code> values?\n",
    "</div>"
   ]
  },
  {
   "cell_type": "markdown",
   "id": "6d16d1aa-e151-4496-95c8-1057eefb1d21",
   "metadata": {},
   "source": [
    "*Replace this text with your answer*"
   ]
  },
  {
   "cell_type": "markdown",
   "id": "0afc1cc4-ed3b-423b-8c3e-5a81a369e2e8",
   "metadata": {},
   "source": [
    "### Replacing `NaN` values \n",
    "What if instead of removing the data, we replaced it with a 0? Let's see how that changes our data. "
   ]
  },
  {
   "cell_type": "code",
   "execution_count": null,
   "id": "c2ae736a-dfa7-4209-8372-07443786bddb",
   "metadata": {},
   "outputs": [],
   "source": [
    "# Just run this cell to replace all nan values with 0 \n",
    "relabeled_zeroed_data = relabeled_data\n",
    "for column in relabeled_data.labels[3:]:\n",
    "    new_arr = relabeled_zeroed_data.apply(lambda x: 0 if np.isnan(x) else x, column)\n",
    "    relabeled_zeroed_data = relabeled_zeroed_data.with_column(column, new_arr)\n",
    "    \n",
    "relabeled_zeroed_data.show(3)"
   ]
  },
  {
   "cell_type": "markdown",
   "id": "93c7cf30-6926-41a9-a5ab-b66113c6cd3b",
   "metadata": {},
   "source": [
    "Now that we've set every `nan` value to 0, let us visualize the change in distributions. Run the cell below: "
   ]
  },
  {
   "cell_type": "code",
   "execution_count": null,
   "id": "1d06a616-c490-49cc-88fb-0bc2586a33d7",
   "metadata": {},
   "outputs": [],
   "source": [
    "def plot_hist_zeroed(x):\n",
    "    return relabeled_zeroed_data.hist(x)\n",
    "\n",
    "col_widget = widgets.Dropdown(options=relabeled_zeroed_data.labels[4:], \n",
    "                              description=\"Column\")\n",
    "\n",
    "interact(plot_hist_zeroed, x=col_widget);"
   ]
  },
  {
   "cell_type": "markdown",
   "id": "fa0c293d-d501-4d94-a7f0-f3b42cc57f3b",
   "metadata": {},
   "source": [
    "<div class=\"alert alert-info\">\n",
    "    <b> Question 2.12</b> How have the distributions changed? Do you think this is an improvement?\n",
    "</div>"
   ]
  },
  {
   "cell_type": "markdown",
   "id": "4f74d3d4-0a6a-46ef-a29f-84f209ff1a26",
   "metadata": {},
   "source": [
    "*Replace this text with your answer*"
   ]
  },
  {
   "cell_type": "markdown",
   "id": "b0ec8f58-c454-4ec4-b743-e9a77699a435",
   "metadata": {},
   "source": [
    "<div class=\"alert alert-info\">\n",
    "    <b> Question 2.13</b> Use the <code>num_rows</code> method to find the difference in the number of rows between the <code>relabeled_data</code> and the <code>relabeled_zeroed_data</code>. \n",
    "</div>"
   ]
  },
  {
   "cell_type": "code",
   "execution_count": null,
   "id": "40a4627b-b1b1-490e-80a1-9efb0d65df7d",
   "metadata": {},
   "outputs": [],
   "source": [
    "# Write code to find the number of rows for each respective dataset\n",
    "relabeled_data_num_rows = ...\n",
    "zeroed_out_data_num_rows = ...\n",
    "\n",
    "# Write code to compute the difference in number of rows \n",
    "..."
   ]
  },
  {
   "cell_type": "markdown",
   "id": "9cbacbf5-1e17-4250-b4a6-7d079496ec81",
   "metadata": {},
   "source": [
    "<div class=\"alert alert-info\">\n",
    "    <b> Question 2.14</b> How did the size of our dataset change when we set <code>nan</code> values to 0?\n",
    "</div>"
   ]
  },
  {
   "cell_type": "markdown",
   "id": "6ced1fdd-594d-41da-b77e-4c5355e7891c",
   "metadata": {},
   "source": [
    "*Replace this text with your answer*"
   ]
  },
  {
   "cell_type": "markdown",
   "id": "9058aa50-5ad4-4639-baa8-5fad3f81b86f",
   "metadata": {},
   "source": [
    "<div class=\"alert alert-info\">\n",
    "    <b> Question 2.15</b> What bias did we introduce to the data by setting all <code>nan</code> values to 0?\n",
    "</div>"
   ]
  },
  {
   "cell_type": "markdown",
   "id": "b38d33ec-aa16-4265-93f2-87ce94784433",
   "metadata": {},
   "source": [
    "*Replace this text with your answer*"
   ]
  },
  {
   "cell_type": "markdown",
   "id": "ee0705b8-a7e6-4eca-916b-fadaa8089314",
   "metadata": {},
   "source": [
    "Overall, the takeway here is that neither removing or replacing `NaN` values with 0 improved our data quality. Indeed, in this particular case, leaving the `nan` values untouched proved to be the best option. Like mentioned, that is not always the case. In the future, we wil be looking at datasets that will require us to employ different methods. "
   ]
  },
  {
   "cell_type": "markdown",
   "id": "8e504071-a3a6-4e0c-8393-efb1fcb55a60",
   "metadata": {},
   "source": [
    "# Conclusion  \n",
    "Congratulations! You've reached the end of the assignment. Run the cell below to generate a pdf."
   ]
  },
  {
   "cell_type": "code",
   "execution_count": null,
   "id": "cf325ab7-e541-43b9-bf7f-2afff853dd5a",
   "metadata": {},
   "outputs": [],
   "source": [
    "# This may take a few seconds \n",
    "from IPython.display import display, HTML\n",
    "!jupyter-nbconvert --to PDFviaHTML notebook5.ipynb\n",
    "display(HTML(\"Save this notebook, then click <a href='notebook5.pdf' download>here</a> to open the pdf.\"))"
   ]
  }
 ],
 "metadata": {
  "kernelspec": {
   "display_name": "Python 3",
   "language": "python",
   "name": "python3"
  },
  "language_info": {
   "codemirror_mode": {
    "name": "ipython",
    "version": 3
   },
   "file_extension": ".py",
   "mimetype": "text/x-python",
   "name": "python",
   "nbconvert_exporter": "python",
   "pygments_lexer": "ipython3",
   "version": "3.8.8"
  }
 },
 "nbformat": 4,
 "nbformat_minor": 5
}
