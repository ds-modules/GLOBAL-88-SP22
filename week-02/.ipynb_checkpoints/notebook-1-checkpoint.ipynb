{
 "cells": [
  {
   "cell_type": "markdown",
   "id": "fbc19b69-966e-49ca-a025-ec3163404607",
   "metadata": {
    "tags": [
     "include"
    ]
   },
   "source": [
    "# [Global 88] Introduction to Jupyter, Python, and Gender Violence in India"
   ]
  },
  {
   "cell_type": "markdown",
   "id": "d29ca8fe-c5ed-463b-87d9-4ceafbb2f37b",
   "metadata": {
    "tags": [
     "include"
    ]
   },
   "source": [
    "#### Professors: Karenjot Bhangoo Randhawa"
   ]
  },
  {
   "cell_type": "markdown",
   "id": "861901c5-6b39-4c61-b6b3-3ccd57c75348",
   "metadata": {
    "tags": [
     "include"
    ]
   },
   "source": [
    "**Estimated Time:** *65 minutes*  \n",
    "**Notebook Created By:** Bella Chang, Emily Guo  \n",
    "**Code Maintenance:** Carlos Calderon"
   ]
  },
  {
   "cell_type": "markdown",
   "id": "55a9ba79-8e13-4213-836b-997b59d130f2",
   "metadata": {
    "tags": [
     "include"
    ]
   },
   "source": [
    "Welcome! Throughout the course of this notebook you will be using data science techniques and concepts to assess different measures of gender-related violence in India. Data analysis allows us to summarize and understand any trends found in our data. The main purpose of this notebook is to determine any trends in gender-related violence in India found after [the Criminal Law (Amendment) Act 2013](https://www.iitk.ac.in/wc/data/TheCriminalLaw.pdf). Specifically, we'd like to assess whether this legislation had any effect on gender-related violence accross India, and if so, what were those effects?  \n",
    "\n",
    "**Learning Outcomes**  \n",
    "\n",
    "By the end of this notebook, students will be able to: \n",
    "1. How to work with Jupyter Notebooks and conduct basic data exploration on gender violence on a local case study in India.\n",
    "2. Learn about basic data literacy, including misuse of statistics, intentional and unintentional.\n",
    "3. Learn about ethical challenges and making decision about research efficacy and validity."
   ]
  },
  {
   "cell_type": "markdown",
   "id": "753d5962-b8d9-44c3-8566-db64af182234",
   "metadata": {
    "tags": [
     "include"
    ]
   },
   "source": [
    "# Table of Contents\n",
    "\n",
    "1. [Introduction to Jupyter](#Intro)  \n",
    "    1.1 [Text Cells](#text)  \n",
    "    1.2 [Code Cells](#code)  \n",
    "    1.3 [Errors](#errors)  \n",
    "    1.4 [The Kernel](#kernel)  \n",
    "    1.5 [Importing Packages](#packages)\n",
    "2. [Introduction to Python](#python)  \n",
    "    2.1 [Print Statements and Comments](#print)  \n",
    "    2.2 [Math Expressions and Names (Variables)](#math)  \n",
    "    2.3 [Functions and Calling Functions](#function)\n",
    "3. [Introduction to the Data](#data)  \n",
    "    3.1 [Background to Data & Data Importing](#background)  \n",
    "    3.2 [Features of our Data](#feature)\n",
    "4. [City Analysis](#city)  \n",
    "    4.1 [Crime Rate Throught Time](#crimerate)  \n",
    "    4.2 [Population as a Predictor of Crime](#popcrime)  \n",
    "    4.3 [Mapping Crime Rates](#citymap)\n",
    "5. [State/Union Territory Analysis](#state)  \n",
    "    5.1 [Crime Rate Throughout Time](#risingcrime)  \n",
    "    5.2 [Crime Rate Throughout Time Accross States/UTs](#statettime)   \n",
    "    5.3 [Relationships](#relationships)   \n",
    "    5.4 [Mapping Crime Rates](#statemap)  \n",
    "6. [Data Science Resources](#resources)"
   ]
  },
  {
   "cell_type": "markdown",
   "id": "b187ee1f-9d8b-4e23-ae7d-3e9418acc3ba",
   "metadata": {},
   "source": [
    "<a id='Intro'></a>"
   ]
  },
  {
   "cell_type": "markdown",
   "id": "9fb7391e",
   "metadata": {
    "tags": [
     "include"
    ]
   },
   "source": [
    "# 1. Introduction to Jupyter\n",
    "\n",
    "Welcome to the Jupyter Notebook, an interactive and web-based notebook that is used in data science to document and visualize data! As you can see, the Jupyter notebook supports regular text as well as programming code. Each *cell* or chunk of text can either take on the form of code or regular text.  \n",
    "\n",
    "The way that we determine the type of the cell is by clicking \"Cell,\" located at the top of your screen, and then clicking \"Cell Type.\" From there you will see an arrow that offers the options of changing the current cell you are working in to **Markdown** (which is just regular text) or **Code**.  \n",
    "\n",
    "One of the ways to create a cell is to click the **+** button in the menu bar found at the top of the notebook. By default, a code cell is generated. To change the cell type from **Code** to **Markdown (Text)**, select the cell and click the dropdown menu (the second rightmost button in the top menu) and change the cell type.\n",
    "\n",
    "Make sure to choose accordingly depending on your different tasks later down the road; cells can only support the type that they were assigned (for example, a **Markdown** type cell will not run code)."
   ]
  },
  {
   "cell_type": "markdown",
   "id": "aa3dfe1b-00d3-4029-be69-937ab01e1890",
   "metadata": {},
   "source": [
    "<a id=\"text\"></a>"
   ]
  },
  {
   "cell_type": "markdown",
   "id": "de46c4e0",
   "metadata": {
    "tags": [
     "include"
    ]
   },
   "source": [
    "### 1.1 Text Cells \n",
    "\n",
    "In a notebook, each rectangle is called a *cell*. \n",
    "\n",
    "Each cell can be composed of text or code. Text cells are written in a formatting language called [Markdown](https://www.markdownguide.org). This is how you will be answering a portion of the questions in future assignments. \n",
    "\n",
    "You can click the &#9658; button or hold down `shift` + `return` to confirm any changes. \n",
    "\n",
    "<div class=\"alert alert-info\">\n",
    "<b> Question 1.1:</b> This paragraph is in its own cell. Create a new cell below this one. Make sure it is a Markdown (text) cell, then write up a small intro about yourself. It can be any sort of introduction you'd like.\n",
    "</div>"
   ]
  },
  {
   "cell_type": "markdown",
   "id": "e7b3f50c-3b40-4247-8ec4-a17a20eafcc1",
   "metadata": {},
   "source": [
    "<a id=\"code\"></a>"
   ]
  },
  {
   "cell_type": "markdown",
   "id": "5dbffc55-b589-4e2f-8544-1c41408d3955",
   "metadata": {},
   "source": [
    "### 1.2 Code Cells  \n",
    "\n",
    "Other cells can contain code. For this class, all of the code will be written in the [Python 3.x](https://www.python.org) programming language. Running a code cell will execute the code that it contains.  \n",
    "\n",
    "To run a code cell, click the cell. You will notice that it becomes highlighted with either a blue/green rectangle. Then, press the &#9658;or hold `shift` + `return`. Basically, you can run any type of cell with either option.  \n",
    "\n",
    "<div class=\"alert alert-info\"> \n",
    "       <b> Question 1.2:</b> The cell below is a markdown cell. Change it to a code cell and run it to produce the code output. Do not worry about understanding the code for now. \n",
    "</div>"
   ]
  },
  {
   "cell_type": "markdown",
   "id": "6e9b1532-fea5-49d8-8f13-36784bab88a3",
   "metadata": {},
   "source": [
    "print(\"Hello world\")"
   ]
  },
  {
   "cell_type": "markdown",
   "id": "4b6e693a-a4be-46e8-bc6f-cc10163469f4",
   "metadata": {},
   "source": [
    "<a id=\"errors\"></a>"
   ]
  },
  {
   "cell_type": "markdown",
   "id": "401fc1bf-4877-449d-90ed-c3cd3acfbc9a",
   "metadata": {},
   "source": [
    "### 1.3 Errors \n",
    "\n",
    "*Adapted from Lab 1: Expressions in [Data 8](http://data8.org/sp22/)*\n",
    "\n",
    "Python is a language, and like natural human languages, it has rules. It differs from natural language in two important ways:\n",
    "\n",
    "1. The rules are simple. You can learn most of them in a few weeks and gain reasonable proficiency with the language in a semester.\n",
    "2. The rules are *rigid*. If you're proficient in a natural language, you can understand a non-proficient speaker, glossing over small mistakes. A computer running Python code is not smart enough to do that.\n",
    "\n",
    "Whenever you write code, you'll make mistakes. When you run a code cell that has errors, Python will sometimes produce error messages to tell you what you did wrong.\n",
    "\n",
    "Errors are okay; even experienced programmers make many errors. When you make an error, you just have to find the source of the problem, fix it, and move on.\n",
    "\n",
    "We have made an error in the next cell. Run it and see what happens."
   ]
  },
  {
   "cell_type": "code",
   "execution_count": null,
   "id": "47cf6441-f171-4360-a475-4a5b1616f151",
   "metadata": {},
   "outputs": [],
   "source": [
    "print(\"This line is missing something.\""
   ]
  },
  {
   "cell_type": "markdown",
   "id": "c0c43a58-fb35-42fb-8546-355a567c3ed2",
   "metadata": {},
   "source": [
    "**Note:** In the toolbar, there is the option to click `Cell > Run All`, which will run all the code cells in this notebook in order. However, the notebook stops running code cells if it hits an error, like the one in the cell above.  \n",
    "\n",
    "\n",
    "You should see something like this (minus our annotations):\n",
    "\n",
    "![Error](error.jpg \"Title\")  "
   ]
  },
  {
   "cell_type": "markdown",
   "id": "a0d1e446-ff63-4cf3-9a74-027b0e1723a3",
   "metadata": {},
   "source": [
    "The last line of the error output attempts to tell you what went wrong. The syntax of a language is its structure, and this `SyntaxError` tells you that you have created an illegal structure. \"`EOF`\" means \"end of file,\" so the message is saying Python expected you to write something more (in this case, a right parenthesis) before finishing the cell.\n",
    "\n",
    "There's a lot of terminology in programming languages, but you don't need to know it all in order to program effectively. If you see a cryptic message like this, you can often get by without deciphering it. (Of course, if you're frustrated, ask a neighbor or a staff member for help.)\n",
    "\n",
    "Try to fix the code above so that you can run the cell and see the intended message instead of an error."
   ]
  },
  {
   "cell_type": "markdown",
   "id": "4d1d9be5-e331-4b66-96f5-6e651f5e21e4",
   "metadata": {},
   "source": [
    "<a id=\"kernel\"></a>"
   ]
  },
  {
   "cell_type": "markdown",
   "id": "8a4a29fd-bbde-4cde-b9eb-1eab1fbb3083",
   "metadata": {},
   "source": [
    "### 1.4 The Kernel \n",
    "\n",
    "*Adapted from Lab 1: Expressions in [Data 8](http://data8.org/sp22/)*\n",
    "\n",
    "The kernel is a program that executes the code inside your notebook and outputs the results. In the top right of your window, you can see a circle that indicates the status of your kernel. If the circle is empty (⚪), the kernel is idle and ready to execute code. If the circle is filled in (⚫), the kernel is busy running some code.\n",
    "\n",
    "Next to every code cell, you'll see some text that says In [...]. Before you run the cell, you'll see [ ]. When the cell is running, you'll see In [\\*]. If you see an asterisk (\\*) next to a cell that doesn't go away, it's likely that the code inside the cell is taking too long to run, and it might be a good time to interrupt the kernel (discussed below). When a cell is finished running, you'll see a number inside the brackets, like so: In [1]. The number corresponds to the order in which you run the cells; so, the first cell you run will show a 1 when it's finished running, the second will show a 2, and so on.\n",
    "\n",
    "You may run into problems where your kernel is stuck for an excessive amount of time, your notebook is very slow and unresponsive, or your kernel loses its connection. If this happens, try the following steps:\n",
    "\n",
    "1. At the top of your screen, click Kernel, then Interrupt.\n",
    "2. If that doesn't help, click Kernel, then Restart. If you do this, you will have to run your code cells from the start of your notebook up until where you paused your work.\n",
    "3. If that doesn't help, restart your server. First, save your work by clicking File at the top left of your screen, then Save and Checkpoint. Next, click Control Panel at the top right. Choose Stop My Server to shut it down, then Start My Server to start it back up. Then, navigate back to the notebook you were working on. You'll still have to run your code cells again."
   ]
  },
  {
   "cell_type": "markdown",
   "id": "67983b20-51f7-42ee-9466-d621959a2929",
   "metadata": {},
   "source": [
    "<a id=\"packages\"></a>"
   ]
  },
  {
   "cell_type": "markdown",
   "id": "368917a6-4335-4b1f-b7bd-f7fb2107c06d",
   "metadata": {},
   "source": [
    "### 1.5 Importing Packages  \n",
    "\n",
    "<div class=\"alert alert-block alert-warning\">\n",
    "    In data science and programming as a whole, we often make use of packages (often references as library or modules) that contain powerful functions not found in the default Python library. To use them, we need to import them into our notebook using the <code>import</code> Python statement. For most of this course, we will be using the <code>numpy</code> and <code>datascience</code> libraries, alongside other visualization tools. The cell below is an example of how these statements look. You don't have to worry much about understanding the code or how it works. <b>Just make sure to first run the cell containing all of the import statements before running any code cells. Not doing so may result in pesky errors in the code.</b>  \n",
    "</div>\n"
   ]
  },
  {
   "cell_type": "code",
   "execution_count": 21,
   "id": "b8627965-4265-4c06-a19e-8842ce1d0e23",
   "metadata": {},
   "outputs": [],
   "source": [
    "# Don't change this cell; just run it. \n",
    "import numpy as np\n",
    "from datascience import *\n",
    "import pandas as pd\n",
    "\n",
    "# These lines do some fancy plotting magic\n",
    "import plotly.express as px \n",
    "\n",
    "from ipywidgets import interact\n",
    "import ipywidgets as widgets\n",
    "from IPython.display import HTML\n",
    "\n",
    "import folium\n",
    "import geopandas as gpd"
   ]
  },
  {
   "cell_type": "markdown",
   "id": "457e4f63",
   "metadata": {
    "tags": [
     "include"
    ]
   },
   "source": [
    "----"
   ]
  },
  {
   "cell_type": "markdown",
   "id": "01031ed5-d707-45ce-9cbf-86d08a224fab",
   "metadata": {},
   "source": [
    "<a id=\"python\"></a>"
   ]
  },
  {
   "cell_type": "markdown",
   "id": "d3c956e3",
   "metadata": {
    "tags": [
     "include"
    ]
   },
   "source": [
    "# 2. Python Basics"
   ]
  },
  {
   "cell_type": "markdown",
   "id": "d35abf15",
   "metadata": {
    "tags": [
     "include"
    ]
   },
   "source": [
    "*Python* is a programming language, thus, it allows us to communicate with the computer. Python has a specific syntax and a set of common practices, just like any other language. Before we dive into our data, let's go over some of these basic functionalities in Python that you will be using in this lesson."
   ]
  },
  {
   "cell_type": "markdown",
   "id": "838eeb97-b61d-4eb0-b574-c1074f4eafaa",
   "metadata": {},
   "source": [
    "<a id=\"print\"></a>"
   ]
  },
  {
   "cell_type": "markdown",
   "id": "452b5e28",
   "metadata": {
    "tags": [
     "include"
    ]
   },
   "source": [
    "### 2.1 Print Statements and Comments"
   ]
  },
  {
   "cell_type": "markdown",
   "id": "4fcfb027",
   "metadata": {
    "tags": [
     "include"
    ]
   },
   "source": [
    "For the computer to physically print out words, we are able to use the print statement. Using the command **`print()`**, we can print anything we want the computer to say. It's also important that we write the words we want to print in between quotes. This can be in the form of `\"...\"` or `'...'`, however, make sure to *always open and close with either double quotes or single quotes*. Opening with a single quote and closing with a double quote will result in errors. See below for an example:"
   ]
  },
  {
   "cell_type": "code",
   "execution_count": null,
   "id": "d1666192",
   "metadata": {
    "tags": [
     "include"
    ]
   },
   "outputs": [],
   "source": [
    "print(\"I am a good print statement.\")"
   ]
  },
  {
   "cell_type": "markdown",
   "id": "9d297b90-68b8-42b2-b0ff-efa0ffe64827",
   "metadata": {},
   "source": [
    "<div class=\"alert alert-info\"> \n",
    "       <b> Question 2.1: </b> Create a new code cell below this one, and print out the statement \"Hello, world! My name is _____,\" filling out the blank with your name.\n",
    "    \n",
    "</div>"
   ]
  },
  {
   "cell_type": "markdown",
   "id": "511ba5e9-cd40-406a-beb9-8cf256cb9d43",
   "metadata": {},
   "source": [
    "      "
   ]
  },
  {
   "cell_type": "markdown",
   "id": "a48c5c20-ba0f-40a8-bbec-23ca1581dc18",
   "metadata": {},
   "source": [
    "A comment in Python is used to annotate portions of code, and are not executed by Python. Instead, they are not evaluated and thus can be treated as text within a code cell. To make a comment, we use the `#` notation, as shown below. "
   ]
  },
  {
   "cell_type": "code",
   "execution_count": 11,
   "id": "689b1982-c0cb-413b-a819-111b1ca08baf",
   "metadata": {},
   "outputs": [
    {
     "name": "stdout",
     "output_type": "stream",
     "text": [
      "I am a good print statement.\n"
     ]
    }
   ],
   "source": [
    "# This cell is the same as the cell above. \n",
    "\n",
    "print(\"I am a good print statement.\")"
   ]
  },
  {
   "cell_type": "markdown",
   "id": "561a52fe-5b82-40c4-98a7-83264cb2bab1",
   "metadata": {},
   "source": [
    "<a id=\"math\"></a>"
   ]
  },
  {
   "cell_type": "markdown",
   "id": "c4a26a8f-0e56-4a26-8571-6a5626600b2f",
   "metadata": {},
   "source": [
    "### 2.2 Math Expressions and Names (Variables)\n",
    "\n",
    "In addition to printing text, Python can be used to compute basic arithmetic expressions. Given that quantative information is found everywhere in data science, it is important to get familiarized with basic math operations in python. As in regular math, we can encapsulate operations in parantheses to instruct Python to compute these first. The following cells will walk through a series of small examples showcasing some of the math operations we can do. "
   ]
  },
  {
   "cell_type": "code",
   "execution_count": 2,
   "id": "ab36ab2b-7b16-48a7-9326-9053c83facf6",
   "metadata": {},
   "outputs": [
    {
     "data": {
      "text/plain": [
       "11"
      ]
     },
     "execution_count": 2,
     "metadata": {},
     "output_type": "execute_result"
    }
   ],
   "source": [
    "# Here is a simple example. Notice how Python functions like regular math, performing operations in the parantheses first. \n",
    "(2 * 4) + 3"
   ]
  },
  {
   "cell_type": "code",
   "execution_count": 3,
   "id": "4049dcc8-4d98-4b9c-9c1b-4cb88a04ed02",
   "metadata": {},
   "outputs": [
    {
     "data": {
      "text/plain": [
       "14"
      ]
     },
     "execution_count": 3,
     "metadata": {},
     "output_type": "execute_result"
    }
   ],
   "source": [
    "# Notice how the values changed. Why do you think that is?\n",
    "2 * (4 + 3)"
   ]
  },
  {
   "cell_type": "markdown",
   "id": "69a08210-4cb5-4c49-893b-e4baf98ddbec",
   "metadata": {},
   "source": [
    "*Note:* You may have noticed that we did not have to print these values to see them in our output. This is because a Jupyter notebook implicitly prints out the value of the last line in a code cell. \n",
    "\n",
    "*The following is adapted from Lab 1: Expressions in [Data 8](http://data8.org/sp22/)* \n",
    "  \n",
    "\n",
    "  \n",
    "In natural language, we have terminology that lets us quickly reference very complicated concepts.  We don't say, \"That's a large mammal with brown fur and sharp teeth!\"  Instead, we just say, \"Bear!\" In Python, we do this with ***assignment statements***. An assignment statement has a name on the left side of an `=` sign and an expression to be evaluated on the right. This expression is now *bound* to the name we assigned it (the value on the **left** side of the `=`). The following cell computes the expression `(2*4)+3` on the right hand side, and assigns that value to the name `total`. An alternate nomenclature for \"name\" is the word \"variable\". For the rest of the notebook and the rest of this class, we will use the \"variable\" terminology to reference a Python name. "
   ]
  },
  {
   "cell_type": "code",
   "execution_count": 5,
   "id": "bb5adf5d-8b69-44ee-ae72-cf438865187e",
   "metadata": {},
   "outputs": [],
   "source": [
    "total = (2 * 4) + 3"
   ]
  },
  {
   "cell_type": "markdown",
   "id": "3c23a5f6-950d-4a18-bd91-768132056d08",
   "metadata": {},
   "source": [
    "Now that we have run that cell, we can now reference that variable (or name) by \"calling\" it as shown in the cell below. The output will be the expression that was assigned to the variable name. "
   ]
  },
  {
   "cell_type": "code",
   "execution_count": 6,
   "id": "d2009676-18f1-45f2-acba-f5f957356634",
   "metadata": {},
   "outputs": [
    {
     "data": {
      "text/plain": [
       "11"
      ]
     },
     "execution_count": 6,
     "metadata": {},
     "output_type": "execute_result"
    }
   ],
   "source": [
    "total"
   ]
  },
  {
   "cell_type": "markdown",
   "id": "f72be297-a9bb-42d2-a745-0b0b48e2f6f5",
   "metadata": {},
   "source": [
    "A common pattern in Jupyter notebooks is to assign a value to a name and then immediately evaluate the name in the last line in the cell so that the value is displayed as output."
   ]
  },
  {
   "cell_type": "code",
   "execution_count": 7,
   "id": "2a35a845-c9b8-4dd3-8615-1e2f2ac293a4",
   "metadata": {},
   "outputs": [
    {
     "data": {
      "text/plain": [
       "60"
      ]
     },
     "execution_count": 7,
     "metadata": {},
     "output_type": "execute_result"
    }
   ],
   "source": [
    "num_seconds_in_min = 60\n",
    "num_seconds_in_min"
   ]
  },
  {
   "cell_type": "markdown",
   "id": "5c54d1b6-bbe6-4427-8223-36621156b276",
   "metadata": {},
   "source": [
    "Another common pattern is that a series of lines in a single cell will build up a complex computation in stages, naming the intermediate results."
   ]
  },
  {
   "cell_type": "code",
   "execution_count": 9,
   "id": "522811a6-a565-404c-bb7b-25e855b8a7b3",
   "metadata": {},
   "outputs": [
    {
     "data": {
      "text/plain": [
       "86400"
      ]
     },
     "execution_count": 9,
     "metadata": {},
     "output_type": "execute_result"
    }
   ],
   "source": [
    "num_seconds_in_min = 60\n",
    "num_minutes_in_hour = 60\n",
    "num_seconds_in_hour = num_seconds_in_min * num_minutes_in_hour\n",
    "num_hours_in_day = 24\n",
    "num_seconds_in_day = num_seconds_in_hour * num_hours_in_day\n",
    "num_seconds_in_day"
   ]
  },
  {
   "cell_type": "markdown",
   "id": "cac7a509-a6ee-446e-814b-eab6734a9ead",
   "metadata": {},
   "source": [
    "<div class=\"alert alert-info\"> \n",
    "    <b> Question 2.2:</b> In the code cell below, assign <code>num_days_in_week</code> to the number of days in a week. Then, use <code>num_days_in_week</code> and the variable <code>num_seconds_in_day</code> to assign the variable <code>num_seconds_in_week</code> to the total number of seconds in a week.  \n",
    "</div>"
   ]
  },
  {
   "cell_type": "code",
   "execution_count": null,
   "id": "e0bc2de0-68ce-4aa0-87aa-c19ac00647e6",
   "metadata": {},
   "outputs": [],
   "source": [
    "# Fill in your code by replacing the \"...\"\n",
    "num_days_in_week = ...\n",
    "num_seconds_in_week = ... * ...\n",
    "num_seconds_in_week"
   ]
  },
  {
   "cell_type": "markdown",
   "id": "86fd5855-2505-4fbd-aca1-633af824a12f",
   "metadata": {},
   "source": [
    "Throughout your work, it is important to know that in Python, variable names:   \n",
    "- Can have letters (upper- and lower-case letters are both okay and count as different letters), \n",
    "- Can have underscores,\n",
    "- Can have numbers **BUT,** the first character can't be a number (otherwise a name might look like a number). \n",
    "- Cannot contain spaces, since spaces are used to separate pieces of code from each other. Instead, use the underscore `_` to separate words in a variable name. \n",
    "\n",
    "Other than those rules, what you name something doesn't matter to Python. For example, this cell does the same thing as the cell we saw above, except everything has a different name. Notice how this code is not as easy to understand. Keep this in mind when coming up with variable names, as they should roughly describe what they are assigned to (i.e.: `num_seconds_in_min` used to reference the number of seconds in a minute.)"
   ]
  },
  {
   "cell_type": "code",
   "execution_count": 10,
   "id": "b27797f6-841c-4789-94c9-c59fc778e938",
   "metadata": {},
   "outputs": [
    {
     "data": {
      "text/plain": [
       "86400"
      ]
     },
     "execution_count": 10,
     "metadata": {},
     "output_type": "execute_result"
    }
   ],
   "source": [
    "a = 60\n",
    "b = 60\n",
    "c = a * b\n",
    "d = 24\n",
    "e = d * c\n",
    "e"
   ]
  },
  {
   "cell_type": "markdown",
   "id": "057f7984-f935-441c-87f4-d30fcaeab427",
   "metadata": {},
   "source": [
    "<a id=\"function\"></a>"
   ]
  },
  {
   "cell_type": "markdown",
   "id": "b61a7fb3-9f2f-4bf7-845c-15e899813211",
   "metadata": {},
   "source": [
    "### 2.3 Functions and Calling Functions  \n",
    "\n",
    "*Adapted from Lab 1: Expressions in [Data 8](http://data8.org/sp22/)*  \n",
    "\n",
    "The most common way to combine or manipulate values in Python is by calling functions. Python comes with many built-in functions that perform common operations. Functions are also bound, or assigned, to variable names. To use these functions, we need to \"call\" that function through the parentheses syntax: `function_name()`. Adding the parantheses to this function allows us to call it and use its output. Notice that the parantheses must be attached to the function name. That is, the syntax `function_name ()` will result in an error since there is a space between the function name and the parantheses. The values that go inside the parantheses are known as the *function parameters*, on which the function operates on.\n",
    "\n",
    "For a more concrete example, take the `abs` function. This function takes in a single number as its argument and returns the absolute value of that number. Run the next two cells and see if you understand the output"
   ]
  },
  {
   "cell_type": "code",
   "execution_count": 14,
   "id": "2cd4af01-865d-414b-bec1-abf71bb3644c",
   "metadata": {},
   "outputs": [
    {
     "data": {
      "text/plain": [
       "5"
      ]
     },
     "execution_count": 14,
     "metadata": {},
     "output_type": "execute_result"
    }
   ],
   "source": [
    "abs(5)"
   ]
  },
  {
   "cell_type": "code",
   "execution_count": 15,
   "id": "1b22ac27-2179-4c3e-823d-b3c955370ca7",
   "metadata": {},
   "outputs": [
    {
     "data": {
      "text/plain": [
       "5"
      ]
     },
     "execution_count": 15,
     "metadata": {},
     "output_type": "execute_result"
    }
   ],
   "source": [
    "abs(-5)"
   ]
  },
  {
   "cell_type": "markdown",
   "id": "d509e751-a13c-4921-bceb-1bef34759fd0",
   "metadata": {},
   "source": [
    "Functions can have zero or more parameters. The sky is truly the limit! The `print` statement we showed above is a also a function, in which the parameters can be anything from a string (text) to a number. Python is also very powerful in that it allows for nesting of functions. Run the cell below, which calls the `print` function on the output of the `abs` value function and prints it out. "
   ]
  },
  {
   "cell_type": "code",
   "execution_count": 18,
   "id": "c2cfc87a-ebaa-4605-afd5-1577a2c4d3dd",
   "metadata": {},
   "outputs": [
    {
     "name": "stdout",
     "output_type": "stream",
     "text": [
      "The absolute value of -5 is:  5\n"
     ]
    }
   ],
   "source": [
    "print(\"The absolute value of -5 is: \", abs(-5))"
   ]
  },
  {
   "cell_type": "markdown",
   "id": "ca53bcf8-1208-4f48-82a3-4ec2c2475855",
   "metadata": {},
   "source": [
    "We can also implement our own functions and call them in the same manner that we do with built-in functions. Do not worry if you don't understand the fuction code, the overall structure will become more intuitive as we move through the class. For now, the main takeaway is that we can \"call\" built-in functions and user-made functions in the same way. "
   ]
  },
  {
   "cell_type": "code",
   "execution_count": 19,
   "id": "a9382cc3-1cdb-4775-8a6c-9eca733688fd",
   "metadata": {},
   "outputs": [
    {
     "name": "stdout",
     "output_type": "stream",
     "text": [
      "The square of 5 is:  25\n"
     ]
    }
   ],
   "source": [
    "def square(x): \n",
    "    # Squares the value of x and outputs it\n",
    "    return x * x \n",
    "\n",
    "print(\"The square of 5 is: \", square(5))"
   ]
  },
  {
   "cell_type": "markdown",
   "id": "a6a70e18-2066-46b5-a01b-58954bb51aad",
   "metadata": {},
   "source": [
    "<a id=\"tables\"></a>"
   ]
  },
  {
   "cell_type": "markdown",
   "id": "b4f2da68-eced-4131-b3bf-54bdfdcf22e9",
   "metadata": {},
   "source": [
    "<div class=\"alert alert-info\"> \n",
    "    <b> Question 2.3:</b> Using the <code>square</code> function defined above, assign <code>three_squared</code> to the squared value of 3 in the cell below.\n",
    "</div>"
   ]
  },
  {
   "cell_type": "code",
   "execution_count": null,
   "id": "9b037067-04d1-42d2-911a-8b7708ac2ec3",
   "metadata": {},
   "outputs": [],
   "source": [
    "three_squared = ...\n",
    "three_squared"
   ]
  },
  {
   "cell_type": "markdown",
   "id": "90d7c7fd",
   "metadata": {
    "tags": [
     "include"
    ]
   },
   "source": [
    "----"
   ]
  },
  {
   "cell_type": "markdown",
   "id": "3bc42e30-52da-45fa-8cbb-0fc805383011",
   "metadata": {},
   "source": [
    "<a id=\"data\"></a>"
   ]
  },
  {
   "cell_type": "markdown",
   "id": "c2b59b56-daea-499a-ba80-70776e3cc9b3",
   "metadata": {
    "tags": [
     "include"
    ]
   },
   "source": [
    "# 3. Introduction to the Data  \n",
    "\n",
    "Now that we have gotten a bit familiarized with the Jupyter Notebook environment and seen some of the elementary concepts in Python, we can start delving a bit deeper into data science. As mentioned above, a lot of work in data science is achieved through the use of libraries. Here, we will give a small introduction to the [`datascience`](http://data8.org/datascience/) library and the table manipulations it allows us to perform. More than that, we will see how we can start using basic functions in the `datascience` package to derive insights about our data. "
   ]
  },
  {
   "cell_type": "markdown",
   "id": "2efcd6b7-0a7f-438f-8c91-e369d01cf1a1",
   "metadata": {},
   "source": [
    "<a id=\"background\"></a>"
   ]
  },
  {
   "cell_type": "markdown",
   "id": "69558b6e",
   "metadata": {
    "tags": [
     "include"
    ]
   },
   "source": [
    "### 3.1 Background to Data & Data Importing  \n",
    "Our data comes from the [National Crime Records Bureau of India](https://ncrb.gov.in/en) which was set up in 1986 to \"function as a repository of information on crime and criminals so as to assist the investigators in linking crime to the perpetrators.\" For the purpose of this analysis, we deal with two datasets: [one pertaining to crime in cities in India](https://ncrb.gov.in/sites/default/files/crime_in_india_table_additional_table_chapter_reports/Table%203B.1_3.pdf) and [another pertaining to crime across Indian states/union territories](https://ncrb.gov.in/sites/default/files/crime_in_india_table_additional_table_chapter_reports/Table%203A.1_0.pdf).  \n",
    "\n",
    "Both of these datasets look at crimes in India between the years of 2017-2019 as well as at specific factors (population, total crime against women) that will be useful in trying to make inferences about gender-based violence in certain areas in India.  \n",
    "**Note** In the Indian numbering system, a *lakh* is equal to 100,000. Moreover, politically, a *union territory* is a small administrative unit like a state, but while states are self-governed, union territories are directly ruled over by the central or union government. [Feel to read more here](https://www.indiatoday.in/education-today/gk-current-affairs/story/what-is-the-difference-between-a-state-and-an-union-territory-1577445-2019-08-05!)\n",
    "\n",
    "Here is our **state & union territory based dataset**. Don't worry too much about the specifics of the code, but do observe the table and its headers to familiarize yourself with the format and the significance of each column."
   ]
  },
  {
   "cell_type": "code",
   "execution_count": 22,
   "id": "0f366c58-965b-4bc7-ac62-ed49e9ebdaaf",
   "metadata": {
    "tags": [
     "include"
    ]
   },
   "outputs": [
    {
     "data": {
      "text/html": [
       "<table border=\"1\" class=\"dataframe\">\n",
       "    <thead>\n",
       "        <tr>\n",
       "            <th>State/UT</th> <th>2017 Crimes</th> <th>2018 Crimes</th> <th>2019 Crimes</th> <th>Percentage State Share to Total (2019)</th> <th>Mid-Year Projected Female Population (in lakhs) (2019)</th> <th>Rate of Total Crime Against Women (2019)</th> <th>2018-2019 GDP Per Capita ($)</th> <th>2018-2019 Unemployment Rate (%)</th> <th>2021 Literacy Rate (%)</th>\n",
       "        </tr>\n",
       "    </thead>\n",
       "    <tbody>\n",
       "        <tr>\n",
       "            <td>Andhra Pradesh   </td> <td>17909      </td> <td>16438      </td> <td>17746      </td> <td>4.4                                   </td> <td>261.4                                                 </td> <td>67.9                                    </td> <td>2480                        </td> <td>7.3                            </td> <td>67.02                 </td>\n",
       "        </tr>\n",
       "        <tr>\n",
       "            <td>Arunachal Pradesh</td> <td>337        </td> <td>368        </td> <td>317        </td> <td>0.1                                   </td> <td>7.3                                                   </td> <td>43.3                                    </td> <td>2253                        </td> <td>11.1                           </td> <td>65.38                 </td>\n",
       "        </tr>\n",
       "        <tr>\n",
       "            <td>Assam            </td> <td>23082      </td> <td>27687      </td> <td>30025      </td> <td>7.4                                   </td> <td>168.9                                                 </td> <td>177.8                                   </td> <td>1365                        </td> <td>10.7                           </td> <td>72.19                 </td>\n",
       "        </tr>\n",
       "    </tbody>\n",
       "</table>\n",
       "<p>... (33 rows omitted)</p>"
      ],
      "text/plain": [
       "<IPython.core.display.HTML object>"
      ]
     },
     "metadata": {},
     "output_type": "display_data"
    }
   ],
   "source": [
    "# When we reference this table later, notice that we can just call the variable name states!\n",
    "url = \"https://raw.githubusercontent.com/cxrlsc/data/master/global-fa21/State%20Data.csv\"\n",
    "states = Table.read_table(url)\n",
    "states.show(3)"
   ]
  },
  {
   "cell_type": "markdown",
   "id": "3d9f5a1b",
   "metadata": {
    "tags": [
     "include"
    ]
   },
   "source": [
    "Here is our **city based dataset**."
   ]
  },
  {
   "cell_type": "code",
   "execution_count": 23,
   "id": "b688eb9f-d779-4ee3-8ec1-c8fa494f59ca",
   "metadata": {
    "tags": [
     "include"
    ]
   },
   "outputs": [
    {
     "data": {
      "text/html": [
       "<table border=\"1\" class=\"dataframe\">\n",
       "    <thead>\n",
       "        <tr>\n",
       "            <th>City</th> <th>2017</th> <th>2018</th> <th>2019</th> <th>Percentage City Share to Total (2019)</th> <th>Actual Population (in Lakhs) (2011)</th> <th>Rate of Total Crime Against Women\n",
       "(2019)+</th>\n",
       "        </tr>\n",
       "    </thead>\n",
       "    <tbody>\n",
       "        <tr>\n",
       "            <td>Ahmedabad\n",
       "(Gujarat)  </td> <td>1405</td> <td>1416</td> <td>1633</td> <td>3.6                                  </td> <td>30                                 </td> <td>54.4                                     </td>\n",
       "        </tr>\n",
       "        <tr>\n",
       "            <td>Bengaluru\n",
       "(Karnataka)</td> <td>3565</td> <td>3427</td> <td>3486</td> <td>7.7                                  </td> <td>40.6                               </td> <td>85.9                                     </td>\n",
       "        </tr>\n",
       "        <tr>\n",
       "            <td>Chennai\n",
       "(Tamil Nadu) </td> <td>642 </td> <td>761 </td> <td>729 </td> <td>1.6                                  </td> <td>43.1                               </td> <td>16.9                                     </td>\n",
       "        </tr>\n",
       "    </tbody>\n",
       "</table>\n",
       "<p>... (16 rows omitted)</p>"
      ],
      "text/plain": [
       "<IPython.core.display.HTML object>"
      ]
     },
     "metadata": {},
     "output_type": "display_data"
    }
   ],
   "source": [
    "# Again, we can reference this city table later using just the variable cities.\n",
    "url = \"https://raw.githubusercontent.com/cxrlsc/data/master/global-fa21/Table%203B.1_3.csv\"\n",
    "cities = Table.read_table(url)\n",
    "cities.show(3)"
   ]
  },
  {
   "cell_type": "markdown",
   "id": "eefe8e29-88c0-4e41-a783-f4183c057286",
   "metadata": {
    "tags": [
     "include"
    ]
   },
   "source": [
    "<div class=\"alert alert-info\">\n",
    "<b> What differences do you see between the two tables (apart from the fact that one is based on states/union territories and one is based on cities)?</b>\n",
    "</div>"
   ]
  },
  {
   "cell_type": "markdown",
   "id": "11a129ce",
   "metadata": {
    "tags": [
     "include"
    ]
   },
   "source": [
    "*Replace this text with your response!*"
   ]
  },
  {
   "cell_type": "markdown",
   "id": "23f5c959",
   "metadata": {
    "tags": [
     "include"
    ]
   },
   "source": [
    "<div class=\"alert alert-info\"> \n",
    "    <b> Though the column names are quite similar in this dataset, why might it be helpful to also have city data in our analysis of gender-based violence in particular areas? </b>\n",
    "</div>"
   ]
  },
  {
   "cell_type": "markdown",
   "id": "d24ea1e7",
   "metadata": {
    "tags": [
     "include"
    ]
   },
   "source": [
    "*Replace this text with your response!*"
   ]
  },
  {
   "cell_type": "markdown",
   "id": "a1678377-a8e5-469c-9444-f279e48e2552",
   "metadata": {},
   "source": [
    "<a id=\"feature\"></a>"
   ]
  },
  {
   "cell_type": "markdown",
   "id": "84d305e3",
   "metadata": {
    "tags": [
     "include"
    ]
   },
   "source": [
    "### 3.2 Features of our Data"
   ]
  },
  {
   "cell_type": "markdown",
   "id": "f3bdddd8",
   "metadata": {
    "tags": [
     "include"
    ]
   },
   "source": [
    "Using some of our basic Python knowledge and one of our given datasets (specifically, the **state & union territory dataset**), let's see what baseline facts we can gain."
   ]
  },
  {
   "cell_type": "code",
   "execution_count": null,
   "id": "d4645de9-e248-4221-8294-d2a3146fb309",
   "metadata": {
    "tags": [
     "include"
    ]
   },
   "outputs": [],
   "source": [
    "# First, let's see if we can find the number of rows and columns from our table states.\n",
    "\n",
    "print(f\"The state dataset has {states.num_rows} rows and {states.num_columns} columns\")\n",
    "print(f\"The cities dataset has {cities.num_rows} rows and {cities.num_columns} columns\")"
   ]
  },
  {
   "cell_type": "markdown",
   "id": "8f4c49fe",
   "metadata": {
    "tags": [
     "include"
    ]
   },
   "source": [
    "<div class=\"alert alert-info\"> \n",
    "    <b> The output above shows us that the states dataset contains 36 rows and 10 columns whilst the cities dataset contains 19 rows and 7 columns. For each of the datasets, what does each row represent? What does each column represent? </b>\n",
    "</div>"
   ]
  },
  {
   "cell_type": "markdown",
   "id": "ed6d812b",
   "metadata": {
    "tags": [
     "include"
    ]
   },
   "source": [
    "*Replace this text with your response!*"
   ]
  },
  {
   "cell_type": "markdown",
   "id": "fbaac3d4",
   "metadata": {
    "tags": [
     "include"
    ]
   },
   "source": [
    "We can also see which state/union territory had the greatest and smallest rate of total crime against women in 2019. Run the cell below which outputs the row representing the state with the highest rate of total crime against women in 2019."
   ]
  },
  {
   "cell_type": "code",
   "execution_count": null,
   "id": "371ab87b",
   "metadata": {
    "tags": [
     "include"
    ]
   },
   "outputs": [],
   "source": [
    "# Greatest rate of total crime against women in 2019+\n",
    "\n",
    "# Writing a variable for the column \"Rate of Total Crime against Women (2019)+\"\n",
    "total_crime = states.column(\"Rate of Total Crime Against Women (2019)\")\n",
    "\n",
    "# Using total_crime & .where to see where in the table's column the max of the column is; are.equal_to is a comparison\n",
    "# predicate to find, within a column, where a value or data point is equal to a certain number.\n",
    "states.where(total_crime, are.equal_to(max(total_crime)))"
   ]
  },
  {
   "cell_type": "code",
   "execution_count": null,
   "id": "f0948508",
   "metadata": {
    "tags": [
     "include"
    ]
   },
   "outputs": [],
   "source": [
    "# Lowest rate of total crime against women in 2019+\n",
    "\n",
    "total_crime = states.column(\"Rate of Total Crime Against Women (2019)\")\n",
    "\n",
    "states.where(total_crime, are.equal_to(min(total_crime)))"
   ]
  },
  {
   "cell_type": "markdown",
   "id": "8a4717d5",
   "metadata": {
    "tags": [
     "include"
    ]
   },
   "source": [
    "<div class=\"alert alert-info\"> \n",
    "    <b> The two outputs above show us the states with the maximum and minimum rate of crime against women as measured in 2019. Take some time to do some research on each of these states. What differences/similarities in policies, society, or other factors can potentially contribute for the huge disparity in rates of crime? Compare and contrast the different values in each of the columns.  \n",
    "       </b>\n",
    "</div>"
   ]
  },
  {
   "cell_type": "markdown",
   "id": "94e9bf93",
   "metadata": {
    "tags": [
     "include"
    ]
   },
   "source": [
    "*Replace this text with your response!*"
   ]
  },
  {
   "cell_type": "markdown",
   "id": "822c018e-d86c-4d32-b0e7-6cd6f25df0f5",
   "metadata": {},
   "source": [
    " "
   ]
  },
  {
   "cell_type": "markdown",
   "id": "0aa56c8f",
   "metadata": {
    "tags": [
     "include"
    ]
   },
   "source": [
    "We can also create sorted tables that show the rate of total crime against women for each dataset in order from greatest to smalest. Below, we first show the 4 states with the highest rate of total crime against women in 2019. Then, the table below that shows the 4 cities with the highest amount of crime against women in 2019. "
   ]
  },
  {
   "cell_type": "code",
   "execution_count": null,
   "id": "3e8c01cd",
   "metadata": {
    "tags": [
     "include"
    ]
   },
   "outputs": [],
   "source": [
    "# States/UT table with rate of total crime against women in descending order\n",
    "descending_crime_states = states.sort(\"Rate of Total Crime Against Women (2019)\", descending = True)\n",
    "descending_crime_states.show(4)"
   ]
  },
  {
   "cell_type": "code",
   "execution_count": null,
   "id": "7be082be",
   "metadata": {
    "tags": [
     "include"
    ]
   },
   "outputs": [],
   "source": [
    "# Cities table with rate of total crime against women in descending order\n",
    "descending_crime_cities = cities.sort(\"Rate of Total Crime Against Women\\n(2019)+\", descending = True)\n",
    "descending_crime_cities.show(4)"
   ]
  },
  {
   "cell_type": "markdown",
   "id": "e3b41eb6",
   "metadata": {
    "tags": [
     "include"
    ]
   },
   "source": [
    "<div class=\"alert alert-info\"> \n",
    "    <b> What differences and/or similarities do you see in the states vs. the cities with the highest rate of crimes against women? How do you interpret the differences? The similarities? </b> \n",
    "    </div>"
   ]
  },
  {
   "cell_type": "markdown",
   "id": "af1c94c2",
   "metadata": {
    "tags": [
     "include"
    ]
   },
   "source": [
    "*Replace this text with your response!*"
   ]
  },
  {
   "cell_type": "markdown",
   "id": "c97db78f",
   "metadata": {
    "tags": [
     "include"
    ]
   },
   "source": [
    "----"
   ]
  },
  {
   "cell_type": "markdown",
   "id": "27a8b734-9850-4cc4-ba4b-2939b92550e3",
   "metadata": {},
   "source": [
    "<a id=\"city\"></a>"
   ]
  },
  {
   "cell_type": "markdown",
   "id": "b658c1d2",
   "metadata": {
    "tags": [
     "include"
    ]
   },
   "source": [
    "# 4. City-Wide Analysis "
   ]
  },
  {
   "cell_type": "markdown",
   "id": "17849f27-46e8-4f29-b501-60dc4f9d12ac",
   "metadata": {
    "tags": [
     "include"
    ]
   },
   "source": [
    "As we have seen, our cities dataset contains information on 19 metropolitan cities. Naturally, one question is how does crime compare accross cities? How has this crime changed in recent years? The following section contains several visualizations of the data. Analyzing and interpreting data visualizations is an integral skill not only in data science, but accross all domains. For most of the following questions, we'd like you to take some time to assess and inquire each graph and answer some questions based on these. "
   ]
  },
  {
   "cell_type": "code",
   "execution_count": null,
   "id": "c2d0bc85-9baa-4d47-b84f-7cdbb12c41d2",
   "metadata": {
    "tags": [
     "include"
    ]
   },
   "outputs": [],
   "source": [
    "# Just run this cell\n",
    "city_arr = ['Ahmedabad', 'Bengaluru', 'Chennai', 'Coimbatore', 'Delhi', 'Ghaziabad', 'Hyderabad',\n",
    "            'Indore', 'Jaipur', 'Kanpur', 'Kochi', 'Kolkata', 'Kozhikode', 'Lucknow', 'Mumbai',\n",
    "            'Nagpur', 'Patna', 'Pune', 'Surat']\n",
    "cities['City'] = city_arr\n",
    "cities_df = cities.to_df()\n",
    "cities_melted = pd.melt(cities_df, id_vars=[\"City\"], value_vars=[\"2017\", \"2018\", \"2019\"])\n",
    "cities_melted = cities_melted.rename(columns={\"City\":\"City\", \"variable\":\"Year\", \"value\":\"Number of Crimes\"})\n",
    "cities.show(5)"
   ]
  },
  {
   "cell_type": "markdown",
   "id": "ee7b8f21-622a-49f7-a7e9-00364c7aa6a5",
   "metadata": {},
   "source": [
    "<a id=\"crimerate\"></a>"
   ]
  },
  {
   "cell_type": "markdown",
   "id": "1445a602-5315-4a4b-8db9-257eef8ca6f6",
   "metadata": {
    "tags": [
     "include"
    ]
   },
   "source": [
    "### 4.1 Crime Rate Throughout Time in Metropolitan Cities"
   ]
  },
  {
   "cell_type": "markdown",
   "id": "64143bdc-7aa1-433b-97f1-df84900af395",
   "metadata": {
    "tags": [
     "include"
    ]
   },
   "source": [
    "A question that naturally arises with time-series data is how do trends change over time? Our dataset contains information from three periods: 2017, 2018, 2019. Given then 2013 legislation, we should expect a decrease in the number of gender-related crimes. But is that really the case? Run the cell below to look at the number of crimes for each state accross time. "
   ]
  },
  {
   "cell_type": "code",
   "execution_count": null,
   "id": "98d2d9b2-f801-45bb-b916-617b6d86b3ac",
   "metadata": {
    "tags": [
     "include"
    ]
   },
   "outputs": [],
   "source": [
    "fig = px.line(cities_melted, x=\"City\", y=\"Number of Crimes\", color=\"Year\", height=500, width=1500, \n",
    "              title=\"Number of Crimes Against Women in Cities Accross India (in lakhs) from 2017-2019\")\n",
    "fig.show()"
   ]
  },
  {
   "cell_type": "markdown",
   "id": "f9c70a2e-5624-4f18-90ff-90db07d1ecf9",
   "metadata": {
    "tags": [
     "include"
    ]
   },
   "source": [
    "<div class=\"alert alert-info\"> \n",
    "    <b> Closely examine the graph above. Hover your mouse over each data point to get more information. Was there any type of social unrest related to gender-based violence in 2019 that would explain a spike in incidence in cities such as Jaipur? On the other hand, how was 2017 any different than 2018/19 in Pune? What other discrepancies do you notice accross cities in different years?</b>\n",
    "</div>"
   ]
  },
  {
   "cell_type": "markdown",
   "id": "0213f207-7397-4d2b-8ac6-94f2d0a67a00",
   "metadata": {
    "tags": [
     "include"
    ]
   },
   "source": [
    "*Replace this text with your response!*"
   ]
  },
  {
   "cell_type": "markdown",
   "id": "c88e94b5-cd51-4ae9-a685-a889c0654d31",
   "metadata": {},
   "source": [
    "<a id=\"popcrime\"></a>"
   ]
  },
  {
   "cell_type": "markdown",
   "id": "c91d9e80-cbe6-4c76-a000-d329b5811be8",
   "metadata": {
    "tags": [
     "include"
    ]
   },
   "source": [
    "### 4.2 Population as a Predictor for Crime "
   ]
  },
  {
   "cell_type": "markdown",
   "id": "136c0873-24da-4a82-bcb8-9632dd718ecb",
   "metadata": {
    "tags": [
     "include"
    ]
   },
   "source": [
    "Another question that we can ask ourselves is, are more populated areas more likely to experience higher crime rates? "
   ]
  },
  {
   "cell_type": "code",
   "execution_count": null,
   "id": "88d55867-68df-4a50-9e44-a41f534b7909",
   "metadata": {
    "tags": [
     "include"
    ]
   },
   "outputs": [],
   "source": [
    "fig = px.scatter(cities_df, y=cities['2019']/cities['Actual Population (in Lakhs) (2011)'],  x=\"Actual Population (in Lakhs) (2011)\",\n",
    "                 size=\"2019\", hover_data=[\"City\"], height=700, width=700, labels=dict(y=\"Number of Crimes (per lakh)\", size=\"Number of crimes\"),\n",
    "                 title=\"Population vs. Number of Crimes Against Women (in Lakhs)\")\n",
    "fig.update_xaxes(title_text=\"Population\")\n",
    "fig.show()"
   ]
  },
  {
   "cell_type": "markdown",
   "id": "337c92a1-1045-4d7c-b84c-69679cb2740e",
   "metadata": {
    "tags": [
     "include"
    ]
   },
   "source": [
    "<div class=\"alert alert-info\"> \n",
    "    <b> The graph above plots the relationship between population and number of crimes in a given city. The size of each data point pertains to the amount of crimes against women in that city (i.e.: larger circles represent more crimes against women). What does this graph tell us about highly concentrated urban centres vs. rural communities? Do you notice any trends in the data? That is, are higher populated areas experiencing higher amounts of crime?</b>\n",
    "</div>"
   ]
  },
  {
   "cell_type": "markdown",
   "id": "9de61156-c574-4871-8b30-b0360934458e",
   "metadata": {
    "tags": [
     "include"
    ]
   },
   "source": [
    "*Replace this text with your answer!*"
   ]
  },
  {
   "cell_type": "markdown",
   "id": "4ea5f285-ded7-4168-af4a-ff9351ae4295",
   "metadata": {
    "tags": [
     "include"
    ]
   },
   "source": [
    "The graph below is identical to the one above, however the graph below contains a [trend line](https://www.investopedia.com/terms/t/trendline.asp#:~:text=A%20trendline%20is%20a%20line,during%20periods%20of%20price%20contraction.), which allows us to generalize the overall trend in the data. "
   ]
  },
  {
   "cell_type": "code",
   "execution_count": null,
   "id": "e586afa4-3a70-40dd-975d-4c2e0af4def3",
   "metadata": {
    "tags": [
     "include"
    ]
   },
   "outputs": [],
   "source": [
    "fig = px.scatter(cities_df, y=cities['2019']/cities['Actual Population (in Lakhs) (2011)'],  x=\"Actual Population (in Lakhs) (2011)\",\n",
    "                 size=\"2019\", hover_data=[\"City\"], height=700, width=700, labels=dict(y=\"Number of Crimes (per lakh)\", size=\"Number of crimes\"),\n",
    "                 title=\"Population vs. Number of Crimes Against Women (in Lakhs)\", trendline=\"ols\")\n",
    "fig.update_xaxes(title_text=\"Population\")\n",
    "fig.show()"
   ]
  },
  {
   "cell_type": "markdown",
   "id": "935a4af3-be99-41f8-8cef-f7bcace937e8",
   "metadata": {
    "tags": [
     "include"
    ]
   },
   "source": [
    "<div class=\"alert alert-info\"> \n",
    "    <b> How were our original assumptions challenged based on the first and second graphs? For example, the second graph shows that crime rates are consistent across (i.e.: do not depend on) population.</b>\n",
    "</div>"
   ]
  },
  {
   "cell_type": "markdown",
   "id": "ef0ff274-0013-440c-85d4-cce0e128b4e6",
   "metadata": {
    "tags": [
     "include"
    ]
   },
   "source": [
    "*Replace this text with your answer!*"
   ]
  },
  {
   "cell_type": "markdown",
   "id": "ec628a27-c969-478f-b4af-895d79800f0e",
   "metadata": {},
   "source": [
    "<a id=\"citymap\"></a>"
   ]
  },
  {
   "cell_type": "markdown",
   "id": "70256209-50b6-4dcf-aeee-691b7d513486",
   "metadata": {
    "tags": [
     "include"
    ]
   },
   "source": [
    "### 4.3 Mapping Crime Rates Throughout Cities"
   ]
  },
  {
   "cell_type": "markdown",
   "id": "3c715930-fb45-4518-95ca-e2593a32ab86",
   "metadata": {
    "tags": [
     "include"
    ]
   },
   "source": [
    "Another useful visualization is a [chloropleth maps](https://en.wikipedia.org/wiki/Choropleth_map), which allows us to visualize some variable accross a geographic area. Below, we map cities and their respective crime rates. This helps us in visualizing the distribution of crime accross different geographical areas in India. "
   ]
  },
  {
   "cell_type": "code",
   "execution_count": null,
   "id": "301fb11d-2eeb-44cd-aa7e-d97c7dd8ed0d",
   "metadata": {
    "tags": [
     "include"
    ]
   },
   "outputs": [],
   "source": [
    "geoJSON_url = \"https://raw.githubusercontent.com/cxrlsc/data/master/global-fa21/india_city.geojson\"\n",
    "geoJSON_df = gpd.read_file(geoJSON_url)\n",
    "cities_locs_url = \"https://raw.githubusercontent.com/cxrlsc/data/master/global-fa21/Cities%20Location.csv\"\n",
    "cities_locations = pd.read_csv(cities_locs_url)\n",
    "joined_df = pd.merge(geoJSON_df, cities_df, left_on=\"NAME_2\", right_on=\"City\")\n",
    "\n",
    "india_longitude = 21.7969\n",
    "india_latitude = 78.8718\n",
    "\n",
    "india_map = folium.Map(location=[india_longitude, india_latitude], zoom_start = 4)\n",
    "\n",
    "folium.Choropleth(\n",
    "    geo_data=joined_df,\n",
    "    data=joined_df,\n",
    "    columns=['City', 'Rate of Total Crime Against Women\\n(2019)+'],\n",
    "    key_on=\"feature.properties.City\",\n",
    "    fill_color='YlGnBu',\n",
    "    fill_opacity=1,\n",
    "    line_opacity=0.2,\n",
    "    legend_name=\"total crime (2019)\",\n",
    "    smooth_factor=0,\n",
    "    line_color = \"#0000\",\n",
    "    nan_fill_color = \"White\"\n",
    ").add_to(india_map)\n",
    "\n",
    "for i in np.arange(len(cities_locations)):\n",
    "    folium.Marker(location=[cities_locations['Latitude (N)'][i], cities_locations['Longitude (E)'][i]], popup=city_arr[i]).add_to(india_map)\n",
    "\n",
    "    \n",
    "sw = cities_locations[[\"Latitude (N)\", \"Longitude (E)\"]].min().tolist()\n",
    "ne = cities_locations[[\"Latitude (N)\", \"Longitude (E)\"]].max().tolist()\n",
    "\n",
    "india_map.fit_bounds([sw, ne])    \n",
    "india_map"
   ]
  },
  {
   "cell_type": "markdown",
   "id": "582a2681-8923-46a7-944e-56b94e6d1b05",
   "metadata": {
    "tags": [
     "include"
    ]
   },
   "source": [
    "<div class=\"alert alert-info\"> \n",
    "    <b> The choloropleth map above shows different Indian cities and their respective rate of crimes against women. Feel free to zoom in and out as much as you want. Are there any regional trends in the data? (i.e.: Are northern cities experiencing more crime than southern cities?) Choose two cities from the map above, conduct some individual research and list any reasons could explain differences in crime rates between these two. (e.g.: Delhi, Ghaziabad) </b>\n",
    "</div>"
   ]
  },
  {
   "cell_type": "markdown",
   "id": "a1229c36-d2a7-48c4-ba4a-365c1d46f259",
   "metadata": {
    "tags": [
     "include"
    ]
   },
   "source": [
    "*Replace this text with your answer*"
   ]
  },
  {
   "cell_type": "markdown",
   "id": "bfa993d2",
   "metadata": {
    "tags": [
     "include"
    ]
   },
   "source": [
    "----"
   ]
  },
  {
   "cell_type": "markdown",
   "id": "6c5e46e7-7c3d-4952-9049-615a3258fdad",
   "metadata": {},
   "source": [
    "<a id=\"state\"></a>"
   ]
  },
  {
   "cell_type": "markdown",
   "id": "8dc1648c",
   "metadata": {
    "tags": [
     "include"
    ]
   },
   "source": [
    "# 5. State-Wide Analysis"
   ]
  },
  {
   "cell_type": "markdown",
   "id": "fc9e0bf4",
   "metadata": {
    "tags": [
     "include"
    ]
   },
   "source": [
    "Shifting gears from city-level analysis to state-level analysis requires careful thought. Trends seen in individual cities may dissapear when looking at a state as whole. Our states dataset contains crime and other information about each state. These additional information contains some features that could give insight on comparisons between features and number of incidents in an area. For the \"2018-2019 GDP Per Capita ($)\" column, there is no data available for D&N Haveli, Daman & Diu, and Lakshadweep. So we used 2003-2004 GDP per capita for these three union territories instead."
   ]
  },
  {
   "cell_type": "code",
   "execution_count": null,
   "id": "06a21703",
   "metadata": {
    "tags": [
     "include"
    ]
   },
   "outputs": [],
   "source": [
    "states.show(5)"
   ]
  },
  {
   "cell_type": "markdown",
   "id": "9a1be4ef-44b2-4cff-a133-39d509098d5d",
   "metadata": {},
   "source": [
    "<a id=\"risingcrime\"></a>"
   ]
  },
  {
   "cell_type": "markdown",
   "id": "7f777d69-82c9-4daa-a1df-f287fcdd0a5a",
   "metadata": {
    "tags": [
     "include"
    ]
   },
   "source": [
    "### 5.1 Crime Rate Throughout Time"
   ]
  },
  {
   "cell_type": "code",
   "execution_count": null,
   "id": "95c163a7",
   "metadata": {
    "tags": [
     "include"
    ]
   },
   "outputs": [],
   "source": [
    "total_crime_2017 = np.sum(states.column(\"2017 Crimes\"))\n",
    "total_crime_2018 = np.sum(states.column(\"2018 Crimes\"))\n",
    "total_crime_2019 = np.sum(states.column(\"2019 Crimes\"))\n",
    "total_crime_tbl = Table().with_columns(\"Year\", make_array(2017, 2018, 2019), \n",
    "                                       \"Total Crimes\", make_array(total_crime_2017, \n",
    "                                                                  total_crime_2018, total_crime_2019))"
   ]
  },
  {
   "cell_type": "code",
   "execution_count": null,
   "id": "37acad71-abe2-438e-8fae-f3dbb7c8f03b",
   "metadata": {
    "tags": [
     "include"
    ]
   },
   "outputs": [],
   "source": [
    "fig = px.line(total_crime_tbl.to_df(), x=\"Year\", y=\"Total Crimes\", height=550, width=550,\n",
    "              title=\"Number of Crimes Against Women in India from 2017-19\")\n",
    "fig.update_xaxes(nticks=3)\n",
    "fig.show()"
   ]
  },
  {
   "cell_type": "markdown",
   "id": "b3ba65fb-04cf-4c4c-a6f6-30472d0e5e53",
   "metadata": {
    "tags": [
     "include"
    ]
   },
   "source": [
    "<div class=\"alert alert-info\"> \n",
    "    <b> The graph above shows us that, accross all states, gender-based crime seems to be rising from 2017 to 2019. When the new legislation was passed in 2013, it became mandated to report gender-based violence. Do you believe crime is rising as a result of increased reports or increased crime?</b>\n",
    "</div>"
   ]
  },
  {
   "cell_type": "markdown",
   "id": "7860cbcc-8895-4781-af22-9b72a5ac81a7",
   "metadata": {
    "tags": [
     "include"
    ]
   },
   "source": [
    "*Replace this text with your answer!*"
   ]
  },
  {
   "cell_type": "markdown",
   "id": "a39a6cce-2da0-4819-afcd-e1f3b66dfbdc",
   "metadata": {},
   "source": [
    "<a id=\"statettime\"></a>"
   ]
  },
  {
   "cell_type": "markdown",
   "id": "6283527b-959f-4026-a233-ee2a021a0ad0",
   "metadata": {
    "tags": [
     "include"
    ]
   },
   "source": [
    "### 5.2 Crime Rate Throughout Time accross States/UTs"
   ]
  },
  {
   "cell_type": "code",
   "execution_count": null,
   "id": "9ea147c1-1fcb-4ad4-8186-9537fb8e820a",
   "metadata": {
    "tags": [
     "include"
    ]
   },
   "outputs": [],
   "source": [
    "states_df = states.to_df()\n",
    "states_df = states_df.rename(columns={\"2017 Crimes\":\"2017\", \"2018 Crimes\":\"2018\", \"2019 Crimes\":\"2019\"})\n",
    "states_melted = pd.melt(states_df, id_vars=[\"State/UT\"], value_vars=[\"2017\", \"2018\", \"2019\"])\n",
    "states_melted = states_melted.rename(columns={\"variable\":\"Year\", \"value\":\"Number of Crimes\"})\n",
    "fig = px.line(states_melted, x=\"State/UT\", y=\"Number of Crimes\", color=\"Year\", height=500, width=1500, \n",
    "              title=\"Number of Crimes Against Women in States Accross India (in lakhs) from 2017-2019\")\n",
    "fig.update_xaxes(tickangle=-75)\n",
    "fig.show()"
   ]
  },
  {
   "cell_type": "markdown",
   "id": "5c1fbf1f-7bb7-437a-8dfe-357a98ffd94a",
   "metadata": {
    "tags": [
     "include"
    ]
   },
   "source": [
    "<div class=\"alert alert-info\"> \n",
    "    <b>What do we know about states such as Madya Pradesh, Bihar, Assam, Maharashtra, Rajasthan, that could explain differences in crime rates accross time?</b>\n",
    "</div>"
   ]
  },
  {
   "cell_type": "markdown",
   "id": "279a84bc-3944-4226-b7cc-24102a1c51f5",
   "metadata": {
    "tags": [
     "include"
    ]
   },
   "source": [
    "*Replace this text with your answer!*"
   ]
  },
  {
   "cell_type": "markdown",
   "id": "2da0ebca-89a0-4d4c-b709-0f0e7c0c9863",
   "metadata": {},
   "source": [
    "<a id=\"relationships\"></a>"
   ]
  },
  {
   "cell_type": "markdown",
   "id": "9d7a12f8",
   "metadata": {
    "tags": [
     "include"
    ]
   },
   "source": [
    "### 5.3 Relationships Between State Features and Crime Rate"
   ]
  },
  {
   "cell_type": "markdown",
   "id": "7c42823b-bacd-4e6e-8eec-a0b4150dbdf6",
   "metadata": {
    "tags": [
     "include"
    ]
   },
   "source": [
    "#### Correlation"
   ]
  },
  {
   "cell_type": "markdown",
   "id": "1e399172",
   "metadata": {
    "tags": [
     "include"
    ]
   },
   "source": [
    "When working as data scientists, one of the most important measures to understand is [correlation](https://en.wikipedia.org/wiki/Correlation). This concept is used to describe the strength of an association between two variables. More specifically, it refers to how *linearly associated* two variables are. For the purpose of this lesson, you don't need to focus too much on this.  \n",
    "\n",
    "An important value to understand is the correlation coefficient **r**, which is always a number between -1 and 1. Correlation coefficient values closer to 0 tell us that two variables have no association. On the contrary, correlation coefficient values closer to -1 or 1 tell us that two variables are *highly correlated*, meaning they are both heavily associated with one another. Notice how this does not tell us whether two variables are related by cause an effect. This is because **correlation is not causation**.\n",
    "\n",
    "For the following section, you will be able to select between two columns (aka: variables) from the `states` dataset and view their correlation coefficient and their scatterplots. Scatterplots are the ideal way to visualize a relationship. [Using the following link as a guide, interpret the correlation coefficients and the scatterplot between two variables for the following questions.](https://www.scribbr.com/statistics/correlation-coefficient/)"
   ]
  },
  {
   "cell_type": "code",
   "execution_count": null,
   "id": "18358e88-34bb-4ff7-a6c1-857f20ef18e4",
   "metadata": {
    "tags": [
     "include"
    ]
   },
   "outputs": [],
   "source": [
    "def scatter_states(col1, col2):\n",
    "    fig = px.scatter(states_df, x=col1, y=col2, hover_data=[\"State/UT\"],\n",
    "                     height=600, width=600, title=col1 + \" vs. \" + col2)\n",
    "    \n",
    "    print(f\"Correlation coefficient: {np.corrcoef(states_df[col1], states_df[col2])[0, 1]}\")\n",
    "\n",
    "    fig.show()\n",
    "\n",
    "lst = states_df.columns.tolist()\n",
    "    \n",
    "col1_widget = widgets.Dropdown(options=lst,\n",
    "                                 value=lst[1],\n",
    "                                 description=\"Column 1: \",\n",
    "                                 disabled=False)\n",
    "\n",
    "col2_widget = widgets.Dropdown(options=lst,\n",
    "                                 value=lst[2],\n",
    "                                 description=\"Column 2: \",\n",
    "                                 disabled=False)\n",
    "\n",
    "interact(scatter_states, col1=col1_widget, col2=col2_widget);"
   ]
  },
  {
   "cell_type": "markdown",
   "id": "19139470-536e-4afa-b31d-1ef903b48388",
   "metadata": {
    "tags": [
     "include"
    ]
   },
   "source": [
    "<div class=\"alert alert-info\"> \n",
    "    <b>Using the two selection boxes above, choose two columns to visualize their relationship and read their correlation coefficient. What two columns have the highest correlations? What two columns have the lowest correlations? Why do you think this might be?</b>\n",
    "</div>"
   ]
  },
  {
   "cell_type": "markdown",
   "id": "943d3b4f-2689-4fcb-8f57-82e1f23e922e",
   "metadata": {
    "tags": [
     "include"
    ]
   },
   "source": [
    "*Replace this text with your answer!*"
   ]
  },
  {
   "cell_type": "markdown",
   "id": "606c367d-a758-4375-8eef-03cb5ea92325",
   "metadata": {
    "tags": [
     "include"
    ]
   },
   "source": [
    "<div class=\"alert alert-info\"> \n",
    "    <b>Choose the first column to be \"2021 Literacy Rate (%)\". With what other column does literacy rate have the highest correlation with? The lowest? Based off the scatter plot and correlation coefficient, how does literacy rate and crime in 2019 relate to one another? </b>\n",
    "</div>"
   ]
  },
  {
   "cell_type": "markdown",
   "id": "042f7a88-305c-44fe-a06f-76317bd42078",
   "metadata": {
    "tags": [
     "include"
    ]
   },
   "source": [
    "*Replace this text with your answer!*"
   ]
  },
  {
   "cell_type": "markdown",
   "id": "37a0e795-1e70-4729-8996-e35e561790e1",
   "metadata": {
    "tags": [
     "include"
    ]
   },
   "source": [
    "<div class=\"alert alert-info\"> \n",
    "    <b>Choose the first column to be \"2018-2019 Unemployment Rate\". With what other column does unemployment have the highest correlation with? The lowest? Based off the scatter plot and correlation coefficient, how does unemployment and crime in 2019 relate to one another?</b>\n",
    "</div>"
   ]
  },
  {
   "cell_type": "markdown",
   "id": "f0e925c6-8daf-4e80-abda-f23be7a8e43e",
   "metadata": {
    "tags": [
     "include"
    ]
   },
   "source": [
    "*Replace this text with your answer!*"
   ]
  },
  {
   "cell_type": "markdown",
   "id": "425c4750-3038-49c9-9729-434fc51e0034",
   "metadata": {},
   "source": [
    "<a id=\"statemap\"></a>"
   ]
  },
  {
   "cell_type": "markdown",
   "id": "b364745c-e927-4acf-b501-911462bd49cf",
   "metadata": {
    "tags": [
     "include"
    ]
   },
   "source": [
    "### 5.4 Mapping Crime Rates throughout States/UTs"
   ]
  },
  {
   "cell_type": "code",
   "execution_count": null,
   "id": "71b1b4fa-6852-4e19-8cd2-e36e91a97132",
   "metadata": {
    "tags": [
     "include"
    ]
   },
   "outputs": [],
   "source": [
    "updated_state_url = \"https://raw.githubusercontent.com/cxrlsc/data/master/global-fa21/Updated%20State%20Data.csv\"\n",
    "updated_states = pd.read_csv(updated_state_url)\n",
    "state_geo_url = \"https://raw.githubusercontent.com/cxrlsc/data/master/global-fa21/india_state_geo.json\"\n",
    "geoJSON_df = gpd.read_file(state_geo_url)\n",
    "joined_df = pd.merge(geoJSON_df, updated_states, left_on=\"NAME_1\", right_on=\"State/UT\")\n",
    "\n",
    "states_locs_url = \"https://raw.githubusercontent.com/cxrlsc/data/master/global-fa21/State%20Locations.csv\"\n",
    "states_locations = pd.read_csv(states_locs_url)\n",
    "\n",
    "india_longitude = 21.7969\n",
    "india_latitude = 78.8718\n",
    "\n",
    "india_map = folium.Map(location=[india_longitude, india_latitude], zoom_start = 4)\n",
    "\n",
    "folium.Choropleth(\n",
    "    geo_data=joined_df,\n",
    "    data=joined_df,\n",
    "    columns=['State/UT', \"Rate of Total Crime Against Women (2019)\"],\n",
    "    key_on=\"feature.properties.NAME_1\",\n",
    "    fill_color='YlGnBu',\n",
    "    fill_opacity=0.8,\n",
    "    line_opacity=0.2,\n",
    "    legend_name=\"total crime (2019)\",\n",
    "    smooth_factor=0,\n",
    "    line_color = \"#0000\",\n",
    "    nan_fill_color = \"White\"\n",
    ").add_to(india_map)\n",
    "\n",
    "states_arr = ['Andaman and Nicobar', 'Andhra Pradesh', 'Arunachal Pradesh', 'Assam', 'Bihar',\n",
    "                             'Chandigarh', 'Chhattisgarh', 'Daman and Diu', 'Delhi', 'Goa', 'Gujarat', 'Haryana',\n",
    "                             'Himachal Pradesh', 'Jammu and Kashmir', 'Jharkhand', 'Karnataka', 'Kerala', 'Lakshadweep',\n",
    "                             'Madhya Pradesh', 'Maharashtra', 'Manipur', 'Meghalaya', 'Mizoram', 'Nagaland', 'Orissa',\n",
    "                             'Puducherry', 'Punjab', 'Rajasthan', 'Sikkim', 'Tamil Nadu', 'Tripura', 'Uttar Pradesh',\n",
    "                             'Uttaranchal', 'West Bengal']\n",
    "\n",
    "for i in np.arange(len(states_locations)):\n",
    "    folium.Marker(location=[states_locations['Latitude (N)'][i], states_locations['Longitude (E)'][i]], popup=states_arr[i]).add_to(india_map)\n",
    "    \n",
    "sw = states_locations[[\"Latitude (N)\", \"Longitude (E)\"]].min().tolist()\n",
    "ne = states_locations[[\"Latitude (N)\", \"Longitude (E)\"]].max().tolist()\n",
    "\n",
    "india_map.fit_bounds([sw, ne])\n",
    "india_map"
   ]
  },
  {
   "cell_type": "markdown",
   "id": "7d6ba292-d4ff-4e5b-8727-a0a483a5ab38",
   "metadata": {
    "tags": [
     "include"
    ]
   },
   "source": [
    "<div class=\"alert alert-info\"> \n",
    "    <b> The chloropleth map above shows a map of Indian states and their amounts of crime against women. Looking at the legend above, what state has the highest rate of crime against women in 2019? The lowest? What similarities and/or differences do you see in the regional distribution of crime? That is, are there certain areas with higher amounts of crime than others? What possible factors may contribute to this? </b>\n",
    "</div>"
   ]
  },
  {
   "cell_type": "markdown",
   "id": "f58ca588-bc45-4f21-9518-a898384ac29b",
   "metadata": {
    "tags": [
     "include"
    ]
   },
   "source": [
    "*Replace this text with your answer!*"
   ]
  },
  {
   "cell_type": "markdown",
   "id": "11fdbe2c-84ff-442a-a326-766dcea4002d",
   "metadata": {
    "tags": [
     "include"
    ]
   },
   "source": [
    "### Conclusion"
   ]
  },
  {
   "cell_type": "markdown",
   "id": "5d49f9aa-eace-4607-9669-2c81ec6f0200",
   "metadata": {
    "tags": [
     "include"
    ]
   },
   "source": [
    "Congratulations! You've reached the end of the assignment. It may be the case for some of you that this is the first time being introduced to progamming and data science methods. We hope you gained some insight on how to analyze and interpret crime rate data, particularly how to think about these data under sociopolitical contexts. "
   ]
  },
  {
   "cell_type": "markdown",
   "id": "b24b36cc-fc8b-4144-8d65-7fdd170062bf",
   "metadata": {},
   "source": [
    "### Submitting Your Work "
   ]
  },
  {
   "cell_type": "code",
   "execution_count": null,
   "id": "a6e5e169-8157-4a35-a436-9e75782eac7f",
   "metadata": {},
   "outputs": [],
   "source": [
    "# This may take a few seconds \n",
    "from IPython.display import display, HTML\n",
    "!pip install -U notebook-as-pdf -q\n",
    "!jupyter-nbconvert --to PDFviaHTML india_gender_violence.ipynb\n",
    "display(HTML(\"Save this notebook, then click <a href='india_gender_violence.pdf' download>here</a> to open the pdf.\"))"
   ]
  },
  {
   "cell_type": "markdown",
   "id": "4dacd727-35df-4422-9b07-59ef127c9a01",
   "metadata": {},
   "source": [
    "<a id=\"resources\"></a>"
   ]
  },
  {
   "cell_type": "markdown",
   "id": "a418f54f-ff70-4951-8023-99ada87e26ca",
   "metadata": {
    "tags": [
     "include"
    ]
   },
   "source": [
    "## 6. Data Science Resources at UC Berkeley "
   ]
  },
  {
   "cell_type": "markdown",
   "id": "7d1c5f0b-63cb-45f1-94fb-1ea3dc10e9ea",
   "metadata": {
    "tags": [
     "include"
    ]
   },
   "source": [
    "If any assistance is required for this notebook, our peer advisors are here to help! Their drop-in hours are [here](https://data.berkeley.edu/ds-peer-consulting). You can also [email them](ds-peer-consulting@berkeley.edu) to book an appointment if there are any time conflicts.  \n",
    "\n",
    "If you are interested in data science as a whole, a great course to start with is [Data 8](http://data8.org/fa21/), which is designed for students with no programming or stats experience. For the full list of courses and degree programs, [click here](https://data.berkeley.edu/academics/data-science-undergraduate-studies/data-science-academic-enrichment)."
   ]
  },
  {
   "cell_type": "markdown",
   "id": "76898a52-203e-4799-ae03-4f124be68224",
   "metadata": {
    "tags": [
     "include"
    ]
   },
   "source": [
    "#### Feedback:\n",
    "\n",
    "Please let us know of your thoughts on this notebook! [Fill out the following survey here.](https://docs.google.com/forms/d/e/1FAIpQLScjlDMT_ddo-yZCTZsm2ZVlK6rrfv5D5KM1fD-B2wp2CS4xgw/viewform) "
   ]
  },
  {
   "cell_type": "markdown",
   "id": "1dbaa1e4-202d-4a4a-8934-b8c2b8ebbdf8",
   "metadata": {},
   "source": [
    "We will also be dealing with *tables* to organize all of our data. All tables have columns and rows, which we can organize respectively according to our desired purpose. The aspects of the table such as the number of columns and the number of rows are known as *attributes* of the table.  \n",
    "\n",
    "A table's attributes can be accessed using dot notation, which means that alterations can be made to a table using periods followed by a command. For instance, [table]**.num_rows** and [table]**.num_columns** gives you back the number of rows and number of columns of a table, respectively. Here are a couple of other useful functionalities that you can apply to a table:  \n",
    "\n",
    "- **.num_rows** = finds number of rows in the table\n",
    "- **.num_columns** = finds number of columns in the table\n",
    "- **.with_columns(name, values)** = returns the table with the column name and the given values\n",
    "- **.sort(column name)** = arranges all the values in a column of the table in ascending order  \n",
    "\n",
    "These are just a couple of cool functionalities; we will look at more as we approach our data and get a better grasp of what we want to compare."
   ]
  },
  {
   "cell_type": "code",
   "execution_count": null,
   "id": "fc8f3b34-b2cc-41e7-900a-cb90d42683b6",
   "metadata": {},
   "outputs": [],
   "source": []
  }
 ],
 "metadata": {
  "celltoolbar": "Raw Cell Format",
  "kernelspec": {
   "display_name": "Python 3",
   "language": "python",
   "name": "python3"
  },
  "language_info": {
   "codemirror_mode": {
    "name": "ipython",
    "version": 3
   },
   "file_extension": ".py",
   "mimetype": "text/x-python",
   "name": "python",
   "nbconvert_exporter": "python",
   "pygments_lexer": "ipython3",
   "version": "3.8.8"
  },
  "toc-autonumbering": false,
  "toc-showcode": true,
  "toc-showmarkdowntxt": false,
  "toc-showtags": false
 },
 "nbformat": 4,
 "nbformat_minor": 5
}
