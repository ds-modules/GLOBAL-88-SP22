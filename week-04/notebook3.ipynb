{
 "cells": [
  {
   "cell_type": "markdown",
   "id": "d251b8ee-583c-428f-a763-810f1eee66ac",
   "metadata": {},
   "source": [
    "# [Global 88] Gender Violence in Colombia  \n",
    "### Professor: Karenjot Bhangoo Randhawa  \n",
    "**Estimated Time:** 50 minutes  \n",
    "**Notebook Created By:** Carlos Calderon  \n",
    "**Code Maintenance:** Carlos Calderon \n",
    "\n",
    "<div class=\"alert alert-block alert-danger\">\n",
    "<b>Trigger Warning:</b> The topic and datasets we will be talking about on this notebook deal with sensitive issues around sexual assault, domestic violence, physical violence, and gender-based discrimination. We acknowledge that the content may be difficult to work with. Please, feel free to take a break whenever you need it. If you'd like to skip this assignment, please let the course staff now. \n",
    "</div>\n",
    "\n",
    "Welcome! Last week we got an introduction to data types and the visualizations we can conduct with them. This week, we will expand more on table operations and visualization topics that we introduced in the first and second notebooks. This week, however, we will be dealing with a dataset regarding gender violence accross Colombia. This week we will take a look at a primary, sex-dissagregated dataset. Next week we will look at a secondary, non sex-dissagregated data.  \n",
    "\n",
    "**Learning Outcomes:**  \n",
    "BY the end of this notebook, students will be able to:  \n",
    "1. Understand the differences between sex-dissagregated and non sex-dissagregated data\n",
    "2. Understand the insights we can derive from a sex-dissagregated data  \n",
    "\n",
    "# Table of Contents  \n",
    "1. The Data \n",
    "2. Comparisons"
   ]
  },
  {
   "cell_type": "markdown",
   "id": "1b84400c-4f85-473d-a4e9-99794e96da35",
   "metadata": {},
   "source": [
    "# Importing Packages   \n",
    "\n",
    "<div class=\"alert alert-block alert-warning\">\n",
    "<b>Maker sure to run this cell FIRST! Not doing so may result in pesky errors in the code.</b>\n",
    "</div>"
   ]
  },
  {
   "cell_type": "code",
   "execution_count": 1,
   "id": "c004f511-14bb-4fcb-a664-5f568972dfd2",
   "metadata": {},
   "outputs": [],
   "source": [
    "from datascience import *\n",
    "import numpy as np\n",
    "\n",
    "import ipywidgets as widgets\n",
    "from ipywidgets import interact, interactive, fixed, interact_manual\n",
    "\n",
    "import matplotlib.pyplot as plt\n",
    "plt.style.use('fivethirtyeight')\n",
    "%matplotlib inline"
   ]
  },
  {
   "cell_type": "markdown",
   "id": "7b67aa75-d045-4fd7-b800-b2762fceb64e",
   "metadata": {},
   "source": [
    "# 1. The Data  \n",
    "Our data comes from the [Colombia National Police](https://www.policia.gov.co/grupo-informacion-criminalidad/estadistica-delictiva) database, which contains yearly information on different crime categories accross Colombia. The dataset we will be working with describes statistics on intrafamilial violence from 2015 to 2021. Intrafamilial violence is [defined as any act punishable as a criminal offense that is committed or threatened to be committed by an offender who is related to the victim, or has a child with the victim.](https://www.ncsl.org/research/human-services/domestic-violence-domestic-abuse-definitions-and-relationships.aspx#:~:text=(9)%20%22Intrafamily%20violence%22,has%20a%20child%20in%20common.) Run the cell below to load the dataset onto the variable `family_violence`."
   ]
  },
  {
   "cell_type": "code",
   "execution_count": 2,
   "id": "de4e64b3-27de-4308-b13a-694397a0e34a",
   "metadata": {},
   "outputs": [
    {
     "data": {
      "text/html": [
       "<table border=\"1\" class=\"dataframe\">\n",
       "    <thead>\n",
       "        <tr>\n",
       "            <th>State</th> <th>City</th> <th>Gender</th> <th>Weapon Used</th> <th>Affected Age Group</th> <th>Total</th> <th>Year</th>\n",
       "        </tr>\n",
       "    </thead>\n",
       "    <tbody>\n",
       "        <tr>\n",
       "            <td>Amazonas</td> <td>Leticia (Ct)</td> <td>Female</td> <td>Sharp Weapon      </td> <td>Teenagers         </td> <td>1    </td> <td>2015</td>\n",
       "        </tr>\n",
       "        <tr>\n",
       "            <td>Amazonas</td> <td>Leticia (Ct)</td> <td>Female</td> <td>Sharp Weapon      </td> <td>Adult             </td> <td>1    </td> <td>2015</td>\n",
       "        </tr>\n",
       "        <tr>\n",
       "            <td>Amazonas</td> <td>Leticia (Ct)</td> <td>Female</td> <td>Blunt Force Weapon</td> <td>Teenagers         </td> <td>6    </td> <td>2015</td>\n",
       "        </tr>\n",
       "        <tr>\n",
       "            <td>Amazonas</td> <td>Leticia (Ct)</td> <td>Female</td> <td>Blunt Force Weapon</td> <td>Adult             </td> <td>100  </td> <td>2015</td>\n",
       "        </tr>\n",
       "        <tr>\n",
       "            <td>Amazonas</td> <td>Leticia (Ct)</td> <td>Female</td> <td>Blunt Force Weapon</td> <td>Minors            </td> <td>3    </td> <td>2015</td>\n",
       "        </tr>\n",
       "    </tbody>\n",
       "</table>\n",
       "<p>... (39970 rows omitted)</p>"
      ],
      "text/plain": [
       "<IPython.core.display.HTML object>"
      ]
     },
     "metadata": {},
     "output_type": "display_data"
    }
   ],
   "source": [
    "family_violence = Table.read_table(\"../data/nb3/domestic_violence_colombia_police.csv\")\n",
    "family_violence.show(5)"
   ]
  },
  {
   "cell_type": "markdown",
   "id": "2d7eef6e-420b-44d8-ab6e-5031a550480a",
   "metadata": {},
   "source": [
    "## 1.1 Understanding the Data"
   ]
  },
  {
   "cell_type": "markdown",
   "id": "111afe69-aab2-4168-9689-fd8bac374912",
   "metadata": {},
   "source": [
    "Although the column names are clear, it still is useful to create a mapping between column names and what they represent. \n",
    "\n",
    "| Column (Variable) Name | Description                          |\n",
    "|------------------------|--------------------------------------|\n",
    "| State                  | Name of State                        |\n",
    "| City                   | Name of City                         |\n",
    "| Gender                 | Gender of the victim                 |\n",
    "| Weapon Used            | Weapon used by the perpetrator       |\n",
    "| Affected Age Group     | Age group that the victim belongs to |\n",
    "| Total                  | Total number of crimes in the area   |\n",
    "| Year                   | Year                                 |  \n",
    "\n",
    "The rest of this section will focus on questions that will guide you in truly understanding the dataset. Whenever you start an individual project with a new dataset, it is extremely useful to start asking yourself these questions. The answers will guide your future analysis and will give you a better idea of what insights you can expect to find. "
   ]
  },
  {
   "cell_type": "markdown",
   "id": "8e601f6b-cc0f-43e6-a6bd-55cae49c4c3f",
   "metadata": {},
   "source": [
    "<div class=\"alert alert-info\">\n",
    "<b> Question 1.1: </b> With the name and meaning of our dataset's columns in mind, what does each row in our dataset represent?\n",
    "</div>"
   ]
  },
  {
   "cell_type": "markdown",
   "id": "e2b442d2-3eed-4e70-83ee-1cb116c73277",
   "metadata": {},
   "source": [
    "*Replace this text with your answer*"
   ]
  },
  {
   "cell_type": "markdown",
   "id": "ef87c3f2-552a-424f-af96-899db0ab0473",
   "metadata": {},
   "source": [
    "<div class=\"alert alert-info\">\n",
    "    <b> Question 1.2: </b> Using the table properties <code>num_columns</code> and <code>num_rows</code> that we learned in Notebook 1, fill in the code below to print out the size of our dataset. \n",
    "</div>"
   ]
  },
  {
   "cell_type": "code",
   "execution_count": 3,
   "id": "ccb8f075-4388-48b5-9063-6058ecb2d34e",
   "metadata": {},
   "outputs": [
    {
     "ename": "SyntaxError",
     "evalue": "invalid syntax (<ipython-input-3-0b6be388414b>, line 1)",
     "output_type": "error",
     "traceback": [
      "\u001b[0;36m  File \u001b[0;32m\"<ipython-input-3-0b6be388414b>\"\u001b[0;36m, line \u001b[0;32m1\u001b[0m\n\u001b[0;31m    family_violence_num_rows = family_violence... # Assign this to the number of rows in our dataset\u001b[0m\n\u001b[0m                                              ^\u001b[0m\n\u001b[0;31mSyntaxError\u001b[0m\u001b[0;31m:\u001b[0m invalid syntax\n"
     ]
    }
   ],
   "source": [
    "family_violence_num_rows = family_violence... # Assign this to the number of rows in our dataset\n",
    "family_violence_num_columns = family_violence... # Assign this to the number of columns in our dataset\n",
    "print(f\"Our dataset has {family_violence_num_rows} rows and {family_violence_num_columns} columns.\")"
   ]
  },
  {
   "cell_type": "markdown",
   "id": "4eba6b89-7747-46ca-8299-09b013bbf3d3",
   "metadata": {},
   "source": [
    "<div class=\"alert alert-info\">\n",
    "    <b> Question 1.3: </b> If you had no information about the source of the dataset or the information it contained, how would you use the number of rows and columns and what they each represent to build your intuition on what the dataset is describing? \n",
    "</div>"
   ]
  },
  {
   "cell_type": "markdown",
   "id": "2d43ca77-a4c0-4148-9da1-86f370b3e8ee",
   "metadata": {},
   "source": [
    "*Replace this text with your answer*"
   ]
  },
  {
   "cell_type": "markdown",
   "id": "eef9189a-34d7-4618-bd94-5210d15c8593",
   "metadata": {},
   "source": [
    "<div class=\"alert alert-info\">\n",
    "    <b> Question 1.4: </b> Fill in the blanks below with the names of the columns that contain categorical data. If you need more or less space, feel free to add or delete a bullet point. \n",
    "</div>"
   ]
  },
  {
   "cell_type": "markdown",
   "id": "5ac5763a-e99b-4ce9-90db-b81e6d0a4af9",
   "metadata": {},
   "source": [
    "- ...\n",
    "- ...\n",
    "- ...\n",
    "- ..."
   ]
  },
  {
   "cell_type": "markdown",
   "id": "3b4abbba-6b71-4392-a3f8-5079852869e7",
   "metadata": {},
   "source": [
    "<div class=\"alert alert-info\">\n",
    "    <b> Question 1.5: </b> Fill in the blanks below with the names of the columns that contain numerical data. \n",
    "</div>"
   ]
  },
  {
   "cell_type": "markdown",
   "id": "530fdfa4-3cf5-47a5-b2c7-4b786d434262",
   "metadata": {},
   "source": [
    "- ...\n",
    "- ...\n",
    "- ...\n",
    "- ..."
   ]
  },
  {
   "cell_type": "markdown",
   "id": "94762762-be91-4d1f-aae4-55336e09b3ca",
   "metadata": {},
   "source": [
    "## 1.2 Barplots - One Categorical Variable  \n",
    "\n",
    "Last week we went over data types and their visualizations. So far, we have seen the following set of relationships:  \n",
    "\n",
    "| Variable/s                     | Visualization |\n",
    "|--------------------------------|---------------|\n",
    "| numeric                        | Histogram     |\n",
    "| numeric x numeric              | Scatter plot  |\n",
    "| numeric x numeric (sequential) | Line plot     |  \n",
    "\n",
    "In this section we will be going over **barplots**. Barplots are useful in visualizing both number of groups and the number of times a group appears within a single categorical variable. For example, our `family_violence` dataset contains several categorical variables, one of them being `Affected Age Group`. In this case, `Affected Age Group` is a categorical variable, but how many groups does this variable contain? This question can be answered with a bar plot. "
   ]
  },
  {
   "cell_type": "code",
   "execution_count": 4,
   "id": "581c9914-43f9-4374-851b-7c7cde35dd00",
   "metadata": {},
   "outputs": [],
   "source": [
    "from collections import Counter"
   ]
  },
  {
   "cell_type": "code",
   "execution_count": 5,
   "id": "58f1e0b9-c29b-4c3b-9c11-d7ccd2c8f10e",
   "metadata": {},
   "outputs": [
    {
     "data": {
      "text/plain": [
       "array(['Teenagers', 'Adult', 'Teenagers', ..., 'Adult', 'Minors', 'Adult'],\n",
       "      dtype='<U12')"
      ]
     },
     "execution_count": 5,
     "metadata": {},
     "output_type": "execute_result"
    }
   ],
   "source": [
    "affected_age_group = family_violence.column(\"Affected Age Group\")\n",
    "affected_age_group"
   ]
  },
  {
   "cell_type": "code",
   "execution_count": 6,
   "id": "bd95edb4-fd82-48ad-a8fa-cfacd501d037",
   "metadata": {},
   "outputs": [
    {
     "data": {
      "text/plain": [
       "Counter({'Teenagers': 6568,\n",
       "         'Adult': 27407,\n",
       "         'Minors': 5678,\n",
       "         'Not Reported': 322})"
      ]
     },
     "execution_count": 6,
     "metadata": {},
     "output_type": "execute_result"
    }
   ],
   "source": [
    "affected_age_group_counts = Counter(affected_age_group)\n",
    "affected_age_group_counts"
   ]
  },
  {
   "cell_type": "code",
   "execution_count": 7,
   "id": "e10125b0-9f25-4732-8609-c566574d6a69",
   "metadata": {},
   "outputs": [
    {
     "data": {
      "image/png": "[encoded data removed]",
      "text/plain": [
       "<Figure size 432x288 with 1 Axes>"
      ]
     },
     "metadata": {
      "needs_background": "light"
     },
     "output_type": "display_data"
    }
   ],
   "source": [
    "plt.bar(affected_age_group_counts.keys(), affected_age_group_counts.values());"
   ]
  },
  {
   "cell_type": "code",
   "execution_count": 8,
   "id": "bc3ef954-11fc-49a1-8639-3a06b1d300ba",
   "metadata": {},
   "outputs": [],
   "source": [
    "women_affected_age_groups = family_violence.where(\"Gender\", \"Female\")\n",
    "men_affected_age_groups = family_violence.where(\"Gender\", \"Male\")\n",
    "\n"
   ]
  },
  {
   "cell_type": "code",
   "execution_count": null,
   "id": "a67611fb-3788-41cc-9586-9db37c264ae5",
   "metadata": {},
   "outputs": [],
   "source": []
  }
 ],
 "metadata": {
  "kernelspec": {
   "display_name": "Python 3",
   "language": "python",
   "name": "python3"
  },
  "language_info": {
   "codemirror_mode": {
    "name": "ipython",
    "version": 3
   },
   "file_extension": ".py",
   "mimetype": "text/x-python",
   "name": "python",
   "nbconvert_exporter": "python",
   "pygments_lexer": "ipython3",
   "version": "3.8.8"
  }
 },
 "nbformat": 4,
 "nbformat_minor": 5
}
