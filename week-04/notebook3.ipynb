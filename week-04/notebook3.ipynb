{
 "cells": [
  {
   "cell_type": "markdown",
   "id": "d251b8ee-583c-428f-a763-810f1eee66ac",
   "metadata": {},
   "source": [
    "# [Global 88] Gender Violence in Colombia  \n",
    "### Professor: Karenjot Bhangoo Randhawa  \n",
    "**Estimated Time:** 50 minutes  \n",
    "**Notebook Created By:** Vaidehi Bulusu, Emily Guo, Bella Chang, Carlos Calderon  \n",
    "**Code Maintenance:** Carlos Calderon \n",
    "\n",
    "<div class=\"alert alert-block alert-danger\">\n",
    "<b>Trigger Warning:</b> The topic and datasets we will be talking about on this notebook deal with sensitive issues around sexual assault, domestic violence, physical violence, and gender-based discrimination. We acknowledge that the content may be difficult to work with. Please, feel free to take a break whenever you need it. If you'd like to skip this assignment, please let the course staff now. \n",
    "</div>\n",
    "\n",
    "Welcome! Last week we got an introduction to data types and the visualizations we can conduct with them. This week, we will expand more on table operations and visualization topics that we introduced in the first and second notebooks. This week, however, we will be dealing with a dataset regarding gender violence accross Colombia. This week we will take a look at a primary, sex-disaggregated dataset. Next week we will look at a secondary, non sex-disaggregated data.  \n",
    "\n",
    "**Learning Outcomes:**  \n",
    "BY the end of this notebook, students will be able to:  \n",
    "1. Understand what and when bar plots are used.  \n",
    "2. Understand the differences between sex-disaggregated and non sex-disaggregated data\n",
    "3. Understand the insights we can derive from a sex-disaggregated data  \n",
    "\n",
    "# Table of Contents  \n",
    "1. The Data \n",
    "2. Sex-Disaggregated Data"
   ]
  },
  {
   "cell_type": "markdown",
   "id": "f395b422-ce35-4235-9dbe-4038473e05ba",
   "metadata": {},
   "source": [
    "---"
   ]
  },
  {
   "cell_type": "markdown",
   "id": "1b84400c-4f85-473d-a4e9-99794e96da35",
   "metadata": {},
   "source": [
    "# Importing Packages   \n",
    "\n",
    "<div class=\"alert alert-block alert-warning\">\n",
    "<b>Make sure to run this cell FIRST! Not doing so may result in pesky errors in the code.</b>\n",
    "</div>"
   ]
  },
  {
   "cell_type": "code",
   "execution_count": 1,
   "id": "c004f511-14bb-4fcb-a664-5f568972dfd2",
   "metadata": {},
   "outputs": [],
   "source": [
    "from datascience import *\n",
    "import numpy as np\n",
    "\n",
    "import ipywidgets as widgets\n",
    "from ipywidgets import interact, interactive, fixed, interact_manual\n",
    "from collections import Counter\n",
    "\n",
    "import matplotlib.pyplot as plt\n",
    "plt.style.use('fivethirtyeight')\n",
    "%matplotlib inline\n",
    "\n",
    "import warnings\n",
    "warnings.filterwarnings('ignore')"
   ]
  },
  {
   "cell_type": "markdown",
   "id": "71e007d5-3a53-4f7a-be69-68dabc10cdfe",
   "metadata": {},
   "source": [
    "---"
   ]
  },
  {
   "cell_type": "markdown",
   "id": "7b67aa75-d045-4fd7-b800-b2762fceb64e",
   "metadata": {},
   "source": [
    "# 1. The Data  \n",
    "Our data comes from the [Colombia National Police](https://www.policia.gov.co/grupo-informacion-criminalidad/estadistica-delictiva) database, which contains yearly information on different crime categories accross Colombia. The dataset we will be working with describes statistics on intrafamilial violence from 2015 to 2021. Intrafamilial violence is [defined as any act punishable as a criminal offense that is committed or threatened to be committed by an offender who is related to the victim, or has a child with the victim.](https://www.ncsl.org/research/human-services/domestic-violence-domestic-abuse-definitions-and-relationships.aspx#:~:text=(9)%20%22Intrafamily%20violence%22,has%20a%20child%20in%20common.) Run the cell below to load the dataset onto the variable `family_violence`."
   ]
  },
  {
   "cell_type": "code",
   "execution_count": 2,
   "id": "de4e64b3-27de-4308-b13a-694397a0e34a",
   "metadata": {},
   "outputs": [
    {
     "data": {
      "text/html": [
       "<table border=\"1\" class=\"dataframe\">\n",
       "    <thead>\n",
       "        <tr>\n",
       "            <th>State</th> <th>City</th> <th>Gender</th> <th>Weapon Used</th> <th>Affected Age Group</th> <th>Total</th> <th>Year</th>\n",
       "        </tr>\n",
       "    </thead>\n",
       "    <tbody>\n",
       "        <tr>\n",
       "            <td>Amazonas</td> <td>Leticia (Ct)</td> <td>Female</td> <td>Sharp Weapon      </td> <td>Teenagers         </td> <td>1    </td> <td>2015</td>\n",
       "        </tr>\n",
       "        <tr>\n",
       "            <td>Amazonas</td> <td>Leticia (Ct)</td> <td>Female</td> <td>Sharp Weapon      </td> <td>Adult             </td> <td>1    </td> <td>2015</td>\n",
       "        </tr>\n",
       "        <tr>\n",
       "            <td>Amazonas</td> <td>Leticia (Ct)</td> <td>Female</td> <td>Blunt Force Weapon</td> <td>Teenagers         </td> <td>6    </td> <td>2015</td>\n",
       "        </tr>\n",
       "        <tr>\n",
       "            <td>Amazonas</td> <td>Leticia (Ct)</td> <td>Female</td> <td>Blunt Force Weapon</td> <td>Adult             </td> <td>100  </td> <td>2015</td>\n",
       "        </tr>\n",
       "        <tr>\n",
       "            <td>Amazonas</td> <td>Leticia (Ct)</td> <td>Female</td> <td>Blunt Force Weapon</td> <td>Minors            </td> <td>3    </td> <td>2015</td>\n",
       "        </tr>\n",
       "    </tbody>\n",
       "</table>\n",
       "<p>... (39970 rows omitted)</p>"
      ],
      "text/plain": [
       "<IPython.core.display.HTML object>"
      ]
     },
     "metadata": {},
     "output_type": "display_data"
    }
   ],
   "source": [
    "family_violence = Table.read_table(\"../data/nb3/domestic_violence_colombia_police.csv\")\n",
    "family_violence.show(5)"
   ]
  },
  {
   "cell_type": "markdown",
   "id": "2d7eef6e-420b-44d8-ab6e-5031a550480a",
   "metadata": {},
   "source": [
    "## 1.1 Understanding the Data"
   ]
  },
  {
   "cell_type": "markdown",
   "id": "111afe69-aab2-4168-9689-fd8bac374912",
   "metadata": {},
   "source": [
    "Although the column names are clear, it still is useful to create a mapping between column names and what they represent. \n",
    "\n",
    "| Column (Variable) Name | Description                          |\n",
    "|------------------------|--------------------------------------|\n",
    "| State                  | Name of State                        |\n",
    "| City                   | Name of City                         |\n",
    "| Gender                 | Gender of the victim                 |\n",
    "| Weapon Used            | Weapon used by the perpetrator       |\n",
    "| Affected Age Group     | Age group that the victim belongs to |\n",
    "| Total                  | Total number of crimes in the area   |\n",
    "| Year                   | Year                                 |  \n",
    "\n",
    "The rest of this section will focus on questions that will guide you in truly understanding the dataset. Whenever you start an individual project with a new dataset, it is extremely useful to start asking yourself these questions. The answers will guide your future analysis and will give you a better idea of what insights you can expect to find. "
   ]
  },
  {
   "cell_type": "code",
   "execution_count": null,
   "id": "e34e6d8a-ad9c-42b6-aedd-e2e65942339f",
   "metadata": {},
   "outputs": [],
   "source": [
    "# Showing the first two rows as examples for your next set of questions\n",
    "family_violence.show(2)"
   ]
  },
  {
   "cell_type": "markdown",
   "id": "8e601f6b-cc0f-43e6-a6bd-55cae49c4c3f",
   "metadata": {},
   "source": [
    "<div class=\"alert alert-info\">\n",
    "<b> Question 1.1: </b> With the name and meaning of our dataset's columns in mind, what does each row in our dataset represent?\n",
    "</div>"
   ]
  },
  {
   "cell_type": "markdown",
   "id": "e2b442d2-3eed-4e70-83ee-1cb116c73277",
   "metadata": {},
   "source": [
    "*Replace this text with your answer*"
   ]
  },
  {
   "cell_type": "markdown",
   "id": "ef87c3f2-552a-424f-af96-899db0ab0473",
   "metadata": {},
   "source": [
    "<div class=\"alert alert-info\">\n",
    "    <b> Question 1.2: </b> Using the table properties <code>num_columns</code> and <code>num_rows</code> that we learned in Notebook 1, fill in the code below to print out the size of our dataset. \n",
    "</div>"
   ]
  },
  {
   "cell_type": "code",
   "execution_count": 3,
   "id": "ccb8f075-4388-48b5-9063-6058ecb2d34e",
   "metadata": {},
   "outputs": [
    {
     "ename": "SyntaxError",
     "evalue": "invalid syntax (<ipython-input-3-0b6be388414b>, line 1)",
     "output_type": "error",
     "traceback": [
      "\u001b[0;36m  File \u001b[0;32m\"<ipython-input-3-0b6be388414b>\"\u001b[0;36m, line \u001b[0;32m1\u001b[0m\n\u001b[0;31m    family_violence_num_rows = family_violence... # Assign this to the number of rows in our dataset\u001b[0m\n\u001b[0m                                              ^\u001b[0m\n\u001b[0;31mSyntaxError\u001b[0m\u001b[0;31m:\u001b[0m invalid syntax\n"
     ]
    }
   ],
   "source": [
    "family_violence_num_rows = family_violence... # Assign this to the number of rows in our dataset\n",
    "family_violence_num_columns = family_violence... # Assign this to the number of columns in our dataset\n",
    "print(f\"Our dataset has {family_violence_num_rows} rows and {family_violence_num_columns} columns.\")"
   ]
  },
  {
   "cell_type": "markdown",
   "id": "4eba6b89-7747-46ca-8299-09b013bbf3d3",
   "metadata": {},
   "source": [
    "<div class=\"alert alert-info\">\n",
    "    <b> Question 1.3: </b> If you had no information about the source of the dataset or the information it contained, how would you use the number of rows and columns and what they each represent to build your intuition on what the dataset is describing? \n",
    "</div>"
   ]
  },
  {
   "cell_type": "markdown",
   "id": "2d43ca77-a4c0-4148-9da1-86f370b3e8ee",
   "metadata": {},
   "source": [
    "*Replace this text with your answer*"
   ]
  },
  {
   "cell_type": "markdown",
   "id": "eef9189a-34d7-4618-bd94-5210d15c8593",
   "metadata": {},
   "source": [
    "<div class=\"alert alert-info\">\n",
    "    <b> Question 1.4: </b> Fill in the blanks below with the names of the columns that contain categorical data. If you need more or less space, feel free to add or delete a bullet point. \n",
    "</div>"
   ]
  },
  {
   "cell_type": "markdown",
   "id": "5ac5763a-e99b-4ce9-90db-b81e6d0a4af9",
   "metadata": {},
   "source": [
    "- ...\n",
    "- ...\n",
    "- ...\n",
    "- ..."
   ]
  },
  {
   "cell_type": "markdown",
   "id": "3b4abbba-6b71-4392-a3f8-5079852869e7",
   "metadata": {},
   "source": [
    "<div class=\"alert alert-info\">\n",
    "    <b> Question 1.5: </b> Fill in the blanks below with the names of the columns that contain numerical data. \n",
    "</div>"
   ]
  },
  {
   "cell_type": "markdown",
   "id": "530fdfa4-3cf5-47a5-b2c7-4b786d434262",
   "metadata": {},
   "source": [
    "- ...\n",
    "- ...\n",
    "- ...\n",
    "- ..."
   ]
  },
  {
   "cell_type": "markdown",
   "id": "94762762-be91-4d1f-aae4-55336e09b3ca",
   "metadata": {},
   "source": [
    "## 1.2 Barplots - One Categorical Variable  \n",
    "\n",
    "Last week we went over data types and their visualizations. So far, we have seen the following set of relationships:  \n",
    "\n",
    "| Variable/s                     | Visualization |\n",
    "|--------------------------------|---------------|\n",
    "| numeric                        | Histogram     |\n",
    "| numeric x numeric              | Scatter plot  |\n",
    "| numeric x numeric (sequential) | Line plot     |  \n",
    "\n",
    "In this section we will be going over **barplots**. Barplots are useful in visualizing both number of groups and the number of times a group appears within a single categorical variable. For example, our `family_violence` dataset contains several categorical variables, one of them being `Affected Age Group`. In this case, `Affected Age Group` is a categorical variable, but how many groups does this variable contain? This question can be answered with a bar plot. "
   ]
  },
  {
   "cell_type": "code",
<<<<<<< HEAD
   "execution_count": 4,
   "id": "581c9914-43f9-4374-851b-7c7cde35dd00",
   "metadata": {},
   "outputs": [],
   "source": [
    "from collections import Counter"
   ]
  },
  {
   "cell_type": "code",
   "execution_count": 5,
   "id": "58f1e0b9-c29b-4c3b-9c11-d7ccd2c8f10e",
   "metadata": {},
   "outputs": [
    {
     "data": {
      "text/plain": [
       "array(['Teenagers', 'Adult', 'Teenagers', ..., 'Adult', 'Minors', 'Adult'],\n",
       "      dtype='<U12')"
      ]
     },
     "execution_count": 5,
     "metadata": {},
     "output_type": "execute_result"
    }
   ],
   "source": [
=======
   "execution_count": null,
   "id": "58f1e0b9-c29b-4c3b-9c11-d7ccd2c8f10e",
   "metadata": {},
   "outputs": [],
   "source": [
>>>>>>> 162092b05659c16f9e71c0828fbb8bdb46fcfe07
    "affected_age_group = family_violence.column(\"Affected Age Group\")\n",
    "affected_age_group_counts = Counter(affected_age_group)\n",
    "\n",
    "# Plotting code\n",
    "plt.bar(affected_age_group_counts.keys(), affected_age_group_counts.values());\n",
    "\n",
    "plt.xlabel(\"Age Group\")\n",
    "plt.ylabel(\"Number Affected\")\n",
    "plt.title(\"Number Affected per Age Group\");"
   ]
  },
  {
   "cell_type": "markdown",
   "id": "e3f4910d-00c1-4601-99f8-dad78f5c681c",
   "metadata": {},
   "source": [
    "<div class=\"alert alert-info\">\n",
    "    <b> Question 1.6: </b> How many groups exist in the <code>Affected Age Group</code> variable?\n",
    "</div> \n",
    "\n",
    "**Hint:** Look at the x-axis labels. "
   ]
  },
  {
   "cell_type": "markdown",
   "id": "31e5a055-9909-45b6-b367-07e4156645fe",
   "metadata": {},
   "source": [
    "*Replace this text with your answer*"
   ]
  },
  {
   "cell_type": "markdown",
   "id": "e1e1be97-f759-4503-bdfd-52ac830dc7f6",
   "metadata": {},
   "source": [
    "<div class=\"alert alert-info\">\n",
    "    <b> Question 1.7: </b> How many members exist in each group? What does this tell us about our dataset? What value do we see the most? \n",
    "</div> "
   ]
  },
  {
   "cell_type": "markdown",
   "id": "750641af-6492-4da0-b93f-90b84658ccc1",
   "metadata": {},
   "source": [
    "*Replace this text with your answer*"
   ]
  },
  {
   "cell_type": "markdown",
   "id": "d3244690-c301-45d4-b688-230e038ab689",
   "metadata": {},
   "source": [
    "Now, that is just one categorical variable. We have plenty more in our dataset. Run the cell below, which will allow you to select a column and visualize its bar plot. "
   ]
  },
  {
   "cell_type": "code",
<<<<<<< HEAD
   "execution_count": 6,
   "id": "bd95edb4-fd82-48ad-a8fa-cfacd501d037",
=======
   "execution_count": null,
   "id": "f25126e3-d516-4c65-8126-43d531e21340",
   "metadata": {},
   "outputs": [],
   "source": [
    "def bar_plot(column):\n",
    "    counts = Counter(family_violence.column(column))\n",
    "    \n",
    "    plt.bar(counts.keys(), \n",
    "            counts.values())\n",
    "    \n",
    "    plt.xlabel(column)\n",
    "    plt.ylabel(\"Total Number\")\n",
    "    plt.xticks(rotation=60)\n",
    "    \n",
    "    plt.title(\"Number of ocurrences per \" + column);\n",
    "\n",
    "col_choices = widgets.Dropdown(options=family_violence.labels, \n",
    "                               value=\"State\", \n",
    "                               description=\"Pick a categorical column:\")\n",
    "\n",
    "interact(bar_plot, column=col_choices);"
   ]
  },
  {
   "cell_type": "markdown",
   "id": "7585194d-80f2-4b34-a684-174d62b47dc8",
   "metadata": {},
   "source": [
    "<div class=\"alert alert-info\">\n",
    "    <b> Question 1.8: </b> Below, replace the three dots with the name of the column, and an insight you derived from its bar plot. Format it as {Column name}: {Insight} \n",
    "</div> "
   ]
  },
  {
   "cell_type": "markdown",
   "id": "5654d3be-dd75-4d2e-a2bb-8dc705247470",
   "metadata": {},
   "source": [
    "- ...  \n",
    "- ...  \n",
    "- ...\n",
    "- ...\n",
    "- ..."
   ]
  },
  {
   "cell_type": "markdown",
   "id": "bd84ae7c-479d-4bcb-bdd1-16f36ef57f50",
   "metadata": {},
   "source": [
    "Notice how plotting some categorical variables takes long, and produces unreadable plots. This is a common issue called [overplotting](https://www.displayr.com/what-is-overplotting/), and there are several ways to deal with this. For categorical variables, one common approach is to plot the five most/least abundant groups. For example, we might choose to plot the 5 cities that appear the most in our dataset, or those that appear the least. Let's do that. "
   ]
  },
  {
   "cell_type": "code",
   "execution_count": null,
   "id": "a688738c-5c17-4365-a307-837eb88f7fce",
   "metadata": {},
   "outputs": [],
   "source": [
    "# Just run the following cell\n",
    "city_counts = Counter(family_violence.column(\"City\"))\n",
    "five_most_common_cities = city_counts.most_common(5)\n",
    "five_most_common_city_names = []\n",
    "five_most_common_city_values = []\n",
    "for value in five_most_common_cities:\n",
    "    five_most_common_city_names.append(value[0])\n",
    "    five_most_common_city_values.append(value[1])\n",
    "\n",
    "print(f\"There are a total of {len(city_counts.keys())} cities in our dataset. Below are the five cities that appear the most.\")\n",
    "\n",
    "plt.bar(five_most_common_city_names, five_most_common_city_values)\n",
    "plt.title(\"Five most common cities\")\n",
    "plt.xlabel(\"City\")\n",
    "plt.ylabel(\"Number of Appearances\");"
   ]
  },
  {
   "cell_type": "markdown",
   "id": "012ec7e6-76c3-453f-99d2-1f2ccf8b9d65",
   "metadata": {},
   "source": [
    "<div class=\"alert alert-info\">\n",
    "    <b> Question 1.9: </b> What are the five most common cities in our dataset? What does this mean for these cities? What assumptions can we make from this visualization?\n",
    "</div> "
   ]
  },
  {
   "cell_type": "markdown",
   "id": "500690a5-8f45-4bbb-8d33-4ca47cf5cb08",
   "metadata": {},
   "source": [
    "*Replace this text with your answer!*"
   ]
  },
  {
   "cell_type": "markdown",
   "id": "9b6fe242-0ae5-47fe-b6ef-824a390f843b",
   "metadata": {},
   "source": [
    "<div class=\"alert alert-block alert-success\">\n",
    "<b>Bonus Question 1:</b> Write code below to generate a similar bar plot as above, but for states. Then, answer the following question in the markdown cell below: Are the five most common cities within the five most common states?\n",
    "</div>"
   ]
  },
  {
   "cell_type": "code",
   "execution_count": null,
   "id": "5d63646a-3ecd-4bc5-8c0e-543a8135ff5c",
   "metadata": {},
   "outputs": [],
   "source": [
    "# Write your code here \n",
    "...\n",
    "...\n",
    "...\n",
    "...\n",
    "...\n",
    "..."
   ]
  },
  {
   "cell_type": "markdown",
   "id": "ce09ba0c-27db-4338-9137-ec700a68c26e",
   "metadata": {},
   "source": [
    "*Replace this text with your answer!*"
   ]
  },
  {
   "cell_type": "markdown",
   "id": "821a990e-1bc8-4979-82b3-fc88a76cd087",
   "metadata": {},
   "source": [
    "## 1.3 Crime Change Throughout Time  \n",
    "\n",
    "Recall that one of the visualizations we can generate when we have sequential data is a line plot. `Year` is a sequential variable, and thus, we can graph the change over time between `Year` and another numerical variable in our dataset. It turns out that the only other such column is `Total`. Run the cell below, which will generate a line plot for the change in total number of intrafamilial crimes in Colombia from 2015 to 2021. "
   ]
  },
  {
   "cell_type": "code",
   "execution_count": 3,
   "id": "8c468e9a-9e59-4ed4-a09c-2d553cd0778a",
>>>>>>> 162092b05659c16f9e71c0828fbb8bdb46fcfe07
   "metadata": {},
   "outputs": [
    {
     "data": {
      "image/png": "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\n",
      "text/plain": [
       "<Figure size 432x432 with 1 Axes>"
      ]
     },
<<<<<<< HEAD
     "execution_count": 6,
     "metadata": {},
     "output_type": "execute_result"
=======
     "metadata": {
      "needs_background": "light"
     },
     "output_type": "display_data"
>>>>>>> 162092b05659c16f9e71c0828fbb8bdb46fcfe07
    }
   ],
   "source": [
    "family_violence_grouped = family_violence.group(\"Year\", sum)\n",
    "def plot_trend():\n",
    "    family_violence_grouped = family_violence.group(\"Year\", sum)\n",
    "    family_violence_grouped.plot(\"Year\", \"Total sum\")\n",
    "    plt.title(\"Change in the Number of Reported Intrafamilial Crimes in Colombia from 2015-2021\")\n",
    "    plt.ylabel(\"Total Number of Crimes\")\n",
    "    plt.show()\n",
    "plot_trend()"
   ]
  },
  {
   "cell_type": "markdown",
   "id": "7fc62a8a-7ef7-4a8c-a5d6-03035d881946",
   "metadata": {},
   "source": [
    "<div class=\"alert alert-info\">\n",
    "<b> Question 1.10 </b> Replace the dots below with the trend that you see from year to year. Then, write the trend you see overall and what this tells us about reported intrafamilial violence in Colombia. \n",
    "</div>"
   ]
  },
  {
   "cell_type": "markdown",
   "id": "87e56596-0030-4e52-aaf5-f65957e71ed8",
   "metadata": {},
   "source": [
    "- 2015 to 2016: ...  \n",
    "- 2016 to 2017: ...  \n",
    "- 2017 to 2018: ...  \n",
    "- 2018 to 2019: ...  \n",
    "- 2019 to 2020: ...  \n",
    "- 2020 to 2021: ...  \n",
    "- Overall: ..."
   ]
  },
  {
   "cell_type": "markdown",
   "id": "cedbaeeb-945a-4464-8ed9-815273edaf32",
   "metadata": {},
   "source": [
    "<div class=\"alert alert-block alert-success\">\n",
    "<b>Bonus Question 2:</b> Generate the same plot as above, but write it within a function <code>plot_city_trend</code> that takes in one argument, the city name, and outputs a line plot for that given city. \n",
    "</div>"
   ]
  },
  {
   "cell_type": "code",
<<<<<<< HEAD
   "execution_count": 7,
   "id": "e10125b0-9f25-4732-8609-c566574d6a69",
=======
   "execution_count": null,
   "id": "40d814a6-d926-48c0-9d5b-a7aaa8edb667",
   "metadata": {},
   "outputs": [],
   "source": [
    "# Write your code here \n",
    "def plot_city_trend(city):\n",
    "    ...\n",
    "    ...\n",
    "    ...\n",
    "    ...\n",
    "    return ..."
   ]
  },
  {
   "cell_type": "markdown",
   "id": "05a59b2d-ef1d-47cd-bedd-672eab00cb31",
   "metadata": {},
   "source": [
    "---"
   ]
  },
  {
   "cell_type": "markdown",
   "id": "b75afbf3-fddd-45e5-a7db-939c1b642018",
   "metadata": {},
   "source": [
    "# 2 Sex-disaggregated Data  \n",
    "[Data 2X](https://data2x.org/) is a United Nations Foundation, whose \"mission is to improve the availability, quality, and use of gender data in order to make a practical difference in the lives of women and girls worldwide.\"  \n",
    "\n",
    "They define sex-disaggregated data as data that can be grouped based on sex. Although often labeled as \"Gender\" by many datasets, what is often really expressed is a given individual's birth-assigned sex. [\"Gender\", on the other hand, refers to socially constructed relations between men and women.](https://data2x.org/wp-content/uploads/2019/08/MeasuringWomensFinInclusion-ValueofSexDisaggData.pdf) The importance of sex-disaggregated data relies in its potential to uncover different, unequal experiences between men and women as a result of gender roles and expectations. Although this never tells us the whole picture, it is an important first step in getting there.  \n",
    "\n",
    "*References:*  \n",
    "*- https://data2x.org/*  \n",
    "*- https://data2x.org/wp-content/uploads/2019/08/MeasuringWomensFinInclusion-ValueofSexDisaggData.pdf*  \n",
    "\n",
    "Now, in the previous section we visualized bar plots for categorical variables in our dataset. These, however, do not give us the whole picture. We can plot two bar plots side by side to visualize the difference between a set of groups. In the context of our data, we are interested in finding how intrafamilial violence affects men and women differently accross Colombia. Run the cell below to show how `Affected Age Group` changes when we group by sex."
   ]
  },
  {
   "cell_type": "code",
   "execution_count": null,
   "id": "c4f66244-ffbe-4220-854b-af0c918943d8",
   "metadata": {},
   "outputs": [],
   "source": [
    "# Just run this scary code! \n",
    "def bar_plot_gender(col_name, ylabel):\n",
    "    \n",
    "    counts = Counter(family_violence.column(col_name))\n",
    "\n",
    "    women = family_violence.where(\"Gender\", \"Female\")\n",
    "    men = family_violence.where(\"Gender\", \"Male\")\n",
    "    \n",
    "    women_counts = Counter(women.column(col_name))\n",
    "    men_counts = Counter(men.column(col_name))\n",
    "    \n",
    "    women_percents = np.array(list(women_counts.values())) / sum(women_counts.values())\n",
    "    men_percents = np.array(list(men_counts.values())) / sum(men_counts.values())\n",
    "    \n",
    "    bar_width = 0.25\n",
    "    br1 = np.arange(1, len(counts.keys()) + 1).tolist()\n",
    "    br2 = [x + bar_width for x in br1]\n",
    "    \n",
    "    plt.bar(br1, \n",
    "        women_percents,\n",
    "        width = bar_width,\n",
    "        color='r', \n",
    "        label=\"Women\")\n",
    "    \n",
    "    plt.bar(br2, \n",
    "        men_percents,\n",
    "        width = bar_width,\n",
    "        color=\"b\", \n",
    "        label=\"Men\")\n",
    "    \n",
    "    plt.xticks(np.arange(1, len(counts.keys()) + 1).tolist(),\n",
    "           counts.keys())\n",
    "    \n",
    "    plt.xlabel(col_name)\n",
    "    plt.ylabel(ylabel)\n",
    "    plt.title(col_name + \" by Gender\")\n",
    "    \n",
    "    plt.xticks(rotation = 30)\n",
    "    \n",
    "    plt.legend();\n",
    "    \n",
    "bar_plot_gender(\"Affected Age Group\", \"Percentage Affected\")\n",
    "plt.show()\n",
    "bar_plot(\"Affected Age Group\")\n",
    "plt.show()"
   ]
  },
  {
   "cell_type": "markdown",
   "id": "dbce150c-10aa-4e4d-a274-80e168147a9b",
   "metadata": {},
   "source": [
    "<div class=\"alert alert-info\">\n",
    "    <b>Question 2.1:</b> How does the barplot for <code>Affected Age Group</code> change when we disaggregate the data by sex? What does this tell us? How are women being affected differently than men?\n",
    "</div>"
   ]
  },
  {
   "cell_type": "markdown",
   "id": "8c319f5f-84f5-45bf-a764-91a4487ece59",
   "metadata": {},
   "source": [
    "*Replace this text with your answer!*"
   ]
  },
  {
   "cell_type": "code",
   "execution_count": null,
   "id": "bea52221-5d6b-4729-a4bd-c1c95b5439b6",
   "metadata": {},
   "outputs": [],
   "source": [
    "bar_plot_gender(\"Weapon Used\", \"Percentage Used\")\n",
    "plt.show()\n",
    "bar_plot(\"Weapon Used\")\n",
    "plt.show()"
   ]
  },
  {
   "cell_type": "markdown",
   "id": "0a8ae350-04d4-4f7b-bcf7-090de3c6a98a",
   "metadata": {},
   "source": [
    "<div class=\"alert alert-info\">\n",
    "    <b>Question 2.2:</b> How does the barplot for <code>Weapon Used</code> change when we disaggregate the data by sex? What does this tell us? How are women being affected differently than men?\n",
    "</div>"
   ]
  },
  {
   "cell_type": "markdown",
   "id": "e5707fbb-b7d5-4fa3-aed1-778186bd3090",
   "metadata": {},
   "source": [
    "*Replace this text with your answer!*"
   ]
  },
  {
   "cell_type": "markdown",
   "id": "8848174e-b274-4918-9722-b111c0a30ffd",
   "metadata": {},
   "source": [
    "Remember that we also visualized the change in number of intrafamilial crimes from 2015 to 2021. How does this visualization change when we sex-disaggregate? Run the cell below. If it produces a warning, ignore it. "
   ]
  },
  {
   "cell_type": "code",
   "execution_count": 4,
   "id": "e65a3fad-08cb-4396-b2cc-21253467380c",
>>>>>>> 162092b05659c16f9e71c0828fbb8bdb46fcfe07
   "metadata": {},
   "outputs": [
    {
     "data": {
<<<<<<< HEAD
      "image/png": "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\n",
=======
      "image/png": "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\n",
      "text/plain": [
       "<Figure size 432x288 with 1 Axes>"
      ]
     },
     "metadata": {
      "needs_background": "light"
     },
     "output_type": "display_data"
    },
    {
     "data": {
      "image/png": "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\n",
>>>>>>> 162092b05659c16f9e71c0828fbb8bdb46fcfe07
      "text/plain": [
       "<Figure size 432x288 with 1 Axes>"
      ]
     },
     "metadata": {
      "needs_background": "light"
     },
     "output_type": "display_data"
    }
   ],
   "source": [
    "family_violence_grouped_by_gender = family_violence.group([\"Year\", \"Gender\"], sum)\n",
    "total_crimes_against_women = family_violence_grouped_by_gender.where(\"Gender\", \"Female\")\n",
    "total_crimes_against_men = family_violence_grouped_by_gender.where(\"Gender\", \"Male\");\n",
    "\n",
    "plt.plot(\"Year\", \"Total sum\", data=total_crimes_against_women, color=\"m\", label=\"Women\")\n",
    "plt.plot(\"Year\", \"Total sum\", data=total_crimes_against_men, color=\"k\", label=\"Men\")\n",
    "\n",
    "plt.xlabel(\"Year\")\n",
    "plt.ylabel(\"Total Number of Crimes\")\n",
    "plt.title('Change in the Number of Reported Intrafamilial Crimes in Colombia from 2015-2021 by Gender')\n",
    "plt.legend()\n",
    "plt.show()\n",
    "\n",
    "plt.plot(\"Year\", \"Total sum\", data=family_violence_grouped)\n",
    "plt.xlabel(\"Year\")\n",
    "plt.ylabel(\"Total Number of Crimes\")\n",
    "plt.title('Change in the Number of Reported Intrafamilial Crimes in Colombia from 2015-2021')\n",
    "plt.show();"
   ]
  },
  {
<<<<<<< HEAD
   "cell_type": "code",
   "execution_count": 8,
   "id": "bc3ef954-11fc-49a1-8639-3a06b1d300ba",
   "metadata": {},
   "outputs": [],
=======
   "cell_type": "markdown",
   "id": "921d167b-d375-4d38-95f6-79b1f15b7b06",
   "metadata": {},
>>>>>>> 162092b05659c16f9e71c0828fbb8bdb46fcfe07
   "source": [
    "<div class=\"alert alert-info\">\n",
    "    <b>Question 2.3:</b> How does the trend in number of intrafamilial crimes change when we sex-disaggregate? What does this tell us? How are women being affected differently than men?\n",
    "</div>"
   ]
  },
  {
   "cell_type": "markdown",
   "id": "fc5294b3-d851-4209-82ae-59e833af7284",
   "metadata": {},
   "source": [
    "*Replace this text with your answer!*"
   ]
  },
  {
   "cell_type": "markdown",
   "id": "82279cc4-5441-46a1-9d9b-2c4345b31874",
   "metadata": {},
   "source": [
    "How does this trend compare when we analyze more closely? As of now, we have been looking at changes throughout all Colombia. Run the cell below, which will allow you to choose a city and plot both the disaggregated and non-disaggregated trends for that city. "
   ]
  },
  {
   "cell_type": "code",
   "execution_count": null,
   "id": "9930fe92-8fa2-4a50-a659-5fc42e988e7c",
   "metadata": {},
   "outputs": [],
   "source": [
    "def city_filter(city):\n",
    "    city_table = family_violence.where(\"City\", are.containing(city)).group([\"Year\", \"Gender\"], sum);\n",
    "    total_crimes_against_women = city_table.where(\"Gender\", \"Female\")\n",
    "    total_crimes_against_men = city_table.where(\"Gender\", \"Male\");\n",
    "\n",
    "    plt.plot(\"Year\", \"Total sum\", data=total_crimes_against_women, color=\"m\", label=\"Women\")\n",
    "    plt.plot(\"Year\", \"Total sum\", data=total_crimes_against_men, color=\"k\", label=\"Men\")\n",
    "\n",
    "    plt.xlabel(\"Year\")\n",
    "    plt.ylabel(\"Total Number of Crimes\")\n",
    "    plt.title(f'Change in the Number of Reported Intrafamilial Crimes from 2015-2021 by Gender in {city}')\n",
    "    plt.legend()\n",
    "    plt.show()\n",
    "    \n",
    "    tbl = family_violence.where(\"City\", are.containing(city)).group(\"Year\", sum);\n",
    "    plt.plot(\"Year\", \"Total sum\", data=tbl)\n",
    "    plt.xlabel(\"Year\")\n",
    "    plt.ylabel(\"Total Number of Crimes\")\n",
    "    plt.title(f'Change in the Number of Reported Intrafamilial Crimes from 2015-2021 in {city}')\n",
    "    plt.show();\n",
    "\n",
    "city_dropdown = widgets.Dropdown(\n",
    "    options = family_violence.group(\"City\").column(\"City\"),\n",
    "    value = \"Abejorral\",\n",
    "    description = \"Pick a city:\"\n",
    ")\n",
    "\n",
    "interact(city_filter, city = city_dropdown)\n",
    "plt.show()"
   ]
  },
  {
   "cell_type": "markdown",
   "id": "1d3e7b45-ec1f-4985-ae93-e2e67d6393fa",
   "metadata": {},
   "source": [
    "<div class=\"alert alert-info\">\n",
    "    <b>Question 2.4:</b> What city did you choose? How does the trend in number of intrafamilial crimes change when we sex-disaggregate? What does this tell us? How are women being affected differently than men?\n",
    "</div>"
   ]
  },
  {
   "cell_type": "markdown",
   "id": "d7222317-ff10-40fa-8162-a20be4ee596f",
   "metadata": {},
   "source": [
    "*Replace this text with your answer!*"
   ]
  },
  {
   "cell_type": "markdown",
   "id": "d38cb236-c597-4aae-85c6-f9b4ca42d39b",
   "metadata": {},
   "source": [
    "<div class=\"alert alert-info\">\n",
    "    <b>Question 2.5:</b> Please select the city of Bogota from the dropdown menu. How does the trend in number of intrafamilial crimes change in Bogota when we sex-disaggregate? What does this tell us? How are women being affected differently than men?\n",
    "</div>"
   ]
  },
  {
   "cell_type": "markdown",
   "id": "fdc5cd0c-0ade-4f5b-a35b-5eea33cd868e",
   "metadata": {},
   "source": [
    "*Replace this text with your answer!*"
   ]
  },
  {
   "cell_type": "markdown",
   "id": "38f80450-9305-46fd-affd-ca1bf3d61556",
   "metadata": {},
   "source": [
    "## Conclusion\n",
    "Congratulations! You've reached the end of the assignment. "
   ]
  },
  {
   "cell_type": "code",
   "execution_count": null,
   "id": "4dd03969-ae56-41a7-a8df-decaadd95c3a",
   "metadata": {},
   "outputs": [],
   "source": [
    "# This may take a few seconds \n",
    "from IPython.display import display, HTML\n",
    "!pip install -U notebook-as-pdf -q\n",
    "!jupyter-nbconvert --to PDFviaHTML notebook3.ipynb\n",
    "display(HTML(\"Save this notebook, then click <a href='notebook3.pdf' download>here</a> to open the pdf.\"))"
   ]
  }
 ],
 "metadata": {
  "kernelspec": {
   "display_name": "Python 3",
   "language": "python",
   "name": "python3"
  },
  "language_info": {
   "codemirror_mode": {
    "name": "ipython",
    "version": 3
   },
   "file_extension": ".py",
   "mimetype": "text/x-python",
   "name": "python",
   "nbconvert_exporter": "python",
   "pygments_lexer": "ipython3",
   "version": "3.8.8"
  }
 },
 "nbformat": 4,
 "nbformat_minor": 5
}
