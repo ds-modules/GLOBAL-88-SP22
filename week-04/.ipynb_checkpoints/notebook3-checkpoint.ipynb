{
 "cells": [
  {
   "cell_type": "markdown",
   "id": "d251b8ee-583c-428f-a763-810f1eee66ac",
   "metadata": {},
   "source": [
    "# [Global 88] Gender Violence in Colombia  \n",
    "### Professor: Karenjot Bhangoo Randhawa  \n",
    "**Estimated Time:** 50 minutes  \n",
    "**Notebook Created By:** Vaidehi Bulusu, Emily Guo, Bella Chang, Carlos Calderon  \n",
    "**Code Maintenance:** Carlos Calderon \n",
    "\n",
    "Welcome! Last week we got an introduction to data types and the visualizations we can conduct with them. This week, we will expand more on table operations and visualization topics that we introduced in the first and second notebooks. This week, however, we will be dealing with a dataset regarding gender violence accross Colombia. This week we will take a look at a primary, sex-disaggregated dataset. Next week we will look at a secondary, non sex-disaggregated data.  \n",
    "\n",
    "**Learning Outcomes:**  \n",
    "BY the end of this notebook, students will be able to:  \n",
    "1. Understand what and when bar plots are used.  \n",
    "2. Understand the differences between sex-disaggregated and non sex-disaggregated data\n",
    "3. Understand the insights we can derive from a sex-disaggregated data  \n",
    "\n",
    "# Table of Contents  \n",
    "1. The Data \n",
    "2. Sex-Disaggregated Data"
   ]
  },
  {
   "cell_type": "markdown",
   "id": "f395b422-ce35-4235-9dbe-4038473e05ba",
   "metadata": {},
   "source": [
    "---"
   ]
  },
  {
   "cell_type": "markdown",
   "id": "1b84400c-4f85-473d-a4e9-99794e96da35",
   "metadata": {},
   "source": [
    "# Importing Packages   \n",
    "\n",
    "<div class=\"alert alert-block alert-warning\">\n",
    "<b>Make sure to run this cell FIRST! Not doing so may result in pesky errors in the code.</b>\n",
    "</div>"
   ]
  },
  {
   "cell_type": "code",
   "execution_count": null,
   "id": "c004f511-14bb-4fcb-a664-5f568972dfd2",
   "metadata": {},
   "outputs": [],
   "source": [
    "from datascience import *\n",
    "import numpy as np\n",
    "\n",
    "import ipywidgets as widgets\n",
    "from ipywidgets import interact, interactive, fixed, interact_manual\n",
    "from collections import Counter\n",
    "\n",
    "import matplotlib.pyplot as plt\n",
    "plt.style.use('fivethirtyeight')\n",
    "%matplotlib inline\n",
    "\n",
    "import warnings\n",
    "warnings.filterwarnings('ignore')"
   ]
  },
  {
   "cell_type": "markdown",
   "id": "71e007d5-3a53-4f7a-be69-68dabc10cdfe",
   "metadata": {},
   "source": [
    "---"
   ]
  },
  {
   "cell_type": "markdown",
   "id": "7b67aa75-d045-4fd7-b800-b2762fceb64e",
   "metadata": {},
   "source": [
    "# 1. The Data  \n",
    "Our data comes from the [Colombia National Police](https://www.policia.gov.co/grupo-informacion-criminalidad/estadistica-delictiva) database, which contains yearly information on different crime categories accross Colombia. The dataset we will be working with describes statistics on intrafamilial violence from 2015 to 2021. Intrafamilial violence is [defined as any act punishable as a criminal offense that is committed or threatened to be committed by an offender who is related to the victim, or has a child with the victim.](https://www.ncsl.org/research/human-services/domestic-violence-domestic-abuse-definitions-and-relationships.aspx#:~:text=(9)%20%22Intrafamily%20violence%22,has%20a%20child%20in%20common.) Run the cell below to load the dataset onto the variable `family_violence`."
   ]
  },
  {
   "cell_type": "code",
   "execution_count": null,
   "id": "de4e64b3-27de-4308-b13a-694397a0e34a",
   "metadata": {},
   "outputs": [],
   "source": [
    "family_violence = Table.read_table(\"../data/nb3/domestic_violence_colombia_police.csv\")\n",
    "family_violence.show(5)"
   ]
  },
  {
   "cell_type": "markdown",
   "id": "2d7eef6e-420b-44d8-ab6e-5031a550480a",
   "metadata": {},
   "source": [
    "## 1.1 Understanding the Data"
   ]
  },
  {
   "cell_type": "markdown",
   "id": "111afe69-aab2-4168-9689-fd8bac374912",
   "metadata": {},
   "source": [
    "Although the column names are clear, it still is useful to create a mapping between column names and what they represent. \n",
    "\n",
    "| Column (Variable) Name | Description                          |\n",
    "|------------------------|--------------------------------------|\n",
    "| State                  | Name of State                        |\n",
    "| City                   | Name of City                         |\n",
    "| Gender                 | Gender of the victim                 |\n",
    "| Weapon Used            | Weapon used by the perpetrator       |\n",
    "| Affected Age Group     | Age group that the victim belongs to |\n",
    "| Total                  | Total number of crimes in the area   |\n",
    "| Year                   | Year                                 |  \n",
    "\n",
    "The rest of this section will focus on questions that will guide you in truly understanding the dataset. Whenever you start an individual project with a new dataset, it is extremely useful to start asking yourself these questions. The answers will guide your future analysis and will give you a better idea of what insights you can expect to find. "
   ]
  },
  {
   "cell_type": "code",
   "execution_count": null,
   "id": "e34e6d8a-ad9c-42b6-aedd-e2e65942339f",
   "metadata": {},
   "outputs": [],
   "source": [
    "# Showing the first two rows as examples for your next set of questions\n",
    "family_violence.show(2)"
   ]
  },
  {
   "cell_type": "markdown",
   "id": "8e601f6b-cc0f-43e6-a6bd-55cae49c4c3f",
   "metadata": {},
   "source": [
    "<div class=\"alert alert-info\">\n",
    "<b> Question 1.1: </b> With the name and meaning of our dataset's columns in mind, what does each row in our dataset represent?\n",
    "</div>"
   ]
  },
  {
   "cell_type": "markdown",
   "id": "e2b442d2-3eed-4e70-83ee-1cb116c73277",
   "metadata": {},
   "source": [
    "*Replace this text with your answer*"
   ]
  },
  {
   "cell_type": "markdown",
   "id": "ef87c3f2-552a-424f-af96-899db0ab0473",
   "metadata": {},
   "source": [
    "<div class=\"alert alert-info\">\n",
    "    <b> Question 1.2: </b> Using the table properties <code>num_columns</code> and <code>num_rows</code> that we learned in Notebook 1, fill in the code below to print out the size of our dataset. \n",
    "</div>"
   ]
  },
  {
   "cell_type": "code",
   "execution_count": null,
   "id": "ccb8f075-4388-48b5-9063-6058ecb2d34e",
   "metadata": {},
   "outputs": [],
   "source": [
    "family_violence_num_rows = family_violence... # Assign this to the number of rows in our dataset\n",
    "family_violence_num_columns = family_violence... # Assign this to the number of columns in our dataset\n",
    "print(f\"Our dataset has {family_violence_num_rows} rows and {family_violence_num_columns} columns.\")"
   ]
  },
  {
   "cell_type": "markdown",
   "id": "4eba6b89-7747-46ca-8299-09b013bbf3d3",
   "metadata": {},
   "source": [
    "<div class=\"alert alert-info\">\n",
    "    <b> Question 1.3: </b> If you had no information about the source of the dataset or the information it contained, how would you use the number of rows and columns and what they each represent to build your intuition on what the dataset is describing? \n",
    "</div>"
   ]
  },
  {
   "cell_type": "markdown",
   "id": "2d43ca77-a4c0-4148-9da1-86f370b3e8ee",
   "metadata": {},
   "source": [
    "*Replace this text with your answer*"
   ]
  },
  {
   "cell_type": "markdown",
   "id": "eef9189a-34d7-4618-bd94-5210d15c8593",
   "metadata": {},
   "source": [
    "<div class=\"alert alert-info\">\n",
    "    <b> Question 1.4: </b> Fill in the blanks below with the names of the columns that contain categorical data. If you need more or less space, feel free to add or delete a bullet point. \n",
    "</div>"
   ]
  },
  {
   "cell_type": "markdown",
   "id": "5ac5763a-e99b-4ce9-90db-b81e6d0a4af9",
   "metadata": {},
   "source": [
    "- ...\n",
    "- ...\n",
    "- ...\n",
    "- ..."
   ]
  },
  {
   "cell_type": "markdown",
   "id": "3b4abbba-6b71-4392-a3f8-5079852869e7",
   "metadata": {},
   "source": [
    "<div class=\"alert alert-info\">\n",
    "    <b> Question 1.5: </b> Fill in the blanks below with the names of the columns that contain numerical data. \n",
    "</div>"
   ]
  },
  {
   "cell_type": "markdown",
   "id": "530fdfa4-3cf5-47a5-b2c7-4b786d434262",
   "metadata": {},
   "source": [
    "- ...\n",
    "- ...\n",
    "- ...\n",
    "- ..."
   ]
  },
  {
   "cell_type": "markdown",
   "id": "94762762-be91-4d1f-aae4-55336e09b3ca",
   "metadata": {},
   "source": [
    "## 1.2 Barplots - One Categorical Variable  \n",
    "\n",
    "Last week we went over data types and their visualizations. So far, we have seen the following set of relationships:  \n",
    "\n",
    "| Variable/s                     | Visualization |\n",
    "|--------------------------------|---------------|\n",
    "| numeric                        | Histogram     |\n",
    "| numeric x numeric              | Scatter plot  |\n",
    "| numeric x numeric (sequential) | Line plot     |  \n",
    "\n",
    "In this section we will be going over **barplots**. Barplots are useful in visualizing both number of groups and the number of times a group appears within a single categorical variable. For example, our `family_violence` dataset contains several categorical variables, one of them being `Affected Age Group`. In this case, `Affected Age Group` is a categorical variable, but how many groups does this variable contain? This question can be answered with a bar plot. "
   ]
  },
  {
   "cell_type": "code",
   "execution_count": null,
   "id": "58f1e0b9-c29b-4c3b-9c11-d7ccd2c8f10e",
   "metadata": {},
   "outputs": [],
   "source": [
    "affected_age_group = family_violence.column(\"Affected Age Group\")\n",
    "affected_age_group_counts = Counter(affected_age_group)\n",
    "\n",
    "# Plotting code\n",
    "plt.bar(affected_age_group_counts.keys(), affected_age_group_counts.values());\n",
    "\n",
    "plt.xlabel(\"Age Group\")\n",
    "plt.ylabel(\"Number Affected\")\n",
    "plt.title(\"Number Affected per Age Group\");"
   ]
  },
  {
   "cell_type": "markdown",
   "id": "e3f4910d-00c1-4601-99f8-dad78f5c681c",
   "metadata": {},
   "source": [
    "<div class=\"alert alert-info\">\n",
    "    <b> Question 1.6: </b> How many groups exist in the <code>Affected Age Group</code> variable?\n",
    "</div> \n",
    "\n",
    "**Hint:** Look at the x-axis labels. "
   ]
  },
  {
   "cell_type": "markdown",
   "id": "31e5a055-9909-45b6-b367-07e4156645fe",
   "metadata": {},
   "source": [
    "*Replace this text with your answer*"
   ]
  },
  {
   "cell_type": "markdown",
   "id": "e1e1be97-f759-4503-bdfd-52ac830dc7f6",
   "metadata": {},
   "source": [
    "<div class=\"alert alert-info\">\n",
    "    <b> Question 1.7: </b> How many members exist in each group? What does this tell us about our dataset? What value do we see the most? \n",
    "</div> "
   ]
  },
  {
   "cell_type": "markdown",
   "id": "750641af-6492-4da0-b93f-90b84658ccc1",
   "metadata": {},
   "source": [
    "*Replace this text with your answer*"
   ]
  },
  {
   "cell_type": "markdown",
   "id": "d3244690-c301-45d4-b688-230e038ab689",
   "metadata": {},
   "source": [
    "Now, that is just one categorical variable. We have plenty more in our dataset. Run the cell below, which will allow you to select a column and visualize its bar plot. "
   ]
  },
  {
   "cell_type": "code",
   "execution_count": null,
   "id": "f25126e3-d516-4c65-8126-43d531e21340",
   "metadata": {},
   "outputs": [],
   "source": [
    "def bar_plot(column):\n",
    "    counts = Counter(family_violence.column(column))\n",
    "    \n",
    "    plt.bar(counts.keys(), \n",
    "            counts.values())\n",
    "    \n",
    "    plt.xlabel(column)\n",
    "    plt.ylabel(\"Total Number\")\n",
    "    plt.xticks(rotation=60)\n",
    "    \n",
    "    plt.title(\"Number of ocurrences per \" + column);\n",
    "\n",
    "col_choices = widgets.Dropdown(options=family_violence.labels, \n",
    "                               value=\"State\", \n",
    "                               description=\"Pick a categorical column:\")\n",
    "\n",
    "interact(bar_plot, column=col_choices);"
   ]
  },
  {
   "cell_type": "markdown",
   "id": "7585194d-80f2-4b34-a684-174d62b47dc8",
   "metadata": {},
   "source": [
    "<div class=\"alert alert-info\">\n",
    "    <b> Question 1.8: </b> Below, replace the three dots with the name of the column, and an insight you derived from its bar plot. Format it as {Column name}: {Insight} \n",
    "</div> "
   ]
  },
  {
   "cell_type": "markdown",
   "id": "5654d3be-dd75-4d2e-a2bb-8dc705247470",
   "metadata": {},
   "source": [
    "- ...  \n",
    "- ...  \n",
    "- ...\n",
    "- ...\n",
    "- ..."
   ]
  },
  {
   "cell_type": "markdown",
   "id": "bd84ae7c-479d-4bcb-bdd1-16f36ef57f50",
   "metadata": {},
   "source": [
    "Notice how plotting some categorical variables takes long, and produces unreadable plots. This is a common issue called [overplotting](https://www.displayr.com/what-is-overplotting/), and there are several ways to deal with this. For categorical variables, one common approach is to plot the five most/least abundant groups. For example, we might choose to plot the 5 cities that appear the most in our dataset, or those that appear the least. Let's do that. "
   ]
  },
  {
   "cell_type": "code",
   "execution_count": null,
   "id": "a688738c-5c17-4365-a307-837eb88f7fce",
   "metadata": {},
   "outputs": [],
   "source": [
    "# Just run the following cell\n",
    "city_counts = Counter(family_violence.column(\"City\"))\n",
    "five_most_common_cities = city_counts.most_common(5)\n",
    "five_most_common_city_names = []\n",
    "five_most_common_city_values = []\n",
    "for value in five_most_common_cities:\n",
    "    five_most_common_city_names.append(value[0])\n",
    "    five_most_common_city_values.append(value[1])\n",
    "\n",
    "print(f\"There are a total of {len(city_counts.keys())} cities in our dataset. Below are the five cities that appear the most.\")\n",
    "\n",
    "plt.bar(five_most_common_city_names, five_most_common_city_values)\n",
    "plt.title(\"Five most common cities\")\n",
    "plt.xlabel(\"City\")\n",
    "plt.ylabel(\"Number of Appearances\");"
   ]
  },
  {
   "cell_type": "markdown",
   "id": "012ec7e6-76c3-453f-99d2-1f2ccf8b9d65",
   "metadata": {},
   "source": [
    "<div class=\"alert alert-info\">\n",
    "    <b> Question 1.9: </b> What are the five most common cities in our dataset? What does this mean for these cities? What assumptions can we make from this visualization?\n",
    "</div> "
   ]
  },
  {
   "cell_type": "markdown",
   "id": "500690a5-8f45-4bbb-8d33-4ca47cf5cb08",
   "metadata": {},
   "source": [
    "*Replace this text with your answer!*"
   ]
  },
  {
   "cell_type": "markdown",
   "id": "9b6fe242-0ae5-47fe-b6ef-824a390f843b",
   "metadata": {},
   "source": [
    "<div class=\"alert alert-block alert-success\">\n",
    "<b>Bonus Question 1:</b> Write code below to generate a similar bar plot as above, but for states. Then, answer the following question in the markdown cell below: Are the five most common cities within the five most common states?\n",
    "</div>"
   ]
  },
  {
   "cell_type": "code",
   "execution_count": null,
   "id": "5d63646a-3ecd-4bc5-8c0e-543a8135ff5c",
   "metadata": {},
   "outputs": [],
   "source": [
    "# Write your code here \n",
    "...\n",
    "...\n",
    "...\n",
    "...\n",
    "...\n",
    "..."
   ]
  },
  {
   "cell_type": "markdown",
   "id": "ce09ba0c-27db-4338-9137-ec700a68c26e",
   "metadata": {},
   "source": [
    "*Replace this text with your answer!*"
   ]
  },
  {
   "cell_type": "markdown",
   "id": "821a990e-1bc8-4979-82b3-fc88a76cd087",
   "metadata": {},
   "source": [
    "## 1.3 Crime Change Throughout Time  \n",
    "\n",
    "Recall that one of the visualizations we can generate when we have sequential data is a line plot. `Year` is a sequential variable, and thus, we can graph the change over time between `Year` and another numerical variable in our dataset. It turns out that the only other such column is `Total`. Run the cell below, which will generate a line plot for the change in total number of intrafamilial crimes in Colombia from 2015 to 2021. "
   ]
  },
  {
   "cell_type": "code",
   "execution_count": null,
   "id": "8c468e9a-9e59-4ed4-a09c-2d553cd0778a",
   "metadata": {},
   "outputs": [],
   "source": [
    "family_violence_grouped = family_violence.group(\"Year\", sum)\n",
    "def plot_trend():\n",
    "    family_violence_grouped = family_violence.group(\"Year\", sum)\n",
    "    family_violence_grouped.plot(\"Year\", \"Total sum\")\n",
    "    plt.title(\"Change in the Number of Reported Intrafamilial Crimes in Colombia from 2015-2021\")\n",
    "    plt.ylabel(\"Total Number of Crimes\")\n",
    "    plt.show()\n",
    "plot_trend()"
   ]
  },
  {
   "cell_type": "markdown",
   "id": "7fc62a8a-7ef7-4a8c-a5d6-03035d881946",
   "metadata": {},
   "source": [
    "<div class=\"alert alert-info\">\n",
    "<b> Question 1.10 </b> Replace the dots below with the trend that you see from year to year. Then, write the trend you see overall and what this tells us about reported intrafamilial violence in Colombia. \n",
    "</div>"
   ]
  },
  {
   "cell_type": "markdown",
   "id": "87e56596-0030-4e52-aaf5-f65957e71ed8",
   "metadata": {},
   "source": [
    "- 2015 to 2016: ...  \n",
    "- 2016 to 2017: ...  \n",
    "- 2017 to 2018: ...  \n",
    "- 2018 to 2019: ...  \n",
    "- 2019 to 2020: ...  \n",
    "- 2020 to 2021: ...  \n",
    "- Overall: ..."
   ]
  },
  {
   "cell_type": "markdown",
   "id": "cedbaeeb-945a-4464-8ed9-815273edaf32",
   "metadata": {},
   "source": [
    "<div class=\"alert alert-block alert-success\">\n",
    "<b>Bonus Question 2:</b> Generate the same plot as above, but write it within a function <code>plot_city_trend</code> that takes in one argument, the city name, and outputs a line plot for that given city. \n",
    "</div>"
   ]
  },
  {
   "cell_type": "code",
   "execution_count": null,
   "id": "40d814a6-d926-48c0-9d5b-a7aaa8edb667",
   "metadata": {},
   "outputs": [],
   "source": [
    "# Write your code here \n",
    "def plot_city_trend(city):\n",
    "    ...\n",
    "    ...\n",
    "    ...\n",
    "    ...\n",
    "    return ..."
   ]
  },
  {
   "cell_type": "markdown",
   "id": "05a59b2d-ef1d-47cd-bedd-672eab00cb31",
   "metadata": {},
   "source": [
    "---"
   ]
  },
  {
   "cell_type": "markdown",
   "id": "b75afbf3-fddd-45e5-a7db-939c1b642018",
   "metadata": {},
   "source": [
    "# 2 Sex-disaggregated Data  \n",
    "[Data 2X](https://data2x.org/) is a United Nations Foundation, whose \"mission is to improve the availability, quality, and use of gender data in order to make a practical difference in the lives of women and girls worldwide.\"  \n",
    "\n",
    "They define sex-disaggregated data as data that can be grouped based on sex. Although often labeled as \"Gender\" by many datasets, what is often really expressed is a given individual's birth-assigned sex. [\"Gender\", on the other hand, refers to socially constructed relations between men and women.](https://data2x.org/wp-content/uploads/2019/08/MeasuringWomensFinInclusion-ValueofSexDisaggData.pdf) The importance of sex-disaggregated data relies in its potential to uncover different, unequal experiences between men and women as a result of gender roles and expectations. Although this never tells us the whole picture, it is an important first step in getting there.  \n",
    "\n",
    "*References:*  \n",
    "*- https://data2x.org/*  \n",
    "*- https://data2x.org/wp-content/uploads/2019/08/MeasuringWomensFinInclusion-ValueofSexDisaggData.pdf*  \n",
    "\n",
    "Now, in the previous section we visualized bar plots for categorical variables in our dataset. These, however, do not give us the whole picture. We can plot two bar plots side by side to visualize the difference between a set of groups. In the context of our data, we are interested in finding how intrafamilial violence affects men and women differently accross Colombia. Run the cell below to show how `Affected Age Group` changes when we group by sex."
   ]
  },
  {
   "cell_type": "code",
   "execution_count": null,
   "id": "c4f66244-ffbe-4220-854b-af0c918943d8",
   "metadata": {},
   "outputs": [],
   "source": [
    "# Just run this scary code! \n",
    "def bar_plot_gender(col_name, ylabel):\n",
    "    \n",
    "    counts = Counter(family_violence.column(col_name))\n",
    "\n",
    "    women = family_violence.where(\"Gender\", \"Female\")\n",
    "    men = family_violence.where(\"Gender\", \"Male\")\n",
    "    \n",
    "    women_counts = Counter(women.column(col_name))\n",
    "    men_counts = Counter(men.column(col_name))\n",
    "    \n",
    "    women_percents = np.array(list(women_counts.values())) / sum(women_counts.values())\n",
    "    men_percents = np.array(list(men_counts.values())) / sum(men_counts.values())\n",
    "    \n",
    "    bar_width = 0.25\n",
    "    br1 = np.arange(1, len(counts.keys()) + 1).tolist()\n",
    "    br2 = [x + bar_width for x in br1]\n",
    "    \n",
    "    plt.bar(br1, \n",
    "        women_percents,\n",
    "        width = bar_width,\n",
    "        color='r', \n",
    "        label=\"Women\")\n",
    "    \n",
    "    plt.bar(br2, \n",
    "        men_percents,\n",
    "        width = bar_width,\n",
    "        color=\"b\", \n",
    "        label=\"Men\")\n",
    "    \n",
    "    plt.xticks(np.arange(1, len(counts.keys()) + 1).tolist(),\n",
    "           counts.keys())\n",
    "    \n",
    "    plt.xlabel(col_name)\n",
    "    plt.ylabel(ylabel)\n",
    "    plt.title(col_name + \" by Gender\")\n",
    "    \n",
    "    plt.xticks(rotation = 30)\n",
    "    \n",
    "    plt.legend();\n",
    "    \n",
    "bar_plot_gender(\"Affected Age Group\", \"Percentage Affected\")\n",
    "plt.show()\n",
    "bar_plot(\"Affected Age Group\")\n",
    "plt.show()"
   ]
  },
  {
   "cell_type": "markdown",
   "id": "dbce150c-10aa-4e4d-a274-80e168147a9b",
   "metadata": {},
   "source": [
    "<div class=\"alert alert-info\">\n",
    "    <b>Question 2.1:</b> How does the barplot for <code>Affected Age Group</code> change when we disaggregate the data by sex? What does this tell us? How are women being affected differently than men?\n",
    "</div>"
   ]
  },
  {
   "cell_type": "markdown",
   "id": "8c319f5f-84f5-45bf-a764-91a4487ece59",
   "metadata": {},
   "source": [
    "*Replace this text with your answer!*"
   ]
  },
  {
   "cell_type": "code",
   "execution_count": null,
   "id": "bea52221-5d6b-4729-a4bd-c1c95b5439b6",
   "metadata": {},
   "outputs": [],
   "source": [
    "bar_plot_gender(\"Weapon Used\", \"Percentage Used\")\n",
    "plt.show()\n",
    "bar_plot(\"Weapon Used\")\n",
    "plt.show()"
   ]
  },
  {
   "cell_type": "markdown",
   "id": "0a8ae350-04d4-4f7b-bcf7-090de3c6a98a",
   "metadata": {},
   "source": [
    "<div class=\"alert alert-info\">\n",
    "    <b>Question 2.2:</b> How does the barplot for <code>Weapon Used</code> change when we disaggregate the data by sex? What does this tell us? How are women being affected differently than men?\n",
    "</div>"
   ]
  },
  {
   "cell_type": "markdown",
   "id": "e5707fbb-b7d5-4fa3-aed1-778186bd3090",
   "metadata": {},
   "source": [
    "*Replace this text with your answer!*"
   ]
  },
  {
   "cell_type": "markdown",
   "id": "8848174e-b274-4918-9722-b111c0a30ffd",
   "metadata": {},
   "source": [
    "Remember that we also visualized the change in number of intrafamilial crimes from 2015 to 2021. How does this visualization change when we sex-disaggregate? Run the cell below. If it produces a warning, ignore it. "
   ]
  },
  {
   "cell_type": "code",
   "execution_count": null,
   "id": "e65a3fad-08cb-4396-b2cc-21253467380c",
   "metadata": {},
   "outputs": [],
   "source": [
    "family_violence_grouped_by_gender = family_violence.group([\"Year\", \"Gender\"], sum)\n",
    "total_crimes_against_women = family_violence_grouped_by_gender.where(\"Gender\", \"Female\")\n",
    "total_crimes_against_men = family_violence_grouped_by_gender.where(\"Gender\", \"Male\");\n",
    "\n",
    "plt.plot(\"Year\", \"Total sum\", data=total_crimes_against_women, color=\"m\", label=\"Women\")\n",
    "plt.plot(\"Year\", \"Total sum\", data=total_crimes_against_men, color=\"k\", label=\"Men\")\n",
    "\n",
    "plt.xlabel(\"Year\")\n",
    "plt.ylabel(\"Total Number of Crimes\")\n",
    "plt.title('Change in the Number of Reported Intrafamilial Crimes in Colombia from 2015-2021 by Gender')\n",
    "plt.legend()\n",
    "plt.show()\n",
    "\n",
    "plt.plot(\"Year\", \"Total sum\", data=family_violence_grouped)\n",
    "plt.xlabel(\"Year\")\n",
    "plt.ylabel(\"Total Number of Crimes\")\n",
    "plt.title('Change in the Number of Reported Intrafamilial Crimes in Colombia from 2015-2021')\n",
    "plt.show();"
   ]
  },
  {
   "cell_type": "markdown",
   "id": "921d167b-d375-4d38-95f6-79b1f15b7b06",
   "metadata": {},
   "source": [
    "<div class=\"alert alert-info\">\n",
    "    <b>Question 2.3:</b> How does the trend in number of intrafamilial crimes change when we sex-disaggregate? What does this tell us? How are women being affected differently than men?\n",
    "</div>"
   ]
  },
  {
   "cell_type": "markdown",
   "id": "fc5294b3-d851-4209-82ae-59e833af7284",
   "metadata": {},
   "source": [
    "*Replace this text with your answer!*"
   ]
  },
  {
   "cell_type": "markdown",
   "id": "82279cc4-5441-46a1-9d9b-2c4345b31874",
   "metadata": {},
   "source": [
    "How does this trend compare when we analyze more closely? As of now, we have been looking at changes throughout all Colombia. Run the cell below, which will allow you to choose a city and plot both the disaggregated and non-disaggregated trends for that city. "
   ]
  },
  {
   "cell_type": "code",
   "execution_count": null,
   "id": "9930fe92-8fa2-4a50-a659-5fc42e988e7c",
   "metadata": {},
   "outputs": [],
   "source": [
    "def city_filter(city):\n",
    "    city_table = family_violence.where(\"City\", are.containing(city)).group([\"Year\", \"Gender\"], sum);\n",
    "    total_crimes_against_women = city_table.where(\"Gender\", \"Female\")\n",
    "    total_crimes_against_men = city_table.where(\"Gender\", \"Male\");\n",
    "\n",
    "    plt.plot(\"Year\", \"Total sum\", data=total_crimes_against_women, color=\"m\", label=\"Women\")\n",
    "    plt.plot(\"Year\", \"Total sum\", data=total_crimes_against_men, color=\"k\", label=\"Men\")\n",
    "\n",
    "    plt.xlabel(\"Year\")\n",
    "    plt.ylabel(\"Total Number of Crimes\")\n",
    "    plt.title(f'Change in the Number of Reported Intrafamilial Crimes from 2015-2021 by Gender in {city}')\n",
    "    plt.legend()\n",
    "    plt.show()\n",
    "    \n",
    "    tbl = family_violence.where(\"City\", are.containing(city)).group(\"Year\", sum);\n",
    "    plt.plot(\"Year\", \"Total sum\", data=tbl)\n",
    "    plt.xlabel(\"Year\")\n",
    "    plt.ylabel(\"Total Number of Crimes\")\n",
    "    plt.title(f'Change in the Number of Reported Intrafamilial Crimes from 2015-2021 in {city}')\n",
    "    plt.show();\n",
    "\n",
    "city_dropdown = widgets.Dropdown(\n",
    "    options = family_violence.group(\"City\").column(\"City\"),\n",
    "    value = \"Abejorral\",\n",
    "    description = \"Pick a city:\"\n",
    ")\n",
    "\n",
    "interact(city_filter, city = city_dropdown)\n",
    "plt.show()"
   ]
  },
  {
   "cell_type": "markdown",
   "id": "1d3e7b45-ec1f-4985-ae93-e2e67d6393fa",
   "metadata": {},
   "source": [
    "<div class=\"alert alert-info\">\n",
    "    <b>Question 2.4:</b> What city did you choose? How does the trend in number of intrafamilial crimes change when we sex-disaggregate? What does this tell us? How are women being affected differently than men?\n",
    "</div>"
   ]
  },
  {
   "cell_type": "markdown",
   "id": "d7222317-ff10-40fa-8162-a20be4ee596f",
   "metadata": {},
   "source": [
    "*Replace this text with your answer!*"
   ]
  },
  {
   "cell_type": "markdown",
   "id": "d38cb236-c597-4aae-85c6-f9b4ca42d39b",
   "metadata": {},
   "source": [
    "<div class=\"alert alert-info\">\n",
    "    <b>Question 2.5:</b> Please select the city of Bogota from the dropdown menu. How does the trend in number of intrafamilial crimes change in Bogota when we sex-disaggregate? What does this tell us? How are women being affected differently than men?\n",
    "</div>"
   ]
  },
  {
   "cell_type": "markdown",
   "id": "fdc5cd0c-0ade-4f5b-a35b-5eea33cd868e",
   "metadata": {},
   "source": [
    "*Replace this text with your answer!*"
   ]
  },
  {
   "cell_type": "markdown",
   "id": "38f80450-9305-46fd-affd-ca1bf3d61556",
   "metadata": {},
   "source": [
    "## Conclusion\n",
    "Congratulations! You've reached the end of the assignment. "
   ]
  },
  {
   "cell_type": "code",
   "execution_count": null,
   "id": "4dd03969-ae56-41a7-a8df-decaadd95c3a",
   "metadata": {},
   "outputs": [],
   "source": [
    "# This may take a few seconds \n",
    "from IPython.display import display, HTML\n",
    "!pip install -U notebook-as-pdf -q\n",
    "!jupyter-nbconvert --to PDFviaHTML notebook3.ipynb\n",
    "display(HTML(\"Save this notebook, then click <a href='notebook3.pdf' download>here</a> to open the pdf.\"))"
   ]
  }
 ],
 "metadata": {
  "kernelspec": {
   "display_name": "Python 3",
   "language": "python",
   "name": "python3"
  },
  "language_info": {
   "codemirror_mode": {
    "name": "ipython",
    "version": 3
   },
   "file_extension": ".py",
   "mimetype": "text/x-python",
   "name": "python",
   "nbconvert_exporter": "python",
   "pygments_lexer": "ipython3",
   "version": "3.8.8"
  }
 },
 "nbformat": 4,
 "nbformat_minor": 5
}
