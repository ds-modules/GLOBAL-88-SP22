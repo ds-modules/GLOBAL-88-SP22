{
 "cells": [
  {
   "cell_type": "markdown",
   "id": "fbc19b69-966e-49ca-a025-ec3163404607",
   "metadata": {
    "tags": [
     "include"
    ]
   },
   "source": [
    "# [Global 88] Introduction to Jupyter, Python, and Gender Violence in India"
   ]
  },
  {
   "cell_type": "markdown",
   "id": "d29ca8fe-c5ed-463b-87d9-4ceafbb2f37b",
   "metadata": {
    "tags": [
     "include"
    ]
   },
   "source": [
    "#### Professor: Karenjot Bhangoo Randhawa"
   ]
  },
  {
   "cell_type": "markdown",
   "id": "861901c5-6b39-4c61-b6b3-3ccd57c75348",
   "metadata": {
    "tags": [
     "include"
    ]
   },
   "source": [
    "**Estimated Time:** *50 minutes*  \n",
    "**Notebook Created By:** Carlos Calderon, Bella Chang, Emily Guo  \n",
    "**Code Maintenance:** Carlos Calderon"
   ]
  },
  {
   "cell_type": "markdown",
   "id": "55a9ba79-8e13-4213-836b-997b59d130f2",
   "metadata": {
    "tags": [
     "include"
    ]
   },
   "source": [
    "Welcome! This an introductory notebook in many topics. First, we introduce the Jupyter Notebook environment and how to navigate it. Then, we give a brief crash course on some elementary topics in Python. Lastly, we begin to start looking at table operations using datasets on Indian states and cities, and more specifically, containing data on violence against women.\n",
    "\n",
    "**Learning Outcomes**  \n",
    "\n",
    "By the end of this notebook, students will be able to: \n",
    "1. How to work with Jupyter Notebooks (adding cells, restarting kernel, etc.)\n",
    "2. Understand basic concepts in Python and programming. \n",
    "3. Perform basic table operations using the `datascience` library. "
   ]
  },
  {
   "cell_type": "markdown",
   "id": "753d5962-b8d9-44c3-8566-db64af182234",
   "metadata": {
    "tags": [
     "include"
    ]
   },
   "source": [
    "# Table of Contents\n",
    "\n",
    "1. [Introduction to Jupyter](#Intro)  \n",
    "    1.1 [Text Cells](#text)  \n",
    "    1.2 [Code Cells](#code)  \n",
    "    1.3 [Errors](#errors)  \n",
    "    1.4 [The Kernel](#kernel)  \n",
    "    1.5 [Importing Packages](#packages)\n",
    "2. [Introduction to Python](#python)  \n",
    "    2.1 [Print Statements and Comments](#print)  \n",
    "    2.2 [Math Expressions and Names (Variables)](#math)  \n",
    "    2.3 [Functions and Calling Functions](#function)\n",
    "3. [Data](#data)  \n",
    "    3.1 [Background to Data & Data Importing](#background)  \n",
    "    3.2 [Table Operations](#operations)\n",
    "6. [Data Science Resources](#resources)"
   ]
  },
  {
   "cell_type": "markdown",
   "id": "b187ee1f-9d8b-4e23-ae7d-3e9418acc3ba",
   "metadata": {},
   "source": [
    "<a id='Intro'></a>"
   ]
  },
  {
   "cell_type": "markdown",
   "id": "9fb7391e",
   "metadata": {
    "tags": [
     "include"
    ]
   },
   "source": [
    "# 1. Introduction to Jupyter\n",
    "\n",
    "Welcome to the Jupyter Notebook, an interactive and web-based notebook that is used in data science to document and visualize data! The Jupyter notebook supports regular text as well as programming code. "
   ]
  },
  {
   "cell_type": "markdown",
   "id": "aa3dfe1b-00d3-4029-be69-937ab01e1890",
   "metadata": {},
   "source": [
    "<a id=\"text\"></a>"
   ]
  },
  {
   "cell_type": "markdown",
   "id": "de46c4e0",
   "metadata": {
    "tags": [
     "include"
    ]
   },
   "source": [
    "### 1.1 Text Cells \n",
    "\n",
    "In a notebook, each rectangle is called a *cell*. Each *cell*  can be composed of text or code. Text cells are written in a formatting language called [Markdown](https://www.markdownguide.org). This is how you will be answering a portion of the questions in future assignments.  \n",
    "\n",
    "\n",
    "The way that we determine the type of the cell is by clicking \"Cell,\" located at the top of your screen, and then clicking \"Cell Type.\" From there you will see an arrow that offers the options of changing the current cell you are working in to **Markdown** (which is just regular text) or **Code**.  \n",
    "\n",
    "One of the ways to create a cell is to click the **+** button in the menu bar found at the top of the notebook. By default, a code cell is generated. To change the cell type from **Code** to **Markdown (Text)**, select the cell and click the dropdown menu (the second rightmost button in the top menu) and change the cell type.\n",
    "\n",
    "Make sure to choose accordingly depending on your different tasks later down the road; cells can only support the type that they were assigned (for example, a **Markdown** type cell will not run code).\n",
    "\n",
    "\n",
    "\n",
    "You can click the &#9658; button or hold down `shift` + `return` to confirm any changes. \n",
    "\n",
    "<div class=\"alert alert-info\">\n",
    "<b> Question 1.1:</b> This paragraph is in its own cell. Create a new cell below this one. Make sure it is a Markdown (text) cell, then write up a small intro about yourself. It can be any sort of introduction you'd like.\n",
    "</div>"
   ]
  },
  {
   "cell_type": "markdown",
   "id": "e7b3f50c-3b40-4247-8ec4-a17a20eafcc1",
   "metadata": {},
   "source": [
    "<a id=\"code\"></a>"
   ]
  },
  {
   "cell_type": "markdown",
   "id": "5dbffc55-b589-4e2f-8544-1c41408d3955",
   "metadata": {},
   "source": [
    "### 1.2 Code Cells  \n",
    "\n",
    "Other cells can contain code. For this class, all of the code will be written in the [Python 3.x](https://www.python.org) programming language. Running a code cell will execute the code that it contains.  \n",
    "\n",
    "To run a code cell, click the cell. You will notice that it becomes highlighted with either a blue/green rectangle. Then, press the &#9658;or hold `shift` + `return`. Basically, you can run any type of cell with either option.  \n",
    "\n",
    "<div class=\"alert alert-info\"> \n",
    "       <b> Question 1.2:</b> The cell below is a markdown cell. Change it to a code cell and run it to produce the code output. Do not worry about understanding the code for now. \n",
    "</div>"
   ]
  },
  {
   "cell_type": "markdown",
   "id": "6e9b1532-fea5-49d8-8f13-36784bab88a3",
   "metadata": {},
   "source": [
    "print(\"Hello world\")"
   ]
  },
  {
   "cell_type": "markdown",
   "id": "4b6e693a-a4be-46e8-bc6f-cc10163469f4",
   "metadata": {},
   "source": [
    "<a id=\"errors\"></a>"
   ]
  },
  {
   "cell_type": "markdown",
   "id": "401fc1bf-4877-449d-90ed-c3cd3acfbc9a",
   "metadata": {},
   "source": [
    "### 1.3 Errors \n",
    "\n",
    "*Adapted from Lab 1: Expressions in [Data 8](http://data8.org/sp22/)*\n",
    "\n",
    "Python is a language, and like natural human languages, it has rules. It differs from natural language in two important ways:\n",
    "\n",
    "1. The rules are simple. You can learn most of them in a few weeks and gain reasonable proficiency with the language in a semester.\n",
    "2. The rules are *rigid*. If you're proficient in a natural language, you can understand a non-proficient speaker, glossing over small mistakes. A computer running Python code is not smart enough to do that.\n",
    "\n",
    "Whenever you write code, you'll make mistakes. When you run a code cell that has errors, Python will sometimes produce error messages to tell you what you did wrong.\n",
    "\n",
    "Errors are okay; even experienced programmers make many errors. When you make an error, you just have to find the source of the problem, fix it, and move on.\n",
    "\n",
    "We have made an error in the next cell. Run it and see what happens."
   ]
  },
  {
   "cell_type": "code",
   "execution_count": null,
   "id": "47cf6441-f171-4360-a475-4a5b1616f151",
   "metadata": {},
   "outputs": [],
   "source": [
    "print(\"This line is missing something.\""
   ]
  },
  {
   "cell_type": "markdown",
   "id": "c0c43a58-fb35-42fb-8546-355a567c3ed2",
   "metadata": {},
   "source": [
    "**Note:** In the toolbar, there is the option to click `Cell > Run All`, which will run all the code cells in this notebook in order. However, the notebook stops running code cells if it hits an error, like the one in the cell above.  \n",
    "\n",
    "\n",
    "You should see something like this (minus our annotations):\n",
    "\n",
    "![Error](error.jpg \"Title\")  "
   ]
  },
  {
   "cell_type": "markdown",
   "id": "a0d1e446-ff63-4cf3-9a74-027b0e1723a3",
   "metadata": {},
   "source": [
    "The last line of the error output attempts to tell you what went wrong. The syntax of a language is its structure, and this `SyntaxError` tells you that you have created an illegal structure. \"`EOF`\" means \"end of file,\" so the message is saying Python expected you to write something more (in this case, a right parenthesis) before finishing the cell.\n",
    "\n",
    "There's a lot of terminology in programming languages, but you don't need to know it all in order to program effectively. If you see a cryptic message like this, you can often get by without deciphering it. (Of course, if you're frustrated, ask a neighbor or a staff member for help.)\n",
    "\n",
    "Try to fix the code above so that you can run the cell and see the intended message instead of an error."
   ]
  },
  {
   "cell_type": "markdown",
   "id": "4d1d9be5-e331-4b66-96f5-6e651f5e21e4",
   "metadata": {},
   "source": [
    "<a id=\"kernel\"></a>"
   ]
  },
  {
   "cell_type": "markdown",
   "id": "8a4a29fd-bbde-4cde-b9eb-1eab1fbb3083",
   "metadata": {},
   "source": [
    "### 1.4 The Kernel \n",
    "\n",
    "*Adapted from Lab 1: Expressions in [Data 8](http://data8.org/sp22/)*\n",
    "\n",
    "The kernel is a program that executes the code inside your notebook and outputs the results. In the top right of your window, you can see a circle that indicates the status of your kernel. If the circle is empty (⚪), the kernel is idle and ready to execute code. If the circle is filled in (⚫), the kernel is busy running some code.\n",
    "\n",
    "Next to every code cell, you'll see some text that says In [...]. Before you run the cell, you'll see [ ]. When the cell is running, you'll see In [\\*]. If you see an asterisk (\\*) next to a cell that doesn't go away, it's likely that the code inside the cell is taking too long to run, and it might be a good time to interrupt the kernel (discussed below). When a cell is finished running, you'll see a number inside the brackets, like so: In [1]. The number corresponds to the order in which you run the cells; so, the first cell you run will show a 1 when it's finished running, the second will show a 2, and so on.\n",
    "\n",
    "You may run into problems where your kernel is stuck for an excessive amount of time, your notebook is very slow and unresponsive, or your kernel loses its connection. If this happens, try the following steps:\n",
    "\n",
    "1. At the top of your screen, click Kernel, then Interrupt.\n",
    "2. If that doesn't help, click Kernel, then Restart. If you do this, you will have to run your code cells from the start of your notebook up until where you paused your work.\n",
    "3. If that doesn't help, restart your server. First, save your work by clicking File at the top left of your screen, then Save and Checkpoint. Next, click Control Panel at the top right. Choose Stop My Server to shut it down, then Start My Server to start it back up. Then, navigate back to the notebook you were working on. You'll still have to run your code cells again."
   ]
  },
  {
   "cell_type": "markdown",
   "id": "67983b20-51f7-42ee-9466-d621959a2929",
   "metadata": {},
   "source": [
    "<a id=\"packages\"></a>"
   ]
  },
  {
   "cell_type": "markdown",
   "id": "368917a6-4335-4b1f-b7bd-f7fb2107c06d",
   "metadata": {},
   "source": [
    "### 1.5 Importing Packages  \n",
    "\n",
    "<div class=\"alert alert-block alert-warning\">\n",
    "    In data science and programming as a whole, we often make use of packages (often references as library or modules) that contain powerful functions not found in the default Python library. To use them, we need to import them into our notebook using the <code>import</code> Python statement. For most of this course, we will be using the <code>numpy</code> and <code>datascience</code> libraries, alongside other visualization tools. The cell below is an example of how these statements look. You don't have to worry much about understanding the code or how it works. <b>Just make sure to first run the cell containing all of the import statements before running any code cells. Not doing so may result in pesky errors in the code.</b>  \n",
    "</div>\n"
   ]
  },
  {
   "cell_type": "code",
   "execution_count": null,
   "id": "b8627965-4265-4c06-a19e-8842ce1d0e23",
   "metadata": {},
   "outputs": [],
   "source": [
    "# Don't change this cell; just run it. \n",
    "import numpy as np\n",
    "from datascience import *"
   ]
  },
  {
   "cell_type": "markdown",
   "id": "457e4f63",
   "metadata": {
    "tags": [
     "include"
    ]
   },
   "source": [
    "----"
   ]
  },
  {
   "cell_type": "markdown",
   "id": "01031ed5-d707-45ce-9cbf-86d08a224fab",
   "metadata": {},
   "source": [
    "<a id=\"python\"></a>"
   ]
  },
  {
   "cell_type": "markdown",
   "id": "d3c956e3",
   "metadata": {
    "tags": [
     "include"
    ]
   },
   "source": [
    "# 2. Python Basics"
   ]
  },
  {
   "cell_type": "markdown",
   "id": "d35abf15",
   "metadata": {
    "tags": [
     "include"
    ]
   },
   "source": [
    "*Python* is a programming language, thus, it allows us to communicate with the computer. Python has a specific syntax and a set of common practices, just like any other language. Before we dive into our data, let's go over some of these basic functionalities in Python that you will be using in this lesson."
   ]
  },
  {
   "cell_type": "markdown",
   "id": "838eeb97-b61d-4eb0-b574-c1074f4eafaa",
   "metadata": {},
   "source": [
    "<a id=\"print\"></a>"
   ]
  },
  {
   "cell_type": "markdown",
   "id": "452b5e28",
   "metadata": {
    "tags": [
     "include"
    ]
   },
   "source": [
    "### 2.1 Print Statements and Comments"
   ]
  },
  {
   "cell_type": "markdown",
   "id": "4fcfb027",
   "metadata": {
    "tags": [
     "include"
    ]
   },
   "source": [
    "For the computer to physically print out words, we are able to use the print statement. Using the command **`print()`**, we can print anything we want the computer to say. It's also important that we write the words we want to print in between quotes. This can be in the form of `\"...\"` or `'...'`, however, make sure to *always open and close with either double quotes or single quotes*. Opening with a single quote and closing with a double quote will result in errors. See below for an example:"
   ]
  },
  {
   "cell_type": "code",
   "execution_count": null,
   "id": "d1666192",
   "metadata": {
    "tags": [
     "include"
    ]
   },
   "outputs": [],
   "source": [
    "print(\"I am a good print statement.\")"
   ]
  },
  {
   "cell_type": "markdown",
   "id": "9d297b90-68b8-42b2-b0ff-efa0ffe64827",
   "metadata": {},
   "source": [
    "<div class=\"alert alert-info\"> \n",
    "       <b> Question 2.1: </b> Create a new code cell below this one, and print out the statement \"Hello, world! My name is _____,\" filling out the blank with your name.\n",
    "    \n",
    "</div>"
   ]
  },
  {
   "cell_type": "markdown",
   "id": "511ba5e9-cd40-406a-beb9-8cf256cb9d43",
   "metadata": {},
   "source": [
    "      "
   ]
  },
  {
   "cell_type": "markdown",
   "id": "a48c5c20-ba0f-40a8-bbec-23ca1581dc18",
   "metadata": {},
   "source": [
    "A comment in Python is used to annotate portions of code, and are not executed by Python. Instead, they are not evaluated and thus can be treated as text within a code cell. To make a comment, we use the `#` notation, as shown below. "
   ]
  },
  {
   "cell_type": "code",
   "execution_count": null,
   "id": "689b1982-c0cb-413b-a819-111b1ca08baf",
   "metadata": {},
   "outputs": [],
   "source": [
    "# This cell is the same as the cell above. \n",
    "\n",
    "print(\"I am a good print statement.\")"
   ]
  },
  {
   "cell_type": "markdown",
   "id": "561a52fe-5b82-40c4-98a7-83264cb2bab1",
   "metadata": {},
   "source": [
    "<a id=\"math\"></a>"
   ]
  },
  {
   "cell_type": "markdown",
   "id": "c4a26a8f-0e56-4a26-8571-6a5626600b2f",
   "metadata": {},
   "source": [
    "### 2.2 Math Expressions and Names (Variables)\n",
    "\n",
    "In addition to printing text, Python can be used to compute basic arithmetic expressions. Given that quantative information is found everywhere in data science, it is important to get familiarized with basic math operations in python. As in regular math, we can encapsulate operations in parantheses to instruct Python to compute these first. The following cells will walk through a series of small examples showcasing some of the math operations we can do. "
   ]
  },
  {
   "cell_type": "code",
   "execution_count": null,
   "id": "ab36ab2b-7b16-48a7-9326-9053c83facf6",
   "metadata": {},
   "outputs": [],
   "source": [
    "# Here is a simple example. Notice how Python functions like regular math, performing operations in the parantheses first. \n",
    "(2 * 4) + 3"
   ]
  },
  {
   "cell_type": "code",
   "execution_count": null,
   "id": "4049dcc8-4d98-4b9c-9c1b-4cb88a04ed02",
   "metadata": {},
   "outputs": [],
   "source": [
    "# Notice how the values changed. Why do you think that is?\n",
    "2 * (4 + 3)"
   ]
  },
  {
   "cell_type": "markdown",
   "id": "69a08210-4cb5-4c49-893b-e4baf98ddbec",
   "metadata": {},
   "source": [
    "*Note:* You may have noticed that we did not have to print these values to see them in our output. This is because a Jupyter notebook implicitly prints out the value of the last line in a code cell. \n",
    "\n",
    "*The following is adapted from Lab 1: Expressions in [Data 8](http://data8.org/sp22/)* \n",
    "  \n",
    "\n",
    "  \n",
    "In natural language, we have terminology that lets us quickly reference very complicated concepts.  We don't say, \"That's a large mammal with brown fur and sharp teeth!\"  Instead, we just say, \"Bear!\" In Python, we do this with ***assignment statements***. An assignment statement has a name on the left side of an `=` sign and an expression to be evaluated on the right. This expression is now *bound* to the name we assigned it (the value on the **left** side of the `=`). The following cell computes the expression `(2*4)+3` on the right hand side, and assigns that value to the name `total`. An alternate nomenclature for \"name\" is the word \"variable\". For the rest of the notebook and the rest of this class, we will use the \"variable\" terminology to reference a Python name. "
   ]
  },
  {
   "cell_type": "code",
   "execution_count": null,
   "id": "bb5adf5d-8b69-44ee-ae72-cf438865187e",
   "metadata": {},
   "outputs": [],
   "source": [
    "total = (2 * 4) + 3"
   ]
  },
  {
   "cell_type": "markdown",
   "id": "3c23a5f6-950d-4a18-bd91-768132056d08",
   "metadata": {},
   "source": [
    "Now that we have run that cell, we can now reference that variable (or name) by \"calling\" it as shown in the cell below. The output will be the expression that was assigned to the variable name. "
   ]
  },
  {
   "cell_type": "code",
   "execution_count": null,
   "id": "d2009676-18f1-45f2-acba-f5f957356634",
   "metadata": {},
   "outputs": [],
   "source": [
    "total"
   ]
  },
  {
   "cell_type": "markdown",
   "id": "f72be297-a9bb-42d2-a745-0b0b48e2f6f5",
   "metadata": {},
   "source": [
    "A common pattern in Jupyter notebooks is to assign a value to a name and then immediately evaluate the name in the last line in the cell so that the value is displayed as output."
   ]
  },
  {
   "cell_type": "code",
   "execution_count": null,
   "id": "2a35a845-c9b8-4dd3-8615-1e2f2ac293a4",
   "metadata": {},
   "outputs": [],
   "source": [
    "num_seconds_in_min = 60\n",
    "num_seconds_in_min"
   ]
  },
  {
   "cell_type": "markdown",
   "id": "5c54d1b6-bbe6-4427-8223-36621156b276",
   "metadata": {},
   "source": [
    "Another common pattern is that a series of lines in a single cell will build up a complex computation in stages, naming the intermediate results."
   ]
  },
  {
   "cell_type": "code",
   "execution_count": null,
   "id": "522811a6-a565-404c-bb7b-25e855b8a7b3",
   "metadata": {},
   "outputs": [],
   "source": [
    "num_seconds_in_min = 60\n",
    "num_minutes_in_hour = 60\n",
    "num_seconds_in_hour = num_seconds_in_min * num_minutes_in_hour\n",
    "num_hours_in_day = 24\n",
    "num_seconds_in_day = num_seconds_in_hour * num_hours_in_day\n",
    "num_seconds_in_day"
   ]
  },
  {
   "cell_type": "markdown",
   "id": "cac7a509-a6ee-446e-814b-eab6734a9ead",
   "metadata": {},
   "source": [
    "<div class=\"alert alert-info\"> \n",
    "    <b> Question 2.2:</b> In the code cell below, assign <code>num_days_in_week</code> to the number of days in a week. Then, use <code>num_days_in_week</code> and the variable <code>num_seconds_in_day</code> to assign the variable <code>num_seconds_in_week</code> to the total number of seconds in a week.  \n",
    "</div>"
   ]
  },
  {
   "cell_type": "code",
   "execution_count": null,
   "id": "e0bc2de0-68ce-4aa0-87aa-c19ac00647e6",
   "metadata": {},
   "outputs": [],
   "source": [
    "# Fill in your code by replacing the \"...\"\n",
    "num_days_in_week = ...\n",
    "num_seconds_in_week = ... * ...\n",
    "num_seconds_in_week"
   ]
  },
  {
   "cell_type": "markdown",
   "id": "86fd5855-2505-4fbd-aca1-633af824a12f",
   "metadata": {},
   "source": [
    "Throughout your work, it is important to know that in Python, variable names:   \n",
    "- Can have letters (upper- and lower-case letters are both okay and count as different letters), \n",
    "- Can have underscores,\n",
    "- Can have numbers **BUT,** the first character can't be a number (otherwise a name might look like a number). \n",
    "- Cannot contain spaces, since spaces are used to separate pieces of code from each other. Instead, use the underscore `_` to separate words in a variable name. \n",
    "\n",
    "Other than those rules, what you name something doesn't matter to Python. For example, this cell does the same thing as the cell we saw above, except everything has a different name. Notice how this code is not as easy to understand. Keep this in mind when coming up with variable names, as they should roughly describe what they are assigned to (i.e.: `num_seconds_in_min` used to reference the number of seconds in a minute.)"
   ]
  },
  {
   "cell_type": "code",
   "execution_count": null,
   "id": "b27797f6-841c-4789-94c9-c59fc778e938",
   "metadata": {},
   "outputs": [],
   "source": [
    "a = 60\n",
    "b = 60\n",
    "c = a * b\n",
    "d = 24\n",
    "e = d * c\n",
    "e"
   ]
  },
  {
   "cell_type": "markdown",
   "id": "057f7984-f935-441c-87f4-d30fcaeab427",
   "metadata": {},
   "source": [
    "<a id=\"function\"></a>"
   ]
  },
  {
   "cell_type": "markdown",
   "id": "b61a7fb3-9f2f-4bf7-845c-15e899813211",
   "metadata": {},
   "source": [
    "### 2.3 Functions and Calling Functions  \n",
    "\n",
    "*Adapted from Lab 1: Expressions in [Data 8](http://data8.org/sp22/)*  \n",
    "\n",
    "The most common way to combine or manipulate values in Python is by calling functions. Python comes with many built-in functions that perform common operations. Functions are also bound, or assigned, to variable names. To use these functions, we need to \"call\" that function through the parentheses syntax: `function_name()`. Adding the parantheses to this function allows us to call it and use its output. Notice that the parantheses must be attached to the function name. That is, the syntax `function_name ()` will result in an error since there is a space between the function name and the parantheses. The values that go inside the parantheses are known as the *function parameters*, on which the function operates on.\n",
    "\n",
    "For a more concrete example, take the `abs` function. This function takes in a single number as its argument and returns the absolute value of that number. Run the next two cells and see if you understand the output"
   ]
  },
  {
   "cell_type": "code",
   "execution_count": null,
   "id": "2cd4af01-865d-414b-bec1-abf71bb3644c",
   "metadata": {},
   "outputs": [],
   "source": [
    "abs(5)"
   ]
  },
  {
   "cell_type": "code",
   "execution_count": null,
   "id": "1b22ac27-2179-4c3e-823d-b3c955370ca7",
   "metadata": {},
   "outputs": [],
   "source": [
    "abs(-5)"
   ]
  },
  {
   "cell_type": "markdown",
   "id": "d509e751-a13c-4921-bceb-1bef34759fd0",
   "metadata": {},
   "source": [
    "Functions can have zero or more parameters. The sky is truly the limit! The `print` statement we showed above is a also a function, in which the parameters can be anything from a string (text) to a number. Python is also very powerful in that it allows for nesting of functions. Run the cell below, which calls the `print` function on the output of the `abs` value function and prints it out. "
   ]
  },
  {
   "cell_type": "code",
   "execution_count": null,
   "id": "c2cfc87a-ebaa-4605-afd5-1577a2c4d3dd",
   "metadata": {},
   "outputs": [],
   "source": [
    "print(\"The absolute value of -5 is: \", abs(-5))"
   ]
  },
  {
   "cell_type": "markdown",
   "id": "ca53bcf8-1208-4f48-82a3-4ec2c2475855",
   "metadata": {},
   "source": [
    "We can also implement our own functions and call them in the same manner that we do with built-in functions. Do not worry if you don't understand the fuction code, the overall structure will become more intuitive as we move through the class. For now, the main takeaway is that we can \"call\" built-in functions and user-made functions in the same way. "
   ]
  },
  {
   "cell_type": "code",
   "execution_count": null,
   "id": "a9382cc3-1cdb-4775-8a6c-9eca733688fd",
   "metadata": {},
   "outputs": [],
   "source": [
    "def square(x): \n",
    "    # Squares the value of x and outputs it\n",
    "    return x * x \n",
    "\n",
    "print(\"The square of 5 is: \", square(5))"
   ]
  },
  {
   "cell_type": "markdown",
   "id": "a6a70e18-2066-46b5-a01b-58954bb51aad",
   "metadata": {},
   "source": [
    "<a id=\"tables\"></a>"
   ]
  },
  {
   "cell_type": "markdown",
   "id": "b4f2da68-eced-4131-b3bf-54bdfdcf22e9",
   "metadata": {},
   "source": [
    "<div class=\"alert alert-info\"> \n",
    "    <b> Question 2.3:</b> Using the <code>square</code> function defined above, assign <code>three_squared</code> to the squared value of 3 in the cell below.\n",
    "</div>"
   ]
  },
  {
   "cell_type": "code",
   "execution_count": null,
   "id": "9b037067-04d1-42d2-911a-8b7708ac2ec3",
   "metadata": {},
   "outputs": [],
   "source": [
    "three_squared = ...\n",
    "three_squared"
   ]
  },
  {
   "cell_type": "markdown",
   "id": "90d7c7fd",
   "metadata": {
    "tags": [
     "include"
    ]
   },
   "source": [
    "----"
   ]
  },
  {
   "cell_type": "markdown",
   "id": "3bc42e30-52da-45fa-8cbb-0fc805383011",
   "metadata": {},
   "source": [
    "<a id=\"data\"></a>"
   ]
  },
  {
   "cell_type": "markdown",
   "id": "c2b59b56-daea-499a-ba80-70776e3cc9b3",
   "metadata": {
    "tags": [
     "include"
    ]
   },
   "source": [
    "# 3. Data  \n",
    "\n",
    "Now that we have gotten a bit familiarized with the Jupyter Notebook environment and seen some of the elementary concepts in Python, we can start delving a bit deeper into data science. As mentioned above, a lot of work in data science is achieved through the use of libraries. Here, we will give a small introduction to the [`datascience`](http://data8.org/datascience/) library and the table manipulations it allows us to perform. More than that, we will see how we can start using basic functions in the `datascience` package to derive insights about our data. "
   ]
  },
  {
   "cell_type": "markdown",
   "id": "2efcd6b7-0a7f-438f-8c91-e369d01cf1a1",
   "metadata": {},
   "source": [
    "<a id=\"background\"></a>"
   ]
  },
  {
   "cell_type": "markdown",
   "id": "69558b6e",
   "metadata": {
    "tags": [
     "include"
    ]
   },
   "source": [
    "### 3.1 Background to Data & Data Importing  \n",
    "Our data comes from the [National Crime Records Bureau of India](https://ncrb.gov.in/en) which was set up in 1986 to \"function as a repository of information on crime and criminals so as to assist the investigators in linking crime to the perpetrators.\" For the purpose of this analysis, we deal with two datasets: [one pertaining to crime in cities in India](https://ncrb.gov.in/sites/default/files/crime_in_india_table_additional_table_chapter_reports/Table%203B.1_3.pdf) and [another pertaining to crime across Indian states/union territories](https://ncrb.gov.in/sites/default/files/crime_in_india_table_additional_table_chapter_reports/Table%203A.1_0.pdf).  \n",
    "\n",
    "Both of these datasets look at crimes in India between the years of 2017-2019 as well as at specific factors (population, total crime against women) that will be useful in trying to make inferences about gender-based violence in certain areas in India.  \n",
    "\n",
    "\n",
    "*Note: In the Indian numbering system, a ***lakh*** is equal to 100,000. Moreover, politically, a *union territory* is a small administrative unit like a state, but while states are self-governed, union territories are directly ruled over by the central or union government. [Feel to read more here](https://www.indiatoday.in/education-today/gk-current-affairs/story/what-is-the-difference-between-a-state-and-an-union-territory-1577445-2019-08-05!)*\n",
    "\n",
    "Here is our **state & union territory based dataset**. For now, don't worry too much about the specifics of the code. All you need to know is that we are loading in our datasets and assigning these to the names `states` and `cities`. There is no output because the cells contain only assignment statements, which don't produce an output. "
   ]
  },
  {
   "cell_type": "code",
   "execution_count": null,
   "id": "0f366c58-965b-4bc7-ac62-ed49e9ebdaaf",
   "metadata": {
    "tags": [
     "include"
    ]
   },
   "outputs": [],
   "source": [
    "# When we reference this table later, notice that we can just call the variable name states!\n",
    "states_url = \"https://raw.githubusercontent.com/cxrlsc/data/master/global-fa21/State%20Data.csv\"\n",
    "states = Table.read_table(states_url)\n",
    "\n",
    "# Again, we can reference this city table later using just the variable cities.\n",
    "cities_url = \"https://raw.githubusercontent.com/cxrlsc/data/master/global-fa21/Table%203B.1_3.csv\"\n",
    "cities = Table.read_table(cities_url)"
   ]
  },
  {
   "cell_type": "markdown",
   "id": "6e16d164-d5fb-4c77-b576-8501ab297ec7",
   "metadata": {},
   "source": [
    "<a id=\"operations\"></a>"
   ]
  },
  {
   "cell_type": "markdown",
   "id": "89024803-0371-4612-90cd-de637b4c7caa",
   "metadata": {},
   "source": [
    "### 3.2 Table Operations  \n",
    "\n",
    "For the rest of this section, we will look at some of the functions available to us from the `datascience` library. Throughout, we will be presenting the name of a table function and what operation that function executes. Then, we'll ask you to perform the operation. You can use [this reference for more in depth explanations of each method if you want.](http://data8.org/sp22/python-reference.html)  \n",
    "\n",
    "**Note:** The terms \"method\" and \"function\" are technical *not* the same thing. However, for the purposes of this course, we will use both terms to refer to the same thing."
   ]
  },
  {
   "cell_type": "markdown",
   "id": "5516efb6-49a5-496f-ae7a-d53b036305a0",
   "metadata": {},
   "source": [
    "### `show`  \n",
    "\n",
    "The method `show` displays the first $N$ rows in a dataset. You can specify what the value of $N$ is by passing that argument onto the `show` method, as shown below. It is always good practice to display a few amount of rows to make sure your dataset was loaded correctly. "
   ]
  },
  {
   "cell_type": "code",
   "execution_count": null,
   "id": "e357a980-b4bf-4bfe-9ff8-e08cf284e717",
   "metadata": {},
   "outputs": [],
   "source": [
    "states.show(3)"
   ]
  },
  {
   "cell_type": "markdown",
   "id": "46ee9326-fff2-42c9-a8f9-5572a9e48b7e",
   "metadata": {},
   "source": [
    "<div class=\"alert alert-info\"> \n",
    "    <b> Question 3.1:</b> Using the <code>show</code> method, display the <b>first five rows</b> of our Indian cities dataset. \n",
    "</div>\n",
    "\n",
    "*Hint:* Use the `cities` variable we defined two cells above. "
   ]
  },
  {
   "cell_type": "code",
   "execution_count": null,
   "id": "468b4133-2275-45d0-9110-e3714b9b4c3a",
   "metadata": {},
   "outputs": [],
   "source": [
    "..."
   ]
  },
  {
   "cell_type": "markdown",
   "id": "ca63fd88-5c4b-44fa-815c-5c2f677a322c",
   "metadata": {},
   "source": [
    "### `num_columns` & `num_rows` \n",
    "\n",
    "Before we introduce more table operations, it is important to differentiate between the terms *row* and *column*. A table is always composed of a certain amount of rows and columns. These values don't necessarily need to be the same.  \n",
    "\n",
    "Rows denote the horizontal components of a table, and usually represent the individual units in our data. On the other hand, columns denote the vertical components. Where rows represent the invidual units in our data, columns usually represent the features or characteristics of that unit. This will become more clear in the next few cells. \n",
    "\n",
    "The table property `num_rows` outputs the total number of rows in a dataset. A property is different than a method/function in that it doesn't need to be called. Don't worry if these nuances are not fully clear. All you need to know is that a property does not require parantheses to produce an output. "
   ]
  },
  {
   "cell_type": "code",
   "execution_count": null,
   "id": "82465a48-d5f0-4775-b6b0-78c15b72d1cf",
   "metadata": {},
   "outputs": [],
   "source": [
    "num_states_rows = states.num_rows\n",
    "num_states_rows"
   ]
  },
  {
   "cell_type": "markdown",
   "id": "ec92aa5b-74a8-43fb-911d-fd291feaf756",
   "metadata": {},
   "source": [
    "This shows us that we have a total of 36 rows in our states dataset. What this truly means is that each row represents a state, and thus the the total number of states in our dataset is 36. Let's verify this by displaying our dataset once again."
   ]
  },
  {
   "cell_type": "code",
   "execution_count": null,
   "id": "ae0fa9c6-715d-4918-acc5-a91094ce22a5",
   "metadata": {},
   "outputs": [],
   "source": [
    "states.show(1)"
   ]
  },
  {
   "cell_type": "markdown",
   "id": "13ae1b29-cca5-436b-bbd8-a9b6f391420f",
   "metadata": {},
   "source": [
    "Now, let's see how many features we have for each state. We can do this by checking the number of rows, using the `num_columns` property. "
   ]
  },
  {
   "cell_type": "code",
   "execution_count": null,
   "id": "0c76fcc7-ddfc-46e9-b869-7dedbf7814ef",
   "metadata": {},
   "outputs": [],
   "source": [
    "num_states_features = states.num_columns\n",
    "num_states_features"
   ]
  },
  {
   "cell_type": "markdown",
   "id": "797ded52-c2b3-4e99-83fd-4568ac4740be",
   "metadata": {},
   "source": [
    "This tells us that our dataset contains 10 features for each of our 36 states. "
   ]
  },
  {
   "cell_type": "markdown",
   "id": "665dbdff-80e7-48b7-8061-78926d347e11",
   "metadata": {},
   "source": [
    "<div class=\"alert alert-info\"> \n",
    "    <b> Question 3.2:</b> Using the <code>num_rows</code> property, find and assign <code>num_cities</code> to the <b>total number of cities</b> in our Indian cities dataset.\n",
    "</div>"
   ]
  },
  {
   "cell_type": "code",
   "execution_count": null,
   "id": "dda5eb42-7662-4af0-a4f8-eac2725f15f4",
   "metadata": {
    "tags": []
   },
   "outputs": [],
   "source": [
    "num_cities = ...\n",
    "num_cities"
   ]
  },
  {
   "cell_type": "markdown",
   "id": "ddce88f6-3704-40d5-a83c-5710ea05a061",
   "metadata": {},
   "source": [
    "<div class=\"alert alert-info\"> \n",
    "    <b> Question 3.3:</b> Using the <code>num_columns</code> property, find and assign <code>num_city_features</code> to the <b>total number of features for each city</b> in our Indian cities dataset.\n",
    "</div>"
   ]
  },
  {
   "cell_type": "code",
   "execution_count": null,
   "id": "198d47f0-9dcf-4fb6-8edb-4de55b5fe741",
   "metadata": {},
   "outputs": [],
   "source": [
    "num_city_features = ...\n",
    "num_city_features"
   ]
  },
  {
   "cell_type": "markdown",
   "id": "89c9cfb3-9f1e-40e0-947c-596771fceb88",
   "metadata": {},
   "source": [
    "### `labels` & `select`  \n",
    "\n",
    "Now that we have found what the number of rows and columns is for each of our datasets, it would be interesting to find what the name of those features were. We can do so with the table property `labels` as shown below: "
   ]
  },
  {
   "cell_type": "code",
   "execution_count": null,
   "id": "8eaac72a-4cf9-47e8-ab53-ab9ef2f11e11",
   "metadata": {},
   "outputs": [],
   "source": [
    "states.labels"
   ]
  },
  {
   "cell_type": "markdown",
   "id": "e21576a9-4166-462b-96a4-2d51f4d659b9",
   "metadata": {},
   "source": [
    "Here, we can our `states` dataset, we have information about the number of crimes against women in each state during 2017, 2018, and 2019, alongside other information. Now, say we were interest **only** on these features. Using the `select` table method, we can specify which columns (features) are the only ones we'd like to see. Notice how we wrap the column names with quotation marks `\"..\"` and separate the name of each column with a comma. Notice how capitalization is also the same in the output of `states.labels` above and the name of that column in the `select` method. These are all small, but crucial components that need to be addressed early on or else the code will error. "
   ]
  },
  {
   "cell_type": "code",
   "execution_count": null,
   "id": "b633a04d-89cf-4ea1-9698-8aa5a660051e",
   "metadata": {},
   "outputs": [],
   "source": [
    "states_crime_2017_to_2019 = states.select(\"2017 Crimes\", \"2018 Crimes\", \"2019 Crimes\")\n",
    "states_crime_2017_to_2019.show(3)"
   ]
  },
  {
   "cell_type": "markdown",
   "id": "83a88bf6-a1be-40da-aad5-eace3812b877",
   "metadata": {},
   "source": [
    "Now we have a table that contains only the columns we were interested on. However, notice how we do not have the state name data anymore. No worries, the `select` method can select as many columns as you need. \n",
    "\n",
    "<div class=\"alert alert-info\"> \n",
    "    <b> Question 3.4:</b> Using the <code>select</code> method, find and assign <code>states_crimes_2017_to_2019</code> to a table containing the state name, and that state's respective number of crimes against women during 2017, 2018, 2019.  \n",
    "</div>\n",
    "\n",
    "*Hint:* What column name would you add in the `select` method example shown above?\n",
    "\n",
    "***Note:*** Make sure that your column names have the correct capitalization. Adding an extra space when there isn't one may also result in errors. "
   ]
  },
  {
   "cell_type": "code",
   "execution_count": null,
   "id": "ab568182-41e3-4e77-990e-cba9f911b1a1",
   "metadata": {},
   "outputs": [],
   "source": [
    "states_crime_2017_to_2019 = states.select(\"...\", \"...\", \"...\", \"...\")\n",
    "states_crime_2017_to_2019.show(3)"
   ]
  },
  {
   "cell_type": "markdown",
   "id": "f090170f-2fa1-4064-8463-a167671ab68a",
   "metadata": {},
   "source": [
    "### `sort`  \n",
    "\n",
    "Now, suppose we were interested in the states with the highest rates of crime against women. We can do this with the `sort` method! We can sort by whatever column we'd like. One important measure when we have data that deals with time is to observe any changes in our data throughout time. We could do this with either our `cities` or `states` dataset using the columns that contain information on crimes against women in 2017, 2018, and 2019. First, let's see which states had the highest amount of crimes against women in 2017. "
   ]
  },
  {
   "cell_type": "code",
   "execution_count": null,
   "id": "264bdc83-0652-4737-bf98-324230a4732f",
   "metadata": {},
   "outputs": [],
   "source": [
    "states.sort(\"2017 Crimes\").show(5)"
   ]
  },
  {
   "cell_type": "markdown",
   "id": "0a01d3bc-02c0-489c-a3a3-6a3404350704",
   "metadata": {},
   "source": [
    "This doesn't look correct, however. This is because the `sort` method sorts values from smallest to greatest by default. No worries, we just have to add an extra argument to switch this:"
   ]
  },
  {
   "cell_type": "code",
   "execution_count": null,
   "id": "ad91dbc9-d7c8-4fca-83b5-ff14ec2eacc5",
   "metadata": {},
   "outputs": [],
   "source": [
    "states.sort(\"2017 Crimes\", descending=True).show(5)"
   ]
  },
  {
   "cell_type": "markdown",
   "id": "2295bcd1-a04b-4a1a-a2a7-36284e30c8a6",
   "metadata": {},
   "source": [
    "<div class=\"alert alert-info\"> \n",
    "    <b> Question 3.5:</b> Using the <code>sort</code> method, generate a table sorted by the number of crimes against women in 2018 from greatest to smallest.\n",
    "</div>"
   ]
  },
  {
   "cell_type": "code",
   "execution_count": null,
   "id": "cc6f92b9-d74b-462f-888b-839093565ffc",
   "metadata": {},
   "outputs": [],
   "source": [
    "states.sort(\"2019 Crimes\", descending=True).show(5)"
   ]
  },
  {
   "cell_type": "markdown",
   "id": "9124489c-13a2-47d5-b86b-64ff45a78529",
   "metadata": {},
   "source": [
    "<div class=\"alert alert-info\"> \n",
    "    <b> Question 3.6:</b> Compare and contrast between the five states with the highest amount of crimes against women in 2017 and 2019. Is it the same set of states for each? If not, what states are present in one and missing in the other? Write your answer below. \n",
    "</div>"
   ]
  },
  {
   "cell_type": "markdown",
   "id": "0b1ce9c8-242a-4d95-a62b-ebf446f38929",
   "metadata": {},
   "source": [
    "*Replace this text with your answer*"
   ]
  },
  {
   "cell_type": "markdown",
   "id": "11fdbe2c-84ff-442a-a326-766dcea4002d",
   "metadata": {
    "tags": [
     "include"
    ]
   },
   "source": [
    "### Conclusion"
   ]
  },
  {
   "cell_type": "markdown",
   "id": "5d49f9aa-eace-4607-9669-2c81ec6f0200",
   "metadata": {
    "tags": [
     "include"
    ]
   },
   "source": [
    "Congratulations! You've reached the end of the assignment. Although we only touched upon some basics of data science, next week we will expand on these ideas and build up from there. Next week we will look at more complicated table operations that will allow us to develop more nuanced insights about our data. "
   ]
  },
  {
   "cell_type": "markdown",
   "id": "b24b36cc-fc8b-4144-8d65-7fdd170062bf",
   "metadata": {},
   "source": [
    "### Submitting Your Work "
   ]
  },
  {
   "cell_type": "code",
   "execution_count": null,
   "id": "a6e5e169-8157-4a35-a436-9e75782eac7f",
   "metadata": {},
   "outputs": [],
   "source": [
    "# This may take a few seconds \n",
    "from IPython.display import display, HTML\n",
    "!pip install -U notebook-as-pdf -q\n",
    "!jupyter-nbconvert --to PDFviaHTML notebook1.ipynb\n",
    "display(HTML(\"Save this notebook, then click <a href='notebook1.pdf' download>here</a> to open the pdf.\"))"
   ]
  },
  {
   "cell_type": "markdown",
   "id": "4dacd727-35df-4422-9b07-59ef127c9a01",
   "metadata": {},
   "source": [
    "<a id=\"resources\"></a>"
   ]
  },
  {
   "cell_type": "markdown",
   "id": "a418f54f-ff70-4951-8023-99ada87e26ca",
   "metadata": {
    "tags": [
     "include"
    ]
   },
   "source": [
    "## 4. Data Science Resources at UC Berkeley "
   ]
  },
  {
   "cell_type": "markdown",
   "id": "7d1c5f0b-63cb-45f1-94fb-1ea3dc10e9ea",
   "metadata": {
    "tags": [
     "include"
    ]
   },
   "source": [
    "If any assistance is required for this notebook, you can open up a thread on Piazza or email any of the staff. We also have our peer advisors available to help! Their drop-in hours are [here](https://data.berkeley.edu/ds-peer-consulting). You can also [email them](ds-peer-consulting@berkeley.edu) to book an appointment if there are any time conflicts.\n",
    "\n",
    "If you are interested in data science as a whole, a great course to start with is [Data 8](http://data8.org/sp22/), which is designed for students with no programming or stats experience. For the full list of courses and degree programs, [click here](https://data.berkeley.edu/academics/data-science-undergraduate-studies/data-science-academic-enrichment)."
   ]
  },
  {
   "cell_type": "markdown",
   "id": "76898a52-203e-4799-ae03-4f124be68224",
   "metadata": {
    "tags": [
     "include"
    ]
   },
   "source": [
    "#### Feedback:\n",
    "\n",
    "Please let us know of your thoughts on this notebook! [Fill out the following survey here.](https://docs.google.com/forms/d/e/1FAIpQLScjlDMT_ddo-yZCTZsm2ZVlK6rrfv5D5KM1fD-B2wp2CS4xgw/viewform) "
   ]
  }
 ],
 "metadata": {
  "celltoolbar": "Raw Cell Format",
  "kernelspec": {
   "display_name": "Python 3",
   "language": "python",
   "name": "python3"
  },
  "language_info": {
   "codemirror_mode": {
    "name": "ipython",
    "version": 3
   },
   "file_extension": ".py",
   "mimetype": "text/x-python",
   "name": "python",
   "nbconvert_exporter": "python",
   "pygments_lexer": "ipython3",
   "version": "3.8.8"
  },
  "toc-autonumbering": false,
  "toc-showcode": true,
  "toc-showmarkdowntxt": false,
  "toc-showtags": false
 },
 "nbformat": 4,
 "nbformat_minor": 5
}
