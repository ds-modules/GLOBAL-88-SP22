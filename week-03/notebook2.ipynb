{
 "cells": [
  {
   "cell_type": "markdown",
   "id": "fbc19b69-966e-49ca-a025-ec3163404607",
   "metadata": {
    "tags": [
     "include"
    ]
   },
   "source": [
    "# [Global 88] Gender Violence in India"
   ]
  },
  {
   "cell_type": "markdown",
   "id": "d29ca8fe-c5ed-463b-87d9-4ceafbb2f37b",
   "metadata": {
    "tags": [
     "include"
    ]
   },
   "source": [
    "#### Professor: Karenjot Bhangoo Randhawa"
   ]
  },
  {
   "cell_type": "markdown",
   "id": "861901c5-6b39-4c61-b6b3-3ccd57c75348",
   "metadata": {
    "tags": [
     "include"
    ]
   },
   "source": [
    "**Estimated Time:** 55 minutes  \n",
    "**Notebook Created By:** Carlos Calderon, Bella Chang, Emily Guo  \n",
    "**Code Maintenance:** Carlos Calderon"
   ]
  },
  {
   "cell_type": "markdown",
   "id": "55a9ba79-8e13-4213-836b-997b59d130f2",
   "metadata": {
    "tags": [
     "include"
    ]
   },
   "source": [
    "Welcome! Last week we got an introduction to Jupyter, Python, and table operations. Specifically, we reviewed the table methods: `show()`, `select()`, and `sort()`. We also looked at the table properties: `tbl.num_columns`, `tbl.num_rows`, and `tbl.labels`. This week we will go over what types of data exist in the world, and what visualizations we can conduct with each data type. For this, we will be using the `matplotlib` library. \n",
    "\n",
    "**Learning Outcomes**  \n",
    "\n",
    "By the end of this notebook, students will be able to: \n",
    "1. Understand the four basic data types. \n",
    "2. Learn which visualization fits what data type. \n",
    "3. Learn how to generate simple visualizations with the `matplotlib` library. "
   ]
  },
  {
   "cell_type": "markdown",
   "id": "753d5962-b8d9-44c3-8566-db64af182234",
   "metadata": {
    "tags": [
     "include"
    ]
   },
   "source": [
    "# Table of Contents\n",
    "\n",
    "1. [Data Types](#data)  \n",
    "    1.1 [Background to Data & Data Importing](#background)  \n",
    "    1.2 [Categorical Data](#cat)  \n",
    "    1.3 [Numerical Data](#quant)\n",
    "2. [Data Visualizations](#viz)  \n",
    "    2.1 [Histograms](#hist)  \n",
    "    2.2 [Scatter Plots](#scatter)  \n",
    "    2.3 [Line Plots](#line)\n",
    "3. [Data Science Resources](#resources)"
   ]
  },
  {
   "cell_type": "markdown",
   "id": "43cb4ef0",
   "metadata": {
    "tags": [
     "include"
    ]
   },
   "source": [
    "# Importing Packages\n",
    "<div class=\"alert alert-block alert-warning\">\n",
    " <b>Make sure to first run this cell FIRST.  Not doing so may result in pesky errors in the code.</b>  \n",
    "</div>"
   ]
  },
  {
   "cell_type": "code",
   "execution_count": null,
   "id": "eb84914c",
   "metadata": {
    "tags": [
     "include"
    ]
   },
   "outputs": [],
   "source": [
    "from datascience import *\n",
    "import numpy as np\n",
    "\n",
    "import ipywidgets as widgets\n",
    "from ipywidgets import interact, interactive, fixed, interact_manual\n",
    "\n",
    "import matplotlib.pyplot as plt\n",
    "plt.style.use('fivethirtyeight')\n",
    "%matplotlib inline"
   ]
  },
  {
   "cell_type": "markdown",
   "id": "90d7c7fd",
   "metadata": {
    "tags": [
     "include"
    ]
   },
   "source": [
    "----"
   ]
  },
  {
   "cell_type": "markdown",
   "id": "3bc42e30-52da-45fa-8cbb-0fc805383011",
   "metadata": {},
   "source": [
    "<a id=\"data\"></a>"
   ]
  },
  {
   "cell_type": "markdown",
   "id": "c2b59b56-daea-499a-ba80-70776e3cc9b3",
   "metadata": {
    "tags": [
     "include"
    ]
   },
   "source": [
    "# 1. Data Types"
   ]
  },
  {
   "cell_type": "markdown",
   "id": "2efcd6b7-0a7f-438f-8c91-e369d01cf1a1",
   "metadata": {},
   "source": [
    "<a id=\"background\"></a>"
   ]
  },
  {
   "cell_type": "markdown",
   "id": "69558b6e",
   "metadata": {
    "tags": [
     "include"
    ]
   },
   "source": [
    "## 1.1 Background to Data & Data Importing  \n",
    "Our data comes from the [National Crime Records Bureau of India](https://ncrb.gov.in/en) which was set up in 1986 to \"function as a repository of information on crime and criminals so as to assist the investigators in linking crime to the perpetrators.\" For the purpose of this analysis, we deal with two datasets: [one pertaining to crime in cities in India](https://ncrb.gov.in/sites/default/files/crime_in_india_table_additional_table_chapter_reports/Table%203B.1_3.pdf) and [another pertaining to crime across Indian states/union territories](https://ncrb.gov.in/sites/default/files/crime_in_india_table_additional_table_chapter_reports/Table%203A.1_0.pdf).  \n",
    "\n",
    "Both of these datasets look at crimes in India between the years of 2017-2019 as well as at specific factors (population, total crime against women) that will be useful in trying to make inferences about gender-based violence in certain areas in India.  \n",
    "\n",
    "\n",
    "*Note: In the Indian numbering system, a ***lakh*** is equal to 100,000. Moreover, politically, a *union territory* is a small administrative unit like a state, but while states are self-governed, union territories are directly ruled over by the central or union government. [Feel to read more here](https://www.indiatoday.in/education-today/gk-current-affairs/story/what-is-the-difference-between-a-state-and-an-union-territory-1577445-2019-08-05!)*\n",
    "\n",
    "Here is our **state & union territory based dataset**. "
   ]
  },
  {
   "cell_type": "code",
   "execution_count": null,
   "id": "0f366c58-965b-4bc7-ac62-ed49e9ebdaaf",
   "metadata": {
    "tags": [
     "include"
    ]
   },
   "outputs": [],
   "source": [
    "# When we reference this table later, notice that we can just call the variable states!\n",
    "url = \"https://raw.githubusercontent.com/cxrlsc/data/master/global-fa21/State%20Data.csv\"\n",
    "states = Table.read_table(url)\n",
    "states.show(10)"
   ]
  },
  {
   "cell_type": "markdown",
   "id": "f9b81ac7-e97a-46c5-a269-0c7b322b9463",
   "metadata": {},
   "source": [
    "To understand our dataset more carefully, we need to understand what each column (or variable) is trying to describe:\n",
    "\n",
    "| Column (Variable) Name                                 | Description                                                              |\n",
    "|--------------------------------------------------------|--------------------------------------------------------------------------|\n",
    "| State/UT                                               | Name of state/union territory                                            |\n",
    "| 2017 Crimes                                            | Number of crimes (per lakh) against women in 2017                        |\n",
    "| 2018 Crimes                                            | Number of crimes (per lakh) against women in 2018                        |\n",
    "| 2019 Crimes                                            | Number of crimes (per lakh) against women in 2019                        |\n",
    "| Percentage State Share to Total (2019)                 | Percentage of crimes (out of 100) accounted for by this state/UT in 2019 |\n",
    "| Mid-Year Projected Female Population (in lakhs) (2019) | Projected population for this state/UT in June 2019                      |\n",
    "| Rate of Total Crime Against Women (2019)               | Average number of crimes for every 100,000 women in this state/UT        |\n",
    "| 2018-2019 GDP Per Capita ($)                           | GDP per capita for this state/UT, measured in USD                        |\n",
    "| 2018-2019 Unemployment Rate (%)                        | Unemployment rate in this state/UT in 2018-2019                          |\n",
    "| 2021 Literacy Rate (%)                                 | Literacy rate in this state/UT in 2021                                   |"
   ]
  },
  {
   "cell_type": "markdown",
   "id": "3d9f5a1b",
   "metadata": {
    "tags": [
     "include"
    ]
   },
   "source": [
    "Here is our **city based dataset**."
   ]
  },
  {
   "cell_type": "code",
   "execution_count": null,
   "id": "b688eb9f-d779-4ee3-8ec1-c8fa494f59ca",
   "metadata": {
    "tags": [
     "include"
    ]
   },
   "outputs": [],
   "source": [
    "# Again, we can reference this city table later using just the variable cities.\n",
    "url = \"https://raw.githubusercontent.com/cxrlsc/data/master/global-fa21/Table%203B.1_3.csv\"\n",
    "cities = Table.read_table(url)\n",
    "cities.relabel(['2017', '2018', '2019','Rate of Total Crime Against Women\\n(2019)+'],\n",
    "               ['2017 Crimes', '2018 Crimes', '2019 Crimes', 'Rate of Total Crime Against Women (2019)'])\n",
    "city_arr = ['Ahmedabad', 'Bengaluru', 'Chennai', 'Coimbatore', 'Delhi', 'Ghaziabad', 'Hyderabad',\n",
    "            'Indore', 'Jaipur', 'Kanpur', 'Kochi', 'Kolkata', 'Kozhikode', 'Lucknow', 'Mumbai',\n",
    "            'Nagpur', 'Patna', 'Pune', 'Surat']\n",
    "cities['City'] = city_arr\n",
    "cities.show(3)"
   ]
  },
  {
   "cell_type": "markdown",
   "id": "55a859e5-0adc-412f-85f7-04254c65db35",
   "metadata": {},
   "source": [
    "And here is a description of each column in the city dataset:  \n",
    "\n",
    "| Column (Variable) Name                    | Description                                                          |\n",
    "|-------------------------------------------|----------------------------------------------------------------------|\n",
    "| City                                      | Name of city                                                         |\n",
    "| 2017 Crimes                               | Number of crimes (per lakh) against women in 2017                    |\n",
    "| 2018 Crimes                               | Number of crimes (per lakh) against women in 2018                    |\n",
    "| 2019 Crimes                               | Number of crimes (per lakh) against women in 2019                    |\n",
    "| Percentage State Share to Total (2019)    | Percentage of crimes (out of 100) accounted for by this city in 2019 |\n",
    "| Actual Population (in Lakhs) (2011)       | Population for this city in 2011                                    |\n",
    "| Rate of Total Crime Against Women (2019)  | Average number of crimes for every 100,000 women in this city        |"
   ]
  },
  {
   "cell_type": "markdown",
   "id": "3fc99722-e2f5-4d64-bf34-d44f0b80e22e",
   "metadata": {},
   "source": [
    "<a id=\"cat\"></a>"
   ]
  },
  {
   "cell_type": "markdown",
   "id": "701024ae-0476-48c0-8861-767d76388dbb",
   "metadata": {},
   "source": [
    "## 1.2 Categorical (Qualitative) Data  \n",
    "Categorical data are data that are observed and described, and can be stored and identified based on its labels. These data are categorized based on some set of properties, attributes, or some sort of labeling system. There are two types of categorical data: (a) Nominal and (b) Ordinal. Categorical data can be visualized using **bar plots** and can be summarized with counts or percentages. \n",
    "\n",
    "### 1.2.1 Nominal Data  \n",
    "You can think of nominal data as naming data. These labels have no inherent ordering (ranking) system and are usually nouns. Some examples of nominal data are: \n",
    "- Gender \n",
    "- Name "
   ]
  },
  {
   "cell_type": "code",
   "execution_count": null,
   "id": "ac9ace88-1f3d-4380-a7a6-df299ac82df0",
   "metadata": {},
   "outputs": [],
   "source": [
    "cities.show(2)"
   ]
  },
  {
   "cell_type": "markdown",
   "id": "eefe8e29-88c0-4e41-a783-f4183c057286",
   "metadata": {
    "tags": [
     "include"
    ]
   },
   "source": [
    "<div class=\"alert alert-info\">\n",
    "    <b>Question 1.1</b> Looking at our <code>cities</code> dataset above, what are examples of nominal data?\n",
    "</div>"
   ]
  },
  {
   "cell_type": "markdown",
   "id": "11a129ce",
   "metadata": {
    "tags": [
     "include"
    ]
   },
   "source": [
    "*Replace this text with your response!*"
   ]
  },
  {
   "cell_type": "markdown",
   "id": "2b282065-3243-44e4-a92b-a9bb4cc2f474",
   "metadata": {},
   "source": [
    "### 1.2.2 Ordinal Data \n",
    "These data types are also labels, but differ from nominal data in that the labels possess an inherent ordering. Unlike nominal data, they are not always nouns and may even take the form of numbers. Some examples of ordinal data are: \n",
    "- Satisfaction (Likert) scale (Rate how satisfied you were from 1-5)\n",
    "- Star review rating systems"
   ]
  },
  {
   "cell_type": "markdown",
   "id": "3343fc8d-071f-4325-a783-e358de4b5281",
   "metadata": {},
   "source": [
    "<a id=\"quant\"></a>"
   ]
  },
  {
   "cell_type": "markdown",
   "id": "9761051b-357b-4b56-b610-964cd863c5bb",
   "metadata": {},
   "source": [
    "## 1.3 Numerical (Quantitative) Data  \n",
    "Numerical data is any data that is measured using numbers, as such, many mathematical operations can be used to derive insights from it. Quantities such as the average, the mode, and the standard deviation are all values that can be obtained only from numerical data. There are two types of numerical data (a) Discrete and (b) Continuous. Numerical data can be visualized through **histograms, box plots, line plots, scatter plots**."
   ]
  },
  {
   "cell_type": "markdown",
   "id": "ea590ed1-5533-4c40-bd65-2a1de09d8d2a",
   "metadata": {},
   "source": [
    "### 1.3.1 Discrete (Ratio) Data \n",
    "Discrete data is numerical data that represents countable items, as such, it is always represented by an integer (no decimal numbers). Some examples of discrete data are: \n",
    "- The number of students in a class \n",
    "- Outcome of rolling a dice "
   ]
  },
  {
   "cell_type": "code",
   "execution_count": null,
   "id": "ee7a1d10-de39-4780-8ce3-fa6ed7c876d0",
   "metadata": {},
   "outputs": [],
   "source": [
    "states.show(2)"
   ]
  },
  {
   "cell_type": "markdown",
   "id": "a62bdc06-81b1-47b7-8f38-f4a4cdf2d663",
   "metadata": {},
   "source": [
    "<div class=\"alert alert-info\">\n",
    "    <b>Question 1.2</b> Looking at our <code>states</code> dataset above, what are examples of discrete data?\n",
    "</div>\n",
    "\n",
    "**Hint**: Look for numerical data represented by whole numbers. "
   ]
  },
  {
   "cell_type": "markdown",
   "id": "4a0d2200-bad0-43a7-adc9-04bca85ff5da",
   "metadata": {},
   "source": [
    "*Replace this text with your answer!*"
   ]
  },
  {
   "cell_type": "markdown",
   "id": "23f5c959",
   "metadata": {
    "tags": [
     "include"
    ]
   },
   "source": [
    "### 1.3.2 Continuous (Interval) Data\n",
    "Continuous data are numerical data that convey some form of measurement that cannot be represented by an integer. As a result, continuous data is usually easy to identify because it contains decimal point values. Some examples of continous data are: \n",
    "- Miles per gallon\n",
    "- Weight \n",
    "- Height"
   ]
  },
  {
   "cell_type": "code",
   "execution_count": null,
   "id": "7387c55e-5965-4005-8750-e45434043b37",
   "metadata": {},
   "outputs": [],
   "source": [
    "cities.show(2)"
   ]
  },
  {
   "cell_type": "markdown",
   "id": "6eec195d-084e-452e-a6ad-fbd5369ea2c4",
   "metadata": {},
   "source": [
    "<div class=\"alert alert-info\">\n",
    "    <b>Question 1.3</b> Looking at our <code>cities</code> dataset above, what are examples of continuous data?\n",
    "</div>"
   ]
  },
  {
   "cell_type": "markdown",
   "id": "d24ea1e7",
   "metadata": {
    "tags": [
     "include"
    ]
   },
   "source": [
    "*Replace this text with your response!*"
   ]
  },
  {
   "cell_type": "markdown",
   "id": "a1678377-a8e5-469c-9444-f279e48e2552",
   "metadata": {},
   "source": [
    "<a id=\"feature\"></a>"
   ]
  },
  {
   "cell_type": "markdown",
   "id": "c97db78f",
   "metadata": {
    "tags": [
     "include"
    ]
   },
   "source": [
    "----"
   ]
  },
  {
   "cell_type": "markdown",
   "id": "27a8b734-9850-4cc4-ba4b-2939b92550e3",
   "metadata": {},
   "source": [
    "<a id=\"viz\"></a>"
   ]
  },
  {
   "cell_type": "markdown",
   "id": "b658c1d2",
   "metadata": {
    "tags": [
     "include"
    ]
   },
   "source": [
    "# 2. Data Visualizations"
   ]
  },
  {
   "cell_type": "markdown",
   "id": "17849f27-46e8-4f29-b501-60dc4f9d12ac",
   "metadata": {
    "tags": [
     "include"
    ]
   },
   "source": [
    "Now that we have gone over the 4 basic types of data we will encounter, we can start looking at how to visualize these data. Visualizations are a great visual aid that can guide us in discovering and displaying patterns in our data. Before you start, it is important to note that every data visualization you see and will produce in the future must have:\n",
    "- **Main Title:** Should be representative of what the graph is showing \n",
    "- **Labeled Axes:** Guide the reader in understanding what is being graphed. \n",
    "\n",
    "Although there are many more guidelines to follow when visualizing data, these two are particularly important for **all** graphs and should be considered rules of thumb."
   ]
  },
  {
   "cell_type": "markdown",
   "id": "0f9b8b41-9fa5-4a30-8a64-5f262e750b3d",
   "metadata": {},
   "source": [
    "<a id=\"hist\"></a>"
   ]
  },
  {
   "cell_type": "markdown",
   "id": "dc265430-bee2-4311-b1ea-3b3bd4d8bd5b",
   "metadata": {},
   "source": [
    "## 2.1 Histograms - One Numerical Variable  \n",
    "\n",
    "For a  numerical variable (discrete or continous), a **histogram**  is the most common visualization. A histogram is helpful in visualizing the distribution, or frequency, of values within some feature. "
   ]
  },
  {
   "cell_type": "code",
   "execution_count": null,
   "id": "56eb481a-c6ca-489f-a071-1c73ee5c30ef",
   "metadata": {},
   "outputs": [],
   "source": [
    "col = '2021 Literacy Rate (%)'\n",
    "plt.figure(figsize=(8, 6))\n",
    "plt.hist(col, data=states, bins=10)\n",
    "plt.title('Distribution of '+ col + ' accross Indian States/UTs')\n",
    "plt.xlabel(\"2021 Literacy Rate(%)\")\n",
    "plt.ylabel(\"Number of Occurrences\");"
   ]
  },
  {
   "cell_type": "markdown",
   "id": "e306eb63-63c9-4b6d-840c-b5fc93ff8dc3",
   "metadata": {},
   "source": [
    "Above, we have used our `states` dataset to visualize the distribution of 2021 literacy rates (measured as percentages) accross Indian States and Union Territories. How do we interpret this? Looking at our x-axis, we can see that it plots the 2021 literacy rates, whilst the y-axis, plots the frequency, or number of occurrences, for each literacy rate range.  \n",
    "\n",
    "An example of an insight we can derive from this is that the most commonly seen literacy rate ranges between 65 and 70. This means that most of the states within our dataset have a literacy rate between 65-70%. Similarly, we can see that there are no states with a literacy rate of 95% or higher. \n",
    "\n",
    "Run the cell below, which will plot a histogram using the `states` dataset. You can select which column you'd like to visualize by selecting from the dropdown menu. Make sure that the column you visualize is the correct data type for this visualization. "
   ]
  },
  {
   "cell_type": "code",
   "execution_count": null,
   "id": "96b5fe33-e642-4fb8-987d-fdb912dd5775",
   "metadata": {
    "tags": []
   },
   "outputs": [],
   "source": [
    "def plot_histogram_states(column):\n",
    "    plt.figure(figsize=(8, 6))\n",
    "    plt.hist(column, data=states)\n",
    "    plt.title('Distribution of '+ column + ' accross Indian States/UTs')\n",
    "    plt.xlabel(column)\n",
    "    plt.ylabel(\"Number of Occurrences\");\n",
    "\n",
    "col_names = list(states.labels)\n",
    "\n",
    "col_widget = widgets.Dropdown(options=col_names, \n",
    "                              value=col_names[1])\n",
    "\n",
    "interact(plot_histogram_states,  \n",
    "         column=col_widget);"
   ]
  },
  {
   "cell_type": "markdown",
   "id": "d2bc2f80-29d6-4475-96de-ce61988ef197",
   "metadata": {},
   "source": [
    "<div class=\"alert alert-info\">\n",
    "    <b>Question 2.1</b> What column did you select? What did you learn? What was the takeaway? How does this inform us about our dataset as whole? \n",
    "</div> "
   ]
  },
  {
   "cell_type": "markdown",
   "id": "ab5d12f1-67b9-46d0-9320-788d63805b9a",
   "metadata": {},
   "source": [
    "*I selected the column:* _______  \n",
    "\n",
    "*One takeaway I found is that:* _____"
   ]
  },
  {
   "cell_type": "markdown",
   "id": "d94f95f4-06d6-4adb-9f3e-2479b6ca102c",
   "metadata": {},
   "source": [
    "Now that you have gotten a taste of how histograms look and how to interpret them, we can start looking at the code needed to generate one. To make a histogram, we use the `plt.hist()` function. There are many arguments we can specify (color, outline, etc.), but for the purposes of today we will be looking at two main arguments. \n",
    "- **`x`**: The name of the column (variable) we want to visualize \n",
    "- **`data=`**: Assigned to the name of the dataset we want to pull information from  \n",
    "\n",
    "Now, remember that in the beginning of the section we stated that every visualization must have a title and labeled axes. This can be done with the following functions: \n",
    "- `plt.title('Table 1')`: Assigns the title \"Table 1\" to the visualization\n",
    "- `plt.xlabel('Label X')`: Assings \"Label X\" to the x-axis\n",
    "- `plt.ylabel('Label Y')`: Assigns \"Label Y\" to the y-axis  \n",
    "\n",
    "**Note:** Make sure to add the title and axes labeling code ***after*** your main plot code. \n",
    "\n",
    "So far, we have been generating histograms from the `states` dataset. Let's pivot now and use the `cities` dataset. \n",
    "\n",
    "<div class=\"alert alert-info\">\n",
    "    <b>Question 2.2</b> Use the <code>plt.hist()</code> function, and the <code>cities</code> dataset to visualize the distribution of crime rates against women in 2019 accross Indian cities. Then, assign <code>my_title</code>, and <code>x_axis_label</code> to labels that accurately represent the values visualized.\n",
    "</div> "
   ]
  },
  {
   "cell_type": "code",
   "execution_count": null,
   "id": "b36fa5d5-0082-4f9b-a391-a11959e6a5fa",
   "metadata": {},
   "outputs": [],
   "source": [
    "# Fill in the ... with your code!\n",
    "plt.figure(figsize=(8, 6))\n",
    "\n",
    "plt.hist(x=\"...\", data=...) # Remember, x is the column we want to visualize. Data is the name of the dataset we want to use\n",
    "\n",
    "my_title = \"...\" # This will be the main title of your graph\n",
    "x_axis_label = \"...\" # This will the label for your x-axis\n",
    "\n",
    "plt.title(my_title)\n",
    "plt.xlabel(x_axis_label)\n",
    "plt.ylabel(\"Number of occurrences\");"
   ]
  },
  {
   "cell_type": "markdown",
   "id": "930ed62e-41c8-4a13-ac7d-53c7340cb400",
   "metadata": {},
   "source": [
    "<div class=\"alert alert-block alert-success\">\n",
    "<b>Bonus Question 1:</b> Write down code below to create a histogram of the number crimes in 2019 accross Indian cities. What do you notice?\n",
    "</div>"
   ]
  },
  {
   "cell_type": "code",
   "execution_count": null,
   "id": "6cadd844-c230-493c-a0d3-2f1d719bc4f5",
   "metadata": {},
   "outputs": [],
   "source": [
    "plt.figure(figsize=(8,6))\n",
    "\n",
    "...\n",
    "...\n",
    "...\n",
    "..."
   ]
  },
  {
   "cell_type": "markdown",
   "id": "7f9d42ae-7bb7-43e2-a6bf-42bdeb869190",
   "metadata": {},
   "source": [
    "*Replace this text with your answer*"
   ]
  },
  {
   "cell_type": "markdown",
   "id": "510798f7-509f-498d-80c9-13b5081a0e54",
   "metadata": {},
   "source": [
    "<a id=\"scatter\"></a>"
   ]
  },
  {
   "cell_type": "markdown",
   "id": "00eba5df-2fae-4a27-8065-1830679da154",
   "metadata": {},
   "source": [
    "## 2.2 Scatter Plots - Numeric x Numeric \n",
    "The next type of graph we will look at is the **scatter plot**. This type of graph is useful when you are interested in analyzing the interactions and relationships between two numerical variables in our dataset. More importantly, scatter plots allow us to visualize the concept of **correlation**. \n",
    "\n",
    "When working as data scientists, [correlation](https://en.wikipedia.org/wiki/Correlation) is one of the most important concepts to grasp. It is used to describe the strength of an association between two variables. So while a scatter plot *shows* us the relationship between two variables, correlation *numerically describes* the strength and direction of that relationship. \n",
    "\n",
    "An important value to understand is the correlation coefficient **r**, which is always a number between -1 and 1. Correlation coefficient values closer to 0 tell us that two variables have no association. On the contrary, correlation coefficient values closer to -1 or 1 tell us that two variables are *highly correlated*, meaning they are both heavily associated with one another. Notice how this does not tell us whether two variables are related by cause an effect. This is because **correlation is not causation**.\n",
    "\n",
    "For the following section, you will see and create a series of scatter plots, and also view their correlation coefficient. [Using the following link as a guide, interpret the correlation coefficients and the scatterplot between two variables for the following questions.](https://www.scribbr.com/statistics/correlation-coefficient/)"
   ]
  },
  {
   "cell_type": "code",
   "execution_count": null,
   "id": "4860bfc0-8d67-49ea-9431-09e2b20a2198",
   "metadata": {},
   "outputs": [],
   "source": [
    "plt.figure(figsize=(8,6))\n",
    "\n",
    "x_column = \"2018-2019 GDP Per Capita ($)\"\n",
    "y_column = \"2021 Literacy Rate (%)\"\n",
    "\n",
    "plt.scatter(x=x_column, y=y_column, data=states)\n",
    "plt.title(\"2018-19 GDP ($) and 2021 Literacy Rate (%)\")\n",
    "plt.xlabel(x_column)\n",
    "plt.ylabel(y_column);\n",
    "\n",
    "print(\"Correlation coefficient =\", np.corrcoef(states[x_column], states[y_column])[0, 1])"
   ]
  },
  {
   "cell_type": "markdown",
   "id": "aa7f3251-06e0-4f9b-bd25-8185bbc350fc",
   "metadata": {},
   "source": [
    "Here we can see that each point represents a row in our dataset. The y-axis represents the 2021 literacy rates, and the x-axis the GDP values per capita. We also see a correlation coefficient of $\\approx 0.44$. How do we piece this together? Since our correlation coefficient is positive, literacy rate and GDP exhibit a positive relationship with one another. That is, states with higher GDP are associated with higher literacy rates. Do you see this being represented by the scatter plot?  \n",
    "\n",
    "Run the cell below, which plots the scatter plot between two variables of your choice. Use the dropdown menus to make your choices. Make sure that you choose columns that represent *numerical variables*. "
   ]
  },
  {
   "cell_type": "code",
   "execution_count": null,
   "id": "4b7137a5-797b-4189-b179-e10b99f35fbd",
   "metadata": {},
   "outputs": [],
   "source": [
    "def scatter_plot(x_column, y_column):\n",
    "    plt.figure(figsize=(8,6))\n",
    "    \n",
    "    plt.scatter(x=x_column, y=y_column, data=states)\n",
    "    plt.title(x_column +  \" and \" + y_column)\n",
    "    plt.xlabel(x_column)\n",
    "    plt.ylabel(y_column);\n",
    "\n",
    "    print(\"Correlation coefficient =\", np.corrcoef(states[x_column], states[y_column])[0, 1])\n",
    "\n",
    "\n",
    "col_names = list(states.labels)\n",
    "\n",
    "col_widget = widgets.Dropdown(options=col_names, \n",
    "                              value=col_names[1])\n",
    "other_col_widget = widgets.Dropdown(options=col_names, \n",
    "                                   value=col_names[2])\n",
    "\n",
    "interact(scatter_plot,  \n",
    "         x_column=col_widget, \n",
    "         y_column=other_col_widget);"
   ]
  },
  {
   "cell_type": "markdown",
   "id": "85993b72-2c28-49f8-a421-6f84937af759",
   "metadata": {},
   "source": [
    "<div class=\"alert alert-info\">\n",
    "    <b>Question 2.3</b> What variables did you select? What did you learn? What was the correlation coefficient value? What does this tell us about the relationship between these two variables?\n",
    "</div> "
   ]
  },
  {
   "cell_type": "markdown",
   "id": "d38f640b-408a-4338-910e-bd71bb680c38",
   "metadata": {},
   "source": [
    "*Variable 1:* ____ \n",
    "\n",
    "*Variable 2:* ____  \n",
    "\n",
    "*Correlation Coefficient =* ____  \n",
    "\n",
    "*What does this tell you about the relationship between the two variables?* _______"
   ]
  },
  {
   "cell_type": "markdown",
   "id": "ff9a6a38-0089-45b2-8ee2-546e8a90e83a",
   "metadata": {},
   "source": [
    "Now that you have gotten a taste of how scatter plots look and how to interpret them in conjunction with the correlation coefficient, we can start looking at the code needed to generate these. To make a scatter plot, we use the `plt.scatter()` function. There are many arguments we can specify (color, outline, etc.), but for the purposes of today we will be looking at three main arguments. \n",
    "- **`x`**: The name of the column (variable) we want to visualize in the x-axis\n",
    "- **`y`**: The name of the column (variable) we want to visualize in the y-axis\n",
    "- **`data=`**: Assigned to the name of the dataset we want to pull information from  \n",
    "\n",
    "<div class=\"alert alert-info\">\n",
    "    <b>Question 2.4</b> Use the <code>plt.scatter()</code> function, and the <code>states</code> dataset to visualize the relationship between 2018-19 GDP and the number of crimes against women in 2019. Then, assign <code>my_title</code>, <code>x_axis_label</code> and <code>y_axis_label</code> to labels that accurately represent the values visualized.\n",
    "</div> "
   ]
  },
  {
   "cell_type": "code",
   "execution_count": null,
   "id": "e2f87ff8-247e-4413-92ca-b12b9031a225",
   "metadata": {},
   "outputs": [],
   "source": [
    "# Fill in the ... with your code!\n",
    "plt.figure(figsize=(8, 6))\n",
    "\n",
    "plt.scatter(x=\"...\", y=\"...\" data=...) # Remember, x is the column we want to visualize. Data is the name of the dataset we want to use\n",
    "\n",
    "my_title = \"...\" # This will be the main title of your graph\n",
    "x_axis_label = \"...\" # This will the label for your x-axis\n",
    "y_axis_label = \"...\" # This will the label for your y-axis\n",
    "\n",
    "plt.title(my_title)\n",
    "plt.xlabel(x_axis_label)\n",
    "plt.ylabel(y_axis_label);\n",
    "\n",
    "print(\"Correlation coefficient =\", np.corrcoef(states[col_names[3]], states[col_names[7]])[0, 1])"
   ]
  },
  {
   "cell_type": "markdown",
   "id": "df5c1ea3-5d2a-4e18-b38b-57b45c16ebbe",
   "metadata": {},
   "source": [
    "<div class=\"alert alert-info\">\n",
    "    <b>Question 2.5</b> What is the correlation coefficient? What does this tell us about the relationship between GDP and number of crimes?\n",
    "</div> "
   ]
  },
  {
   "cell_type": "markdown",
   "id": "612d2773-49e1-4fae-a1a3-7fa2118261e3",
   "metadata": {},
   "source": [
    "*Replace this text with your answer!*"
   ]
  },
  {
   "cell_type": "markdown",
   "id": "7bc979b1-f0c5-460b-a315-ec0d423f641c",
   "metadata": {},
   "source": [
    "<div class=\"alert alert-block alert-success\">\n",
    "<b>Bonus Question 2:</b> Write down code below to create a scatter plot of the number crimes in 2019 and the literacy rate in 2021. How does the correlation coefficient compare to the one in the previous question? What does this tell us about literacy rate and GDP?\n",
    "</div>"
   ]
  },
  {
   "cell_type": "code",
   "execution_count": null,
   "id": "5812ffe9-fa78-450e-8ca0-4047bf68983c",
   "metadata": {},
   "outputs": [],
   "source": [
    "# Fill in your code below! \n",
    "\n",
    "plt.figure(figsize=(8, 6))\n",
    "\n",
    "x_axis_col = ...\n",
    "y_axis_col = ...\n",
    "\n",
    "...\n",
    "...\n",
    "...\n",
    "\n",
    "print(\"Correlation coefficient =\", np.corrcoef(states[x_axis_col], states[y_axis_col])[0, 1])"
   ]
  },
  {
   "cell_type": "markdown",
   "id": "4ed2211c-5c1e-4dc2-a762-eeac4b299259",
   "metadata": {},
   "source": [
    "*Replace this text with your answer.*"
   ]
  },
  {
   "cell_type": "markdown",
   "id": "ee2dcc1d-ea37-4d4d-9da9-0fe93848e324",
   "metadata": {},
   "source": [
    "<a id=\"line\"></a>"
   ]
  },
  {
   "cell_type": "markdown",
   "id": "67ca23e9-22c2-4322-857c-e9d9c6620ffe",
   "metadata": {},
   "source": [
    "## 2.3 Line Plots - Numeric x Numeric (Sequential)  \n",
    "When you have two numerical variables and one of them represents some measurement of time, then that variable is sequential. What happens then is that you can visualize the change in one variable throughout time. Whereas in scatter plots it did not matter which variable was assigned to each axis, line plots are constrained in that *the x-axis must represent the sequential variable*. "
   ]
  },
  {
   "cell_type": "code",
   "execution_count": null,
   "id": "28fe6fc2-fa55-4bf6-b7ec-63ca25874280",
   "metadata": {},
   "outputs": [],
   "source": [
    "def create_temp_city_table(city):\n",
    "    city_tbl = cities.where(\"City\", city)\n",
    "    temp_tbl = Table().with_columns(\"Year\", make_array(2017, 2018, 2019),\n",
    "                                    \"Total Crimes\", city_tbl.select(\"2017 Crimes\", \"2018 Crimes\", \"2019 Crimes\").values[0])\n",
    "    return temp_tbl"
   ]
  },
  {
   "cell_type": "code",
   "execution_count": null,
   "id": "4ecbf4ac-d62b-4709-b2e8-7a00726abdd0",
   "metadata": {},
   "outputs": [],
   "source": [
    "def city_line_plot(city):\n",
    "    plt.figure(figsize=(8,6))\n",
    "    temp_tbl = create_temp_city_table(city)\n",
    "    plt.plot(\"Year\", \"Total Crimes\", data=temp_tbl)\n",
    "    plt.xticks(make_array(2017, 2018, 2019))\n",
    "    plt.title(\"Number of Crimes from 2017 to 2019 in \" + city)\n",
    "    plt.xlabel(\"Year\")\n",
    "    plt.ylabel(\"Number of Crimes\");\n",
    "\n",
    "city_line_plot(\"Jaipur\")"
   ]
  },
  {
   "cell_type": "markdown",
   "id": "1301a520-ad9c-4ef3-89b0-7a9a2e681543",
   "metadata": {},
   "source": [
    "Here, we can see more concretely what we mean. Notice how the sequential variable, `Year`, is plotted on the x-axis, and our other numerical variable, `Number of Crimes` is plotted on the y-axis. Line plots are typically one of the easier visualizations to understand. Above, we see the number of crimes in the city of Jaipur from 2017 to 2019. The increasing line is indicative of the rise in crimes.  \n",
    "\n",
    "Run the cell below, which will allow you to select which city you want to visualize next. Select any city **but** Delhi. "
   ]
  },
  {
   "cell_type": "code",
   "execution_count": null,
   "id": "017c15fe-e2dc-4ee8-ba66-1ff9c7e2da13",
   "metadata": {},
   "outputs": [],
   "source": [
    "city_names = list(cities[\"City\"])\n",
    "\n",
    "city_widget = widgets.Dropdown(options=city_names, \n",
    "                               value=city_names[0])\n",
    "\n",
    "interact(city_line_plot,\n",
    "         city=city_widget);"
   ]
  },
  {
   "cell_type": "markdown",
   "id": "1255f77a-69a9-48d1-9075-d730fef2f335",
   "metadata": {},
   "source": [
    "<div class=\"alert alert-info\">\n",
    "    <b>Question 2.6</b> What city or cities did you select? Has crime increased or decreased? How does this compare to Jaipur?\n",
    "</div> "
   ]
  },
  {
   "cell_type": "markdown",
   "id": "00567648-afba-4e6c-b894-792964cebf69",
   "metadata": {},
   "source": [
    "*Replace this text with your answer*"
   ]
  },
  {
   "cell_type": "markdown",
   "id": "f6d39200-e4ed-4ab1-aba3-346aab310688",
   "metadata": {},
   "source": [
    "Now that you have gotten a taste of how line plots look and how to interpret them, we can start looking at the code needed to generate them. To make a scatter plot, we use the `plt.plot()` function. There are many arguments we can specify (color, outline, etc.), but for the purposes of today we will be looking at three main arguments. \n",
    "- **1st argument**: The name of the column (variable) we want to visualize in the x-axis. Must be sequential. \n",
    "- **2nd argument**: The name of the column (variable) we want to visualize in the y-axis\n",
    "- **`data=`**: Assigned to the name of the dataset we want to pull information from  \n",
    "\n",
    "<div class=\"alert alert-info\">\n",
    "    <b>Question 2.7</b> Use the <code>plt.plot()</code> function to visualize the change in number of crimes in <b> Delhi </b>. Then, assign <code>my_title</code>, <code>x_axis_label</code> and <code>y_axis_label</code> to labels that accurately represent the values visualized.\n",
    "</div> \n",
    "\n",
    "*Hint:* Look at previous code for guidance. "
   ]
  },
  {
   "cell_type": "code",
   "execution_count": null,
   "id": "3062d6ad-6f9f-42a1-bea8-800175844285",
   "metadata": {},
   "outputs": [],
   "source": [
    "plt.figure(figsize=(8,6))\n",
    "\n",
    "city_of_interest_name = \"...\" # Fill this out with the name of the city we are interested in \n",
    "\n",
    "temp_tbl = create_temp_city_table(city_of_interest_name)\n",
    "\n",
    "# What is the name of the x-axis?\n",
    "plt.plot(\"...\", \"Total Crimes\", data=temp_tbl)\n",
    "plt.xticks(make_array(2017, 2018, 2019))\n",
    "\n",
    "my_title = \"...\"\n",
    "x_axis_label = \"...\"\n",
    "y_axis_label = \"...\"\n",
    "\n",
    "\n",
    "plt.title(my_title)\n",
    "plt.xlabel(x_axis_label)\n",
    "plt.ylabel(y_axis_label);"
   ]
  },
  {
   "cell_type": "markdown",
   "id": "9a1ed8cf-7229-4792-a6e8-67ff6de33d67",
   "metadata": {},
   "source": [
    "<div class=\"alert alert-info\">\n",
    "    <b>Question 2.8</b> Look at the line plot for number of crimes from 2017-19 in Delhi pictured above. Has crime increased or decreased? How does this compare to Jaipur? How does this compare to the city you chose in Q2.6?  \n",
    "</div> "
   ]
  },
  {
   "cell_type": "markdown",
   "id": "c6fe68d5-dab5-4144-b815-412ae5cf41e3",
   "metadata": {},
   "source": [
    "*Replace this text with your answer.*"
   ]
  },
  {
   "cell_type": "markdown",
   "id": "80e6b008-91cd-425d-bef7-502161c1050d",
   "metadata": {},
   "source": [
    "<div class=\"alert alert-block alert-success\">\n",
    "<b>Bonus Question 3:</b> Write a function below that create a line plot of the number crimes in 2019 for a given state/union territory. Then, plot the change in number of crimes for <code>Delhi (UT)</code>. \n",
    "</div>"
   ]
  },
  {
   "cell_type": "markdown",
   "id": "ff2da576-1085-4c1e-8d01-94988d37d995",
   "metadata": {},
   "source": [
    "*Hint:* You may want to create a function that creates a temporary table. Look at the function `create_temp_city_tbl` defined in the beginning of the section. "
   ]
  },
  {
   "cell_type": "code",
   "execution_count": null,
   "id": "efb819e3-1d13-42df-a6a5-f89f4343ba62",
   "metadata": {},
   "outputs": [],
   "source": [
    "def state_line_plot(state):\n",
    "    ...\n",
    "    ...\n",
    "    ...\n",
    "    return"
   ]
  },
  {
   "cell_type": "markdown",
   "id": "5d49f9aa-eace-4607-9669-2c81ec6f0200",
   "metadata": {
    "tags": [
     "include"
    ]
   },
   "source": [
    "### Conclusion\n",
    "Congratulations! You've reached the end of the assignment. It may be the case for some of you that this is the first time being introduced to progamming and data science methods. We hope you gained some insight on how to analyze and interpret crime rate data, particularly how to think about these data under sociopolitical contexts. "
   ]
  },
  {
   "cell_type": "markdown",
   "id": "b24b36cc-fc8b-4144-8d65-7fdd170062bf",
   "metadata": {},
   "source": [
    "### Submitting Your Work "
   ]
  },
  {
   "cell_type": "code",
   "execution_count": null,
   "id": "a6e5e169-8157-4a35-a436-9e75782eac7f",
   "metadata": {},
   "outputs": [],
   "source": [
    "# This may take a few seconds \n",
    "from IPython.display import display, HTML\n",
    "!pip install -U notebook-as-pdf -q\n",
    "!jupyter-nbconvert --to PDFviaHTML notebook2.ipynb\n",
    "display(HTML(\"Save this notebook, then click <a href='notebook2.pdf' download>here</a> to open the pdf.\"))"
   ]
  },
  {
   "cell_type": "markdown",
   "id": "4dacd727-35df-4422-9b07-59ef127c9a01",
   "metadata": {},
   "source": [
    "<a id=\"resources\"></a>"
   ]
  },
  {
   "cell_type": "markdown",
   "id": "a418f54f-ff70-4951-8023-99ada87e26ca",
   "metadata": {
    "tags": [
     "include"
    ]
   },
   "source": [
    "## 3. Data Science Resources at UC Berkeley "
   ]
  },
  {
   "cell_type": "markdown",
   "id": "7d1c5f0b-63cb-45f1-94fb-1ea3dc10e9ea",
   "metadata": {
    "tags": [
     "include"
    ]
   },
   "source": [
    "If any assistance is required for this notebook, our peer advisors are here to help! Their drop-in hours are [here](https://data.berkeley.edu/ds-peer-consulting). You can also [email them](ds-peer-consulting@berkeley.edu) to book an appointment if there are any time conflicts.  \n",
    "\n",
    "If you are interested in data science as a whole, a great course to start with is [Data 8](http://data8.org/fa21/), which is designed for students with no programming or stats experience. For the full list of courses and degree programs, [click here](https://data.berkeley.edu/academics/data-science-undergraduate-studies/data-science-academic-enrichment)."
   ]
  },
  {
   "cell_type": "markdown",
   "id": "76898a52-203e-4799-ae03-4f124be68224",
   "metadata": {
    "tags": [
     "include"
    ]
   },
   "source": [
    "#### Feedback:\n",
    "\n",
    "Please let us know of your thoughts on this notebook! [Fill out the following survey here.](https://docs.google.com/forms/d/e/1FAIpQLSf0hCm--uKCO_8S01s48sp6BEeg24h6u1UOSqw-K_6UXwL8yQ/viewform) "
   ]
  }
 ],
 "metadata": {
  "celltoolbar": "Raw Cell Format",
  "kernelspec": {
   "display_name": "Python 3",
   "language": "python",
   "name": "python3"
  },
  "language_info": {
   "codemirror_mode": {
    "name": "ipython",
    "version": 3
   },
   "file_extension": ".py",
   "mimetype": "text/x-python",
   "name": "python",
   "nbconvert_exporter": "python",
   "pygments_lexer": "ipython3",
   "version": "3.8.8"
  },
  "toc-autonumbering": false,
  "toc-showcode": true,
  "toc-showmarkdowntxt": false,
  "toc-showtags": false
 },
 "nbformat": 4,
 "nbformat_minor": 5
}
