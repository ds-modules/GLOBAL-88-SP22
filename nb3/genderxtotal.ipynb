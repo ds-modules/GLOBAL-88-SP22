{
 "cells": [
  {
   "cell_type": "markdown",
   "id": "d251b8ee-583c-428f-a763-810f1eee66ac",
   "metadata": {},
   "source": [
    "# [Global 88] Gender Violence in Colombia  \n",
    "### Professor: Karenjot Bhangoo Randhawa  \n",
    "**Estimated Time:** 50 minutes  \n",
    "**Notebook Created By:** Vaidehi Bulusu, Emily Guo, Bella Chang, Carlos Calderon  \n",
    "**Code Maintenance:** Carlos Calderon \n",
    "\n",
    "Welcome! Last week we got an introduction to data types and the visualizations we can conduct with them. This week, we will expand more on table operations and visualization topics that we introduced in the first and second notebooks. This week, however, we will be dealing with a dataset regarding gender violence accross Colombia. This week we will take a look at a primary, sex-disaggregated dataset. Next week we will look at a secondary, non sex-disaggregated data.  \n",
    "\n",
    "**Learning Outcomes:**  \n",
    "BY the end of this notebook, students will be able to:  \n",
    "1. Understand what and when bar plots are used.  \n",
    "2. Understand the differences between sex-disaggregated and non sex-disaggregated data\n",
    "3. Understand the insights we can derive from a sex-disaggregated data  \n",
    "\n",
    "# Table of Contents  \n",
    "1. The Data \n",
    "2. Sex-Disaggregated Data"
   ]
  },
  {
   "cell_type": "markdown",
   "id": "f395b422-ce35-4235-9dbe-4038473e05ba",
   "metadata": {},
   "source": [
    "---"
   ]
  },
  {
   "cell_type": "markdown",
   "id": "1b84400c-4f85-473d-a4e9-99794e96da35",
   "metadata": {},
   "source": [
    "# Importing Packages   \n",
    "\n",
    "<div class=\"alert alert-block alert-warning\">\n",
    "<b>Make sure to run this cell FIRST! Not doing so may result in pesky errors in the code.</b>\n",
    "</div>"
   ]
  },
  {
   "cell_type": "code",
   "execution_count": 1,
   "id": "c004f511-14bb-4fcb-a664-5f568972dfd2",
   "metadata": {},
   "outputs": [],
   "source": [
    "from datascience import *\n",
    "import numpy as np\n",
    "\n",
    "import ipywidgets as widgets\n",
    "from ipywidgets import interact, interactive, fixed, interact_manual\n",
    "from collections import Counter\n",
    "\n",
    "import matplotlib.pyplot as plt\n",
    "plt.style.use('fivethirtyeight')\n",
    "%matplotlib inline\n",
    "\n",
    "import warnings\n",
    "warnings.filterwarnings('ignore')"
   ]
  },
  {
   "cell_type": "markdown",
   "id": "71e007d5-3a53-4f7a-be69-68dabc10cdfe",
   "metadata": {},
   "source": [
    "---"
   ]
  },
  {
   "cell_type": "markdown",
   "id": "7b67aa75-d045-4fd7-b800-b2762fceb64e",
   "metadata": {},
   "source": [
    "# 1. The Data  \n",
    "Our data comes from the [Colombia National Police](https://www.policia.gov.co/grupo-informacion-criminalidad/estadistica-delictiva) database, which contains yearly information on different crime categories accross Colombia. The dataset we will be working with describes statistics on intrafamilial violence from 2015 to 2021. Intrafamilial violence is [defined as any act punishable as a criminal offense that is committed or threatened to be committed by an offender who is related to the victim, or has a child with the victim.](https://www.ncsl.org/research/human-services/domestic-violence-domestic-abuse-definitions-and-relationships.aspx#:~:text=(9)%20%22Intrafamily%20violence%22,has%20a%20child%20in%20common.) Run the cell below to load the dataset onto the variable `family_violence`."
   ]
  },
  {
   "cell_type": "code",
   "execution_count": 2,
   "id": "de4e64b3-27de-4308-b13a-694397a0e34a",
   "metadata": {
    "scrolled": true
   },
   "outputs": [
    {
     "data": {
      "text/html": [
       "<table border=\"1\" class=\"dataframe\">\n",
       "    <thead>\n",
       "        <tr>\n",
       "            <th>State</th> <th>City</th> <th>Gender</th> <th>Weapon Used</th> <th>Affected Age Group</th> <th>Total</th> <th>Year</th>\n",
       "        </tr>\n",
       "    </thead>\n",
       "    <tbody>\n",
       "        <tr>\n",
       "            <td>Amazonas</td> <td>Leticia (Ct)</td> <td>Female</td> <td>Sharp weapon      </td> <td>Teenagers         </td> <td>1    </td> <td>2015</td>\n",
       "        </tr>\n",
       "        <tr>\n",
       "            <td>Amazonas</td> <td>Leticia (Ct)</td> <td>Female</td> <td>Sharp weapon      </td> <td>Adult             </td> <td>1    </td> <td>2015</td>\n",
       "        </tr>\n",
       "        <tr>\n",
       "            <td>Amazonas</td> <td>Leticia (Ct)</td> <td>Female</td> <td>Blunt force weapon</td> <td>Teenagers         </td> <td>6    </td> <td>2015</td>\n",
       "        </tr>\n",
       "        <tr>\n",
       "            <td>Amazonas</td> <td>Leticia (Ct)</td> <td>Female</td> <td>Blunt force weapon</td> <td>Adult             </td> <td>100  </td> <td>2015</td>\n",
       "        </tr>\n",
       "        <tr>\n",
       "            <td>Amazonas</td> <td>Leticia (Ct)</td> <td>Female</td> <td>Blunt force weapon</td> <td>Minors            </td> <td>3    </td> <td>2015</td>\n",
       "        </tr>\n",
       "    </tbody>\n",
       "</table>\n",
       "<p>... (39970 rows omitted)</p>"
      ],
      "text/plain": [
       "<IPython.core.display.HTML object>"
      ]
     },
     "metadata": {},
     "output_type": "display_data"
    }
   ],
   "source": [
    "family_violence = Table.read_table(\"../data/nb3/domestic_violence_colombia_police.csv\")\n",
    "family_violence.show(5)"
   ]
  },
  {
   "cell_type": "markdown",
   "id": "657775b0",
   "metadata": {},
   "source": [
    "# Boxplot: Gender x Total"
   ]
  },
  {
   "cell_type": "code",
   "execution_count": 3,
   "id": "4b768af6",
   "metadata": {},
   "outputs": [],
   "source": [
    "import seaborn as sns\n",
    "def subset_data(city, year):\n",
    "    yearly = family_violence.where(\"Year\", year)\n",
    "    city_data = yearly.where(\"City\", city)\n",
    "    return city_data"
   ]
  },
  {
   "cell_type": "code",
   "execution_count": 16,
   "id": "62f63c6f",
   "metadata": {},
   "outputs": [
    {
     "data": {
      "image/png": "[encoded data removed]",
      "text/plain": [
       "<Figure size 1080x360 with 1 Axes>"
      ]
     },
     "metadata": {
      "needs_background": "light"
     },
     "output_type": "display_data"
    }
   ],
   "source": [
    "city = \"Leticia (Ct)\"\n",
    "year = 2015\n",
    "new_data = subset_data(city, year)\n",
    "plt.figure(figsize = (15, 5))\n",
    "sns.boxplot(100*(new_data[\"Total\"]/sum(new_data[\"Total\"])), new_data[\"Gender\"])\n",
    "plt.xlabel(\"% of Total Number of Crimes\")\n",
    "plt.ylabel(\"Gender\")\n",
    "plt.title(f\"Distributions of % of Crimes for {city} in {year}\")\n",
    "plt.show()"
   ]
  },
  {
   "cell_type": "code",
   "execution_count": 10,
   "id": "36291d19-399d-4c7f-8b59-e133b70c401b",
   "metadata": {},
   "outputs": [
    {
     "data": {
      "text/html": [
       "<table border=\"1\" class=\"dataframe\">\n",
       "    <thead>\n",
       "        <tr>\n",
       "            <th>State</th> <th>City</th> <th>Gender</th> <th>Weapon Used</th> <th>Affected Age Group</th> <th>Total</th> <th>Year</th>\n",
       "        </tr>\n",
       "    </thead>\n",
       "    <tbody>\n",
       "        <tr>\n",
       "            <td>Amazonas</td> <td>Leticia (Ct)</td> <td>Female</td> <td>Sharp weapon      </td> <td>Teenagers         </td> <td>1    </td> <td>2015</td>\n",
       "        </tr>\n",
       "        <tr>\n",
       "            <td>Amazonas</td> <td>Leticia (Ct)</td> <td>Female</td> <td>Sharp weapon      </td> <td>Adult             </td> <td>1    </td> <td>2015</td>\n",
       "        </tr>\n",
       "        <tr>\n",
       "            <td>Amazonas</td> <td>Leticia (Ct)</td> <td>Female</td> <td>Blunt force weapon</td> <td>Teenagers         </td> <td>6    </td> <td>2015</td>\n",
       "        </tr>\n",
       "        <tr>\n",
       "            <td>Amazonas</td> <td>Leticia (Ct)</td> <td>Female</td> <td>Blunt force weapon</td> <td>Adult             </td> <td>100  </td> <td>2015</td>\n",
       "        </tr>\n",
       "        <tr>\n",
       "            <td>Amazonas</td> <td>Leticia (Ct)</td> <td>Female</td> <td>Blunt force weapon</td> <td>Minors            </td> <td>3    </td> <td>2015</td>\n",
       "        </tr>\n",
       "        <tr>\n",
       "            <td>Amazonas</td> <td>Leticia (Ct)</td> <td>Female</td> <td>Sharp weapon      </td> <td>Adult             </td> <td>1    </td> <td>2015</td>\n",
       "        </tr>\n",
       "        <tr>\n",
       "            <td>Amazonas</td> <td>Leticia (Ct)</td> <td>Female</td> <td>Sharp weapon      </td> <td>Adult             </td> <td>2    </td> <td>2015</td>\n",
       "        </tr>\n",
       "        <tr>\n",
       "            <td>Amazonas</td> <td>Leticia (Ct)</td> <td>Female</td> <td>Sharp weapon      </td> <td>Adult             </td> <td>1    </td> <td>2015</td>\n",
       "        </tr>\n",
       "        <tr>\n",
       "            <td>Amazonas</td> <td>Leticia (Ct)</td> <td>Female</td> <td>None              </td> <td>Adult             </td> <td>19   </td> <td>2015</td>\n",
       "        </tr>\n",
       "        <tr>\n",
       "            <td>Amazonas</td> <td>Leticia (Ct)</td> <td>Female</td> <td>None              </td> <td>Minors            </td> <td>2    </td> <td>2015</td>\n",
       "        </tr>\n",
       "    </tbody>\n",
       "</table>\n",
       "<p>... (6 rows omitted)</p>"
      ],
      "text/plain": [
       "State    | City         | Gender | Weapon Used        | Affected Age Group | Total | Year\n",
       "Amazonas | Leticia (Ct) | Female | Sharp weapon       | Teenagers          | 1     | 2015\n",
       "Amazonas | Leticia (Ct) | Female | Sharp weapon       | Adult              | 1     | 2015\n",
       "Amazonas | Leticia (Ct) | Female | Blunt force weapon | Teenagers          | 6     | 2015\n",
       "Amazonas | Leticia (Ct) | Female | Blunt force weapon | Adult              | 100   | 2015\n",
       "Amazonas | Leticia (Ct) | Female | Blunt force weapon | Minors             | 3     | 2015\n",
       "Amazonas | Leticia (Ct) | Female | Sharp weapon       | Adult              | 1     | 2015\n",
       "Amazonas | Leticia (Ct) | Female | Sharp weapon       | Adult              | 2     | 2015\n",
       "Amazonas | Leticia (Ct) | Female | Sharp weapon       | Adult              | 1     | 2015\n",
       "Amazonas | Leticia (Ct) | Female | None               | Adult              | 19    | 2015\n",
       "Amazonas | Leticia (Ct) | Female | None               | Minors             | 2     | 2015\n",
       "... (6 rows omitted)"
      ]
     },
     "execution_count": 10,
     "metadata": {},
     "output_type": "execute_result"
    }
   ],
   "source": [
    "new_data"
   ]
  },
  {
   "cell_type": "code",
   "execution_count": null,
   "id": "57add1a8-d18e-4e9a-ae4b-3f8dd756dbe5",
   "metadata": {},
   "outputs": [],
   "source": []
  }
 ],
 "metadata": {
  "kernelspec": {
   "display_name": "Python 3",
   "language": "python",
   "name": "python3"
  },
  "language_info": {
   "codemirror_mode": {
    "name": "ipython",
    "version": 3
   },
   "file_extension": ".py",
   "mimetype": "text/x-python",
   "name": "python",
   "nbconvert_exporter": "python",
   "pygments_lexer": "ipython3",
   "version": "3.8.8"
  }
 },
 "nbformat": 4,
 "nbformat_minor": 5
}
