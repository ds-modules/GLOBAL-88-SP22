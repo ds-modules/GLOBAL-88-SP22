{
 "cells": [
  {
   "cell_type": "markdown",
   "id": "a4d46aa3",
   "metadata": {},
   "source": [
    "# Table of Contents"
   ]
  },
  {
   "cell_type": "markdown",
   "id": "29941d7e",
   "metadata": {},
   "source": [
    "<a id=\"intro\"></a>"
   ]
  },
  {
   "cell_type": "markdown",
   "id": "88bf1b12",
   "metadata": {},
   "source": [
    "# 1. Introduction to Jupyter\n",
    "\n",
    "Welcome to the Jupyter Notebook, an interactive and web-based notebook that is used in data science to document and visualize data! As you can see, the Jupyter notebook supports regular text as well as programming code. Each *cell* or chunk of text can either take on the form of code or regular text.  \n",
    "\n",
    "The way that we determine the type of the cell is by clicking \"Cell,\" located at the top of your screen, and then clicking \"Cell Type.\" From there you will see an arrow that offers the options of changing the current cell you are working in to **Markdown** (which is just regular text) or **Code**.  \n",
    "\n",
    "One of the ways to create a cell is to click the **+** button in the menu bar found at the top of the notebook. By default, a code cell is generated. To change the cell type from **Code** to **Markdown (Text)**, select the cell and click the dropdown menu (the second rightmost button in the top menu) and change the cell type.\n",
    "\n",
    "Make sure to choose accordingly depending on your different tasks later down the road; cells can only support the type that they were assigned (for example, a **Markdown** type cell will not run code)."
   ]
  },
  {
   "cell_type": "markdown",
   "id": "32ba8df8",
   "metadata": {},
   "source": [
    "<a id=\"text\"></a>"
   ]
  },
  {
   "cell_type": "markdown",
   "id": "21eef089",
   "metadata": {},
   "source": [
    "### 1.1 Text Cells \n",
    "\n",
    "In a notebook, each rectangle is called a *cell*. \n",
    "\n",
    "Each cell can be composed of text or code. Text cells are written in a formatting language called [Markdown](https://www.markdownguide.org). This is how you will be answering a portion of the questions in future assignments. \n",
    "\n",
    "You can click the &#9658; button or hold down `shift` + `return` to confirm any changes. \n",
    "\n",
    "<div class=\"alert alert-info\">\n",
    "<b> Question 1.1: This paragraph is in its own cell. Create a new cell below this one, and write up a small intro about yourself. It can be any sort of introduction you'd like.</b>\n",
    "</div>"
   ]
  },
  {
   "cell_type": "markdown",
   "id": "0b1a39f9",
   "metadata": {},
   "source": [
    "<a id=\"code\"></a>"
   ]
  },
  {
   "cell_type": "markdown",
   "id": "e9920275",
   "metadata": {},
   "source": [
    "### 1.2 Code Cells  \n",
    "\n",
    "Other cells can contain code. For this class, all of the code will be written in the [Python 3.x](https://www.python.org) programming language. Running a code cell will execute the code that it contains.  \n",
    "\n",
    "To run a code cell, click the cell. You will notice that it becomes highlighted with either a blue/green rectangle. Then, press the &#9658;or hold `shift` + `return`. Basically, you can run any type of cell with either option. "
   ]
  },
  {
   "cell_type": "markdown",
   "id": "90937892",
   "metadata": {},
   "source": [
    "<div class=\"alert alert-info\"> \n",
    "       <b> Question 1.2: The cell below is a markdown cell. Change it to a code cell and run it to produce the code output. Do not worry about understanding the code for now. "
   ]
  },
  {
   "cell_type": "markdown",
   "id": "f726a5a5",
   "metadata": {},
   "source": [
    "print(\"Hello world\")"
   ]
  },
  {
   "cell_type": "markdown",
   "id": "72ecf15f",
   "metadata": {},
   "source": [
    "<a id=\"error\"> </a> "
   ]
  },
  {
   "cell_type": "markdown",
   "id": "04404e1a",
   "metadata": {},
   "source": [
    "### 1.3 Errors \n",
    "\n",
    "*Adapted from Lab 1: Expressions in [Data 8](http://data8.org/sp22/)*\n",
    "\n",
    "Python is a language, and like natural human languages, it has rules. It differs from natural language in two important ways:\n",
    "\n",
    "1. The rules are simple. You can learn most of them in a few weeks and gain reasonable proficiency with the language in a semester.\n",
    "2. The rules are *rigid*. If you're proficient in a natural language, you can understand a non-proficient speaker, glossing over small mistakes. A computer running Python code is not smart enough to do that.\n",
    "\n",
    "Whenever you write code, you'll make mistakes. When you run a code cell that has errors, Python will sometimes produce error messages to tell you what you did wrong.\n",
    "\n",
    "Errors are okay; even experienced programmers make many errors. When you make an error, you just have to find the source of the problem, fix it, and move on.\n",
    "\n",
    "We have made an error in the next cell. Run it and see what happens."
   ]
  },
  {
   "cell_type": "code",
   "execution_count": null,
   "id": "7993d44e",
   "metadata": {},
   "outputs": [],
   "source": [
    "print(\"This line is missing something.\""
   ]
  },
  {
   "cell_type": "markdown",
   "id": "53eda282",
   "metadata": {},
   "source": [
    "**Note:** In the toolbar, there is the option to click `Cell > Run All`, which will run all the code cells in this notebook in order. However, the notebook stops running code cells if it hits an error, like the one in the cell above.  \n",
    "\n",
    "\n",
    "You should see something like this (minus our annotations):\n",
    "\n",
    "![Error](error.jpg \"Title\")"
   ]
  },
  {
   "cell_type": "markdown",
   "id": "e4b9ae3e",
   "metadata": {},
   "source": [
    "The last line of the error output attempts to tell you what went wrong. The syntax of a language is its structure, and this `SyntaxError` tells you that you have created an illegal structure. \"`EOF`\" means \"end of file,\" so the message is saying Python expected you to write something more (in this case, a right parenthesis) before finishing the cell.\n",
    "\n",
    "There's a lot of terminology in programming languages, but you don't need to know it all in order to program effectively. If you see a cryptic message like this, you can often get by without deciphering it. (Of course, if you're frustrated, ask a neighbor or a staff member for help.)\n",
    "\n",
    "Try to fix the code above so that you can run the cell and see the intended message instead of an error."
   ]
  },
  {
   "cell_type": "markdown",
   "id": "a2bdb377",
   "metadata": {},
   "source": [
    "<a id=\"kernel\"></a>"
   ]
  },
  {
   "cell_type": "markdown",
   "id": "af08c1ba",
   "metadata": {},
   "source": [
    "### 1.4 The Kernel \n",
    "\n",
    "The kernel is a program that executes the code inside your notebook and outputs the results. In the top right of your window, you can see a circle that indicates the status of your kernel. If the circle is empty (⚪), the kernel is idle and ready to execute code. If the circle is filled in (⚫), the kernel is busy running some code.\n",
    "\n",
    "Next to every code cell, you'll see some text that says In [...]. Before you run the cell, you'll see In [ ]. When the cell is running, you'll see In [*]. If you see an asterisk (*) next to a cell that doesn't go away, it's likely that the code inside the cell is taking too long to run, and it might be a good time to interrupt the kernel (discussed below). When a cell is finished running, you'll see a number inside the brackets, like so: In [1]. The number corresponds to the order in which you run the cells; so, the first cell you run will show a 1 when it's finished running, the second will show a 2, and so on.\n",
    "\n",
    "You may run into problems where your kernel is stuck for an excessive amount of time, your notebook is very slow and unresponsive, or your kernel loses its connection. If this happens, try the following steps:\n",
    "\n",
    "1. At the top of your screen, click Kernel, then Interrupt.\n",
    "2. If that doesn't help, click Kernel, then Restart. If you do this, you will have to run your code cells from the start of your notebook up until where you paused your work.\n",
    "3. If that doesn't help, restart your server. First, save your work by clicking File at the top left of your screen, then Save and Checkpoint. Next, click Control Panel at the top right. Choose Stop My Server to shut it down, then Start My Server to start it back up. Then, navigate back to the notebook you were working on. You'll still have to run your code cells again."
   ]
  },
  {
   "cell_type": "markdown",
   "id": "d1d3022c",
   "metadata": {},
   "source": [
    "<a id=\"submit\"></a>"
   ]
  },
  {
   "cell_type": "markdown",
   "id": "73e27481",
   "metadata": {},
   "source": [
    "### 1.5 Submitting Your Work "
   ]
  },
  {
   "cell_type": "markdown",
   "id": "495bf6b9",
   "metadata": {},
   "source": []
  },
  {
   "cell_type": "markdown",
   "id": "345e7f47",
   "metadata": {},
   "source": [
    "<a id=\"correlation\"></a>"
   ]
  },
  {
   "cell_type": "markdown",
   "id": "1094e1b1",
   "metadata": {},
   "source": [
    "# 2. Correlation  \n",
    "\n",
    "One of the most important notions in data science is the concept of a **correlation**. The correlation between two variables within a dataset. Right now, that sentence may not mean much, but essentially, the correlation between two values of interest tells us the strength of the relationship between those two values.  \n",
    "\n",
    "As a more concrete example, imagine you have a dataset containing information about the overall pollution level across California cities, alongside student test performance. Now, imagine you pose the hypothesis that cities with higher levels of pollution are indicative of and therefore may potentially cause poor student test performance in that city. One of the first things you'll want to look at is the correlation between those two values (also called features, or variables). "
   ]
  },
  {
   "cell_type": "code",
   "execution_count": null,
   "id": "2860e333",
   "metadata": {},
   "outputs": [],
   "source": []
  }
 ],
 "metadata": {
  "kernelspec": {
   "display_name": "Python 3",
   "language": "python",
   "name": "python3"
  },
  "language_info": {
   "codemirror_mode": {
    "name": "ipython",
    "version": 3
   },
   "file_extension": ".py",
   "mimetype": "text/x-python",
   "name": "python",
   "nbconvert_exporter": "python",
   "pygments_lexer": "ipython3",
   "version": "3.8.8"
  }
 },
 "nbformat": 4,
 "nbformat_minor": 5
}
