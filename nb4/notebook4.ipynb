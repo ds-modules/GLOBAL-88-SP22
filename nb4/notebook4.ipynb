{
 "cells": [
  {
   "cell_type": "markdown",
   "id": "65fc049f-ad31-4ced-97c9-41b02fe71fa4",
   "metadata": {},
   "source": [
    "# [Global 88] Gender Violence in Colombia (cont.)\n",
    "### Professor: Karenjot Bhangoo Randhawa  \n",
    "**Estimated Time:** 50 minutes  \n",
    "**Notebook Created By:** Vaidehi Bulusu, Emily Guo, Bella Chang, Carlos Calderon  \n",
    "**Code Maintenance:** Carlos Calderon \n",
    "\n",
    "Welcome! Last week we got an introduction to bar plots and got more experience interpreting line plots. We then generated the same visualizations, partitioned by sex. This week, we will be looking at a non sex-disaggregated dataset. We will be delving deeper into interpreting bar plots and generating a deeper understanding of our data from them. We will look at change throughout time again, and will introduce the word cloud visualization. \n",
    "\n",
    "**Learning Outcomes:**  \n",
    "By the end of this notebook, students will be able to:  \n",
    "1. Have a deeper understanding of bar plots.   \n",
    "2. Understand the differences in what analysis we could produce with non sex-disaggregated data.\n",
    "3. Develop a deeper intuition on when and how to use line plots.  \n",
    "\n",
    "# Table of Contents  \n",
    "1. Understanding the Data  \n",
    "2. Visualizing the Data \n",
    "3. Non Sex-disaggregated Data\n",
    "\n",
    "---\n",
    "---"
   ]
  },
  {
   "cell_type": "markdown",
   "id": "fff0fce0-a211-4e1b-a146-d0a6f46bba58",
   "metadata": {},
   "source": [
    "# Importing Packages   \n",
    "\n",
    "<div class=\"alert alert-block alert-warning\">\n",
    "<b>Make sure to run these cells FIRST! Not doing so may result in pesky errors in the code.</b>\n",
    "</div>"
   ]
  },
  {
   "cell_type": "code",
   "execution_count": null,
   "id": "7bf09b54-94fd-44c7-acef-b2e94df72357",
   "metadata": {},
   "outputs": [],
   "source": [
    "pip install wordcloud -q"
   ]
  },
  {
   "cell_type": "code",
   "execution_count": null,
   "id": "5c156e5d-bcfe-47c2-990a-acc338df9dcb",
   "metadata": {},
   "outputs": [],
   "source": [
    "from datascience import *\n",
    "import numpy as np\n",
    "import pandas as pd\n",
    "\n",
    "import ipywidgets as widgets\n",
    "from ipywidgets import interact, interactive, fixed, interact_manual, Output\n",
    "\n",
    "from wordcloud import WordCloud as wc, STOPWORDS\n",
    "from collections import Counter\n",
    "\n",
    "import matplotlib.pyplot as plt\n",
    "import seaborn as sns\n",
    "plt.style.use('fivethirtyeight')\n",
    "%matplotlib inline\n",
    "\n",
    "import warnings\n",
    "warnings.filterwarnings('ignore')\n",
    "\n",
    "from plotting import barplot, lineplot, comparable_lineplot, wordcloud"
   ]
  },
  {
   "cell_type": "markdown",
   "id": "b8d290f7-b1c6-4965-854b-b4b19273c758",
   "metadata": {},
   "source": [
    "---\n",
    "---"
   ]
  },
  {
   "cell_type": "markdown",
   "id": "d2b32fd6-1242-4c7e-9717-0471a079d367",
   "metadata": {},
   "source": [
    "# 1. Understanding the Data"
   ]
  },
  {
   "cell_type": "markdown",
   "id": "2fcd77a1-a521-44ee-aedf-7f38b14b1ca4",
   "metadata": {},
   "source": [
    "The main dataset for this notebook was obtained from the [Secretariat of Women and Gender Equality of the Atlantic](https://www.atlantico.gov.co/index.php/gobernacion/secretarias/mujeres-y-equidad), a government institution whose mission statement is to \"better the quality of life for all women in the Atlantic Colombian region.\"  \n",
    "\n",
    "One of the Secretariat's main functions is to point women to the right resources. As such, the Secretariat receives several cases of violence against women, with many of the cases going beyond domestic violence. Load the cell below to see how these data look. "
   ]
  },
  {
   "cell_type": "code",
   "execution_count": null,
   "id": "9f0a3c8e-19e6-4e6c-bc39-3ffcb949033b",
   "metadata": {},
   "outputs": [],
   "source": [
    "cases = Table.read_table(\"../data/nb4/secretariat-cases.csv\")\n",
    "cases = cases.with_column(\"Municipality\", [i.title() for i in cases[\"Municipality\"]])\n",
    "cases_df = cases.to_df()\n",
    "cases.show(3)"
   ]
  },
  {
   "cell_type": "markdown",
   "id": "2e3dbab7-903f-485d-8fec-e428fddb4a72",
   "metadata": {},
   "source": [
    "Throughout the previous notebooks, we have asked you to find the size of some given dataset. That is, we've asked you to find how many rows and columns there are. We've also provided explanations on what each column, and asked you to interpret what each row represents for a given dataset. \n",
    "\n",
    "The questions for this section will be largely similar to those presented last week. This is so that you get into the habit of understanding what your dataset represents prior to any analysis.  "
   ]
  },
  {
   "cell_type": "markdown",
   "id": "a5d5b6f2-4b6f-4a4a-979c-11ab40490f5d",
   "metadata": {},
   "source": [
    "<div class=\"alert alert-info\">\n",
    "<b> Question 1.1: </b> Based on the data they contain, what do you think each column represents?\n",
    "</div> \n",
    "\n",
    "*Hint:* Read [the mission statement](https://www.atlantico.gov.co/index.php/secretaria) of the entity that collected these data. "
   ]
  },
  {
   "cell_type": "code",
   "execution_count": null,
   "id": "c1a5860a-30c1-4318-a936-50b125118ccb",
   "metadata": {},
   "outputs": [],
   "source": [
    "# Printing out the dataset to help you answer the next couple of questions\n",
    "cases.show(2)"
   ]
  },
  {
   "cell_type": "markdown",
   "id": "5467cf65-330d-4bef-8ab0-7eaf99499080",
   "metadata": {},
   "source": [
    "- Month/Year: ...  \n",
    "- Victim of the conflict?: ...\n",
    "- Municipality: ...  \n",
    "- Reason for Consultation: ... \n",
    "- Previous complaints?: ... \n",
    "- Violence setting: ...  \n",
    "- Type of violence: ... \n",
    "- Referral: ...  \n",
    "- Entity referred to: ..."
   ]
  },
  {
   "cell_type": "markdown",
   "id": "8c646fca-142f-4c1d-862f-9a7e2abdace6",
   "metadata": {},
   "source": [
    "<div class=\"alert alert-info\">\n",
    "<b> Question 1.2: </b> With these interpretations of our dataset's columns in mind, what do you think each row in our dataset represents?\n",
    "</div>"
   ]
  },
  {
   "cell_type": "markdown",
   "id": "b156e3ea-a86c-455e-90c6-3d4a7eaad8b8",
   "metadata": {},
   "source": [
    "*Replace this text with your answer*"
   ]
  },
  {
   "cell_type": "markdown",
   "id": "9a39b77f-c3a0-444e-a9e5-451f79728bee",
   "metadata": {},
   "source": [
    "<div class=\"alert alert-info\">\n",
    "    <b> Question 1.3: </b> Using the table properties <code>num_columns</code> and <code>num_rows</code> that we learned in Notebook 1, fill in the code below to print out the size of our dataset. \n",
    "</div>\n",
    "\n",
    "*Hint:* The format of your code should be of the form `dataset.property`"
   ]
  },
  {
   "cell_type": "code",
   "execution_count": null,
   "id": "2138b55e-58fe-4dcf-bd13-856d03f07cad",
   "metadata": {},
   "outputs": [],
   "source": [
    "# Hint: What is the name of our dataset?\n",
    "cases_num_rows = ...\n",
    "cases_num_columns = ...\n",
    "print(f\"Our dataset has {cases_num_rows} cases and {cases_num_columns} properties to describe each case.\")"
   ]
  },
  {
   "cell_type": "markdown",
   "id": "f28f8929-3c0c-4d8c-aa52-3f76f3246928",
   "metadata": {},
   "source": [
    "<div class=\"alert alert-info\">\n",
    "    <b> Question 1.4: </b> Fill in the blanks below with the names of the columns that contain categorical data. If you need more or less space, feel free to add or delete a bullet point. \n",
    "</div>"
   ]
  },
  {
   "cell_type": "markdown",
   "id": "0381241a-ce89-4a2e-b8e9-6021b2ee8688",
   "metadata": {},
   "source": [
    "- ...\n",
    "- ...\n",
    "- ..."
   ]
  },
  {
   "cell_type": "markdown",
   "id": "095a9d4d-a280-4901-a91d-31b4af842ae6",
   "metadata": {},
   "source": [
    "<div class=\"alert alert-info\">\n",
    "    <b> Question 1.5: </b> Fill in the blanks below with the names of the columns that contain numerical data. \n",
    "</div>"
   ]
  },
  {
   "cell_type": "markdown",
   "id": "73d7da63-e852-45da-be98-c74619fff8ec",
   "metadata": {},
   "source": [
    "- ..."
   ]
  },
  {
   "cell_type": "markdown",
   "id": "08a29298-8271-485b-ba21-4d6038ce93ae",
   "metadata": {},
   "source": [
    "<div class=\"alert alert-info\">\n",
    "    <b> Question 1.6: </b> What special case of numerical data does this column represent?\n",
    "</div>"
   ]
  },
  {
   "cell_type": "markdown",
   "id": "a3a8c463-36b7-40c1-b7d5-3d34a114d2f8",
   "metadata": {},
   "source": [
    "*Replace this text with your answer*"
   ]
  },
  {
   "cell_type": "markdown",
   "id": "03c6471d-53dd-4f4f-81f3-a24fc195f393",
   "metadata": {},
   "source": [
    "<div class=\"alert alert-info\">\n",
    "    <b> Question 1.7: </b> Think back to the Colombian National Police family intraviolence dataset we dealt with in Notebook 3. How are that dataset and our current data, <code>cases</code> similar? How are they different? \n",
    "</div>"
   ]
  },
  {
   "cell_type": "markdown",
   "id": "9e0cc605-ab85-4e78-b0c5-f2e2183ed87e",
   "metadata": {},
   "source": [
    "- They are similar in: ... \n",
    "- They differ in: ..."
   ]
  },
  {
   "cell_type": "markdown",
   "id": "6816275b-5934-44a0-99eb-3a0941c5a5f5",
   "metadata": {},
   "source": [
    "---\n",
    "---"
   ]
  },
  {
   "cell_type": "markdown",
   "id": "55d15805-4881-41a7-bb1c-0013b65fff60",
   "metadata": {},
   "source": [
    "# 2. Visualizing the Data  \n",
    "\n",
    "<div class=\"alert alert-info\">\n",
    "    <b> Question 2.1: </b> Think about the types of data described by our dataset. What visualizations do you think we can generate from these data? Below, delete yes or no depending on whether we can generate the given plot type. \n",
    "</div>  "
   ]
  },
  {
   "cell_type": "markdown",
   "id": "0215ad28-fa1c-4674-ae94-b20c62a6a784",
   "metadata": {},
   "source": [
    "- Histogram? Yes/No  \n",
    "- Scatter plots? Yes/No  \n",
    "- Line plots? Yes/No  \n",
    "- Bar charts? Yes/No"
   ]
  },
  {
   "cell_type": "markdown",
   "id": "19b0f720-70ce-490d-aaa1-e6ba099d5f43",
   "metadata": {},
   "source": [
    "---"
   ]
  },
  {
   "cell_type": "markdown",
   "id": "ec4792d2-36f9-47d4-833e-7d380c214401",
   "metadata": {},
   "source": [
    "## 2.1 Visualizing Categorical Data \n",
    "You may have found that a lot of your answers above were no. This is true, since our data is largely categorical, we are restricted in the analysis and visualizations we can generate. Run the cell below, which will allow you to select a categorical column and allow you to visualize its distribution through a bar plot"
   ]
  },
  {
   "cell_type": "code",
   "execution_count": null,
   "id": "6e680e4c-7dd9-4f50-a237-3ffb1731fd99",
   "metadata": {},
   "outputs": [],
   "source": [
    "barplot()"
   ]
  },
  {
   "cell_type": "markdown",
   "id": "fe93c9ad-2ea1-456a-bb93-e233a3e58e4e",
   "metadata": {},
   "source": [
    "<div class=\"alert alert-info\">\n",
    "    <b> Question 2.2: </b> What does the bar plot for <code>Month/Year</code> tell you? Why were we able to generate a bar plot from this column if it is a numerical variable?\n",
    "</div>  "
   ]
  },
  {
   "cell_type": "markdown",
   "id": "ed904921-5688-4d94-b0de-284de556319a",
   "metadata": {},
   "source": [
    "*Replace this text with your answer*"
   ]
  },
  {
   "cell_type": "markdown",
   "id": "849986ee-fe97-47f0-b3d1-112ed6d22825",
   "metadata": {},
   "source": [
    "<div class=\"alert alert-info\">\n",
    "    <b> Question 2.3: </b> Given that each each row in our dataset represents an individual case brought to the Secretariat, what does the bar plot for <code>Victim of the conflict?</code> tell you? Are most of these cases brought forth by victims or non-victims? \n",
    "</div>  "
   ]
  },
  {
   "cell_type": "markdown",
   "id": "4ffb16d1-f111-4703-ae7f-b1fad0680d90",
   "metadata": {},
   "source": [
    "*Replace this text with your answer*"
   ]
  },
  {
   "cell_type": "markdown",
   "id": "b210d2c9-bba1-4db6-8eba-09d373e3d320",
   "metadata": {},
   "source": [
    "<div class=\"alert alert-info\">\n",
    "    <b> Question 2.4: </b> Do you think the bar plot for <code>Municipality</code> is informative? Why or why not? How would you improve this plot? \n",
    "</div>  "
   ]
  },
  {
   "cell_type": "markdown",
   "id": "b1222b6c-9d84-45a0-9fd7-8382ad4edfb4",
   "metadata": {},
   "source": [
    "- The bar plot (is/is not) informative. \n",
    "- Why/why not?\n",
    "- I would make the following improvements: ..."
   ]
  },
  {
   "cell_type": "markdown",
   "id": "ed79c368-c4c0-42c8-98bc-9d9b6a814cc8",
   "metadata": {},
   "source": [
    "<div class=\"alert alert-info\">\n",
    "    <b> Question 2.5: </b> According to the plot for <code>Violence setting</code>, in what setting did most of the assaults occur? What biases in the data are exposed by this plot? \n",
    "</div>  \n",
    "\n",
    "**Note: You may have noticed that we have a category here called `nan`. This is a commonly seen value in a lot of datasets that means \"Not a number\". However, a value of `nan` usually tells us that we failed to collect or find any data.**"
   ]
  },
  {
   "cell_type": "markdown",
   "id": "d4a2bf6a-1673-4562-9ec9-25718b7d6dd9",
   "metadata": {},
   "source": [
    "*Replace this text with your answer*"
   ]
  },
  {
   "cell_type": "code",
   "execution_count": null,
   "id": "557c7d52-616d-4eef-96d8-19f1af03fbc2",
   "metadata": {},
   "outputs": [],
   "source": [
    "# Run the cell again. Generates same output as above. \n",
    "# This is so that you dont have to scroll back and forth. \n",
    "barplot()"
   ]
  },
  {
   "cell_type": "markdown",
   "id": "7c896260-6e44-4172-8b62-4dc01d1b74e9",
   "metadata": {},
   "source": [
    "<div class=\"alert alert-info\">\n",
    "    <b> Question 2.6: </b> What types of violence are most common in our dataset according to the bar plot for <code>Type of violence</code>?\n",
    "</div>  "
   ]
  },
  {
   "cell_type": "markdown",
   "id": "46c94592-1527-4c0b-8f3f-e42b6ceef29f",
   "metadata": {},
   "source": [
    "*Replace this text with your answer*"
   ]
  },
  {
   "cell_type": "markdown",
   "id": "b2e00c1d-14c8-47e7-8fc3-11db2b83da19",
   "metadata": {},
   "source": [
    "<div class=\"alert alert-info\">\n",
    "    <b> Question 2.7: </b> What were some of the most common reasons that cases were brought to the Secretariat? What bar plot helped you derive this information?\n",
    "</div>  "
   ]
  },
  {
   "cell_type": "markdown",
   "id": "f030c7bd-38ce-4e55-b115-091dac12fd65",
   "metadata": {},
   "source": [
    "*Replace this text with your answer*"
   ]
  },
  {
   "cell_type": "markdown",
   "id": "daec7841-ec87-4856-81c5-6ebd39c360d2",
   "metadata": {},
   "source": [
    "<div class=\"alert alert-info\">\n",
    "    <b> Question 2.8: </b> Where were most of the cases referred to, if at all, after the Secretariat? What bar plot helped you derive this information?\n",
    "</div>  "
   ]
  },
  {
   "cell_type": "markdown",
   "id": "27ede697-ae5b-4ee3-90c4-6d83014c5424",
   "metadata": {},
   "source": [
    "*Replace this text with your answer*"
   ]
  },
  {
   "cell_type": "markdown",
   "id": "ea32c7a0-d89d-4734-ba2c-d39ebdb013f2",
   "metadata": {},
   "source": [
    "---"
   ]
  },
  {
   "cell_type": "markdown",
   "id": "9a962144-7261-4865-8588-bb979be4a4a2",
   "metadata": {},
   "source": [
    "## 2.2 Visualizing Unstructured Data \n",
    "\n",
    "You may have noticed that we have an additional column, `Reason for Consultation`, in our dataset that you may have said contains categorical data. Run the cell below to print out some of the values contained in this column."
   ]
  },
  {
   "cell_type": "code",
   "execution_count": null,
   "id": "d23720bc-c7cb-488e-9598-6d70d589bb04",
   "metadata": {},
   "outputs": [],
   "source": [
    "num_examples = 10\n",
    "print(\"Some of the reasons for consultation: \")\n",
    "print(cases.column(\"Reason for Consultation\")[:num_examples])"
   ]
  },
  {
   "cell_type": "markdown",
   "id": "4d2aa0d6-d8f4-496d-86f1-7dbbd742ad80",
   "metadata": {},
   "source": [
    "<div class=\"alert alert-info\">\n",
    "    <b> Question 2.9: </b> Looking at the first set of values contained in this column, why do you think we did not generate a bar plot for these data? Feel free to modify the <code>num_examples</code> variable to see more examples.\n",
    "</div>  "
   ]
  },
  {
   "cell_type": "markdown",
   "id": "70ec9b8a-ce05-43b8-a3b0-50c93963769b",
   "metadata": {},
   "source": [
    "*Replace this text with your answer*"
   ]
  },
  {
   "cell_type": "markdown",
   "id": "e1c7e891-1a47-440a-8984-35e0fc4577bd",
   "metadata": {},
   "source": [
    "Indeed, these data are neither categorical nor numerical. Instead, the variable `Reason for Consultation` represents text that resembles human language. These type of data are called [unstructured textual data](https://en.wikipedia.org/wiki/Unstructured_data). This is different from categorical or numerical data we have seen before, and as such, it cannot be processed or analyzed through conventional methods. Often times, it is difficult to derive insights from these data as it requires intensive **data cleaning and wrangling**.  \n",
    "\n",
    "In our case, we are dealing with textual data that, as previously stated, closely resembles human language. Computers have a difficult time understanding and parsing the meaning of words, so much so that there is an entire field called [Natural Language Processing](https://machinelearningmastery.com/natural-language-processing/). that focuses on exactly this.  \n",
    "\n",
    "Run the cell below, which will generate a Word Cloud -- a special visualization that can be generated from textual data. You may have seen one of these before. "
   ]
  },
  {
   "cell_type": "code",
   "execution_count": null,
   "id": "2ab1a18f-6654-46a6-a1dd-bf240fcbf41a",
   "metadata": {},
   "outputs": [],
   "source": [
    "wordcloud()"
   ]
  },
  {
   "cell_type": "markdown",
   "id": "d497fa77-d0ae-4b34-8472-8ecefd2abb69",
   "metadata": {},
   "source": [
    "<div class=\"alert alert-info\">\n",
    "    <b> Question 2.10: </b> What are some of the most common words that are seen in the <code>Reason for Consultation</code> variable? Least common?\n",
    "</div>  "
   ]
  },
  {
   "cell_type": "markdown",
   "id": "77000067-409c-4527-b12f-954d5c11e0a7",
   "metadata": {},
   "source": [
    "- Most common: ...  \n",
    "- Least common: ..."
   ]
  },
  {
   "cell_type": "markdown",
   "id": "8dda86e3-5398-451a-8dc8-79c98235cd18",
   "metadata": {},
   "source": [
    "<div class=\"alert alert-info\">\n",
    "    <b> Question 2.11: </b> Look back at the bar plot for <code>Referral</code>. Does the word cloud above back up the data shown in the bar plot? Taking these two visualizations together, what can we infer about our data? Why are most people coming to the Secretariat for?\n",
    "</div>  "
   ]
  },
  {
   "cell_type": "markdown",
   "id": "7682edcd-6643-45ce-b362-cc82fc3fffff",
   "metadata": {},
   "source": [
    "*Replace this text with your answer*"
   ]
  },
  {
   "cell_type": "markdown",
   "id": "1dfc6463-5367-4c97-9c4a-ad6f79aababb",
   "metadata": {},
   "source": [
    "## 2.3 Visualizing Categorical Data Troughout Time \n",
    "\n",
    "As you previously stated, our `cases` dataset possesses only one numerical variable in `Month/Year`. You also probably deduced that this is a sequential numerical variable. Because of this, we are limited to bar plots and line plots. Now that we have generated bar plots for most of the categorical variables, we can start looking at how these variables changed throughout time. \n",
    "\n",
    "<div class=\"alert alert-info\">\n",
    "    <b> Question 2.12: </b> One particular variable we might be interested in is <code>Type of violence</code>. What type of insights could you derive from generating a line plot on <code>Type of violence</code>?\n",
    "</div>  "
   ]
  },
  {
   "cell_type": "markdown",
   "id": "183de7aa-f626-47d9-bc98-94545f10b80b",
   "metadata": {},
   "source": [
    "*Replace this text with your answer*"
   ]
  },
  {
   "cell_type": "markdown",
   "id": "965f8d38-b1f2-4767-b1d6-035812d0bda1",
   "metadata": {},
   "source": [
    "Run the cell below to generate this line plot. "
   ]
  },
  {
   "cell_type": "code",
   "execution_count": null,
   "id": "1d453dbd-1e56-415b-914d-c5d571df6209",
   "metadata": {},
   "outputs": [],
   "source": [
    "# Run this cell to generate a line plot \n",
    "lineplot()"
   ]
  },
  {
   "cell_type": "markdown",
   "id": "f5b3b3de-213e-40a3-8409-5ee236b166bc",
   "metadata": {},
   "source": [
    "<div class=\"alert alert-info\">\n",
    "    <b> Question 2.13: </b> Based on this graph, what was the type of violence that was reported the most? The least?\n",
    "</div>  "
   ]
  },
  {
   "cell_type": "markdown",
   "id": "9b8810c1-b64f-4108-921d-3973853ec9bd",
   "metadata": {},
   "source": [
    "*Replace this text with your answer*"
   ]
  },
  {
   "cell_type": "markdown",
   "id": "aa0550ab-652d-437f-9fdf-a45c5c0a773b",
   "metadata": {},
   "source": [
    "<div class=\"alert alert-info\">\n",
    "    <b> Question 2.14: </b> Why might be some reasons that sexual violence appears to be reported the least? What does this say about the bias of our dataset?\n",
    "</div>  "
   ]
  },
  {
   "cell_type": "markdown",
   "id": "6320cfa4-e5dc-44ca-b97a-1b804467ff1f",
   "metadata": {},
   "source": [
    "*Replace this text with your answer*"
   ]
  },
  {
   "cell_type": "markdown",
   "id": "7ea2f8c9-3128-471f-87b2-200bd1fdc55a",
   "metadata": {},
   "source": [
    "<div class=\"alert alert-info\">\n",
    "    <b> Question 2.15: </b> What does the line plot tell you about the trend for each type of violence? \n",
    "</div>  "
   ]
  },
  {
   "cell_type": "markdown",
   "id": "cc742b11-e59b-4611-923a-8cd7c9b9bf64",
   "metadata": {},
   "source": [
    "- Psychological: ... \n",
    "- Physical: ... \n",
    "- Sexual: ... \n",
    "- Financial: ..."
   ]
  },
  {
   "cell_type": "markdown",
   "id": "dcabff08-cf21-4bdc-aeb8-c06d525fd957",
   "metadata": {},
   "source": [
    "<div class=\"alert alert-info\">\n",
    "    <b> Question 2.16: </b> Use the line plot to generate a narrative on crimes against women in the Atlantic regions of Colombia. This should be roughly a paragraph that is written in storytelling manner. \n",
    "</div> "
   ]
  },
  {
   "cell_type": "markdown",
   "id": "491d6d6e-40a3-4b73-87f7-665ed38ab664",
   "metadata": {},
   "source": [
    "*Replace this text with your answer*"
   ]
  },
  {
   "cell_type": "markdown",
   "id": "e18b71e0-516d-4983-ac6e-a880cf83f0dc",
   "metadata": {},
   "source": [
    "----\n",
    "----"
   ]
  },
  {
   "cell_type": "markdown",
   "id": "158253a3-91dd-4444-9855-134f454457de",
   "metadata": {},
   "source": [
    "# 3. Non Sex-disaggregated Data"
   ]
  },
  {
   "cell_type": "markdown",
   "id": "c16b504c-d452-49b4-bdf1-cdda8dd303f2",
   "metadata": {},
   "source": [
    "On Notebook 3, we dealt with data collected from the Colombia National Police database. Recall that this was a sex-disaggregated dataset. The `cases` dataset, however, is a non sex-disaggregated dataset. This means that the data cannot be partitioned by sex. \n",
    "\n",
    "<div class=\"alert alert-info\">\n",
    "    <b> Question 3.1: </b> What implications does having a non sex-disaggregated data have on our analysis compared to a sex-disaggregated dataset? That is, are we more limited or do we have more freedom in our potential for analysis?\n",
    "</div>  "
   ]
  },
  {
   "cell_type": "markdown",
   "id": "c81edc44-0b70-4963-8959-2aff8cb0ce5b",
   "metadata": {},
   "source": [
    "*Replace this text with your answer*"
   ]
  },
  {
   "cell_type": "markdown",
   "id": "2853ddab-774c-4b26-8f0d-4c3cb64b3a9b",
   "metadata": {},
   "source": [
    "You may have identified that we have lost the ability to run a comparative analysis on our data relative to gender. That is, our `cases` dataset contains information on assaults towards women, but not towards men. As a consequence, we cannot generate visualizations we made on Notebook 3. However, do not fall into the fallacy that these datasets are not as valuable. The following set of questions will guide you to think deeper on the differences, similarities, and potential benefits between the two analyses (analysis on National Police dataset vs. Secretariat of Women dataset).   \n",
    "\n",
    "<div class=\"alert alert-info\">\n",
    "    <b> Question 3.2: </b> What information do we have in the <code>cases</code> dataset that we did not have in the <code>family_violence</code> dataset we saw in Notebook 3?\n",
    "</div>  "
   ]
  },
  {
   "cell_type": "markdown",
   "id": "a9563b7e-0c3a-43f3-bb2f-34e4c60ae93e",
   "metadata": {
    "tags": []
   },
   "source": [
    "*Replace this text with your answer*"
   ]
  },
  {
   "cell_type": "markdown",
   "id": "b89c2696-826b-473a-b0be-3360ff74e33e",
   "metadata": {},
   "source": [
    "You may have noticed by know that the `cases` dataset contains information on the **Atlantic** regions of Colombia, whilst the `family_violence` dataset contained information for *all* of Colombia. In addition, the `cases` dataset contains information for only June 2017-June 2019 whilst `family_violence` covers 2015-2021. Thus, we can say that the **scope** of the `cases` dataset is smaller than that of `family_violence`. \n",
    "\n",
    "While this comparison looks at difference in *scope* of information between the datasets, we can generate visualizations that will show us the difference in the **actual data** described by each one. When you do this, you generally want to compare visualizations that plot the same data. That is, if we want to compare categorical information contained in Table 1 vs Table 2, then it would be ideal to compare bar plot from Table 1 vs bar plot from Table 2. It would be much more difficult, but not impossible, to compare a bar plot from Table 1 with a line plot from Table 2.  \n",
    "\n",
    "In our case, we are in luck. We were able to generate sequential line plots for both the `cases` and `family_violence` datasets. Let's compare these. Run the cell below, which will allow you to select a city and visualize its line plots side by side as described by each dataset.   "
   ]
  },
  {
   "cell_type": "code",
   "execution_count": null,
   "id": "23adb1cc-d33c-41d1-8fea-105f65a889ca",
   "metadata": {},
   "outputs": [],
   "source": [
    "# Run this cell to generate a plot with dropdown menu. \n",
    "comparable_lineplot()"
   ]
  },
  {
   "cell_type": "markdown",
   "id": "aeabee42-bf08-4d34-b25b-fd28b67f0ad3",
   "metadata": {},
   "source": [
    "<div class=\"alert alert-info\">\n",
    "    <b> Question 3.3: </b> Select the city of Barranquilla (CT). Does the police dataset tell us that crime is increasing or decreasing? What does the secretariat dataset tell us? \n",
    "</div>  "
   ]
  },
  {
   "cell_type": "markdown",
   "id": "aaa0f498-1258-48b4-9ccf-f9f5702496f6",
   "metadata": {
    "tags": []
   },
   "source": [
    "*Replace this text with your answer*"
   ]
  },
  {
   "cell_type": "markdown",
   "id": "72d1bd6a-97b9-4ac5-a051-03b5131b8612",
   "metadata": {},
   "source": [
    "<div class=\"alert alert-info\">\n",
    "    <b> Question 3.4: </b> Select the city of Suan. What information do we have about this city? \n",
    "</div>  "
   ]
  },
  {
   "cell_type": "markdown",
   "id": "b4fd7538-5379-42a5-9ccf-89d7803f029c",
   "metadata": {
    "tags": []
   },
   "source": [
    "*Replace this text with your answer*"
   ]
  },
  {
   "cell_type": "markdown",
   "id": "5d03d4d1-d9ac-4953-b6a6-ad290aacb1ea",
   "metadata": {},
   "source": [
    "<div class=\"alert alert-info\">\n",
    "    <b> Question 3.5: </b> Select the city of Tubara. Does the secretariat plot really tell us anything? What about the police plot? What does the city of Tubara and Suan have in common that might explain why we see similar behavior?\n",
    "</div>  "
   ]
  },
  {
   "cell_type": "markdown",
   "id": "734dd79a-970d-4e34-b88b-74ee8020b793",
   "metadata": {
    "tags": []
   },
   "source": [
    "*Replace this text with your answer*"
   ]
  },
  {
   "cell_type": "code",
   "execution_count": null,
   "id": "78429527-8d09-45f2-93bd-c5023d293be6",
   "metadata": {},
   "outputs": [],
   "source": [
    "# Run this cell to generate a plot again so that you don't have to scroll up and down a lot. \n",
    "comparable_lineplot()"
   ]
  },
  {
   "cell_type": "markdown",
   "id": "89cd742c-2f3b-4dc7-8fe8-f042ad42e1d5",
   "metadata": {},
   "source": [
    "<div class=\"alert alert-info\">\n",
    "    <b> Question 3.6: </b> Select the city of Ponedera. Does the police dataset plot differ from the secretariat plot? What common violence type do we see missing here? \n",
    "</div>  "
   ]
  },
  {
   "cell_type": "markdown",
   "id": "e924bca1-3309-443a-ab31-1d16ef2726d9",
   "metadata": {
    "tags": []
   },
   "source": [
    "*Replace this text with your answer*"
   ]
  },
  {
   "cell_type": "markdown",
   "id": "8e495845-f9d0-4c9d-8014-46720707b666",
   "metadata": {},
   "source": [
    "<div class=\"alert alert-info\">\n",
    "    <b> Question 3.7: </b> Select the city of Santa Lucia. What type of violence is increasing in the secretariat plot? Are both plots telling the same general story?\n",
    "</div>  "
   ]
  },
  {
   "cell_type": "markdown",
   "id": "9cb63fd2-4223-4616-a313-d6579032e797",
   "metadata": {
    "tags": []
   },
   "source": [
    "*Replace this text with your answer*"
   ]
  },
  {
   "cell_type": "markdown",
   "id": "27d43f8d-f501-4e3a-ad79-a2690aef4644",
   "metadata": {},
   "source": [
    "<div class=\"alert alert-info\">\n",
    "    <b> Question 3.8: </b> How do the plots for cities like Soledad and Barranquilla differ from those from cities like Suan or Santa Lucia? Does this mean there is less crimes in the latter set of cities?\n",
    "</div>  "
   ]
  },
  {
   "cell_type": "markdown",
   "id": "a9877f5c-418c-433e-84ce-06450f89928b",
   "metadata": {
    "tags": []
   },
   "source": [
    "*Replace this text with your answer*"
   ]
  },
  {
   "cell_type": "markdown",
   "id": "4ee4e7e1-7c83-4db4-88f3-15e2ce2625ac",
   "metadata": {},
   "source": [
    "Now, take some time to think about what you saw for each city. You probably found mixed results. For some cities, we have rich data, for others, we don't.  \n",
    "\n",
    "<div class=\"alert alert-info\">\n",
    "    <b> Question 3.9: </b> After comparing the trend in cities as described by the police vs the secretariat of women, how would you describe the main benefit of the Police dataset? What is the benefit of the Secretariat dataset?\n",
    "</div>  "
   ]
  },
  {
   "cell_type": "markdown",
   "id": "9bb45686-1c8b-4f4f-b362-63aabd03c6e2",
   "metadata": {},
   "source": [
    "- Police dataset: ... \n",
    "- Secretariat dataset: ..."
   ]
  },
  {
   "cell_type": "markdown",
   "id": "1dbf68bc-d0c8-4a66-9c65-f7a99daaafae",
   "metadata": {},
   "source": [
    "<div class=\"alert alert-info\">\n",
    "    <b> Question 3.10: </b> What is a dangereous bias that exists in both datasets? \n",
    "</div>  "
   ]
  },
  {
   "cell_type": "markdown",
   "id": "fd3884be-2954-48b6-9576-462c0d57fbd2",
   "metadata": {
    "tags": []
   },
   "source": [
    "*Replace this text with your answer*"
   ]
  },
  {
   "cell_type": "markdown",
   "id": "118fcc3c-2db3-4d9a-9446-c12ca8a77967",
   "metadata": {},
   "source": [
    "# Conclusion\n",
    "Congratulations! You've reached the end of the assignment. Run the cell below to generate a pdf. "
   ]
  },
  {
   "cell_type": "code",
   "execution_count": null,
   "id": "1b2b4698-9adb-42a6-a137-2496376912f7",
   "metadata": {},
   "outputs": [],
   "source": [
    "# This may take a few seconds \n",
    "from IPython.display import display, HTML\n",
    "!pip install -U notebook-as-pdf -q\n",
    "!jupyter-nbconvert --to PDFviaHTML notebook4.ipynb\n",
    "display(HTML(\"Save this notebook, then click <a href='notebook4.pdf' download>here</a> to open the pdf.\"))"
   ]
  },
  {
   "cell_type": "markdown",
   "id": "b68d4857-bab1-4723-bddc-0c5295a92e64",
   "metadata": {},
   "source": [
    "# Feedback \n",
    "\n",
    "Please let us know of your thoughts on this notebook! [Fill out the following survey here](https://docs.google.com/forms/d/e/1FAIpQLSeQHgYQV5qQpyp8AJkupGvA0mJ49qULLYQGa1w3Zh6jd25Z2g/viewform?usp=sf_link)"
   ]
  }
 ],
 "metadata": {
  "kernelspec": {
   "display_name": "Python 3",
   "language": "python",
   "name": "python3"
  },
  "language_info": {
   "codemirror_mode": {
    "name": "ipython",
    "version": 3
   },
   "file_extension": ".py",
   "mimetype": "text/x-python",
   "name": "python",
   "nbconvert_exporter": "python",
   "pygments_lexer": "ipython3",
   "version": "3.8.8"
  }
 },
 "nbformat": 4,
 "nbformat_minor": 5
}
