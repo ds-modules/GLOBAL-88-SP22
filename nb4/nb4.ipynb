{
 "cells": [
  {
   "cell_type": "code",
   "execution_count": 31,
   "id": "5c156e5d-bcfe-47c2-990a-acc338df9dcb",
   "metadata": {},
   "outputs": [],
   "source": [
    "from datascience import *\n",
    "import numpy as np\n",
    "\n",
    "import ipywidgets as widgets\n",
    "from ipywidgets import interact, interactive, fixed, interact_manual\n",
    "\n",
    "import matplotlib.pyplot as plt\n",
    "plt.style.use('fivethirtyeight')\n",
    "%matplotlib inline"
   ]
  },
  {
   "cell_type": "markdown",
   "id": "d2b32fd6-1242-4c7e-9717-0471a079d367",
   "metadata": {},
   "source": [
    "# 1. The Data"
   ]
  },
  {
   "cell_type": "markdown",
   "id": "2fcd77a1-a521-44ee-aedf-7f38b14b1ca4",
   "metadata": {},
   "source": [
    "The main dataset for this notebook was obtained from the [Secretariat of Women and Gender Equality of the Atlantic](https://www.atlantico.gov.co/index.php/gobernacion/secretarias/mujeres-y-equidad), a government institution whose mission statement is to \"better the quality of life for all women in the Atlantic Colombian region.\"  \n",
    "\n",
    "One of the Secretariat's main functions is to point women to the right resources. As such, the Secretariat receives several cases of violence against women, with many of the cases going beyond domestic violence. Load the cell below to see how these data look. "
   ]
  },
  {
   "cell_type": "code",
   "execution_count": 30,
   "id": "9f0a3c8e-19e6-4e6c-bc39-3ffcb949033b",
   "metadata": {},
   "outputs": [
    {
     "data": {
      "text/html": [
       "<table border=\"1\" class=\"dataframe\">\n",
       "    <thead>\n",
       "        <tr>\n",
       "            <th>Month/Year</th> <th>Victim of the conflict?</th> <th>Municipality</th> <th>Reason for Consultationtion</th> <th>Previous complaints?</th> <th>Violence setting</th> <th>Type of violence</th> <th>Referral</th> <th>Entity referred to</th>\n",
       "        </tr>\n",
       "    </thead>\n",
       "    <tbody>\n",
       "        <tr>\n",
       "            <td>17-Jun    </td> <td>Yes                    </td> <td>Soledad     </td> <td>Mistreatment by the governor's bodyguard                 </td> <td>Yes                 </td> <td>Other            </td> <td>Psychological - Physical            </td> <td>None                       </td> <td>None                        </td>\n",
       "        </tr>\n",
       "        <tr>\n",
       "            <td>17-Jun    </td> <td>No                     </td> <td>Soledad     </td> <td>Legal advice to make testimony public                    </td> <td>Yes                 </td> <td>Domestic Violence</td> <td>All of the above                    </td> <td>Psychological - Legal      </td> <td>None                        </td>\n",
       "        </tr>\n",
       "        <tr>\n",
       "            <td>17-Jun    </td> <td>No                     </td> <td>Soledad     </td> <td>The former partner fears for her life from her ex-partner</td> <td>Yes                 </td> <td>Domestic Violence</td> <td>Psychological - Physical            </td> <td>Psychological - Legal      </td> <td>Family Support Commissioner </td>\n",
       "        </tr>\n",
       "        <tr>\n",
       "            <td>17-Jun    </td> <td>Yes                    </td> <td>Barranquilla</td> <td>Victim of Domestic Violence. Psychological Help.         </td> <td>No                  </td> <td>Domestic Violence</td> <td>Psychological - Physical - Sexual   </td> <td>Orientation - Psychological</td> <td>None                        </td>\n",
       "        </tr>\n",
       "        <tr>\n",
       "            <td>17-Jun    </td> <td>No                     </td> <td>Barranquilla</td> <td>Parents separated.                                       </td> <td>No                  </td> <td>Domestic Violence</td> <td>Psychological                       </td> <td>Orientation - Psychological</td> <td>None                        </td>\n",
       "        </tr>\n",
       "        <tr>\n",
       "            <td>17-Jun    </td> <td>No                     </td> <td>Malambo     </td> <td>Boyfriend mistreated them.                               </td> <td>No                  </td> <td>Other            </td> <td>Psychological - Physical            </td> <td>Legal Help                 </td> <td>Prosecutor's Office         </td>\n",
       "        </tr>\n",
       "        <tr>\n",
       "            <td>17-Jun    </td> <td>No                     </td> <td>Malambo     </td> <td>Mistreatment and threat against their life.              </td> <td>No                  </td> <td>Domestic Violence</td> <td>Psychological - Physical            </td> <td>Psychological - Legal      </td> <td>Family Support Commissioner </td>\n",
       "        </tr>\n",
       "        <tr>\n",
       "            <td>17-Jun    </td> <td>No                     </td> <td>Barranquilla</td> <td>Psychological and Physical Abuse                         </td> <td>Yes                 </td> <td>Domestic Violence</td> <td>Psychological - Physical - Financial</td> <td>Orientation - Psychological</td> <td>None                        </td>\n",
       "        </tr>\n",
       "        <tr>\n",
       "            <td>17-Jun    </td> <td>No                     </td> <td>Barranquilla</td> <td>Psychological and Physical Abuse                         </td> <td>Yes                 </td> <td>Domestic Violence</td> <td>Psychological - Physical - Financial</td> <td>Psychological - Legal      </td> <td>Family Support Commissioner </td>\n",
       "        </tr>\n",
       "        <tr>\n",
       "            <td>17-Jun    </td> <td>No                     </td> <td>Soledad     </td> <td>Victim of Domestic Violence. Psychological Help.         </td> <td>Yes                 </td> <td>Domestic Violence</td> <td>Psychological                       </td> <td>Legal Help                 </td> <td>Family Support Commissioner </td>\n",
       "        </tr>\n",
       "    </tbody>\n",
       "</table>\n",
       "<p>... (852 rows omitted)</p>"
      ],
      "text/plain": [
       "<IPython.core.display.HTML object>"
      ]
     },
     "metadata": {},
     "output_type": "display_data"
    }
   ],
   "source": [
    "cases = Table.read_table(\"../data/nb4/secretariat-cases.csv\")\n",
    "cases.show(10)"
   ]
  }
 ],
 "metadata": {
  "kernelspec": {
   "display_name": "Python 3",
   "language": "python",
   "name": "python3"
  },
  "language_info": {
   "codemirror_mode": {
    "name": "ipython",
    "version": 3
   },
   "file_extension": ".py",
   "mimetype": "text/x-python",
   "name": "python",
   "nbconvert_exporter": "python",
   "pygments_lexer": "ipython3",
   "version": "3.8.8"
  }
 },
 "nbformat": 4,
 "nbformat_minor": 5
}
