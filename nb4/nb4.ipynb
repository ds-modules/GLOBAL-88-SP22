{
 "cells": [
  {
   "cell_type": "markdown",
   "id": "fff0fce0-a211-4e1b-a146-d0a6f46bba58",
   "metadata": {},
   "source": [
    "# Importing Packages   \n",
    "\n",
    "<div class=\"alert alert-block alert-warning\">\n",
    "<b>Make sure to run this cell FIRST! Not doing so may result in pesky errors in the code.</b>\n",
    "</div>"
   ]
  },
  {
   "cell_type": "code",
   "execution_count": 2,
   "id": "5c156e5d-bcfe-47c2-990a-acc338df9dcb",
   "metadata": {},
   "outputs": [],
   "source": [
    "from datascience import *\n",
    "import numpy as np\n",
    "\n",
    "import ipywidgets as widgets\n",
    "from ipywidgets import interact, interactive, fixed, interact_manual\n",
    "\n",
    "import matplotlib.pyplot as plt\n",
    "plt.style.use('fivethirtyeight')\n",
    "%matplotlib inline"
   ]
  },
  {
   "cell_type": "markdown",
   "id": "d2b32fd6-1242-4c7e-9717-0471a079d367",
   "metadata": {},
   "source": [
    "# 1. The Data"
   ]
  },
  {
   "cell_type": "markdown",
   "id": "2fcd77a1-a521-44ee-aedf-7f38b14b1ca4",
   "metadata": {},
   "source": [
    "The main dataset for this notebook was obtained from the [Secretariat of Women and Gender Equality of the Atlantic](https://www.atlantico.gov.co/index.php/gobernacion/secretarias/mujeres-y-equidad), a government institution whose mission statement is to \"better the quality of life for all women in the Atlantic Colombian region.\"  \n",
    "\n",
    "One of the Secretariat's main functions is to point women to the right resources. As such, the Secretariat receives several cases of violence against women, with many of the cases going beyond domestic violence. Load the cell below to see how these data look. "
   ]
  },
  {
   "cell_type": "code",
   "execution_count": 3,
   "id": "9f0a3c8e-19e6-4e6c-bc39-3ffcb949033b",
   "metadata": {},
   "outputs": [
    {
     "data": {
      "text/html": [
       "<table border=\"1\" class=\"dataframe\">\n",
       "    <thead>\n",
       "        <tr>\n",
       "            <th>Month/Year</th> <th>Victim of the conflict?</th> <th>Municipality</th> <th>Reason for Consultationtion</th> <th>Previous complaints?</th> <th>Violence setting</th> <th>Type of violence</th> <th>Referral</th> <th>Entity referred to</th>\n",
       "        </tr>\n",
       "    </thead>\n",
       "    <tbody>\n",
       "        <tr>\n",
       "            <td>17-Jun    </td> <td>Yes                    </td> <td>Soledad     </td> <td>Mistreatment by the governor's bodyguard                 </td> <td>Yes                 </td> <td>Other            </td> <td>Psychological - Physical</td> <td>None                 </td> <td>None                        </td>\n",
       "        </tr>\n",
       "        <tr>\n",
       "            <td>17-Jun    </td> <td>No                     </td> <td>Soledad     </td> <td>Legal advice to make testimony public                    </td> <td>Yes                 </td> <td>Domestic Violence</td> <td>All of the above        </td> <td>Psychological - Legal</td> <td>None                        </td>\n",
       "        </tr>\n",
       "        <tr>\n",
       "            <td>17-Jun    </td> <td>No                     </td> <td>Soledad     </td> <td>The former partner fears for her life from her ex-partner</td> <td>Yes                 </td> <td>Domestic Violence</td> <td>Psychological - Physical</td> <td>Psychological - Legal</td> <td>Family Support Commissioner </td>\n",
       "        </tr>\n",
       "    </tbody>\n",
       "</table>\n",
       "<p>... (859 rows omitted)</p>"
      ],
      "text/plain": [
       "<IPython.core.display.HTML object>"
      ]
     },
     "metadata": {},
     "output_type": "display_data"
    }
   ],
   "source": [
    "cases = Table.read_table(\"../data/nb4/secretariat-cases.csv\")\n",
    "cases.show(3)"
   ]
  },
  {
   "cell_type": "markdown",
   "id": "2e3dbab7-903f-485d-8fec-e428fddb4a72",
   "metadata": {},
   "source": [
    "## 1.1 Understanding the Data  \n",
    "Throughout the previous notebooks, we have asked you to find the size of some given dataset. That is, we've asked you to find how many rows and columns there are. We've also provided explanations on what each column, and asked you to interpret what each row represents for a given dataset. \n",
    "\n",
    "The questions for this section will be largely similar to those presented last week. This is so that you get into the habit of understanding what your dataset represents prior to any analysis.  "
   ]
  },
  {
   "cell_type": "code",
   "execution_count": 4,
   "id": "228e2c69-d24b-4437-9de8-dda883bd5566",
   "metadata": {},
   "outputs": [
    {
     "data": {
      "text/html": [
       "<table border=\"1\" class=\"dataframe\">\n",
       "    <thead>\n",
       "        <tr>\n",
       "            <th>Month/Year</th> <th>Victim of the conflict?</th> <th>Municipality</th> <th>Reason for Consultationtion</th> <th>Previous complaints?</th> <th>Violence setting</th> <th>Type of violence</th> <th>Referral</th> <th>Entity referred to</th>\n",
       "        </tr>\n",
       "    </thead>\n",
       "    <tbody>\n",
       "        <tr>\n",
       "            <td>17-Jun    </td> <td>Yes                    </td> <td>Soledad     </td> <td>Mistreatment by the governor's bodyguard                 </td> <td>Yes                 </td> <td>Other            </td> <td>Psychological - Physical         </td> <td>None                       </td> <td>None                        </td>\n",
       "        </tr>\n",
       "        <tr>\n",
       "            <td>17-Jun    </td> <td>No                     </td> <td>Soledad     </td> <td>Legal advice to make testimony public                    </td> <td>Yes                 </td> <td>Domestic Violence</td> <td>All of the above                 </td> <td>Psychological - Legal      </td> <td>None                        </td>\n",
       "        </tr>\n",
       "        <tr>\n",
       "            <td>17-Jun    </td> <td>No                     </td> <td>Soledad     </td> <td>The former partner fears for her life from her ex-partner</td> <td>Yes                 </td> <td>Domestic Violence</td> <td>Psychological - Physical         </td> <td>Psychological - Legal      </td> <td>Family Support Commissioner </td>\n",
       "        </tr>\n",
       "        <tr>\n",
       "            <td>17-Jun    </td> <td>Yes                    </td> <td>Barranquilla</td> <td>Victim of Domestic Violence. Psychological Help.         </td> <td>No                  </td> <td>Domestic Violence</td> <td>Psychological - Physical - Sexual</td> <td>Orientation - Psychological</td> <td>None                        </td>\n",
       "        </tr>\n",
       "        <tr>\n",
       "            <td>17-Jun    </td> <td>No                     </td> <td>Barranquilla</td> <td>Parents separated.                                       </td> <td>No                  </td> <td>Domestic Violence</td> <td>Psychological                    </td> <td>Orientation - Psychological</td> <td>None                        </td>\n",
       "        </tr>\n",
       "    </tbody>\n",
       "</table>\n",
       "<p>... (857 rows omitted)</p>"
      ],
      "text/plain": [
       "<IPython.core.display.HTML object>"
      ]
     },
     "metadata": {},
     "output_type": "display_data"
    }
   ],
   "source": [
    "cases.show(5)"
   ]
  },
  {
   "cell_type": "markdown",
   "id": "a5d5b6f2-4b6f-4a4a-979c-11ab40490f5d",
   "metadata": {},
   "source": [
    "<div class=\"alert alert-info\">\n",
    "<b> Question 1.1: </b> Based on the data they contain, what do you think each column represents?\n",
    "</div> \n",
    "\n",
    "*Hint:* Read [the mission statement](https://www.atlantico.gov.co/index.php/secretaria) of the entity that collected these data. "
   ]
  },
  {
   "cell_type": "markdown",
   "id": "5467cf65-330d-4bef-8ab0-7eaf99499080",
   "metadata": {},
   "source": [
    "- Month/Year: ...  \n",
    "- Victim of the conflict?: ...\n",
    "- Municipality: ...  \n",
    "- Reason for Consultation: ... \n",
    "- Previous complaints?: ... \n",
    "- Violence setting: ...  \n",
    "- Type of violence: ... \n",
    "- Referral: ...  \n",
    "- Entity referred to: ..."
   ]
  },
  {
   "cell_type": "markdown",
   "id": "8c646fca-142f-4c1d-862f-9a7e2abdace6",
   "metadata": {},
   "source": [
    "<div class=\"alert alert-info\">\n",
    "<b> Question 1.2: </b> With these interpretations of our dataset's columns in mind, what do you think each row in our dataset represents?\n",
    "</div>"
   ]
  },
  {
   "cell_type": "markdown",
   "id": "b156e3ea-a86c-455e-90c6-3d4a7eaad8b8",
   "metadata": {},
   "source": [
    "*Replace this text with your answer*"
   ]
  },
  {
   "cell_type": "markdown",
   "id": "9a39b77f-c3a0-444e-a9e5-451f79728bee",
   "metadata": {},
   "source": [
    "<div class=\"alert alert-info\">\n",
    "    <b> Question 1.3: </b> Using the table properties <code>num_columns</code> and <code>num_rows</code> that we learned in Notebook 1, fill in the code below to print out the size of our dataset. \n",
    "</div>\n",
    "\n",
    "*Hint:* The format of your code should be of the form `dataset.property`"
   ]
  },
  {
   "cell_type": "code",
   "execution_count": null,
   "id": "2138b55e-58fe-4dcf-bd13-856d03f07cad",
   "metadata": {},
   "outputs": [],
   "source": [
    "cases_num_rows = ...\n",
    "cases_num_columns = ...\n",
    "print(f\"Our dataset has {cases_num_rows} cases and {cases_num_columns} properties to describe each case.\")"
   ]
  },
  {
   "cell_type": "markdown",
   "id": "f28f8929-3c0c-4d8c-aa52-3f76f3246928",
   "metadata": {},
   "source": [
    "<div class=\"alert alert-info\">\n",
    "    <b> Question 1.4: </b> Fill in the blanks below with the names of the columns that contain categorical data. If you need more or less space, feel free to add or delete a bullet point. \n",
    "</div>"
   ]
  },
  {
   "cell_type": "markdown",
   "id": "0381241a-ce89-4a2e-b8e9-6021b2ee8688",
   "metadata": {},
   "source": [
    "- ...\n",
    "- ...\n",
    "- ..."
   ]
  },
  {
   "cell_type": "markdown",
   "id": "095a9d4d-a280-4901-a91d-31b4af842ae6",
   "metadata": {},
   "source": [
    "<div class=\"alert alert-info\">\n",
    "    <b> Question 1.5: </b> Fill in the blanks below with the names of the columns that contain numerical data. \n",
    "</div>"
   ]
  },
  {
   "cell_type": "markdown",
   "id": "73d7da63-e852-45da-be98-c74619fff8ec",
   "metadata": {},
   "source": [
    "- ..."
   ]
  },
  {
   "cell_type": "markdown",
   "id": "08a29298-8271-485b-ba21-4d6038ce93ae",
   "metadata": {},
   "source": [
    "<div class=\"alert alert-info\">\n",
    "    <b> Question 1.6: </b> What special case of numerical data does this column represent?\n",
    "</div>"
   ]
  },
  {
   "cell_type": "markdown",
   "id": "a3a8c463-36b7-40c1-b7d5-3d34a114d2f8",
   "metadata": {},
   "source": [
    "*Replace this text with your answer*"
   ]
  },
  {
   "cell_type": "markdown",
   "id": "03c6471d-53dd-4f4f-81f3-a24fc195f393",
   "metadata": {},
   "source": [
    "<div class=\"alert alert-info\">\n",
    "    <b> Question 1.7: </b> Think back to the Colombian National Police family intraviolence dataset we dealt with in Notebook 3. How are that dataset and our current data, <code>cases</code> similar? How are they different? \n",
    "</div>"
   ]
  },
  {
   "cell_type": "markdown",
   "id": "9e0cc605-ab85-4e78-b0c5-f2e2183ed87e",
   "metadata": {},
   "source": [
    "- They are similar in: ... \n",
    "- They differ in: ..."
   ]
  },
  {
   "cell_type": "markdown",
   "id": "55d15805-4881-41a7-bb1c-0013b65fff60",
   "metadata": {},
   "source": [
    "## 1.2 Visualizing the Data  \n",
    "\n",
    "<div class=\"alert alert-info\">\n",
    "    <b> Question 1.8: </b> Think about the types of data described by our dataset. What visualizations do you think we can generate from these data? Below, delete yes or no depending on whether we can generate the given plot type. \n",
    "</div>  \n",
    "\n",
    "- Histogram? Yes/No  \n",
    "- Scatter plots? Yes/No  \n",
    "- Line plots? Yes/No  \n",
    "- Bar charts? Yes/No\n",
    "\n",
    "**Tasks to do:**\n",
    "\n",
    "- Create bar plots for each variable \n",
    "- Create interactive widget to select bar plot \n",
    "- Create line plot plotting the count of types of violence throughout time (June 2017 - June 2019) "
   ]
  },
  {
   "cell_type": "markdown",
   "id": "158253a3-91dd-4444-9855-134f454457de",
   "metadata": {},
   "source": [
    "# 2 Non Sex-disaggregated Data"
   ]
  },
  {
   "cell_type": "markdown",
   "id": "c16b504c-d452-49b4-bdf1-cdda8dd303f2",
   "metadata": {},
   "source": [
    "On Notebook 3, we dealt with data collected from the Colombia National Police database. Recall that this was a sex-disaggregated dataset. Given that ...\n",
    "\n",
    "**Tasks to do:**\n",
    "- Look at what cities are described in the current dataset and are in common with the current dataset -> Plot change from 2017 - 2019 for those cities based on count of crimes"
   ]
  },
  {
   "cell_type": "code",
   "execution_count": 6,
   "id": "2779eec6-4776-4150-a94e-e58eec4d7e97",
   "metadata": {},
   "outputs": [],
   "source": [
    "family_violence = Table.read_table(\"../data/nb3/domestic_violence_colombia_police.csv\")"
   ]
  },
  {
   "cell_type": "code",
   "execution_count": null,
   "id": "bb434d81-3033-4e7f-92ad-55ad2c2b65ca",
   "metadata": {},
   "outputs": [],
   "source": []
  }
 ],
 "metadata": {
  "kernelspec": {
   "display_name": "Python 3",
   "language": "python",
   "name": "python3"
  },
  "language_info": {
   "codemirror_mode": {
    "name": "ipython",
    "version": 3
   },
   "file_extension": ".py",
   "mimetype": "text/x-python",
   "name": "python",
   "nbconvert_exporter": "python",
   "pygments_lexer": "ipython3",
   "version": "3.8.8"
  }
 },
 "nbformat": 4,
 "nbformat_minor": 5
}
